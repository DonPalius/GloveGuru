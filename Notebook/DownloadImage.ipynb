{
 "cells": [
  {
   "cell_type": "code",
   "execution_count": null,
   "metadata": {},
   "outputs": [
    {
     "ename": "ModuleNotFoundError",
     "evalue": "No module named 'requests'",
     "output_type": "error",
     "traceback": [
      "\u001b[1;31m---------------------------------------------------------------------------\u001b[0m",
      "\u001b[1;31mModuleNotFoundError\u001b[0m                       Traceback (most recent call last)",
      "Cell \u001b[1;32mIn[3], line 2\u001b[0m\n\u001b[0;32m      1\u001b[0m \u001b[38;5;28;01mimport\u001b[39;00m \u001b[38;5;21;01mpandas\u001b[39;00m \u001b[38;5;28;01mas\u001b[39;00m \u001b[38;5;21;01mpd\u001b[39;00m\n\u001b[1;32m----> 2\u001b[0m \u001b[38;5;28;01mimport\u001b[39;00m \u001b[38;5;21;01mrequests\u001b[39;00m\n",
      "\u001b[1;31mModuleNotFoundError\u001b[0m: No module named 'requests'"
     ]
    }
   ],
   "source": [
    "import pandas as pd\n",
    "import requests\n"
   ]
  },
  {
   "cell_type": "code",
   "execution_count": 18,
   "metadata": {},
   "outputs": [
    {
     "name": "stdout",
     "output_type": "stream",
     "text": [
      "Collecting tqdm\n",
      "  Downloading tqdm-4.67.1-py3-none-any.whl.metadata (57 kB)\n",
      "Requirement already satisfied: colorama in c:\\users\\palet\\onedrive\\desktop\\uni_final\\git\\mma-predict\\.venv\\lib\\site-packages (from tqdm) (0.4.6)\n",
      "Downloading tqdm-4.67.1-py3-none-any.whl (78 kB)\n",
      "Installing collected packages: tqdm\n",
      "Successfully installed tqdm-4.67.1\n",
      "Note: you may need to restart the kernel to use updated packages.\n"
     ]
    }
   ],
   "source": [
    "pip install tqdm "
   ]
  },
  {
   "cell_type": "code",
   "execution_count": 15,
   "metadata": {},
   "outputs": [
    {
     "data": {
      "text/html": [
       "<div>\n",
       "<style scoped>\n",
       "    .dataframe tbody tr th:only-of-type {\n",
       "        vertical-align: middle;\n",
       "    }\n",
       "\n",
       "    .dataframe tbody tr th {\n",
       "        vertical-align: top;\n",
       "    }\n",
       "\n",
       "    .dataframe thead th {\n",
       "        text-align: right;\n",
       "    }\n",
       "</style>\n",
       "<table border=\"1\" class=\"dataframe\">\n",
       "  <thead>\n",
       "    <tr style=\"text-align: right;\">\n",
       "      <th></th>\n",
       "      <th>FIRST</th>\n",
       "      <th>LAST</th>\n",
       "      <th>NICKNAME</th>\n",
       "      <th>URL</th>\n",
       "    </tr>\n",
       "  </thead>\n",
       "  <tbody>\n",
       "    <tr>\n",
       "      <th>0</th>\n",
       "      <td>Tom</td>\n",
       "      <td>Aaron</td>\n",
       "      <td>NaN</td>\n",
       "      <td>http://ufcstats.com/fighter-details/93fe7332d1...</td>\n",
       "    </tr>\n",
       "    <tr>\n",
       "      <th>1</th>\n",
       "      <td>Danny</td>\n",
       "      <td>Abbadi</td>\n",
       "      <td>The Assassin</td>\n",
       "      <td>http://ufcstats.com/fighter-details/15df64c02b...</td>\n",
       "    </tr>\n",
       "    <tr>\n",
       "      <th>2</th>\n",
       "      <td>Nariman</td>\n",
       "      <td>Abbasov</td>\n",
       "      <td>Bayraktar</td>\n",
       "      <td>http://ufcstats.com/fighter-details/59a9d6dac6...</td>\n",
       "    </tr>\n",
       "    <tr>\n",
       "      <th>3</th>\n",
       "      <td>David</td>\n",
       "      <td>Abbott</td>\n",
       "      <td>Tank</td>\n",
       "      <td>http://ufcstats.com/fighter-details/b361180739...</td>\n",
       "    </tr>\n",
       "    <tr>\n",
       "      <th>4</th>\n",
       "      <td>Hamdy</td>\n",
       "      <td>Abdelwahab</td>\n",
       "      <td>The Hammer</td>\n",
       "      <td>http://ufcstats.com/fighter-details/3329d692ae...</td>\n",
       "    </tr>\n",
       "    <tr>\n",
       "      <th>...</th>\n",
       "      <td>...</td>\n",
       "      <td>...</td>\n",
       "      <td>...</td>\n",
       "      <td>...</td>\n",
       "    </tr>\n",
       "    <tr>\n",
       "      <th>4257</th>\n",
       "      <td>Dave</td>\n",
       "      <td>Zitanick</td>\n",
       "      <td>NaN</td>\n",
       "      <td>http://ufcstats.com/fighter-details/be124bdd60...</td>\n",
       "    </tr>\n",
       "    <tr>\n",
       "      <th>4258</th>\n",
       "      <td>Alex</td>\n",
       "      <td>Zuniga</td>\n",
       "      <td>NaN</td>\n",
       "      <td>http://ufcstats.com/fighter-details/02d808afb9...</td>\n",
       "    </tr>\n",
       "    <tr>\n",
       "      <th>4259</th>\n",
       "      <td>George</td>\n",
       "      <td>Zuniga</td>\n",
       "      <td>NaN</td>\n",
       "      <td>http://ufcstats.com/fighter-details/1291dd6b8a...</td>\n",
       "    </tr>\n",
       "    <tr>\n",
       "      <th>4260</th>\n",
       "      <td>Allan</td>\n",
       "      <td>Zuniga</td>\n",
       "      <td>Tigre</td>\n",
       "      <td>http://ufcstats.com/fighter-details/523af801b3...</td>\n",
       "    </tr>\n",
       "    <tr>\n",
       "      <th>4261</th>\n",
       "      <td>Virgil</td>\n",
       "      <td>Zwicker</td>\n",
       "      <td>RezDog</td>\n",
       "      <td>http://ufcstats.com/fighter-details/0c277f3ff6...</td>\n",
       "    </tr>\n",
       "  </tbody>\n",
       "</table>\n",
       "<p>4262 rows × 4 columns</p>\n",
       "</div>"
      ],
      "text/plain": [
       "        FIRST        LAST      NICKNAME  \\\n",
       "0         Tom       Aaron           NaN   \n",
       "1       Danny      Abbadi  The Assassin   \n",
       "2     Nariman     Abbasov     Bayraktar   \n",
       "3       David      Abbott          Tank   \n",
       "4       Hamdy  Abdelwahab    The Hammer   \n",
       "...       ...         ...           ...   \n",
       "4257     Dave    Zitanick           NaN   \n",
       "4258     Alex      Zuniga           NaN   \n",
       "4259   George      Zuniga           NaN   \n",
       "4260    Allan      Zuniga         Tigre   \n",
       "4261   Virgil     Zwicker        RezDog   \n",
       "\n",
       "                                                    URL  \n",
       "0     http://ufcstats.com/fighter-details/93fe7332d1...  \n",
       "1     http://ufcstats.com/fighter-details/15df64c02b...  \n",
       "2     http://ufcstats.com/fighter-details/59a9d6dac6...  \n",
       "3     http://ufcstats.com/fighter-details/b361180739...  \n",
       "4     http://ufcstats.com/fighter-details/3329d692ae...  \n",
       "...                                                 ...  \n",
       "4257  http://ufcstats.com/fighter-details/be124bdd60...  \n",
       "4258  http://ufcstats.com/fighter-details/02d808afb9...  \n",
       "4259  http://ufcstats.com/fighter-details/1291dd6b8a...  \n",
       "4260  http://ufcstats.com/fighter-details/523af801b3...  \n",
       "4261  http://ufcstats.com/fighter-details/0c277f3ff6...  \n",
       "\n",
       "[4262 rows x 4 columns]"
      ]
     },
     "execution_count": 15,
     "metadata": {},
     "output_type": "execute_result"
    }
   ],
   "source": [
    "df = pd.read_csv(r'C:\\Users\\palet\\OneDrive\\Desktop\\UNI_FINAL\\Git\\MMA-Predict\\Data\\ufc_fighter_details.csv')\n",
    "df"
   ]
  },
  {
   "cell_type": "code",
   "execution_count": 16,
   "metadata": {},
   "outputs": [
    {
     "data": {
      "text/html": [
       "<div>\n",
       "<style scoped>\n",
       "    .dataframe tbody tr th:only-of-type {\n",
       "        vertical-align: middle;\n",
       "    }\n",
       "\n",
       "    .dataframe tbody tr th {\n",
       "        vertical-align: top;\n",
       "    }\n",
       "\n",
       "    .dataframe thead th {\n",
       "        text-align: right;\n",
       "    }\n",
       "</style>\n",
       "<table border=\"1\" class=\"dataframe\">\n",
       "  <thead>\n",
       "    <tr style=\"text-align: right;\">\n",
       "      <th></th>\n",
       "      <th>FIRST</th>\n",
       "      <th>LAST</th>\n",
       "      <th>NICKNAME</th>\n",
       "      <th>URL</th>\n",
       "    </tr>\n",
       "  </thead>\n",
       "  <tbody>\n",
       "    <tr>\n",
       "      <th>0</th>\n",
       "      <td>Tom</td>\n",
       "      <td>Aaron</td>\n",
       "      <td>NaN</td>\n",
       "      <td>http://ufcstats.com/fighter-details/93fe7332d1...</td>\n",
       "    </tr>\n",
       "    <tr>\n",
       "      <th>1</th>\n",
       "      <td>Danny</td>\n",
       "      <td>Abbadi</td>\n",
       "      <td>The Assassin</td>\n",
       "      <td>http://ufcstats.com/fighter-details/15df64c02b...</td>\n",
       "    </tr>\n",
       "    <tr>\n",
       "      <th>2</th>\n",
       "      <td>Nariman</td>\n",
       "      <td>Abbasov</td>\n",
       "      <td>Bayraktar</td>\n",
       "      <td>http://ufcstats.com/fighter-details/59a9d6dac6...</td>\n",
       "    </tr>\n",
       "    <tr>\n",
       "      <th>3</th>\n",
       "      <td>David</td>\n",
       "      <td>Abbott</td>\n",
       "      <td>Tank</td>\n",
       "      <td>http://ufcstats.com/fighter-details/b361180739...</td>\n",
       "    </tr>\n",
       "    <tr>\n",
       "      <th>4</th>\n",
       "      <td>Hamdy</td>\n",
       "      <td>Abdelwahab</td>\n",
       "      <td>The Hammer</td>\n",
       "      <td>http://ufcstats.com/fighter-details/3329d692ae...</td>\n",
       "    </tr>\n",
       "    <tr>\n",
       "      <th>...</th>\n",
       "      <td>...</td>\n",
       "      <td>...</td>\n",
       "      <td>...</td>\n",
       "      <td>...</td>\n",
       "    </tr>\n",
       "    <tr>\n",
       "      <th>4257</th>\n",
       "      <td>Dave</td>\n",
       "      <td>Zitanick</td>\n",
       "      <td>NaN</td>\n",
       "      <td>http://ufcstats.com/fighter-details/be124bdd60...</td>\n",
       "    </tr>\n",
       "    <tr>\n",
       "      <th>4258</th>\n",
       "      <td>Alex</td>\n",
       "      <td>Zuniga</td>\n",
       "      <td>NaN</td>\n",
       "      <td>http://ufcstats.com/fighter-details/02d808afb9...</td>\n",
       "    </tr>\n",
       "    <tr>\n",
       "      <th>4259</th>\n",
       "      <td>George</td>\n",
       "      <td>Zuniga</td>\n",
       "      <td>NaN</td>\n",
       "      <td>http://ufcstats.com/fighter-details/1291dd6b8a...</td>\n",
       "    </tr>\n",
       "    <tr>\n",
       "      <th>4260</th>\n",
       "      <td>Allan</td>\n",
       "      <td>Zuniga</td>\n",
       "      <td>Tigre</td>\n",
       "      <td>http://ufcstats.com/fighter-details/523af801b3...</td>\n",
       "    </tr>\n",
       "    <tr>\n",
       "      <th>4261</th>\n",
       "      <td>Virgil</td>\n",
       "      <td>Zwicker</td>\n",
       "      <td>RezDog</td>\n",
       "      <td>http://ufcstats.com/fighter-details/0c277f3ff6...</td>\n",
       "    </tr>\n",
       "  </tbody>\n",
       "</table>\n",
       "<p>4248 rows × 4 columns</p>\n",
       "</div>"
      ],
      "text/plain": [
       "        FIRST        LAST      NICKNAME  \\\n",
       "0         Tom       Aaron           NaN   \n",
       "1       Danny      Abbadi  The Assassin   \n",
       "2     Nariman     Abbasov     Bayraktar   \n",
       "3       David      Abbott          Tank   \n",
       "4       Hamdy  Abdelwahab    The Hammer   \n",
       "...       ...         ...           ...   \n",
       "4257     Dave    Zitanick           NaN   \n",
       "4258     Alex      Zuniga           NaN   \n",
       "4259   George      Zuniga           NaN   \n",
       "4260    Allan      Zuniga         Tigre   \n",
       "4261   Virgil     Zwicker        RezDog   \n",
       "\n",
       "                                                    URL  \n",
       "0     http://ufcstats.com/fighter-details/93fe7332d1...  \n",
       "1     http://ufcstats.com/fighter-details/15df64c02b...  \n",
       "2     http://ufcstats.com/fighter-details/59a9d6dac6...  \n",
       "3     http://ufcstats.com/fighter-details/b361180739...  \n",
       "4     http://ufcstats.com/fighter-details/3329d692ae...  \n",
       "...                                                 ...  \n",
       "4257  http://ufcstats.com/fighter-details/be124bdd60...  \n",
       "4258  http://ufcstats.com/fighter-details/02d808afb9...  \n",
       "4259  http://ufcstats.com/fighter-details/1291dd6b8a...  \n",
       "4260  http://ufcstats.com/fighter-details/523af801b3...  \n",
       "4261  http://ufcstats.com/fighter-details/0c277f3ff6...  \n",
       "\n",
       "[4248 rows x 4 columns]"
      ]
     },
     "execution_count": 16,
     "metadata": {},
     "output_type": "execute_result"
    }
   ],
   "source": [
    "df = df.dropna(subset=['FIRST','LAST'])\n",
    "df"
   ]
  },
  {
   "cell_type": "code",
   "execution_count": 19,
   "metadata": {},
   "outputs": [
    {
     "name": "stderr",
     "output_type": "stream",
     "text": [
      "Downloading Fighter Images:   0%|          | 3/4248 [00:00<03:59, 17.74it/s]"
     ]
    },
    {
     "name": "stdout",
     "output_type": "stream",
     "text": [
      "No image found for Tom Aaron at https://www.ufc.com/athlete/tom-aaron\n",
      "No image found for Danny Abbadi at https://www.ufc.com/athlete/danny-abbadi\n",
      "Image already exists for Nariman Abbasov: C:\\Users\\palet\\OneDrive\\Desktop\\UNI_FINAL\\Git\\MMA-Predict\\Data\\Images\\Nariman_Abbasov.png\n",
      "No image found for David Abbott at https://www.ufc.com/athlete/david-abbott\n",
      "Image already exists for Hamdy Abdelwahab: C:\\Users\\palet\\OneDrive\\Desktop\\UNI_FINAL\\Git\\MMA-Predict\\Data\\Images\\Hamdy_Abdelwahab.png\n",
      "Image already exists for Mansur Abdul-Malik: C:\\Users\\palet\\OneDrive\\Desktop\\UNI_FINAL\\Git\\MMA-Predict\\Data\\Images\\Mansur_Abdul-Malik.png\n",
      "Image already exists for Shamil Abdurakhimov: C:\\Users\\palet\\OneDrive\\Desktop\\UNI_FINAL\\Git\\MMA-Predict\\Data\\Images\\Shamil_Abdurakhimov.png\n"
     ]
    },
    {
     "name": "stderr",
     "output_type": "stream",
     "text": [
      "Downloading Fighter Images:   0%|          | 14/4248 [00:00<02:23, 29.48it/s]"
     ]
    },
    {
     "name": "stdout",
     "output_type": "stream",
     "text": [
      "No image found for Hiroyuki Abe at https://www.ufc.com/athlete/hiroyuki-abe\n",
      "Image already exists for Daichi Abe: C:\\Users\\palet\\OneDrive\\Desktop\\UNI_FINAL\\Git\\MMA-Predict\\Data\\Images\\Daichi_Abe.png\n",
      "Image already exists for Papy Abedi: C:\\Users\\palet\\OneDrive\\Desktop\\UNI_FINAL\\Git\\MMA-Predict\\Data\\Images\\Papy_Abedi.png\n",
      "Image already exists for Ricardo Abreu: C:\\Users\\palet\\OneDrive\\Desktop\\UNI_FINAL\\Git\\MMA-Predict\\Data\\Images\\Ricardo_Abreu.png\n",
      "Image already exists for Klidson Abreu: C:\\Users\\palet\\OneDrive\\Desktop\\UNI_FINAL\\Git\\MMA-Predict\\Data\\Images\\Klidson_Abreu.png\n",
      "No image found for Cyborg Abreu at https://www.ufc.com/athlete/cyborg-abreu\n"
     ]
    },
    {
     "name": "stderr",
     "output_type": "stream",
     "text": [
      "Downloading Fighter Images:   0%|          | 17/4248 [00:00<03:06, 22.64it/s]"
     ]
    },
    {
     "name": "stdout",
     "output_type": "stream",
     "text": [
      "No image found for Daniel Acacio at https://www.ufc.com/athlete/daniel-acacio\n",
      "Image already exists for John Adajar: C:\\Users\\palet\\OneDrive\\Desktop\\UNI_FINAL\\Git\\MMA-Predict\\Data\\Images\\John_Adajar.png\n",
      "No image found for Scott Adams at https://www.ufc.com/athlete/scott-adams\n",
      "Image already exists for Juan Adams: C:\\Users\\palet\\OneDrive\\Desktop\\UNI_FINAL\\Git\\MMA-Predict\\Data\\Images\\Juan_Adams.png\n",
      "Image already exists for Anthony Adams: C:\\Users\\palet\\OneDrive\\Desktop\\UNI_FINAL\\Git\\MMA-Predict\\Data\\Images\\Anthony_Adams.png\n",
      "Image already exists for Zarrukh Adashev: C:\\Users\\palet\\OneDrive\\Desktop\\UNI_FINAL\\Git\\MMA-Predict\\Data\\Images\\Zarrukh_Adashev.png\n",
      "Image already exists for Israel Adesanya: C:\\Users\\palet\\OneDrive\\Desktop\\UNI_FINAL\\Git\\MMA-Predict\\Data\\Images\\Israel_Adesanya.png\n"
     ]
    },
    {
     "name": "stderr",
     "output_type": "stream",
     "text": [
      "Downloading Fighter Images:   1%|          | 23/4248 [00:00<02:44, 25.75it/s]"
     ]
    },
    {
     "name": "stdout",
     "output_type": "stream",
     "text": [
      "No image found for Sam Adkins at https://www.ufc.com/athlete/sam-adkins\n",
      "No image found for Mohamed Ado at https://www.ufc.com/athlete/mohamed-ado\n",
      "No image found for Nick Agallar at https://www.ufc.com/athlete/nick-agallar\n",
      "Image already exists for Mariya Agapova: C:\\Users\\palet\\OneDrive\\Desktop\\UNI_FINAL\\Git\\MMA-Predict\\Data\\Images\\Mariya_Agapova.png\n"
     ]
    },
    {
     "name": "stderr",
     "output_type": "stream",
     "text": [
      "Downloading Fighter Images:   1%|          | 26/4248 [00:01<03:12, 21.88it/s]"
     ]
    },
    {
     "name": "stdout",
     "output_type": "stream",
     "text": [
      "No image found for Kantharaj Agasa at https://www.ufc.com/athlete/kantharaj-agasa\n",
      "No image found for Marcelo Aguiar at https://www.ufc.com/athlete/marcelo-aguiar\n",
      "No image found for Fabio Aguiar at https://www.ufc.com/athlete/fabio-aguiar\n"
     ]
    },
    {
     "name": "stderr",
     "output_type": "stream",
     "text": [
      "Downloading Fighter Images:   1%|          | 37/4248 [00:01<03:30, 20.00it/s]"
     ]
    },
    {
     "name": "stdout",
     "output_type": "stream",
     "text": [
      "Error fetching data for Edwin Aguilar: 403 Client Error: Forbidden for url: https://www.ufc.com/athlete/edwin-aguilar\n",
      "Image already exists for Jessica Aguilar: C:\\Users\\palet\\OneDrive\\Desktop\\UNI_FINAL\\Git\\MMA-Predict\\Data\\Images\\Jessica_Aguilar.png\n",
      "Image already exists for Kevin Aguilar: C:\\Users\\palet\\OneDrive\\Desktop\\UNI_FINAL\\Git\\MMA-Predict\\Data\\Images\\Kevin_Aguilar.png\n",
      "Image already exists for Jesus Aguilar: C:\\Users\\palet\\OneDrive\\Desktop\\UNI_FINAL\\Git\\MMA-Predict\\Data\\Images\\Jesus_Aguilar.png\n",
      "Image already exists for Christian Aguilera: C:\\Users\\palet\\OneDrive\\Desktop\\UNI_FINAL\\Git\\MMA-Predict\\Data\\Images\\Christian_Aguilera.png\n",
      "Image already exists for Nick Aguirre: C:\\Users\\palet\\OneDrive\\Desktop\\UNI_FINAL\\Git\\MMA-Predict\\Data\\Images\\Nick_Aguirre.png\n",
      "No image found for Mike Aina at https://www.ufc.com/athlete/mike-aina\n",
      "Image already exists for Ashiek Ajim: C:\\Users\\palet\\OneDrive\\Desktop\\UNI_FINAL\\Git\\MMA-Predict\\Data\\Images\\Ashiek_Ajim.png\n",
      "No image found for Hitomi Akano at https://www.ufc.com/athlete/hitomi-akano\n",
      "Image already exists for Omari Akhmedov: C:\\Users\\palet\\OneDrive\\Desktop\\UNI_FINAL\\Git\\MMA-Predict\\Data\\Images\\Omari_Akhmedov.png\n",
      "Image already exists for Yoshihiro Akiyama: C:\\Users\\palet\\OneDrive\\Desktop\\UNI_FINAL\\Git\\MMA-Predict\\Data\\Images\\Yoshihiro_Akiyama.png\n"
     ]
    },
    {
     "name": "stderr",
     "output_type": "stream",
     "text": [
      "Downloading Fighter Images:   1%|          | 40/4248 [00:01<03:19, 21.09it/s]"
     ]
    },
    {
     "name": "stdout",
     "output_type": "stream",
     "text": [
      "No image found for Rostem Akman at https://www.ufc.com/athlete/rostem-akman\n",
      "No image found for Razak Al-Hassan at https://www.ufc.com/athlete/razak-al-hassan\n",
      "Image already exists for Abdul-Kareem Al-Selwady: C:\\Users\\palet\\OneDrive\\Desktop\\UNI_FINAL\\Git\\MMA-Predict\\Data\\Images\\Abdul-Kareem_Al-Selwady.png\n",
      "No image found for Mostapha Al-Turk at https://www.ufc.com/athlete/mostapha-al-turk\n"
     ]
    },
    {
     "name": "stderr",
     "output_type": "stream",
     "text": [
      "Downloading Fighter Images:   1%|          | 47/4248 [00:02<03:25, 20.48it/s]"
     ]
    },
    {
     "name": "stdout",
     "output_type": "stream",
     "text": [
      "Image already exists for Herdem Alacabek: C:\\Users\\palet\\OneDrive\\Desktop\\UNI_FINAL\\Git\\MMA-Predict\\Data\\Images\\Herdem_Alacabek.png\n",
      "No image found for Javi Alanis at https://www.ufc.com/athlete/javi-alanis\n",
      "Image already exists for Amir Albazi: C:\\Users\\palet\\OneDrive\\Desktop\\UNI_FINAL\\Git\\MMA-Predict\\Data\\Images\\Amir_Albazi.png\n",
      "No image found for Brett Albee at https://www.ufc.com/athlete/brett-albee\n"
     ]
    },
    {
     "name": "stderr",
     "output_type": "stream",
     "text": [
      "Downloading Fighter Images:   1%|          | 50/4248 [00:02<03:41, 18.96it/s]"
     ]
    },
    {
     "name": "stdout",
     "output_type": "stream",
     "text": [
      "No image found for John Albert at https://www.ufc.com/athlete/john-albert\n",
      "Image already exists for Junior Albini: C:\\Users\\palet\\OneDrive\\Desktop\\UNI_FINAL\\Git\\MMA-Predict\\Data\\Images\\Junior_Albini.png\n",
      "No image found for Wes Albritton at https://www.ufc.com/athlete/wes-albritton\n",
      "No image found for Aleksandra Albu at https://www.ufc.com/athlete/aleksandra-albu\n"
     ]
    },
    {
     "name": "stderr",
     "output_type": "stream",
     "text": [
      "Downloading Fighter Images:   1%|▏         | 56/4248 [00:03<05:09, 13.52it/s]"
     ]
    },
    {
     "name": "stdout",
     "output_type": "stream",
     "text": [
      "Error fetching data for Israel Albuquerque: 403 Client Error: Forbidden for url: https://www.ufc.com/athlete/israel-albuquerque\n",
      "No image found for Juan Alcain at https://www.ufc.com/athlete/juan-alcain\n",
      "Image already exists for Iuri Alcantara: C:\\Users\\palet\\OneDrive\\Desktop\\UNI_FINAL\\Git\\MMA-Predict\\Data\\Images\\Iuri_Alcantara.png\n",
      "Image already exists for Ildemar Alcantara: C:\\Users\\palet\\OneDrive\\Desktop\\UNI_FINAL\\Git\\MMA-Predict\\Data\\Images\\Ildemar_Alcantara.png\n",
      "No image found for Alfonso Alcarez at https://www.ufc.com/athlete/alfonso-alcarez\n"
     ]
    },
    {
     "name": "stderr",
     "output_type": "stream",
     "text": [
      "Downloading Fighter Images:   2%|▏         | 66/4248 [00:03<03:04, 22.68it/s]"
     ]
    },
    {
     "name": "stdout",
     "output_type": "stream",
     "text": [
      "No image found for Gilbert Aldana at https://www.ufc.com/athlete/gilbert-aldana\n",
      "Image already exists for Irene Aldana: C:\\Users\\palet\\OneDrive\\Desktop\\UNI_FINAL\\Git\\MMA-Predict\\Data\\Images\\Irene_Aldana.png\n",
      "Image already exists for Hector Aldana: C:\\Users\\palet\\OneDrive\\Desktop\\UNI_FINAL\\Git\\MMA-Predict\\Data\\Images\\Hector_Aldana.png\n",
      "Image already exists for Jose Alday: C:\\Users\\palet\\OneDrive\\Desktop\\UNI_FINAL\\Git\\MMA-Predict\\Data\\Images\\Jose_Alday.png\n",
      "Image already exists for Jose Aldo: C:\\Users\\palet\\OneDrive\\Desktop\\UNI_FINAL\\Git\\MMA-Predict\\Data\\Images\\Jose_Aldo.png\n",
      "Image already exists for JJ Aldrich: C:\\Users\\palet\\OneDrive\\Desktop\\UNI_FINAL\\Git\\MMA-Predict\\Data\\Images\\JJ_Aldrich.png\n",
      "Image already exists for Irina Alekseeva: C:\\Users\\palet\\OneDrive\\Desktop\\UNI_FINAL\\Git\\MMA-Predict\\Data\\Images\\Irina_Alekseeva.png\n",
      "Image already exists for Talita Alencar: C:\\Users\\palet\\OneDrive\\Desktop\\UNI_FINAL\\Git\\MMA-Predict\\Data\\Images\\Talita_Alencar.png\n",
      "Image already exists for Jim Alers: C:\\Users\\palet\\OneDrive\\Desktop\\UNI_FINAL\\Git\\MMA-Predict\\Data\\Images\\Jim_Alers.png\n",
      "No image found for John Alessio at https://www.ufc.com/athlete/john-alessio\n"
     ]
    },
    {
     "name": "stderr",
     "output_type": "stream",
     "text": [
      "Downloading Fighter Images:   2%|▏         | 69/4248 [00:03<03:28, 20.09it/s]"
     ]
    },
    {
     "name": "stdout",
     "output_type": "stream",
     "text": [
      "No image found for Houston Alexander at https://www.ufc.com/athlete/houston-alexander\n",
      "No image found for Kenneth Alexander at https://www.ufc.com/athlete/kenneth-alexander\n",
      "Image already exists for Lucas Alexander: C:\\Users\\palet\\OneDrive\\Desktop\\UNI_FINAL\\Git\\MMA-Predict\\Data\\Images\\Lucas_Alexander.png\n",
      "No image found for Marcio Alexandre Junior at https://www.ufc.com/athlete/marcio-alexandre junior\n"
     ]
    },
    {
     "name": "stderr",
     "output_type": "stream",
     "text": [
      "Downloading Fighter Images:   2%|▏         | 72/4248 [00:03<04:12, 16.56it/s]"
     ]
    },
    {
     "name": "stdout",
     "output_type": "stream",
     "text": [
      "No image found for Olaf Alfonso at https://www.ufc.com/athlete/olaf-alfonso\n",
      "No image found for Pablo Alfonso at https://www.ufc.com/athlete/pablo-alfonso\n"
     ]
    },
    {
     "name": "stderr",
     "output_type": "stream",
     "text": [
      "Downloading Fighter Images:   2%|▏         | 76/4248 [00:04<05:18, 13.10it/s]"
     ]
    },
    {
     "name": "stdout",
     "output_type": "stream",
     "text": [
      "Error fetching data for Levi Alford: 403 Client Error: Forbidden for url: https://www.ufc.com/athlete/levi-alford\n",
      "Image already exists for Bill Algeo: C:\\Users\\palet\\OneDrive\\Desktop\\UNI_FINAL\\Git\\MMA-Predict\\Data\\Images\\Bill_Algeo.png\n",
      "No image found for Royce Alger at https://www.ufc.com/athlete/royce-alger\n",
      "No image found for Amir Aliakbari at https://www.ufc.com/athlete/amir-aliakbari\n",
      "Image already exists for Sultan Aliev: C:\\Users\\palet\\OneDrive\\Desktop\\UNI_FINAL\\Git\\MMA-Predict\\Data\\Images\\Sultan_Aliev.png\n",
      "Image already exists for Nurullo Aliev: C:\\Users\\palet\\OneDrive\\Desktop\\UNI_FINAL\\Git\\MMA-Predict\\Data\\Images\\Nurullo_Aliev.png\n",
      "Image already exists for Ikram Aliskerov: C:\\Users\\palet\\OneDrive\\Desktop\\UNI_FINAL\\Git\\MMA-Predict\\Data\\Images\\Ikram_Aliskerov.png\n",
      "Image already exists for Leon Aliu: C:\\Users\\palet\\OneDrive\\Desktop\\UNI_FINAL\\Git\\MMA-Predict\\Data\\Images\\Leon_Aliu.png\n",
      "Image already exists for John Allan: C:\\Users\\palet\\OneDrive\\Desktop\\UNI_FINAL\\Git\\MMA-Predict\\Data\\Images\\John_Allan.png\n"
     ]
    },
    {
     "name": "stderr",
     "output_type": "stream",
     "text": [
      "Downloading Fighter Images:   2%|▏         | 86/4248 [00:05<04:52, 14.24it/s]"
     ]
    },
    {
     "name": "stdout",
     "output_type": "stream",
     "text": [
      "Error fetching data for George Allen: 403 Client Error: Forbidden for url: https://www.ufc.com/athlete/george-allen\n",
      "Image already exists for Arnold Allen: C:\\Users\\palet\\OneDrive\\Desktop\\UNI_FINAL\\Git\\MMA-Predict\\Data\\Images\\Arnold_Allen.png\n",
      "Image already exists for Brendan Allen: C:\\Users\\palet\\OneDrive\\Desktop\\UNI_FINAL\\Git\\MMA-Predict\\Data\\Images\\Brendan_Allen.png\n",
      "No image found for Daniel Allen at https://www.ufc.com/athlete/daniel-allen\n",
      "No image found for Ben Alloway at https://www.ufc.com/athlete/ben-alloway\n"
     ]
    },
    {
     "name": "stderr",
     "output_type": "stream",
     "text": [
      "Downloading Fighter Images:   2%|▏         | 88/4248 [00:05<04:37, 15.01it/s]"
     ]
    },
    {
     "name": "stdout",
     "output_type": "stream",
     "text": [
      "No image found for Asu Almabayev at https://www.ufc.com/athlete/asu-almabayev\n",
      "Image already exists for Bekzat Almakhan: C:\\Users\\palet\\OneDrive\\Desktop\\UNI_FINAL\\Git\\MMA-Predict\\Data\\Images\\Bekzat_Almakhan.png\n",
      "No image found for John Dave Almanza at https://www.ufc.com/athlete/john dave-almanza\n",
      "No image found for Ricardo Almeida at https://www.ufc.com/athlete/ricardo-almeida\n"
     ]
    },
    {
     "name": "stderr",
     "output_type": "stream",
     "text": [
      "Downloading Fighter Images:   2%|▏         | 90/4248 [00:05<05:02, 13.76it/s]"
     ]
    },
    {
     "name": "stdout",
     "output_type": "stream",
     "text": [
      "No image found for Magno Almeida at https://www.ufc.com/athlete/magno-almeida\n",
      "Image already exists for Thomas Almeida: C:\\Users\\palet\\OneDrive\\Desktop\\UNI_FINAL\\Git\\MMA-Predict\\Data\\Images\\Thomas_Almeida.png\n",
      "Image already exists for Ericka Almeida: C:\\Users\\palet\\OneDrive\\Desktop\\UNI_FINAL\\Git\\MMA-Predict\\Data\\Images\\Ericka_Almeida.png\n",
      "Image already exists for Estefani Almeida: C:\\Users\\palet\\OneDrive\\Desktop\\UNI_FINAL\\Git\\MMA-Predict\\Data\\Images\\Estefani_Almeida.png\n",
      "Image already exists for Jailton Almeida: C:\\Users\\palet\\OneDrive\\Desktop\\UNI_FINAL\\Git\\MMA-Predict\\Data\\Images\\Jailton_Almeida.png\n",
      "Image already exists for Lucas Almeida: C:\\Users\\palet\\OneDrive\\Desktop\\UNI_FINAL\\Git\\MMA-Predict\\Data\\Images\\Lucas_Almeida.png\n",
      "Image already exists for Cesar Almeida: C:\\Users\\palet\\OneDrive\\Desktop\\UNI_FINAL\\Git\\MMA-Predict\\Data\\Images\\Cesar_Almeida.png\n"
     ]
    },
    {
     "name": "stderr",
     "output_type": "stream",
     "text": [
      "Downloading Fighter Images:   2%|▏         | 101/4248 [00:05<03:56, 17.54it/s]"
     ]
    },
    {
     "name": "stdout",
     "output_type": "stream",
     "text": [
      "Error fetching data for Mauricio Alonso: 403 Client Error: Forbidden for url: https://www.ufc.com/athlete/mauricio-alonso\n",
      "Image already exists for Sarah Alpar: C:\\Users\\palet\\OneDrive\\Desktop\\UNI_FINAL\\Git\\MMA-Predict\\Data\\Images\\Sarah_Alpar.png\n",
      "Image already exists for Ali AlQaisi: C:\\Users\\palet\\OneDrive\\Desktop\\UNI_FINAL\\Git\\MMA-Predict\\Data\\Images\\Ali_AlQaisi.png\n",
      "No image found for Rico Altamirano at https://www.ufc.com/athlete/rico-altamirano\n",
      "Image already exists for Victor Altamirano: C:\\Users\\palet\\OneDrive\\Desktop\\UNI_FINAL\\Git\\MMA-Predict\\Data\\Images\\Victor_Altamirano.png\n",
      "No image found for Mike Altman at https://www.ufc.com/athlete/mike-altman\n"
     ]
    },
    {
     "name": "stderr",
     "output_type": "stream",
     "text": [
      "Downloading Fighter Images:   3%|▎         | 110/4248 [00:06<03:03, 22.58it/s]"
     ]
    },
    {
     "name": "stdout",
     "output_type": "stream",
     "text": [
      "No image found for Patricia Alujas at https://www.ufc.com/athlete/patricia-alujas\n",
      "No image found for Sean Alvarez at https://www.ufc.com/athlete/sean-alvarez\n",
      "Image already exists for Eddie Alvarez: C:\\Users\\palet\\OneDrive\\Desktop\\UNI_FINAL\\Git\\MMA-Predict\\Data\\Images\\Eddie_Alvarez.png\n",
      "Image already exists for Jaime Alvarez: C:\\Users\\palet\\OneDrive\\Desktop\\UNI_FINAL\\Git\\MMA-Predict\\Data\\Images\\Jaime_Alvarez.png\n",
      "Image already exists for Joel Alvarez: C:\\Users\\palet\\OneDrive\\Desktop\\UNI_FINAL\\Git\\MMA-Predict\\Data\\Images\\Joel_Alvarez.png\n",
      "Image already exists for Thiago Alves: C:\\Users\\palet\\OneDrive\\Desktop\\UNI_FINAL\\Git\\MMA-Predict\\Data\\Images\\Thiago_Alves.png\n",
      "No image found for Anthony Alves at https://www.ufc.com/athlete/anthony-alves\n"
     ]
    },
    {
     "name": "stderr",
     "output_type": "stream",
     "text": [
      "Downloading Fighter Images:   3%|▎         | 113/4248 [00:06<05:30, 12.50it/s]"
     ]
    },
    {
     "name": "stdout",
     "output_type": "stream",
     "text": [
      "Error fetching data for Amilcar Alves: 500 Server Error: Internal Server Error for url: https://www.ufc.com/athlete/amilcar-alves\n",
      "Image already exists for Warlley Alves: C:\\Users\\palet\\OneDrive\\Desktop\\UNI_FINAL\\Git\\MMA-Predict\\Data\\Images\\Warlley_Alves.png\n",
      "Image already exists for Rafael Alves: C:\\Users\\palet\\OneDrive\\Desktop\\UNI_FINAL\\Git\\MMA-Predict\\Data\\Images\\Rafael_Alves.png\n",
      "Image already exists for Sam Alvey: C:\\Users\\palet\\OneDrive\\Desktop\\UNI_FINAL\\Git\\MMA-Predict\\Data\\Images\\Sam_Alvey.png\n"
     ]
    },
    {
     "name": "stderr",
     "output_type": "stream",
     "text": [
      "Downloading Fighter Images:   3%|▎         | 115/4248 [00:07<06:51, 10.04it/s]"
     ]
    },
    {
     "name": "stdout",
     "output_type": "stream",
     "text": [
      "Error fetching data for Andre Amado: 403 Client Error: Forbidden for url: https://www.ufc.com/athlete/andre-amado\n",
      "Image already exists for Adlan Amagov: C:\\Users\\palet\\OneDrive\\Desktop\\UNI_FINAL\\Git\\MMA-Predict\\Data\\Images\\Adlan_Amagov.png\n",
      "No image found for Maiara Amanajas dos Santos at https://www.ufc.com/athlete/maiara-amanajas dos santos\n",
      "No image found for Chris Amarante at https://www.ufc.com/athlete/chris-amarante\n"
     ]
    },
    {
     "name": "stderr",
     "output_type": "stream",
     "text": [
      "Downloading Fighter Images:   3%|▎         | 118/4248 [00:07<06:04, 11.32it/s]"
     ]
    },
    {
     "name": "stdout",
     "output_type": "stream",
     "text": [
      "No image found for Jimmy Ambriz at https://www.ufc.com/athlete/jimmy-ambriz\n"
     ]
    },
    {
     "name": "stderr",
     "output_type": "stream",
     "text": [
      "Downloading Fighter Images:   3%|▎         | 123/4248 [00:07<06:07, 11.22it/s]"
     ]
    },
    {
     "name": "stdout",
     "output_type": "stream",
     "text": [
      "Error fetching data for JJ Ambrose: 403 Client Error: Forbidden for url: https://www.ufc.com/athlete/jj-ambrose\n",
      "Image already exists for Alen Amedovski: C:\\Users\\palet\\OneDrive\\Desktop\\UNI_FINAL\\Git\\MMA-Predict\\Data\\Images\\Alen_Amedovski.png\n",
      "Image already exists for Hyder Amil: C:\\Users\\palet\\OneDrive\\Desktop\\UNI_FINAL\\Git\\MMA-Predict\\Data\\Images\\Hyder_Amil.png\n",
      "No image found for Hamid Amiri at https://www.ufc.com/athlete/hamid-amiri\n",
      "Image already exists for Makwan Amirkhani: C:\\Users\\palet\\OneDrive\\Desktop\\UNI_FINAL\\Git\\MMA-Predict\\Data\\Images\\Makwan_Amirkhani.png\n",
      "Image already exists for Jaqueline Amorim: C:\\Users\\palet\\OneDrive\\Desktop\\UNI_FINAL\\Git\\MMA-Predict\\Data\\Images\\Jaqueline_Amorim.png\n"
     ]
    },
    {
     "name": "stderr",
     "output_type": "stream",
     "text": [
      "Downloading Fighter Images:   3%|▎         | 128/4248 [00:08<05:46, 11.90it/s]"
     ]
    },
    {
     "name": "stdout",
     "output_type": "stream",
     "text": [
      "Error fetching data for Bertrand Amoussou: 403 Client Error: Forbidden for url: https://www.ufc.com/athlete/bertrand-amoussou\n",
      "No image found for Karl Amoussou at https://www.ufc.com/athlete/karl-amoussou\n",
      "Image already exists for Eryk Anders: C:\\Users\\palet\\OneDrive\\Desktop\\UNI_FINAL\\Git\\MMA-Predict\\Data\\Images\\Eryk_Anders.png\n",
      "No image found for Matt Andersen at https://www.ufc.com/athlete/matt-andersen\n"
     ]
    },
    {
     "name": "stderr",
     "output_type": "stream",
     "text": [
      "Downloading Fighter Images:   3%|▎         | 132/4248 [00:08<05:22, 12.76it/s]"
     ]
    },
    {
     "name": "stdout",
     "output_type": "stream",
     "text": [
      "No image found for Andy Anderson at https://www.ufc.com/athlete/andy-anderson\n",
      "No image found for Lowell Anderson at https://www.ufc.com/athlete/lowell-anderson\n",
      "Image already exists for Corey Anderson: C:\\Users\\palet\\OneDrive\\Desktop\\UNI_FINAL\\Git\\MMA-Predict\\Data\\Images\\Corey_Anderson.png\n"
     ]
    },
    {
     "name": "stderr",
     "output_type": "stream",
     "text": [
      "Downloading Fighter Images:   3%|▎         | 136/4248 [00:09<06:53,  9.95it/s]"
     ]
    },
    {
     "name": "stdout",
     "output_type": "stream",
     "text": [
      "Error fetching data for Derek Anderson: 403 Client Error: Forbidden for url: https://www.ufc.com/athlete/derek-anderson\n",
      "Image already exists for Megan Anderson: C:\\Users\\palet\\OneDrive\\Desktop\\UNI_FINAL\\Git\\MMA-Predict\\Data\\Images\\Megan_Anderson.png\n",
      "No image found for Liam Anderson at https://www.ufc.com/athlete/liam-anderson\n",
      "No image found for Tatsuya Ando at https://www.ufc.com/athlete/tatsuya-ando\n"
     ]
    },
    {
     "name": "stderr",
     "output_type": "stream",
     "text": [
      "Downloading Fighter Images:   3%|▎         | 140/4248 [00:09<05:15, 13.00it/s]"
     ]
    },
    {
     "name": "stdout",
     "output_type": "stream",
     "text": [
      "No image found for Alex Andrade at https://www.ufc.com/athlete/alex-andrade\n",
      "Image already exists for Jessica Andrade: C:\\Users\\palet\\OneDrive\\Desktop\\UNI_FINAL\\Git\\MMA-Predict\\Data\\Images\\Jessica_Andrade.png\n",
      "Image already exists for Viscardi Andrade: C:\\Users\\palet\\OneDrive\\Desktop\\UNI_FINAL\\Git\\MMA-Predict\\Data\\Images\\Viscardi_Andrade.png\n",
      "No image found for Jermaine Andre at https://www.ufc.com/athlete/jermaine-andre\n",
      "No image found for Juan Andres Luna at https://www.ufc.com/athlete/juan-andres luna\n"
     ]
    },
    {
     "name": "stderr",
     "output_type": "stream",
     "text": [
      "Downloading Fighter Images:   3%|▎         | 142/4248 [00:09<05:31, 12.40it/s]"
     ]
    },
    {
     "name": "stdout",
     "output_type": "stream",
     "text": [
      "No image found for Fellipe Andrew at https://www.ufc.com/athlete/fellipe-andrew\n",
      "Image already exists for Dylan Andrews: C:\\Users\\palet\\OneDrive\\Desktop\\UNI_FINAL\\Git\\MMA-Predict\\Data\\Images\\Dylan_Andrews.png\n",
      "No image found for Reese Andy at https://www.ufc.com/athlete/reese-andy\n"
     ]
    },
    {
     "name": "stderr",
     "output_type": "stream",
     "text": [
      "Downloading Fighter Images:   3%|▎         | 145/4248 [00:10<08:48,  7.77it/s]"
     ]
    },
    {
     "name": "stdout",
     "output_type": "stream",
     "text": [
      "Image successfully downloaded for Julius Anglickas: C:\\Users\\palet\\OneDrive\\Desktop\\UNI_FINAL\\Git\\MMA-Predict\\Data\\Images\\Julius_Anglickas.png\n",
      "Image successfully downloaded for Collin Anglin: C:\\Users\\palet\\OneDrive\\Desktop\\UNI_FINAL\\Git\\MMA-Predict\\Data\\Images\\Collin_Anglin.png\n"
     ]
    },
    {
     "name": "stderr",
     "output_type": "stream",
     "text": [
      "Downloading Fighter Images:   3%|▎         | 147/4248 [00:15<55:24,  1.23it/s]"
     ]
    },
    {
     "name": "stdout",
     "output_type": "stream",
     "text": [
      "Image successfully downloaded for Chad Anheliger: C:\\Users\\palet\\OneDrive\\Desktop\\UNI_FINAL\\Git\\MMA-Predict\\Data\\Images\\Chad_Anheliger.png\n"
     ]
    },
    {
     "name": "stderr",
     "output_type": "stream",
     "text": [
      "Downloading Fighter Images:   3%|▎         | 148/4248 [00:18<1:11:02,  1.04s/it]"
     ]
    },
    {
     "name": "stdout",
     "output_type": "stream",
     "text": [
      "No image found for Yoji Anjo at https://www.ufc.com/athlete/yoji-anjo\n"
     ]
    },
    {
     "name": "stderr",
     "output_type": "stream",
     "text": [
      "Downloading Fighter Images:   4%|▎         | 149/4248 [00:20<1:27:30,  1.28s/it]"
     ]
    },
    {
     "name": "stdout",
     "output_type": "stream",
     "text": [
      "Image successfully downloaded for Magomed Ankalaev: C:\\Users\\palet\\OneDrive\\Desktop\\UNI_FINAL\\Git\\MMA-Predict\\Data\\Images\\Magomed_Ankalaev.png\n"
     ]
    },
    {
     "name": "stderr",
     "output_type": "stream",
     "text": [
      "Downloading Fighter Images:   4%|▎         | 150/4248 [00:23<1:44:04,  1.52s/it]"
     ]
    },
    {
     "name": "stdout",
     "output_type": "stream",
     "text": [
      "Image successfully downloaded for Gadzhimurad Antigulov: C:\\Users\\palet\\OneDrive\\Desktop\\UNI_FINAL\\Git\\MMA-Predict\\Data\\Images\\Gadzhimurad_Antigulov.png\n"
     ]
    },
    {
     "name": "stderr",
     "output_type": "stream",
     "text": [
      "Downloading Fighter Images:   4%|▎         | 151/4248 [00:29<2:51:04,  2.51s/it]"
     ]
    },
    {
     "name": "stdout",
     "output_type": "stream",
     "text": [
      "Image successfully downloaded for Adam Antolin: C:\\Users\\palet\\OneDrive\\Desktop\\UNI_FINAL\\Git\\MMA-Predict\\Data\\Images\\Adam_Antolin.png\n"
     ]
    },
    {
     "name": "stderr",
     "output_type": "stream",
     "text": [
      "Downloading Fighter Images:   4%|▎         | 152/4248 [00:29<2:22:27,  2.09s/it]"
     ]
    },
    {
     "name": "stdout",
     "output_type": "stream",
     "text": [
      "Error fetching data for Angelo Antonio: 403 Client Error: Forbidden for url: https://www.ufc.com/athlete/angelo-antonio\n"
     ]
    },
    {
     "name": "stderr",
     "output_type": "stream",
     "text": [
      "Downloading Fighter Images:   4%|▎         | 153/4248 [00:30<1:51:36,  1.64s/it]"
     ]
    },
    {
     "name": "stdout",
     "output_type": "stream",
     "text": [
      "No image found for Vanilto Antunes at https://www.ufc.com/athlete/vanilto-antunes\n"
     ]
    },
    {
     "name": "stderr",
     "output_type": "stream",
     "text": [
      "Downloading Fighter Images:   4%|▎         | 154/4248 [00:30<1:28:08,  1.29s/it]"
     ]
    },
    {
     "name": "stdout",
     "output_type": "stream",
     "text": [
      "No image found for Azunna Anyanwu at https://www.ufc.com/athlete/azunna-anyanwu\n"
     ]
    },
    {
     "name": "stderr",
     "output_type": "stream",
     "text": [
      "Downloading Fighter Images:   4%|▎         | 155/4248 [00:33<2:01:41,  1.78s/it]"
     ]
    },
    {
     "name": "stdout",
     "output_type": "stream",
     "text": [
      "Image successfully downloaded for Shinsho Anzai: C:\\Users\\palet\\OneDrive\\Desktop\\UNI_FINAL\\Git\\MMA-Predict\\Data\\Images\\Shinsho_Anzai.png\n"
     ]
    },
    {
     "name": "stderr",
     "output_type": "stream",
     "text": [
      "Downloading Fighter Images:   4%|▎         | 156/4248 [00:38<2:59:43,  2.64s/it]"
     ]
    },
    {
     "name": "stdout",
     "output_type": "stream",
     "text": [
      "No image found for Shinya Aoki at https://www.ufc.com/athlete/shinya-aoki\n"
     ]
    },
    {
     "name": "stderr",
     "output_type": "stream",
     "text": [
      "Downloading Fighter Images:   4%|▎         | 157/4248 [00:42<3:35:27,  3.16s/it]"
     ]
    },
    {
     "name": "stdout",
     "output_type": "stream",
     "text": [
      "No image found for Josh Appelt at https://www.ufc.com/athlete/josh-appelt\n"
     ]
    },
    {
     "name": "stderr",
     "output_type": "stream",
     "text": [
      "Downloading Fighter Images:   4%|▎         | 158/4248 [00:47<4:08:39,  3.65s/it]"
     ]
    },
    {
     "name": "stdout",
     "output_type": "stream",
     "text": [
      "No image found for Erik Apple at https://www.ufc.com/athlete/erik-apple\n"
     ]
    },
    {
     "name": "stderr",
     "output_type": "stream",
     "text": [
      "Downloading Fighter Images:   4%|▎         | 159/4248 [00:52<4:24:10,  3.88s/it]"
     ]
    },
    {
     "name": "stdout",
     "output_type": "stream",
     "text": [
      "No image found for Kenji Arai at https://www.ufc.com/athlete/kenji-arai\n"
     ]
    },
    {
     "name": "stderr",
     "output_type": "stream",
     "text": [
      "Downloading Fighter Images:   4%|▍         | 160/4248 [00:53<3:40:40,  3.24s/it]"
     ]
    },
    {
     "name": "stdout",
     "output_type": "stream",
     "text": [
      "No image found for Romie Aram at https://www.ufc.com/athlete/romie-aram\n"
     ]
    },
    {
     "name": "stderr",
     "output_type": "stream",
     "text": [
      "Downloading Fighter Images:   4%|▍         | 161/4248 [00:56<3:36:54,  3.18s/it]"
     ]
    },
    {
     "name": "stdout",
     "output_type": "stream",
     "text": [
      "Image successfully downloaded for Felipe Arantes: C:\\Users\\palet\\OneDrive\\Desktop\\UNI_FINAL\\Git\\MMA-Predict\\Data\\Images\\Felipe_Arantes.png\n"
     ]
    },
    {
     "name": "stderr",
     "output_type": "stream",
     "text": [
      "Downloading Fighter Images:   4%|▍         | 162/4248 [00:59<3:26:08,  3.03s/it]"
     ]
    },
    {
     "name": "stdout",
     "output_type": "stream",
     "text": [
      "Image successfully downloaded for Igor Araujo: C:\\Users\\palet\\OneDrive\\Desktop\\UNI_FINAL\\Git\\MMA-Predict\\Data\\Images\\Igor_Araujo.png\n"
     ]
    },
    {
     "name": "stderr",
     "output_type": "stream",
     "text": [
      "Downloading Fighter Images:   4%|▍         | 163/4248 [01:02<3:13:03,  2.84s/it]"
     ]
    },
    {
     "name": "stdout",
     "output_type": "stream",
     "text": [
      "Image successfully downloaded for Viviane Araujo: C:\\Users\\palet\\OneDrive\\Desktop\\UNI_FINAL\\Git\\MMA-Predict\\Data\\Images\\Viviane_Araujo.png\n"
     ]
    },
    {
     "name": "stderr",
     "output_type": "stream",
     "text": [
      "Downloading Fighter Images:   4%|▍         | 164/4248 [01:04<3:15:05,  2.87s/it]"
     ]
    },
    {
     "name": "stdout",
     "output_type": "stream",
     "text": [
      "Image successfully downloaded for Julio Arce: C:\\Users\\palet\\OneDrive\\Desktop\\UNI_FINAL\\Git\\MMA-Predict\\Data\\Images\\Julio_Arce.png\n"
     ]
    },
    {
     "name": "stderr",
     "output_type": "stream",
     "text": [
      "Downloading Fighter Images:   4%|▍         | 165/4248 [01:05<2:23:42,  2.11s/it]"
     ]
    },
    {
     "name": "stdout",
     "output_type": "stream",
     "text": [
      "No image found for Art Arciniega at https://www.ufc.com/athlete/art-arciniega\n"
     ]
    },
    {
     "name": "stderr",
     "output_type": "stream",
     "text": [
      "Downloading Fighter Images:   4%|▍         | 166/4248 [01:07<2:22:25,  2.09s/it]"
     ]
    },
    {
     "name": "stdout",
     "output_type": "stream",
     "text": [
      "Image successfully downloaded for Alice Ardelean: C:\\Users\\palet\\OneDrive\\Desktop\\UNI_FINAL\\Git\\MMA-Predict\\Data\\Images\\Alice_Ardelean.png\n"
     ]
    },
    {
     "name": "stderr",
     "output_type": "stream",
     "text": [
      "Downloading Fighter Images:   4%|▍         | 167/4248 [01:12<3:19:37,  2.93s/it]"
     ]
    },
    {
     "name": "stdout",
     "output_type": "stream",
     "text": [
      "No image found for Tristan Arenal at https://www.ufc.com/athlete/tristan-arenal\n"
     ]
    },
    {
     "name": "stderr",
     "output_type": "stream",
     "text": [
      "Downloading Fighter Images:   4%|▍         | 168/4248 [01:16<3:47:02,  3.34s/it]"
     ]
    },
    {
     "name": "stdout",
     "output_type": "stream",
     "text": [
      "No image found for Gabriel Arges at https://www.ufc.com/athlete/gabriel-arges\n"
     ]
    },
    {
     "name": "stderr",
     "output_type": "stream",
     "text": [
      "Downloading Fighter Images:   4%|▍         | 169/4248 [01:16<2:46:43,  2.45s/it]"
     ]
    },
    {
     "name": "stdout",
     "output_type": "stream",
     "text": [
      "No image found for Dan Argueta at https://www.ufc.com/athlete/dan-argueta\n"
     ]
    },
    {
     "name": "stderr",
     "output_type": "stream",
     "text": [
      "Downloading Fighter Images:   4%|▍         | 170/4248 [01:21<3:34:16,  3.15s/it]"
     ]
    },
    {
     "name": "stdout",
     "output_type": "stream",
     "text": [
      "No image found for Reza Arianto at https://www.ufc.com/athlete/reza-arianto\n"
     ]
    },
    {
     "name": "stderr",
     "output_type": "stream",
     "text": [
      "Downloading Fighter Images:   4%|▍         | 171/4248 [01:27<4:28:43,  3.95s/it]"
     ]
    },
    {
     "name": "stdout",
     "output_type": "stream",
     "text": [
      "Image successfully downloaded for Hashem Arkhagha: C:\\Users\\palet\\OneDrive\\Desktop\\UNI_FINAL\\Git\\MMA-Predict\\Data\\Images\\Hashem_Arkhagha.png\n"
     ]
    },
    {
     "name": "stderr",
     "output_type": "stream",
     "text": [
      "Downloading Fighter Images:   4%|▍         | 172/4248 [01:30<4:09:37,  3.67s/it]"
     ]
    },
    {
     "name": "stdout",
     "output_type": "stream",
     "text": [
      "Image successfully downloaded for Andrei Arlovski: C:\\Users\\palet\\OneDrive\\Desktop\\UNI_FINAL\\Git\\MMA-Predict\\Data\\Images\\Andrei_Arlovski.png\n"
     ]
    },
    {
     "name": "stderr",
     "output_type": "stream",
     "text": [
      "Downloading Fighter Images:   4%|▍         | 173/4248 [01:33<3:52:57,  3.43s/it]"
     ]
    },
    {
     "name": "stdout",
     "output_type": "stream",
     "text": [
      "Image successfully downloaded for Garrett Armfield: C:\\Users\\palet\\OneDrive\\Desktop\\UNI_FINAL\\Git\\MMA-Predict\\Data\\Images\\Garrett_Armfield.png\n",
      "No image found for Joey Armstrong at https://www.ufc.com/athlete/joey-armstrong\n"
     ]
    },
    {
     "name": "stderr",
     "output_type": "stream",
     "text": [
      "Downloading Fighter Images:   4%|▍         | 175/4248 [01:36<2:50:51,  2.52s/it]"
     ]
    },
    {
     "name": "stdout",
     "output_type": "stream",
     "text": [
      "Image successfully downloaded for Austin Arnett: C:\\Users\\palet\\OneDrive\\Desktop\\UNI_FINAL\\Git\\MMA-Predict\\Data\\Images\\Austin_Arnett.png\n"
     ]
    },
    {
     "name": "stderr",
     "output_type": "stream",
     "text": [
      "Downloading Fighter Images:   4%|▍         | 176/4248 [01:40<3:26:51,  3.05s/it]"
     ]
    },
    {
     "name": "stdout",
     "output_type": "stream",
     "text": [
      "No image found for Ricardo Arona at https://www.ufc.com/athlete/ricardo-arona\n"
     ]
    },
    {
     "name": "stderr",
     "output_type": "stream",
     "text": [
      "Downloading Fighter Images:   4%|▍         | 177/4248 [01:45<4:01:14,  3.56s/it]"
     ]
    },
    {
     "name": "stdout",
     "output_type": "stream",
     "text": [
      "No image found for Eli Aronov at https://www.ufc.com/athlete/eli-aronov\n"
     ]
    },
    {
     "name": "stderr",
     "output_type": "stream",
     "text": [
      "Downloading Fighter Images:   4%|▍         | 178/4248 [01:49<4:16:39,  3.78s/it]"
     ]
    },
    {
     "name": "stdout",
     "output_type": "stream",
     "text": [
      "No image found for Chalid Arrab at https://www.ufc.com/athlete/chalid-arrab\n"
     ]
    },
    {
     "name": "stderr",
     "output_type": "stream",
     "text": [
      "Downloading Fighter Images:   4%|▍         | 179/4248 [01:52<3:58:32,  3.52s/it]"
     ]
    },
    {
     "name": "stdout",
     "output_type": "stream",
     "text": [
      "Image successfully downloaded for Akbarh Arreola: C:\\Users\\palet\\OneDrive\\Desktop\\UNI_FINAL\\Git\\MMA-Predict\\Data\\Images\\Akbarh_Arreola.png\n"
     ]
    },
    {
     "name": "stderr",
     "output_type": "stream",
     "text": [
      "Downloading Fighter Images:   4%|▍         | 180/4248 [01:54<3:27:37,  3.06s/it]"
     ]
    },
    {
     "name": "stdout",
     "output_type": "stream",
     "text": [
      "No image found for Matt Arroyo at https://www.ufc.com/athlete/matt-arroyo\n"
     ]
    },
    {
     "name": "stderr",
     "output_type": "stream",
     "text": [
      "Downloading Fighter Images:   4%|▍         | 181/4248 [01:57<3:34:54,  3.17s/it]"
     ]
    },
    {
     "name": "stdout",
     "output_type": "stream",
     "text": [
      "Image successfully downloaded for Antonio Arroyo: C:\\Users\\palet\\OneDrive\\Desktop\\UNI_FINAL\\Git\\MMA-Predict\\Data\\Images\\Antonio_Arroyo.png\n"
     ]
    },
    {
     "name": "stderr",
     "output_type": "stream",
     "text": [
      "Downloading Fighter Images:   4%|▍         | 182/4248 [02:02<3:59:35,  3.54s/it]"
     ]
    },
    {
     "name": "stdout",
     "output_type": "stream",
     "text": [
      "No image found for Gilles Arsene at https://www.ufc.com/athlete/gilles-arsene\n"
     ]
    },
    {
     "name": "stderr",
     "output_type": "stream",
     "text": [
      "Downloading Fighter Images:   4%|▍         | 183/4248 [02:02<2:56:24,  2.60s/it]"
     ]
    },
    {
     "name": "stdout",
     "output_type": "stream",
     "text": [
      "Error fetching data for Veta Arteaga: 403 Client Error: Forbidden for url: https://www.ufc.com/athlete/veta-arteaga\n"
     ]
    },
    {
     "name": "stderr",
     "output_type": "stream",
     "text": [
      "Downloading Fighter Images:   4%|▍         | 184/4248 [02:05<2:55:52,  2.60s/it]"
     ]
    },
    {
     "name": "stdout",
     "output_type": "stream",
     "text": [
      "Image successfully downloaded for Cesar Arzamendia: C:\\Users\\palet\\OneDrive\\Desktop\\UNI_FINAL\\Git\\MMA-Predict\\Data\\Images\\Cesar_Arzamendia.png\n"
     ]
    },
    {
     "name": "stderr",
     "output_type": "stream",
     "text": [
      "Downloading Fighter Images:   4%|▍         | 185/4248 [02:06<2:34:28,  2.28s/it]"
     ]
    },
    {
     "name": "stdout",
     "output_type": "stream",
     "text": [
      "Image successfully downloaded for Kai Asakura: C:\\Users\\palet\\OneDrive\\Desktop\\UNI_FINAL\\Git\\MMA-Predict\\Data\\Images\\Kai_Asakura.png\n"
     ]
    },
    {
     "name": "stderr",
     "output_type": "stream",
     "text": [
      "Downloading Fighter Images:   4%|▍         | 186/4248 [02:12<3:36:58,  3.20s/it]"
     ]
    },
    {
     "name": "stdout",
     "output_type": "stream",
     "text": [
      "Image successfully downloaded for Teddy Ash: C:\\Users\\palet\\OneDrive\\Desktop\\UNI_FINAL\\Git\\MMA-Predict\\Data\\Images\\Teddy_Ash.png\n"
     ]
    },
    {
     "name": "stderr",
     "output_type": "stream",
     "text": [
      "Downloading Fighter Images:   4%|▍         | 187/4248 [02:17<4:13:09,  3.74s/it]"
     ]
    },
    {
     "name": "stdout",
     "output_type": "stream",
     "text": [
      "No image found for Arman Ashimov at https://www.ufc.com/athlete/arman-ashimov\n"
     ]
    },
    {
     "name": "stderr",
     "output_type": "stream",
     "text": [
      "Downloading Fighter Images:   4%|▍         | 188/4248 [02:19<3:44:22,  3.32s/it]"
     ]
    },
    {
     "name": "stdout",
     "output_type": "stream",
     "text": [
      "Image successfully downloaded for Yanal Ashmouz: C:\\Users\\palet\\OneDrive\\Desktop\\UNI_FINAL\\Git\\MMA-Predict\\Data\\Images\\Yanal_Ashmouz.png\n"
     ]
    },
    {
     "name": "stderr",
     "output_type": "stream",
     "text": [
      "Downloading Fighter Images:   4%|▍         | 189/4248 [02:24<4:10:02,  3.70s/it]"
     ]
    },
    {
     "name": "stdout",
     "output_type": "stream",
     "text": [
      "No image found for Askar Askar at https://www.ufc.com/athlete/askar-askar\n"
     ]
    },
    {
     "name": "stderr",
     "output_type": "stream",
     "text": [
      "Downloading Fighter Images:   4%|▍         | 190/4248 [02:26<3:41:06,  3.27s/it]"
     ]
    },
    {
     "name": "stdout",
     "output_type": "stream",
     "text": [
      "Image successfully downloaded for Askar Askarov: C:\\Users\\palet\\OneDrive\\Desktop\\UNI_FINAL\\Git\\MMA-Predict\\Data\\Images\\Askar_Askarov.png\n"
     ]
    },
    {
     "name": "stderr",
     "output_type": "stream",
     "text": [
      "Downloading Fighter Images:   4%|▍         | 191/4248 [02:28<3:23:08,  3.00s/it]"
     ]
    },
    {
     "name": "stdout",
     "output_type": "stream",
     "text": [
      "Image successfully downloaded for Cyril Asker: C:\\Users\\palet\\OneDrive\\Desktop\\UNI_FINAL\\Git\\MMA-Predict\\Data\\Images\\Cyril_Asker.png\n"
     ]
    },
    {
     "name": "stderr",
     "output_type": "stream",
     "text": [
      "Downloading Fighter Images:   5%|▍         | 192/4248 [02:31<3:17:24,  2.92s/it]"
     ]
    },
    {
     "name": "stdout",
     "output_type": "stream",
     "text": [
      "Image successfully downloaded for Khusein Askhabov: C:\\Users\\palet\\OneDrive\\Desktop\\UNI_FINAL\\Git\\MMA-Predict\\Data\\Images\\Khusein_Askhabov.png\n"
     ]
    },
    {
     "name": "stderr",
     "output_type": "stream",
     "text": [
      "Downloading Fighter Images:   5%|▍         | 193/4248 [02:34<3:17:28,  2.92s/it]"
     ]
    },
    {
     "name": "stdout",
     "output_type": "stream",
     "text": [
      "Image successfully downloaded for Scott Askham: C:\\Users\\palet\\OneDrive\\Desktop\\UNI_FINAL\\Git\\MMA-Predict\\Data\\Images\\Scott_Askham.png\n"
     ]
    },
    {
     "name": "stderr",
     "output_type": "stream",
     "text": [
      "Downloading Fighter Images:   5%|▍         | 194/4248 [02:37<3:10:28,  2.82s/it]"
     ]
    },
    {
     "name": "stdout",
     "output_type": "stream",
     "text": [
      "Image successfully downloaded for Ben Askren: C:\\Users\\palet\\OneDrive\\Desktop\\UNI_FINAL\\Git\\MMA-Predict\\Data\\Images\\Ben_Askren.png\n"
     ]
    },
    {
     "name": "stderr",
     "output_type": "stream",
     "text": [
      "Downloading Fighter Images:   5%|▍         | 195/4248 [02:39<2:58:32,  2.64s/it]"
     ]
    },
    {
     "name": "stdout",
     "output_type": "stream",
     "text": [
      "Image successfully downloaded for Ibo Aslan: C:\\Users\\palet\\OneDrive\\Desktop\\UNI_FINAL\\Git\\MMA-Predict\\Data\\Images\\Ibo_Aslan.png\n"
     ]
    },
    {
     "name": "stderr",
     "output_type": "stream",
     "text": [
      "Downloading Fighter Images:   5%|▍         | 196/4248 [02:39<2:11:55,  1.95s/it]"
     ]
    },
    {
     "name": "stdout",
     "output_type": "stream",
     "text": [
      "Image successfully downloaded for Tom Aspinall: C:\\Users\\palet\\OneDrive\\Desktop\\UNI_FINAL\\Git\\MMA-Predict\\Data\\Images\\Tom_Aspinall.png\n"
     ]
    },
    {
     "name": "stderr",
     "output_type": "stream",
     "text": [
      "Downloading Fighter Images:   5%|▍         | 197/4248 [02:44<3:02:29,  2.70s/it]"
     ]
    },
    {
     "name": "stdout",
     "output_type": "stream",
     "text": [
      "No image found for Bruno Assis at https://www.ufc.com/athlete/bruno-assis\n"
     ]
    },
    {
     "name": "stderr",
     "output_type": "stream",
     "text": [
      "Downloading Fighter Images:   5%|▍         | 198/4248 [02:46<2:48:37,  2.50s/it]"
     ]
    },
    {
     "name": "stdout",
     "output_type": "stream",
     "text": [
      "No image found for Junior Assuncao at https://www.ufc.com/athlete/junior-assuncao\n"
     ]
    },
    {
     "name": "stderr",
     "output_type": "stream",
     "text": [
      "Downloading Fighter Images:   5%|▍         | 199/4248 [02:48<2:50:39,  2.53s/it]"
     ]
    },
    {
     "name": "stdout",
     "output_type": "stream",
     "text": [
      "Image successfully downloaded for Raphael Assuncao: C:\\Users\\palet\\OneDrive\\Desktop\\UNI_FINAL\\Git\\MMA-Predict\\Data\\Images\\Raphael_Assuncao.png\n"
     ]
    },
    {
     "name": "stderr",
     "output_type": "stream",
     "text": [
      "Downloading Fighter Images:   5%|▍         | 200/4248 [02:49<2:06:44,  1.88s/it]"
     ]
    },
    {
     "name": "stdout",
     "output_type": "stream",
     "text": [
      "No image found for Michael Aswell at https://www.ufc.com/athlete/michael-aswell\n"
     ]
    },
    {
     "name": "stderr",
     "output_type": "stream",
     "text": [
      "Downloading Fighter Images:   5%|▍         | 201/4248 [02:53<3:02:24,  2.70s/it]"
     ]
    },
    {
     "name": "stdout",
     "output_type": "stream",
     "text": [
      "No image found for Bazigit Atajev at https://www.ufc.com/athlete/bazigit-atajev\n"
     ]
    },
    {
     "name": "stderr",
     "output_type": "stream",
     "text": [
      "Downloading Fighter Images:   5%|▍         | 202/4248 [02:55<2:52:40,  2.56s/it]"
     ]
    },
    {
     "name": "stdout",
     "output_type": "stream",
     "text": [
      "No image found for Rich Attonito at https://www.ufc.com/athlete/rich-attonito\n"
     ]
    },
    {
     "name": "stderr",
     "output_type": "stream",
     "text": [
      "Downloading Fighter Images:   5%|▍         | 203/4248 [02:58<2:53:31,  2.57s/it]"
     ]
    },
    {
     "name": "stdout",
     "output_type": "stream",
     "text": [
      "Image successfully downloaded for Olivier Aubin-Mercier: C:\\Users\\palet\\OneDrive\\Desktop\\UNI_FINAL\\Git\\MMA-Predict\\Data\\Images\\Olivier_Aubin-Mercier.png\n"
     ]
    },
    {
     "name": "stderr",
     "output_type": "stream",
     "text": [
      "Downloading Fighter Images:   5%|▍         | 204/4248 [03:00<2:46:00,  2.46s/it]"
     ]
    },
    {
     "name": "stdout",
     "output_type": "stream",
     "text": [
      "No image found for Pat Audinwood at https://www.ufc.com/athlete/pat-audinwood\n"
     ]
    },
    {
     "name": "stderr",
     "output_type": "stream",
     "text": [
      "Downloading Fighter Images:   5%|▍         | 205/4248 [03:04<3:19:24,  2.96s/it]"
     ]
    },
    {
     "name": "stdout",
     "output_type": "stream",
     "text": [
      "No image found for Jose Augusto at https://www.ufc.com/athlete/jose-augusto\n"
     ]
    },
    {
     "name": "stderr",
     "output_type": "stream",
     "text": [
      "Downloading Fighter Images:   5%|▍         | 206/4248 [03:06<3:02:54,  2.72s/it]"
     ]
    },
    {
     "name": "stdout",
     "output_type": "stream",
     "text": [
      "No image found for Marcus Aurelio at https://www.ufc.com/athlete/marcus-aurelio\n"
     ]
    },
    {
     "name": "stderr",
     "output_type": "stream",
     "text": [
      "Downloading Fighter Images:   5%|▍         | 207/4248 [03:11<3:35:27,  3.20s/it]"
     ]
    },
    {
     "name": "stdout",
     "output_type": "stream",
     "text": [
      "No image found for David Avellan at https://www.ufc.com/athlete/david-avellan\n"
     ]
    },
    {
     "name": "stderr",
     "output_type": "stream",
     "text": [
      "Downloading Fighter Images:   5%|▍         | 208/4248 [03:15<4:00:41,  3.57s/it]"
     ]
    },
    {
     "name": "stdout",
     "output_type": "stream",
     "text": [
      "No image found for Blas Avena at https://www.ufc.com/athlete/blas-avena\n"
     ]
    },
    {
     "name": "stderr",
     "output_type": "stream",
     "text": [
      "Downloading Fighter Images:   5%|▍         | 209/4248 [03:20<4:15:38,  3.80s/it]"
     ]
    },
    {
     "name": "stdout",
     "output_type": "stream",
     "text": [
      "No image found for Levi Avera at https://www.ufc.com/athlete/levi-avera\n"
     ]
    },
    {
     "name": "stderr",
     "output_type": "stream",
     "text": [
      "Downloading Fighter Images:   5%|▍         | 210/4248 [03:20<3:07:01,  2.78s/it]"
     ]
    },
    {
     "name": "stdout",
     "output_type": "stream",
     "text": [
      "No image found for Anthony Avila at https://www.ufc.com/athlete/anthony-avila\n"
     ]
    },
    {
     "name": "stderr",
     "output_type": "stream",
     "text": [
      "Downloading Fighter Images:   5%|▍         | 211/4248 [03:22<2:53:53,  2.58s/it]"
     ]
    },
    {
     "name": "stdout",
     "output_type": "stream",
     "text": [
      "Image successfully downloaded for Chris Avila: C:\\Users\\palet\\OneDrive\\Desktop\\UNI_FINAL\\Git\\MMA-Predict\\Data\\Images\\Chris_Avila.png\n"
     ]
    },
    {
     "name": "stderr",
     "output_type": "stream",
     "text": [
      "Downloading Fighter Images:   5%|▍         | 212/4248 [03:25<2:52:53,  2.57s/it]"
     ]
    },
    {
     "name": "stdout",
     "output_type": "stream",
     "text": [
      "Image successfully downloaded for Julia Avila: C:\\Users\\palet\\OneDrive\\Desktop\\UNI_FINAL\\Git\\MMA-Predict\\Data\\Images\\Julia_Avila.png\n"
     ]
    },
    {
     "name": "stderr",
     "output_type": "stream",
     "text": [
      "Downloading Fighter Images:   5%|▌         | 213/4248 [03:29<3:33:58,  3.18s/it]"
     ]
    },
    {
     "name": "stdout",
     "output_type": "stream",
     "text": [
      "No image found for Saad Awad at https://www.ufc.com/athlete/saad-awad\n"
     ]
    },
    {
     "name": "stderr",
     "output_type": "stream",
     "text": [
      "Downloading Fighter Images:   5%|▌         | 214/4248 [03:30<2:40:32,  2.39s/it]"
     ]
    },
    {
     "name": "stdout",
     "output_type": "stream",
     "text": [
      "Error fetching data for Javy Ayala: 403 Client Error: Forbidden for url: https://www.ufc.com/athlete/javy-ayala\n"
     ]
    },
    {
     "name": "stderr",
     "output_type": "stream",
     "text": [
      "Downloading Fighter Images:   5%|▌         | 215/4248 [03:32<2:43:20,  2.43s/it]"
     ]
    },
    {
     "name": "stdout",
     "output_type": "stream",
     "text": [
      "Image successfully downloaded for Jessin Ayari: C:\\Users\\palet\\OneDrive\\Desktop\\UNI_FINAL\\Git\\MMA-Predict\\Data\\Images\\Jessin_Ayari.png\n"
     ]
    },
    {
     "name": "stderr",
     "output_type": "stream",
     "text": [
      "Downloading Fighter Images:   5%|▌         | 216/4248 [03:35<2:39:53,  2.38s/it]"
     ]
    },
    {
     "name": "stdout",
     "output_type": "stream",
     "text": [
      "Image successfully downloaded for Abu Azaitar: C:\\Users\\palet\\OneDrive\\Desktop\\UNI_FINAL\\Git\\MMA-Predict\\Data\\Images\\Abu_Azaitar.png\n"
     ]
    },
    {
     "name": "stderr",
     "output_type": "stream",
     "text": [
      "Downloading Fighter Images:   5%|▌         | 217/4248 [03:37<2:36:46,  2.33s/it]"
     ]
    },
    {
     "name": "stdout",
     "output_type": "stream",
     "text": [
      "Image successfully downloaded for Ottman Azaitar: C:\\Users\\palet\\OneDrive\\Desktop\\UNI_FINAL\\Git\\MMA-Predict\\Data\\Images\\Ottman_Azaitar.png\n"
     ]
    },
    {
     "name": "stderr",
     "output_type": "stream",
     "text": [
      "Downloading Fighter Images:   5%|▌         | 218/4248 [03:41<3:16:02,  2.92s/it]"
     ]
    },
    {
     "name": "stdout",
     "output_type": "stream",
     "text": [
      "No image found for Luiz Azeredo at https://www.ufc.com/athlete/luiz-azeredo\n"
     ]
    },
    {
     "name": "stderr",
     "output_type": "stream",
     "text": [
      "Downloading Fighter Images:   5%|▌         | 219/4248 [03:46<3:46:43,  3.38s/it]"
     ]
    },
    {
     "name": "stdout",
     "output_type": "stream",
     "text": [
      "No image found for Luciano Azevedo at https://www.ufc.com/athlete/luciano-azevedo\n"
     ]
    },
    {
     "name": "stderr",
     "output_type": "stream",
     "text": [
      "Downloading Fighter Images:   5%|▌         | 220/4248 [03:48<3:36:53,  3.23s/it]"
     ]
    },
    {
     "name": "stdout",
     "output_type": "stream",
     "text": [
      "Image successfully downloaded for Hunter Azure: C:\\Users\\palet\\OneDrive\\Desktop\\UNI_FINAL\\Git\\MMA-Predict\\Data\\Images\\Hunter_Azure.png\n"
     ]
    },
    {
     "name": "stderr",
     "output_type": "stream",
     "text": [
      "Downloading Fighter Images:   5%|▌         | 221/4248 [03:51<3:31:49,  3.16s/it]"
     ]
    },
    {
     "name": "stdout",
     "output_type": "stream",
     "text": [
      "Image successfully downloaded for Niklas Backstrom: C:\\Users\\palet\\OneDrive\\Desktop\\UNI_FINAL\\Git\\MMA-Predict\\Data\\Images\\Niklas_Backstrom.png\n"
     ]
    },
    {
     "name": "stderr",
     "output_type": "stream",
     "text": [
      "Downloading Fighter Images:   5%|▌         | 222/4248 [03:54<3:20:56,  2.99s/it]"
     ]
    },
    {
     "name": "stdout",
     "output_type": "stream",
     "text": [
      "Image successfully downloaded for Seth Baczynski: C:\\Users\\palet\\OneDrive\\Desktop\\UNI_FINAL\\Git\\MMA-Predict\\Data\\Images\\Seth_Baczynski.png\n"
     ]
    },
    {
     "name": "stderr",
     "output_type": "stream",
     "text": [
      "Downloading Fighter Images:   5%|▌         | 223/4248 [03:54<2:27:23,  2.20s/it]"
     ]
    },
    {
     "name": "stdout",
     "output_type": "stream",
     "text": [
      "No image found for Abdul Azeem Badakhshi at https://www.ufc.com/athlete/abdul azeem-badakhshi\n"
     ]
    },
    {
     "name": "stderr",
     "output_type": "stream",
     "text": [
      "Downloading Fighter Images:   5%|▌         | 224/4248 [03:57<2:45:13,  2.46s/it]"
     ]
    },
    {
     "name": "stdout",
     "output_type": "stream",
     "text": [
      "Image successfully downloaded for Ryan Bader: C:\\Users\\palet\\OneDrive\\Desktop\\UNI_FINAL\\Git\\MMA-Predict\\Data\\Images\\Ryan_Bader.png\n"
     ]
    },
    {
     "name": "stderr",
     "output_type": "stream",
     "text": [
      "Downloading Fighter Images:   5%|▌         | 225/4248 [03:59<2:32:59,  2.28s/it]"
     ]
    },
    {
     "name": "stdout",
     "output_type": "stream",
     "text": [
      "Image successfully downloaded for Izabela Badurek: C:\\Users\\palet\\OneDrive\\Desktop\\UNI_FINAL\\Git\\MMA-Predict\\Data\\Images\\Izabela_Badurek.png\n"
     ]
    },
    {
     "name": "stderr",
     "output_type": "stream",
     "text": [
      "Downloading Fighter Images:   5%|▌         | 226/4248 [04:03<2:52:25,  2.57s/it]"
     ]
    },
    {
     "name": "stdout",
     "output_type": "stream",
     "text": [
      "Image successfully downloaded for Miguel Baeza: C:\\Users\\palet\\OneDrive\\Desktop\\UNI_FINAL\\Git\\MMA-Predict\\Data\\Images\\Miguel_Baeza.png\n"
     ]
    },
    {
     "name": "stderr",
     "output_type": "stream",
     "text": [
      "Downloading Fighter Images:   5%|▌         | 227/4248 [04:05<2:52:24,  2.57s/it]"
     ]
    },
    {
     "name": "stdout",
     "output_type": "stream",
     "text": [
      "Image successfully downloaded for Ali Bagautinov: C:\\Users\\palet\\OneDrive\\Desktop\\UNI_FINAL\\Git\\MMA-Predict\\Data\\Images\\Ali_Bagautinov.png\n"
     ]
    },
    {
     "name": "stderr",
     "output_type": "stream",
     "text": [
      "Downloading Fighter Images:   5%|▌         | 228/4248 [04:07<2:39:01,  2.37s/it]"
     ]
    },
    {
     "name": "stdout",
     "output_type": "stream",
     "text": [
      "Image successfully downloaded for Mehdi Baghdad: C:\\Users\\palet\\OneDrive\\Desktop\\UNI_FINAL\\Git\\MMA-Predict\\Data\\Images\\Mehdi_Baghdad.png\n"
     ]
    },
    {
     "name": "stderr",
     "output_type": "stream",
     "text": [
      "Downloading Fighter Images:   5%|▌         | 229/4248 [04:10<2:41:33,  2.41s/it]"
     ]
    },
    {
     "name": "stdout",
     "output_type": "stream",
     "text": [
      "Image successfully downloaded for Melsik Baghdasaryan: C:\\Users\\palet\\OneDrive\\Desktop\\UNI_FINAL\\Git\\MMA-Predict\\Data\\Images\\Melsik_Baghdasaryan.png\n"
     ]
    },
    {
     "name": "stderr",
     "output_type": "stream",
     "text": [
      "Downloading Fighter Images:   5%|▌         | 230/4248 [04:12<2:41:23,  2.41s/it]"
     ]
    },
    {
     "name": "stdout",
     "output_type": "stream",
     "text": [
      "Image successfully downloaded for Siyar Bahadurzada: C:\\Users\\palet\\OneDrive\\Desktop\\UNI_FINAL\\Git\\MMA-Predict\\Data\\Images\\Siyar_Bahadurzada.png\n"
     ]
    },
    {
     "name": "stderr",
     "output_type": "stream",
     "text": [
      "Downloading Fighter Images:   5%|▌         | 231/4248 [04:15<2:50:47,  2.55s/it]"
     ]
    },
    {
     "name": "stdout",
     "output_type": "stream",
     "text": [
      "Image successfully downloaded for Ignacio Bahamondes: C:\\Users\\palet\\OneDrive\\Desktop\\UNI_FINAL\\Git\\MMA-Predict\\Data\\Images\\Ignacio_Bahamondes.png\n"
     ]
    },
    {
     "name": "stderr",
     "output_type": "stream",
     "text": [
      "Downloading Fighter Images:   5%|▌         | 232/4248 [04:20<3:45:31,  3.37s/it]"
     ]
    },
    {
     "name": "stdout",
     "output_type": "stream",
     "text": [
      "Image successfully downloaded for Bahatebole Batebolati: C:\\Users\\palet\\OneDrive\\Desktop\\UNI_FINAL\\Git\\MMA-Predict\\Data\\Images\\Bahatebole_Batebolati.png\n"
     ]
    },
    {
     "name": "stderr",
     "output_type": "stream",
     "text": [
      "Downloading Fighter Images:   5%|▌         | 233/4248 [04:22<3:18:50,  2.97s/it]"
     ]
    },
    {
     "name": "stdout",
     "output_type": "stream",
     "text": [
      "No image found for Shamar Bailey at https://www.ufc.com/athlete/shamar-bailey\n"
     ]
    },
    {
     "name": "stderr",
     "output_type": "stream",
     "text": [
      "Downloading Fighter Images:   6%|▌         | 234/4248 [04:23<2:27:50,  2.21s/it]"
     ]
    },
    {
     "name": "stdout",
     "output_type": "stream",
     "text": [
      "Error fetching data for Jordan Bailey: 403 Client Error: Forbidden for url: https://www.ufc.com/athlete/jordan-bailey\n"
     ]
    },
    {
     "name": "stderr",
     "output_type": "stream",
     "text": [
      "Downloading Fighter Images:   6%|▌         | 235/4248 [04:24<2:16:03,  2.03s/it]"
     ]
    },
    {
     "name": "stdout",
     "output_type": "stream",
     "text": [
      "No image found for Scott Baker at https://www.ufc.com/athlete/scott-baker\n"
     ]
    },
    {
     "name": "stderr",
     "output_type": "stream",
     "text": [
      "Downloading Fighter Images:   6%|▌         | 236/4248 [04:29<3:09:42,  2.84s/it]"
     ]
    },
    {
     "name": "stdout",
     "output_type": "stream",
     "text": [
      "No image found for Bryan Baker at https://www.ufc.com/athlete/bryan-baker\n"
     ]
    },
    {
     "name": "stderr",
     "output_type": "stream",
     "text": [
      "Downloading Fighter Images:   6%|▌         | 237/4248 [04:29<2:19:25,  2.09s/it]"
     ]
    },
    {
     "name": "stdout",
     "output_type": "stream",
     "text": [
      "No image found for Jin Bala at https://www.ufc.com/athlete/jin-bala\n"
     ]
    },
    {
     "name": "stderr",
     "output_type": "stream",
     "text": [
      "Downloading Fighter Images:   6%|▌         | 238/4248 [04:32<2:28:51,  2.23s/it]"
     ]
    },
    {
     "name": "stdout",
     "output_type": "stream",
     "text": [
      "Image successfully downloaded for Oluwale Bamgbose: C:\\Users\\palet\\OneDrive\\Desktop\\UNI_FINAL\\Git\\MMA-Predict\\Data\\Images\\Oluwale_Bamgbose.png\n"
     ]
    },
    {
     "name": "stderr",
     "output_type": "stream",
     "text": [
      "Downloading Fighter Images:   6%|▌         | 239/4248 [04:32<1:51:35,  1.67s/it]"
     ]
    },
    {
     "name": "stdout",
     "output_type": "stream",
     "text": [
      "Error fetching data for Stephen Banaszak: 403 Client Error: Forbidden for url: https://www.ufc.com/athlete/stephen-banaszak\n"
     ]
    },
    {
     "name": "stderr",
     "output_type": "stream",
     "text": [
      "Downloading Fighter Images:   6%|▌         | 240/4248 [04:35<2:13:48,  2.00s/it]"
     ]
    },
    {
     "name": "stdout",
     "output_type": "stream",
     "text": [
      "Image successfully downloaded for Marcin Bandel: C:\\Users\\palet\\OneDrive\\Desktop\\UNI_FINAL\\Git\\MMA-Predict\\Data\\Images\\Marcin_Bandel.png\n"
     ]
    },
    {
     "name": "stderr",
     "output_type": "stream",
     "text": [
      "Downloading Fighter Images:   6%|▌         | 241/4248 [04:38<2:33:08,  2.29s/it]"
     ]
    },
    {
     "name": "stdout",
     "output_type": "stream",
     "text": [
      "Image successfully downloaded for Humberto Bandenay: C:\\Users\\palet\\OneDrive\\Desktop\\UNI_FINAL\\Git\\MMA-Predict\\Data\\Images\\Humberto_Bandenay.png\n"
     ]
    },
    {
     "name": "stderr",
     "output_type": "stream",
     "text": [
      "Downloading Fighter Images:   6%|▌         | 242/4248 [04:38<1:54:34,  1.72s/it]"
     ]
    },
    {
     "name": "stdout",
     "output_type": "stream",
     "text": [
      "No image found for Tae Hyun Bang at https://www.ufc.com/athlete/tae hyun-bang\n"
     ]
    },
    {
     "name": "stderr",
     "output_type": "stream",
     "text": [
      "Downloading Fighter Images:   6%|▌         | 243/4248 [04:43<2:48:46,  2.53s/it]"
     ]
    },
    {
     "name": "stdout",
     "output_type": "stream",
     "text": [
      "No image found for Yohan Banks at https://www.ufc.com/athlete/yohan-banks\n"
     ]
    },
    {
     "name": "stderr",
     "output_type": "stream",
     "text": [
      "Downloading Fighter Images:   6%|▌         | 244/4248 [04:45<2:44:28,  2.46s/it]"
     ]
    },
    {
     "name": "stdout",
     "output_type": "stream",
     "text": [
      "Image successfully downloaded for Shauna Bannon: C:\\Users\\palet\\OneDrive\\Desktop\\UNI_FINAL\\Git\\MMA-Predict\\Data\\Images\\Shauna_Bannon.png\n"
     ]
    },
    {
     "name": "stderr",
     "output_type": "stream",
     "text": [
      "Downloading Fighter Images:   6%|▌         | 245/4248 [04:47<2:36:10,  2.34s/it]"
     ]
    },
    {
     "name": "stdout",
     "output_type": "stream",
     "text": [
      "No image found for Antonio Banuelos at https://www.ufc.com/athlete/antonio-banuelos\n"
     ]
    },
    {
     "name": "stderr",
     "output_type": "stream",
     "text": [
      "Downloading Fighter Images:   6%|▌         | 246/4248 [04:50<2:38:52,  2.38s/it]"
     ]
    },
    {
     "name": "stdout",
     "output_type": "stream",
     "text": [
      "Image successfully downloaded for Renan Barao: C:\\Users\\palet\\OneDrive\\Desktop\\UNI_FINAL\\Git\\MMA-Predict\\Data\\Images\\Renan_Barao.png\n"
     ]
    },
    {
     "name": "stderr",
     "output_type": "stream",
     "text": [
      "Downloading Fighter Images:   6%|▌         | 247/4248 [04:50<2:01:47,  1.83s/it]"
     ]
    },
    {
     "name": "stdout",
     "output_type": "stream",
     "text": [
      "Error fetching data for Junior Barata: 403 Client Error: Forbidden for url: https://www.ufc.com/athlete/junior-barata\n"
     ]
    },
    {
     "name": "stderr",
     "output_type": "stream",
     "text": [
      "Downloading Fighter Images:   6%|▌         | 248/4248 [04:53<2:24:52,  2.17s/it]"
     ]
    },
    {
     "name": "stdout",
     "output_type": "stream",
     "text": [
      "Image successfully downloaded for Maycee Barber: C:\\Users\\palet\\OneDrive\\Desktop\\UNI_FINAL\\Git\\MMA-Predict\\Data\\Images\\Maycee_Barber.png\n"
     ]
    },
    {
     "name": "stderr",
     "output_type": "stream",
     "text": [
      "Downloading Fighter Images:   6%|▌         | 249/4248 [04:56<2:38:46,  2.38s/it]"
     ]
    },
    {
     "name": "stdout",
     "output_type": "stream",
     "text": [
      "Image successfully downloaded for Bryan Barberena: C:\\Users\\palet\\OneDrive\\Desktop\\UNI_FINAL\\Git\\MMA-Predict\\Data\\Images\\Bryan_Barberena.png\n"
     ]
    },
    {
     "name": "stderr",
     "output_type": "stream",
     "text": [
      "Downloading Fighter Images:   6%|▌         | 250/4248 [04:58<2:32:51,  2.29s/it]"
     ]
    },
    {
     "name": "stdout",
     "output_type": "stream",
     "text": [
      "Image successfully downloaded for Dione Barbosa: C:\\Users\\palet\\OneDrive\\Desktop\\UNI_FINAL\\Git\\MMA-Predict\\Data\\Images\\Dione_Barbosa.png\n"
     ]
    },
    {
     "name": "stderr",
     "output_type": "stream",
     "text": [
      "Downloading Fighter Images:   6%|▌         | 251/4248 [04:58<1:56:09,  1.74s/it]"
     ]
    },
    {
     "name": "stdout",
     "output_type": "stream",
     "text": [
      "Image successfully downloaded for Edson Barboza: C:\\Users\\palet\\OneDrive\\Desktop\\UNI_FINAL\\Git\\MMA-Predict\\Data\\Images\\Edson_Barboza.png\n"
     ]
    },
    {
     "name": "stderr",
     "output_type": "stream",
     "text": [
      "Downloading Fighter Images:   6%|▌         | 252/4248 [05:01<2:09:37,  1.95s/it]"
     ]
    },
    {
     "name": "stdout",
     "output_type": "stream",
     "text": [
      "Image successfully downloaded for Raoni Barcelos: C:\\Users\\palet\\OneDrive\\Desktop\\UNI_FINAL\\Git\\MMA-Predict\\Data\\Images\\Raoni_Barcelos.png\n"
     ]
    },
    {
     "name": "stderr",
     "output_type": "stream",
     "text": [
      "Downloading Fighter Images:   6%|▌         | 253/4248 [05:03<2:15:40,  2.04s/it]"
     ]
    },
    {
     "name": "stdout",
     "output_type": "stream",
     "text": [
      "Image successfully downloaded for Daniel Barez: C:\\Users\\palet\\OneDrive\\Desktop\\UNI_FINAL\\Git\\MMA-Predict\\Data\\Images\\Daniel_Barez.png\n"
     ]
    },
    {
     "name": "stderr",
     "output_type": "stream",
     "text": [
      "Downloading Fighter Images:   6%|▌         | 254/4248 [05:05<2:20:06,  2.10s/it]"
     ]
    },
    {
     "name": "stdout",
     "output_type": "stream",
     "text": [
      "Image successfully downloaded for Danny Barlow: C:\\Users\\palet\\OneDrive\\Desktop\\UNI_FINAL\\Git\\MMA-Predict\\Data\\Images\\Danny_Barlow.png\n"
     ]
    },
    {
     "name": "stderr",
     "output_type": "stream",
     "text": [
      "Downloading Fighter Images:   6%|▌         | 255/4248 [05:08<2:20:43,  2.11s/it]"
     ]
    },
    {
     "name": "stdout",
     "output_type": "stream",
     "text": [
      "Image successfully downloaded for Luke Barnatt: C:\\Users\\palet\\OneDrive\\Desktop\\UNI_FINAL\\Git\\MMA-Predict\\Data\\Images\\Luke_Barnatt.png\n"
     ]
    },
    {
     "name": "stderr",
     "output_type": "stream",
     "text": [
      "Downloading Fighter Images:   6%|▌         | 256/4248 [05:13<3:27:16,  3.12s/it]"
     ]
    },
    {
     "name": "stdout",
     "output_type": "stream",
     "text": [
      "Image successfully downloaded for James Barnes: C:\\Users\\palet\\OneDrive\\Desktop\\UNI_FINAL\\Git\\MMA-Predict\\Data\\Images\\James_Barnes.png\n"
     ]
    },
    {
     "name": "stderr",
     "output_type": "stream",
     "text": [
      "Downloading Fighter Images:   6%|▌         | 257/4248 [05:13<2:32:14,  2.29s/it]"
     ]
    },
    {
     "name": "stdout",
     "output_type": "stream",
     "text": [
      "No image found for Nick Barnes at https://www.ufc.com/athlete/nick-barnes\n"
     ]
    },
    {
     "name": "stderr",
     "output_type": "stream",
     "text": [
      "Downloading Fighter Images:   6%|▌         | 258/4248 [05:19<3:43:56,  3.37s/it]"
     ]
    },
    {
     "name": "stdout",
     "output_type": "stream",
     "text": [
      "Image successfully downloaded for Shonte Barnes: C:\\Users\\palet\\OneDrive\\Desktop\\UNI_FINAL\\Git\\MMA-Predict\\Data\\Images\\Shonte_Barnes.png\n"
     ]
    },
    {
     "name": "stderr",
     "output_type": "stream",
     "text": [
      "Downloading Fighter Images:   6%|▌         | 259/4248 [05:22<3:37:09,  3.27s/it]"
     ]
    },
    {
     "name": "stdout",
     "output_type": "stream",
     "text": [
      "Image successfully downloaded for Josh Barnett: C:\\Users\\palet\\OneDrive\\Desktop\\UNI_FINAL\\Git\\MMA-Predict\\Data\\Images\\Josh_Barnett.png\n"
     ]
    },
    {
     "name": "stderr",
     "output_type": "stream",
     "text": [
      "Downloading Fighter Images:   6%|▌         | 260/4248 [05:25<3:22:43,  3.05s/it]"
     ]
    },
    {
     "name": "stdout",
     "output_type": "stream",
     "text": [
      "Image successfully downloaded for Chris Barnett: C:\\Users\\palet\\OneDrive\\Desktop\\UNI_FINAL\\Git\\MMA-Predict\\Data\\Images\\Chris_Barnett.png\n"
     ]
    },
    {
     "name": "stderr",
     "output_type": "stream",
     "text": [
      "Downloading Fighter Images:   6%|▌         | 261/4248 [05:29<3:46:17,  3.41s/it]"
     ]
    },
    {
     "name": "stdout",
     "output_type": "stream",
     "text": [
      "No image found for Chris Barnhizer at https://www.ufc.com/athlete/chris-barnhizer\n"
     ]
    },
    {
     "name": "stderr",
     "output_type": "stream",
     "text": [
      "Downloading Fighter Images:   6%|▌         | 262/4248 [05:31<3:18:18,  2.98s/it]"
     ]
    },
    {
     "name": "stdout",
     "output_type": "stream",
     "text": [
      "No image found for David Baron at https://www.ufc.com/athlete/david-baron\n"
     ]
    },
    {
     "name": "stderr",
     "output_type": "stream",
     "text": [
      "Downloading Fighter Images:   6%|▌         | 263/4248 [05:33<3:00:39,  2.72s/it]"
     ]
    },
    {
     "name": "stdout",
     "output_type": "stream",
     "text": [
      "No image found for Phil Baroni at https://www.ufc.com/athlete/phil-baroni\n"
     ]
    },
    {
     "name": "stderr",
     "output_type": "stream",
     "text": [
      "Downloading Fighter Images:   6%|▌         | 264/4248 [05:35<2:46:54,  2.51s/it]"
     ]
    },
    {
     "name": "stdout",
     "output_type": "stream",
     "text": [
      "No image found for Dan Barrera at https://www.ufc.com/athlete/dan-barrera\n"
     ]
    },
    {
     "name": "stderr",
     "output_type": "stream",
     "text": [
      "Downloading Fighter Images:   6%|▌         | 265/4248 [05:36<2:04:23,  1.87s/it]"
     ]
    },
    {
     "name": "stdout",
     "output_type": "stream",
     "text": [
      "No image found for Carlos Barreto at https://www.ufc.com/athlete/carlos-barreto\n"
     ]
    },
    {
     "name": "stderr",
     "output_type": "stream",
     "text": [
      "Downloading Fighter Images:   6%|▋         | 266/4248 [05:36<1:37:13,  1.46s/it]"
     ]
    },
    {
     "name": "stdout",
     "output_type": "stream",
     "text": [
      "Error fetching data for Jose Barreto: 403 Client Error: Forbidden for url: https://www.ufc.com/athlete/jose-barreto\n"
     ]
    },
    {
     "name": "stderr",
     "output_type": "stream",
     "text": [
      "Downloading Fighter Images:   6%|▋         | 267/4248 [05:39<2:11:53,  1.99s/it]"
     ]
    },
    {
     "name": "stdout",
     "output_type": "stream",
     "text": [
      "Image successfully downloaded for Peter Barrett: C:\\Users\\palet\\OneDrive\\Desktop\\UNI_FINAL\\Git\\MMA-Predict\\Data\\Images\\Peter_Barrett.png\n"
     ]
    },
    {
     "name": "stderr",
     "output_type": "stream",
     "text": [
      "Downloading Fighter Images:   6%|▋         | 268/4248 [05:42<2:30:34,  2.27s/it]"
     ]
    },
    {
     "name": "stdout",
     "output_type": "stream",
     "text": [
      "Image successfully downloaded for Marc-Andre Barriault: C:\\Users\\palet\\OneDrive\\Desktop\\UNI_FINAL\\Git\\MMA-Predict\\Data\\Images\\Marc-Andre_Barriault.png\n"
     ]
    },
    {
     "name": "stderr",
     "output_type": "stream",
     "text": [
      "Downloading Fighter Images:   6%|▋         | 269/4248 [05:47<3:18:19,  2.99s/it]"
     ]
    },
    {
     "name": "stdout",
     "output_type": "stream",
     "text": [
      "No image found for David Barrios at https://www.ufc.com/athlete/david-barrios\n"
     ]
    },
    {
     "name": "stderr",
     "output_type": "stream",
     "text": [
      "Downloading Fighter Images:   6%|▋         | 270/4248 [05:49<2:54:29,  2.63s/it]"
     ]
    },
    {
     "name": "stdout",
     "output_type": "stream",
     "text": [
      "No image found for Alexandre Barros at https://www.ufc.com/athlete/alexandre-barros\n"
     ]
    },
    {
     "name": "stderr",
     "output_type": "stream",
     "text": [
      "Downloading Fighter Images:   6%|▋         | 271/4248 [05:53<3:31:37,  3.19s/it]"
     ]
    },
    {
     "name": "stdout",
     "output_type": "stream",
     "text": [
      "No image found for Ricardo Barros at https://www.ufc.com/athlete/ricardo-barros\n"
     ]
    },
    {
     "name": "stderr",
     "output_type": "stream",
     "text": [
      "Downloading Fighter Images:   6%|▋         | 272/4248 [05:56<3:20:33,  3.03s/it]"
     ]
    },
    {
     "name": "stdout",
     "output_type": "stream",
     "text": [
      "Image successfully downloaded for Francimar Barroso: C:\\Users\\palet\\OneDrive\\Desktop\\UNI_FINAL\\Git\\MMA-Predict\\Data\\Images\\Francimar_Barroso.png\n"
     ]
    },
    {
     "name": "stderr",
     "output_type": "stream",
     "text": [
      "Downloading Fighter Images:   6%|▋         | 273/4248 [05:59<3:28:23,  3.15s/it]"
     ]
    },
    {
     "name": "stdout",
     "output_type": "stream",
     "text": [
      "Image successfully downloaded for Pat Barry: C:\\Users\\palet\\OneDrive\\Desktop\\UNI_FINAL\\Git\\MMA-Predict\\Data\\Images\\Pat_Barry.png\n"
     ]
    },
    {
     "name": "stderr",
     "output_type": "stream",
     "text": [
      "Downloading Fighter Images:   6%|▋         | 274/4248 [06:02<3:15:04,  2.95s/it]"
     ]
    },
    {
     "name": "stdout",
     "output_type": "stream",
     "text": [
      "Image successfully downloaded for Dean Barry: C:\\Users\\palet\\OneDrive\\Desktop\\UNI_FINAL\\Git\\MMA-Predict\\Data\\Images\\Dean_Barry.png\n"
     ]
    },
    {
     "name": "stderr",
     "output_type": "stream",
     "text": [
      "Downloading Fighter Images:   6%|▋         | 275/4248 [06:04<3:07:53,  2.84s/it]"
     ]
    },
    {
     "name": "stdout",
     "output_type": "stream",
     "text": [
      "Image successfully downloaded for Enrique Barzola: C:\\Users\\palet\\OneDrive\\Desktop\\UNI_FINAL\\Git\\MMA-Predict\\Data\\Images\\Enrique_Barzola.png\n"
     ]
    },
    {
     "name": "stderr",
     "output_type": "stream",
     "text": [
      "Downloading Fighter Images:   6%|▋         | 276/4248 [06:07<3:07:20,  2.83s/it]"
     ]
    },
    {
     "name": "stdout",
     "output_type": "stream",
     "text": [
      "Image successfully downloaded for Javid Basharat: C:\\Users\\palet\\OneDrive\\Desktop\\UNI_FINAL\\Git\\MMA-Predict\\Data\\Images\\Javid_Basharat.png\n"
     ]
    },
    {
     "name": "stderr",
     "output_type": "stream",
     "text": [
      "Downloading Fighter Images:   7%|▋         | 277/4248 [06:10<3:08:15,  2.84s/it]"
     ]
    },
    {
     "name": "stdout",
     "output_type": "stream",
     "text": [
      "Image successfully downloaded for Farid Basharat: C:\\Users\\palet\\OneDrive\\Desktop\\UNI_FINAL\\Git\\MMA-Predict\\Data\\Images\\Farid_Basharat.png\n"
     ]
    },
    {
     "name": "stderr",
     "output_type": "stream",
     "text": [
      "Downloading Fighter Images:   7%|▋         | 278/4248 [06:10<2:18:40,  2.10s/it]"
     ]
    },
    {
     "name": "stdout",
     "output_type": "stream",
     "text": [
      "Image successfully downloaded for Austin Bashi: C:\\Users\\palet\\OneDrive\\Desktop\\UNI_FINAL\\Git\\MMA-Predict\\Data\\Images\\Austin_Bashi.png\n"
     ]
    },
    {
     "name": "stderr",
     "output_type": "stream",
     "text": [
      "Downloading Fighter Images:   7%|▋         | 279/4248 [06:12<2:16:16,  2.06s/it]"
     ]
    },
    {
     "name": "stdout",
     "output_type": "stream",
     "text": [
      "No image found for Stephen Bass at https://www.ufc.com/athlete/stephen-bass\n"
     ]
    },
    {
     "name": "stderr",
     "output_type": "stream",
     "text": [
      "Downloading Fighter Images:   7%|▋         | 280/4248 [06:17<3:09:53,  2.87s/it]"
     ]
    },
    {
     "name": "stdout",
     "output_type": "stream",
     "text": [
      "No image found for Sean Bassett at https://www.ufc.com/athlete/sean-bassett\n"
     ]
    },
    {
     "name": "stderr",
     "output_type": "stream",
     "text": [
      "Downloading Fighter Images:   7%|▋         | 281/4248 [06:22<3:47:51,  3.45s/it]"
     ]
    },
    {
     "name": "stdout",
     "output_type": "stream",
     "text": [
      "No image found for Ryan Bastianelli at https://www.ufc.com/athlete/ryan-bastianelli\n"
     ]
    },
    {
     "name": "stderr",
     "output_type": "stream",
     "text": [
      "Downloading Fighter Images:   7%|▋         | 282/4248 [06:24<3:18:19,  3.00s/it]"
     ]
    },
    {
     "name": "stdout",
     "output_type": "stream",
     "text": [
      "Image successfully downloaded for Shayna Baszler: C:\\Users\\palet\\OneDrive\\Desktop\\UNI_FINAL\\Git\\MMA-Predict\\Data\\Images\\Shayna_Baszler.png\n"
     ]
    },
    {
     "name": "stderr",
     "output_type": "stream",
     "text": [
      "Downloading Fighter Images:   7%|▋         | 283/4248 [06:27<3:17:35,  2.99s/it]"
     ]
    },
    {
     "name": "stdout",
     "output_type": "stream",
     "text": [
      "Image successfully downloaded for Michel Batista: C:\\Users\\palet\\OneDrive\\Desktop\\UNI_FINAL\\Git\\MMA-Predict\\Data\\Images\\Michel_Batista.png\n"
     ]
    },
    {
     "name": "stderr",
     "output_type": "stream",
     "text": [
      "Downloading Fighter Images:   7%|▋         | 284/4248 [06:28<2:38:51,  2.40s/it]"
     ]
    },
    {
     "name": "stdout",
     "output_type": "stream",
     "text": [
      "Image successfully downloaded for Bryan Battle: C:\\Users\\palet\\OneDrive\\Desktop\\UNI_FINAL\\Git\\MMA-Predict\\Data\\Images\\Bryan_Battle.png\n"
     ]
    },
    {
     "name": "stderr",
     "output_type": "stream",
     "text": [
      "Downloading Fighter Images:   7%|▋         | 285/4248 [06:31<2:46:55,  2.53s/it]"
     ]
    },
    {
     "name": "stdout",
     "output_type": "stream",
     "text": [
      "Image successfully downloaded for Alan Baudot: C:\\Users\\palet\\OneDrive\\Desktop\\UNI_FINAL\\Git\\MMA-Predict\\Data\\Images\\Alan_Baudot.png\n"
     ]
    },
    {
     "name": "stderr",
     "output_type": "stream",
     "text": [
      "Downloading Fighter Images:   7%|▋         | 286/4248 [06:33<2:45:16,  2.50s/it]"
     ]
    },
    {
     "name": "stdout",
     "output_type": "stream",
     "text": [
      "Image successfully downloaded for Mario Bautista: C:\\Users\\palet\\OneDrive\\Desktop\\UNI_FINAL\\Git\\MMA-Predict\\Data\\Images\\Mario_Bautista.png\n"
     ]
    },
    {
     "name": "stderr",
     "output_type": "stream",
     "text": [
      "Downloading Fighter Images:   7%|▋         | 287/4248 [06:36<2:50:54,  2.59s/it]"
     ]
    },
    {
     "name": "stdout",
     "output_type": "stream",
     "text": [
      "Image successfully downloaded for Chris Beal: C:\\Users\\palet\\OneDrive\\Desktop\\UNI_FINAL\\Git\\MMA-Predict\\Data\\Images\\Chris_Beal.png\n"
     ]
    },
    {
     "name": "stderr",
     "output_type": "stream",
     "text": [
      "Downloading Fighter Images:   7%|▋         | 288/4248 [06:41<3:39:48,  3.33s/it]"
     ]
    },
    {
     "name": "stdout",
     "output_type": "stream",
     "text": [
      "Image successfully downloaded for Donovan Beard: C:\\Users\\palet\\OneDrive\\Desktop\\UNI_FINAL\\Git\\MMA-Predict\\Data\\Images\\Donovan_Beard.png\n"
     ]
    },
    {
     "name": "stderr",
     "output_type": "stream",
     "text": [
      "Downloading Fighter Images:   7%|▋         | 289/4248 [06:45<4:01:19,  3.66s/it]"
     ]
    },
    {
     "name": "stdout",
     "output_type": "stream",
     "text": [
      "No image found for Rudy Bears at https://www.ufc.com/athlete/rudy-bears\n"
     ]
    },
    {
     "name": "stderr",
     "output_type": "stream",
     "text": [
      "Downloading Fighter Images:   7%|▋         | 290/4248 [06:46<3:00:54,  2.74s/it]"
     ]
    },
    {
     "name": "stdout",
     "output_type": "stream",
     "text": [
      "Error fetching data for Salvador Becerra: 403 Client Error: Forbidden for url: https://www.ufc.com/athlete/salvador-becerra\n"
     ]
    },
    {
     "name": "stderr",
     "output_type": "stream",
     "text": [
      "Downloading Fighter Images:   7%|▋         | 291/4248 [06:48<2:53:07,  2.63s/it]"
     ]
    },
    {
     "name": "stdout",
     "output_type": "stream",
     "text": [
      "Image successfully downloaded for Ariel Beck: C:\\Users\\palet\\OneDrive\\Desktop\\UNI_FINAL\\Git\\MMA-Predict\\Data\\Images\\Ariel_Beck.png\n"
     ]
    },
    {
     "name": "stderr",
     "output_type": "stream",
     "text": [
      "Downloading Fighter Images:   7%|▋         | 292/4248 [06:53<3:29:21,  3.18s/it]"
     ]
    },
    {
     "name": "stdout",
     "output_type": "stream",
     "text": [
      "No image found for Jeff Bedard at https://www.ufc.com/athlete/jeff-bedard\n"
     ]
    },
    {
     "name": "stderr",
     "output_type": "stream",
     "text": [
      "Downloading Fighter Images:   7%|▋         | 293/4248 [06:53<2:36:01,  2.37s/it]"
     ]
    },
    {
     "name": "stdout",
     "output_type": "stream",
     "text": [
      "Error fetching data for Eric Bedard: 403 Client Error: Forbidden for url: https://www.ufc.com/athlete/eric-bedard\n"
     ]
    },
    {
     "name": "stderr",
     "output_type": "stream",
     "text": [
      "Downloading Fighter Images:   7%|▋         | 294/4248 [06:56<2:34:39,  2.35s/it]"
     ]
    },
    {
     "name": "stdout",
     "output_type": "stream",
     "text": [
      "Image successfully downloaded for Johnny Bedford: C:\\Users\\palet\\OneDrive\\Desktop\\UNI_FINAL\\Git\\MMA-Predict\\Data\\Images\\Johnny_Bedford.png\n"
     ]
    },
    {
     "name": "stderr",
     "output_type": "stream",
     "text": [
      "Downloading Fighter Images:   7%|▋         | 295/4248 [06:58<2:31:34,  2.30s/it]"
     ]
    },
    {
     "name": "stdout",
     "output_type": "stream",
     "text": [
      "Image successfully downloaded for Rolando Bedoya: C:\\Users\\palet\\OneDrive\\Desktop\\UNI_FINAL\\Git\\MMA-Predict\\Data\\Images\\Rolando_Bedoya.png\n"
     ]
    },
    {
     "name": "stderr",
     "output_type": "stream",
     "text": [
      "Downloading Fighter Images:   7%|▋         | 296/4248 [07:02<3:14:15,  2.95s/it]"
     ]
    },
    {
     "name": "stdout",
     "output_type": "stream",
     "text": [
      "No image found for Chase Beebe at https://www.ufc.com/athlete/chase-beebe\n"
     ]
    },
    {
     "name": "stderr",
     "output_type": "stream",
     "text": [
      "Downloading Fighter Images:   7%|▋         | 297/4248 [07:07<3:46:13,  3.44s/it]"
     ]
    },
    {
     "name": "stdout",
     "output_type": "stream",
     "text": [
      "No image found for Lyle Beerbohm at https://www.ufc.com/athlete/lyle-beerbohm\n"
     ]
    },
    {
     "name": "stderr",
     "output_type": "stream",
     "text": [
      "Downloading Fighter Images:   7%|▋         | 298/4248 [07:12<4:25:01,  4.03s/it]"
     ]
    },
    {
     "name": "stdout",
     "output_type": "stream",
     "text": [
      "Image successfully downloaded for Allan Begosso: C:\\Users\\palet\\OneDrive\\Desktop\\UNI_FINAL\\Git\\MMA-Predict\\Data\\Images\\Allan_Begosso.png\n"
     ]
    },
    {
     "name": "stderr",
     "output_type": "stream",
     "text": [
      "Downloading Fighter Images:   7%|▋         | 299/4248 [07:16<4:14:12,  3.86s/it]"
     ]
    },
    {
     "name": "stdout",
     "output_type": "stream",
     "text": [
      "Image successfully downloaded for Mirsad Bektic: C:\\Users\\palet\\OneDrive\\Desktop\\UNI_FINAL\\Git\\MMA-Predict\\Data\\Images\\Mirsad_Bektic.png\n"
     ]
    },
    {
     "name": "stderr",
     "output_type": "stream",
     "text": [
      "Downloading Fighter Images:   7%|▋         | 300/4248 [07:18<3:44:55,  3.42s/it]"
     ]
    },
    {
     "name": "stdout",
     "output_type": "stream",
     "text": [
      "Image successfully downloaded for Diana Belbita: C:\\Users\\palet\\OneDrive\\Desktop\\UNI_FINAL\\Git\\MMA-Predict\\Data\\Images\\Diana_Belbita.png\n"
     ]
    },
    {
     "name": "stderr",
     "output_type": "stream",
     "text": [
      "Downloading Fighter Images:   7%|▋         | 301/4248 [07:20<3:24:08,  3.10s/it]"
     ]
    },
    {
     "name": "stdout",
     "output_type": "stream",
     "text": [
      "No image found for Alan Belcher at https://www.ufc.com/athlete/alan-belcher\n"
     ]
    },
    {
     "name": "stderr",
     "output_type": "stream",
     "text": [
      "Downloading Fighter Images:   7%|▋         | 302/4248 [07:23<3:15:08,  2.97s/it]"
     ]
    },
    {
     "name": "stdout",
     "output_type": "stream",
     "text": [
      "Image successfully downloaded for Vitor Belfort: C:\\Users\\palet\\OneDrive\\Desktop\\UNI_FINAL\\Git\\MMA-Predict\\Data\\Images\\Vitor_Belfort.png\n"
     ]
    },
    {
     "name": "stderr",
     "output_type": "stream",
     "text": [
      "Downloading Fighter Images:   7%|▋         | 303/4248 [07:28<3:50:30,  3.51s/it]"
     ]
    },
    {
     "name": "stdout",
     "output_type": "stream",
     "text": [
      "No image found for Yousri Belgaroui at https://www.ufc.com/athlete/yousri-belgaroui\n"
     ]
    },
    {
     "name": "stderr",
     "output_type": "stream",
     "text": [
      "Downloading Fighter Images:   7%|▋         | 304/4248 [07:30<3:22:20,  3.08s/it]"
     ]
    },
    {
     "name": "stdout",
     "output_type": "stream",
     "text": [
      "Image successfully downloaded for Rodolfo Bellato: C:\\Users\\palet\\OneDrive\\Desktop\\UNI_FINAL\\Git\\MMA-Predict\\Data\\Images\\Rodolfo_Bellato.png\n"
     ]
    },
    {
     "name": "stderr",
     "output_type": "stream",
     "text": [
      "Downloading Fighter Images:   7%|▋         | 305/4248 [07:32<3:10:38,  2.90s/it]"
     ]
    },
    {
     "name": "stdout",
     "output_type": "stream",
     "text": [
      "Image successfully downloaded for Danilo Belluardo: C:\\Users\\palet\\OneDrive\\Desktop\\UNI_FINAL\\Git\\MMA-Predict\\Data\\Images\\Danilo_Belluardo.png\n"
     ]
    },
    {
     "name": "stderr",
     "output_type": "stream",
     "text": [
      "Downloading Fighter Images:   7%|▋         | 306/4248 [07:36<3:25:33,  3.13s/it]"
     ]
    },
    {
     "name": "stdout",
     "output_type": "stream",
     "text": [
      "Image successfully downloaded for Joey Beltran: C:\\Users\\palet\\OneDrive\\Desktop\\UNI_FINAL\\Git\\MMA-Predict\\Data\\Images\\Joey_Beltran.png\n"
     ]
    },
    {
     "name": "stderr",
     "output_type": "stream",
     "text": [
      "Downloading Fighter Images:   7%|▋         | 307/4248 [07:36<2:30:14,  2.29s/it]"
     ]
    },
    {
     "name": "stdout",
     "output_type": "stream",
     "text": [
      "Image successfully downloaded for Marco Beltran: C:\\Users\\palet\\OneDrive\\Desktop\\UNI_FINAL\\Git\\MMA-Predict\\Data\\Images\\Marco_Beltran.png\n"
     ]
    },
    {
     "name": "stderr",
     "output_type": "stream",
     "text": [
      "Downloading Fighter Images:   7%|▋         | 308/4248 [07:39<2:38:02,  2.41s/it]"
     ]
    },
    {
     "name": "stdout",
     "output_type": "stream",
     "text": [
      "Image successfully downloaded for Joseph Benavidez: C:\\Users\\palet\\OneDrive\\Desktop\\UNI_FINAL\\Git\\MMA-Predict\\Data\\Images\\Joseph_Benavidez.png\n"
     ]
    },
    {
     "name": "stderr",
     "output_type": "stream",
     "text": [
      "Downloading Fighter Images:   7%|▋         | 309/4248 [07:43<3:16:23,  2.99s/it]"
     ]
    },
    {
     "name": "stdout",
     "output_type": "stream",
     "text": [
      "No image found for Mike Bencic at https://www.ufc.com/athlete/mike-bencic\n"
     ]
    },
    {
     "name": "stderr",
     "output_type": "stream",
     "text": [
      "Downloading Fighter Images:   7%|▋         | 310/4248 [07:45<2:52:46,  2.63s/it]"
     ]
    },
    {
     "name": "stdout",
     "output_type": "stream",
     "text": [
      "No image found for Dave Beneteau at https://www.ufc.com/athlete/dave-beneteau\n"
     ]
    },
    {
     "name": "stderr",
     "output_type": "stream",
     "text": [
      "Downloading Fighter Images:   7%|▋         | 311/4248 [07:46<2:10:56,  2.00s/it]"
     ]
    },
    {
     "name": "stdout",
     "output_type": "stream",
     "text": [
      "Error fetching data for Karla Benitez: 403 Client Error: Forbidden for url: https://www.ufc.com/athlete/karla-benitez\n"
     ]
    },
    {
     "name": "stderr",
     "output_type": "stream",
     "text": [
      "Downloading Fighter Images:   7%|▋         | 312/4248 [07:49<2:41:52,  2.47s/it]"
     ]
    },
    {
     "name": "stdout",
     "output_type": "stream",
     "text": [
      "Image successfully downloaded for Gabriel Benitez: C:\\Users\\palet\\OneDrive\\Desktop\\UNI_FINAL\\Git\\MMA-Predict\\Data\\Images\\Gabriel_Benitez.png\n"
     ]
    },
    {
     "name": "stderr",
     "output_type": "stream",
     "text": [
      "Downloading Fighter Images:   7%|▋         | 313/4248 [07:54<3:19:28,  3.04s/it]"
     ]
    },
    {
     "name": "stdout",
     "output_type": "stream",
     "text": [
      "No image found for Charles Bennett at https://www.ufc.com/athlete/charles-bennett\n"
     ]
    },
    {
     "name": "stderr",
     "output_type": "stream",
     "text": [
      "Downloading Fighter Images:   7%|▋         | 314/4248 [07:58<3:46:26,  3.45s/it]"
     ]
    },
    {
     "name": "stdout",
     "output_type": "stream",
     "text": [
      "No image found for Josh Bennett at https://www.ufc.com/athlete/josh-bennett\n"
     ]
    },
    {
     "name": "stderr",
     "output_type": "stream",
     "text": [
      "Downloading Fighter Images:   7%|▋         | 315/4248 [08:01<3:37:52,  3.32s/it]"
     ]
    },
    {
     "name": "stdout",
     "output_type": "stream",
     "text": [
      "Image successfully downloaded for DeAnna Bennett: C:\\Users\\palet\\OneDrive\\Desktop\\UNI_FINAL\\Git\\MMA-Predict\\Data\\Images\\DeAnna_Bennett.png\n"
     ]
    },
    {
     "name": "stderr",
     "output_type": "stream",
     "text": [
      "Downloading Fighter Images:   7%|▋         | 316/4248 [08:01<2:37:46,  2.41s/it]"
     ]
    },
    {
     "name": "stdout",
     "output_type": "stream",
     "text": [
      "No image found for Benjamin Bennett at https://www.ufc.com/athlete/benjamin-bennett\n"
     ]
    },
    {
     "name": "stderr",
     "output_type": "stream",
     "text": [
      "Downloading Fighter Images:   7%|▋         | 317/4248 [08:04<2:47:30,  2.56s/it]"
     ]
    },
    {
     "name": "stdout",
     "output_type": "stream",
     "text": [
      "Image successfully downloaded for Lance Benoist: C:\\Users\\palet\\OneDrive\\Desktop\\UNI_FINAL\\Git\\MMA-Predict\\Data\\Images\\Lance_Benoist.png\n"
     ]
    },
    {
     "name": "stderr",
     "output_type": "stream",
     "text": [
      "Downloading Fighter Images:   7%|▋         | 318/4248 [08:09<3:25:21,  3.14s/it]"
     ]
    },
    {
     "name": "stdout",
     "output_type": "stream",
     "text": [
      "No image found for Joe Benoit at https://www.ufc.com/athlete/joe-benoit\n"
     ]
    },
    {
     "name": "stderr",
     "output_type": "stream",
     "text": [
      "Downloading Fighter Images:   8%|▊         | 319/4248 [08:12<3:30:29,  3.21s/it]"
     ]
    },
    {
     "name": "stdout",
     "output_type": "stream",
     "text": [
      "Image successfully downloaded for Ryan Benoit: C:\\Users\\palet\\OneDrive\\Desktop\\UNI_FINAL\\Git\\MMA-Predict\\Data\\Images\\Ryan_Benoit.png\n"
     ]
    },
    {
     "name": "stderr",
     "output_type": "stream",
     "text": [
      "Downloading Fighter Images:   8%|▊         | 320/4248 [08:17<3:52:32,  3.55s/it]"
     ]
    },
    {
     "name": "stdout",
     "output_type": "stream",
     "text": [
      "No image found for Pat Benson at https://www.ufc.com/athlete/pat-benson\n"
     ]
    },
    {
     "name": "stderr",
     "output_type": "stream",
     "text": [
      "Downloading Fighter Images:   8%|▊         | 321/4248 [08:21<4:16:57,  3.93s/it]"
     ]
    },
    {
     "name": "stdout",
     "output_type": "stream",
     "text": [
      "No image found for Len Bentley at https://www.ufc.com/athlete/len-bentley\n"
     ]
    },
    {
     "name": "stderr",
     "output_type": "stream",
     "text": [
      "Downloading Fighter Images:   8%|▊         | 322/4248 [08:23<3:37:18,  3.32s/it]"
     ]
    },
    {
     "name": "stdout",
     "output_type": "stream",
     "text": [
      "No image found for Steve Berger at https://www.ufc.com/athlete/steve-berger\n"
     ]
    },
    {
     "name": "stderr",
     "output_type": "stream",
     "text": [
      "Downloading Fighter Images:   8%|▊         | 323/4248 [08:28<4:05:38,  3.76s/it]"
     ]
    },
    {
     "name": "stdout",
     "output_type": "stream",
     "text": [
      "Image successfully downloaded for Kenneth Bergh: C:\\Users\\palet\\OneDrive\\Desktop\\UNI_FINAL\\Git\\MMA-Predict\\Data\\Images\\Kenneth_Bergh.png\n"
     ]
    },
    {
     "name": "stderr",
     "output_type": "stream",
     "text": [
      "Downloading Fighter Images:   8%|▊         | 324/4248 [08:32<4:15:11,  3.90s/it]"
     ]
    },
    {
     "name": "stdout",
     "output_type": "stream",
     "text": [
      "No image found for Bret Bergmark at https://www.ufc.com/athlete/bret-bergmark\n"
     ]
    },
    {
     "name": "stderr",
     "output_type": "stream",
     "text": [
      "Downloading Fighter Images:   8%|▊         | 325/4248 [08:35<3:54:59,  3.59s/it]"
     ]
    },
    {
     "name": "stdout",
     "output_type": "stream",
     "text": [
      "Image successfully downloaded for Keith Berish: C:\\Users\\palet\\OneDrive\\Desktop\\UNI_FINAL\\Git\\MMA-Predict\\Data\\Images\\Keith_Berish.png\n"
     ]
    },
    {
     "name": "stderr",
     "output_type": "stream",
     "text": [
      "Downloading Fighter Images:   8%|▊         | 326/4248 [08:39<4:01:09,  3.69s/it]"
     ]
    },
    {
     "name": "stdout",
     "output_type": "stream",
     "text": [
      "Image successfully downloaded for Dennis Bermudez: C:\\Users\\palet\\OneDrive\\Desktop\\UNI_FINAL\\Git\\MMA-Predict\\Data\\Images\\Dennis_Bermudez.png\n"
     ]
    },
    {
     "name": "stderr",
     "output_type": "stream",
     "text": [
      "Downloading Fighter Images:   8%|▊         | 327/4248 [08:42<3:44:29,  3.44s/it]"
     ]
    },
    {
     "name": "stdout",
     "output_type": "stream",
     "text": [
      "Image successfully downloaded for Manny Bermudez: C:\\Users\\palet\\OneDrive\\Desktop\\UNI_FINAL\\Git\\MMA-Predict\\Data\\Images\\Manny_Bermudez.png\n"
     ]
    },
    {
     "name": "stderr",
     "output_type": "stream",
     "text": [
      "Downloading Fighter Images:   8%|▊         | 328/4248 [08:44<3:26:12,  3.16s/it]"
     ]
    },
    {
     "name": "stdout",
     "output_type": "stream",
     "text": [
      "Image successfully downloaded for Talita Bernardo: C:\\Users\\palet\\OneDrive\\Desktop\\UNI_FINAL\\Git\\MMA-Predict\\Data\\Images\\Talita_Bernardo.png\n"
     ]
    },
    {
     "name": "stderr",
     "output_type": "stream",
     "text": [
      "Downloading Fighter Images:   8%|▊         | 329/4248 [08:46<3:04:59,  2.83s/it]"
     ]
    },
    {
     "name": "stdout",
     "output_type": "stream",
     "text": [
      "No image found for Dave Berry at https://www.ufc.com/athlete/dave-berry\n"
     ]
    },
    {
     "name": "stderr",
     "output_type": "stream",
     "text": [
      "Downloading Fighter Images:   8%|▊         | 330/4248 [08:51<3:32:13,  3.25s/it]"
     ]
    },
    {
     "name": "stdout",
     "output_type": "stream",
     "text": [
      "No image found for Keith Berry at https://www.ufc.com/athlete/keith-berry\n"
     ]
    },
    {
     "name": "stderr",
     "output_type": "stream",
     "text": [
      "Downloading Fighter Images:   8%|▊         | 331/4248 [08:53<3:09:53,  2.91s/it]"
     ]
    },
    {
     "name": "stdout",
     "output_type": "stream",
     "text": [
      "No image found for Dieusel Berto at https://www.ufc.com/athlete/dieusel-berto\n"
     ]
    },
    {
     "name": "stderr",
     "output_type": "stream",
     "text": [
      "Downloading Fighter Images:   8%|▊         | 332/4248 [08:57<3:34:32,  3.29s/it]"
     ]
    },
    {
     "name": "stdout",
     "output_type": "stream",
     "text": [
      "No image found for Edson Berto at https://www.ufc.com/athlete/edson-berto\n"
     ]
    },
    {
     "name": "stderr",
     "output_type": "stream",
     "text": [
      "Downloading Fighter Images:   8%|▊         | 333/4248 [08:59<3:05:08,  2.84s/it]"
     ]
    },
    {
     "name": "stdout",
     "output_type": "stream",
     "text": [
      "No image found for Allen Berube at https://www.ufc.com/athlete/allen-berube\n"
     ]
    },
    {
     "name": "stderr",
     "output_type": "stream",
     "text": [
      "Downloading Fighter Images:   8%|▊         | 334/4248 [09:04<3:43:49,  3.43s/it]"
     ]
    },
    {
     "name": "stdout",
     "output_type": "stream",
     "text": [
      "Image successfully downloaded for Anton Berzin: C:\\Users\\palet\\OneDrive\\Desktop\\UNI_FINAL\\Git\\MMA-Predict\\Data\\Images\\Anton_Berzin.png\n"
     ]
    },
    {
     "name": "stderr",
     "output_type": "stream",
     "text": [
      "Downloading Fighter Images:   8%|▊         | 335/4248 [09:06<3:15:40,  3.00s/it]"
     ]
    },
    {
     "name": "stdout",
     "output_type": "stream",
     "text": [
      "No image found for Scott Bessac at https://www.ufc.com/athlete/scott-bessac\n"
     ]
    },
    {
     "name": "stderr",
     "output_type": "stream",
     "text": [
      "Downloading Fighter Images:   8%|▊         | 336/4248 [09:08<3:10:38,  2.92s/it]"
     ]
    },
    {
     "name": "stdout",
     "output_type": "stream",
     "text": [
      "Image successfully downloaded for Matt Bessette: C:\\Users\\palet\\OneDrive\\Desktop\\UNI_FINAL\\Git\\MMA-Predict\\Data\\Images\\Matt_Bessette.png\n"
     ]
    },
    {
     "name": "stderr",
     "output_type": "stream",
     "text": [
      "Downloading Fighter Images:   8%|▊         | 337/4248 [09:09<2:20:13,  2.15s/it]"
     ]
    },
    {
     "name": "stdout",
     "output_type": "stream",
     "text": [
      "No image found for Khadzhi Bestaev at https://www.ufc.com/athlete/khadzhi-bestaev\n"
     ]
    },
    {
     "name": "stderr",
     "output_type": "stream",
     "text": [
      "Downloading Fighter Images:   8%|▊         | 338/4248 [09:13<3:00:47,  2.77s/it]"
     ]
    },
    {
     "name": "stdout",
     "output_type": "stream",
     "text": [
      "No image found for Fernando Bettega at https://www.ufc.com/athlete/fernando-bettega\n"
     ]
    },
    {
     "name": "stderr",
     "output_type": "stream",
     "text": [
      "Downloading Fighter Images:   8%|▊         | 339/4248 [09:13<2:11:54,  2.02s/it]"
     ]
    },
    {
     "name": "stdout",
     "output_type": "stream",
     "text": [
      "No image found for Arjan Bhullar at https://www.ufc.com/athlete/arjan-bhullar\n"
     ]
    },
    {
     "name": "stderr",
     "output_type": "stream",
     "text": [
      "Downloading Fighter Images:   8%|▊         | 340/4248 [09:16<2:28:31,  2.28s/it]"
     ]
    },
    {
     "name": "stdout",
     "output_type": "stream",
     "text": [
      "Image successfully downloaded for KB Bhullar: C:\\Users\\palet\\OneDrive\\Desktop\\UNI_FINAL\\Git\\MMA-Predict\\Data\\Images\\KB_Bhullar.png\n"
     ]
    },
    {
     "name": "stderr",
     "output_type": "stream",
     "text": [
      "Downloading Fighter Images:   8%|▊         | 341/4248 [09:16<1:50:50,  1.70s/it]"
     ]
    },
    {
     "name": "stdout",
     "output_type": "stream",
     "text": [
      "No image found for Bibulatov Magomed at https://www.ufc.com/athlete/bibulatov-magomed\n"
     ]
    },
    {
     "name": "stderr",
     "output_type": "stream",
     "text": [
      "Downloading Fighter Images:   8%|▊         | 342/4248 [09:19<2:07:11,  1.95s/it]"
     ]
    },
    {
     "name": "stdout",
     "output_type": "stream",
     "text": [
      "No image found for David Bielkheden at https://www.ufc.com/athlete/david-bielkheden\n"
     ]
    },
    {
     "name": "stderr",
     "output_type": "stream",
     "text": [
      "Downloading Fighter Images:   8%|▊         | 343/4248 [09:19<1:33:41,  1.44s/it]"
     ]
    },
    {
     "name": "stdout",
     "output_type": "stream",
     "text": [
      "Image successfully downloaded for Blake Bilder: C:\\Users\\palet\\OneDrive\\Desktop\\UNI_FINAL\\Git\\MMA-Predict\\Data\\Images\\Blake_Bilder.png\n"
     ]
    },
    {
     "name": "stderr",
     "output_type": "stream",
     "text": [
      "Downloading Fighter Images:   8%|▊         | 344/4248 [09:25<2:53:41,  2.67s/it]"
     ]
    },
    {
     "name": "stdout",
     "output_type": "stream",
     "text": [
      "Image successfully downloaded for Jonas Bilharinho: C:\\Users\\palet\\OneDrive\\Desktop\\UNI_FINAL\\Git\\MMA-Predict\\Data\\Images\\Jonas_Bilharinho.png\n"
     ]
    },
    {
     "name": "stderr",
     "output_type": "stream",
     "text": [
      "Downloading Fighter Images:   8%|▊         | 345/4248 [09:29<3:28:19,  3.20s/it]"
     ]
    },
    {
     "name": "stdout",
     "output_type": "stream",
     "text": [
      "No image found for Jeremiah Billington at https://www.ufc.com/athlete/jeremiah-billington\n"
     ]
    },
    {
     "name": "stderr",
     "output_type": "stream",
     "text": [
      "Downloading Fighter Images:   8%|▊         | 346/4248 [09:33<3:47:06,  3.49s/it]"
     ]
    },
    {
     "name": "stdout",
     "output_type": "stream",
     "text": [
      "No image found for Scott Bills at https://www.ufc.com/athlete/scott-bills\n"
     ]
    },
    {
     "name": "stderr",
     "output_type": "stream",
     "text": [
      "Downloading Fighter Images:   8%|▊         | 347/4248 [09:36<3:25:49,  3.17s/it]"
     ]
    },
    {
     "name": "stdout",
     "output_type": "stream",
     "text": [
      "Image successfully downloaded for Anthony Birchak: C:\\Users\\palet\\OneDrive\\Desktop\\UNI_FINAL\\Git\\MMA-Predict\\Data\\Images\\Anthony_Birchak.png\n"
     ]
    },
    {
     "name": "stderr",
     "output_type": "stream",
     "text": [
      "Downloading Fighter Images:   8%|▊         | 348/4248 [09:40<3:50:07,  3.54s/it]"
     ]
    },
    {
     "name": "stdout",
     "output_type": "stream",
     "text": [
      "No image found for Chris Birchler at https://www.ufc.com/athlete/chris-birchler\n"
     ]
    },
    {
     "name": "stderr",
     "output_type": "stream",
     "text": [
      "Downloading Fighter Images:   8%|▊         | 349/4248 [09:41<2:48:25,  2.59s/it]"
     ]
    },
    {
     "name": "stdout",
     "output_type": "stream",
     "text": [
      "No image found for Angad Bisht at https://www.ufc.com/athlete/angad-bisht\n"
     ]
    },
    {
     "name": "stderr",
     "output_type": "stream",
     "text": [
      "Downloading Fighter Images:   8%|▊         | 350/4248 [09:43<2:44:46,  2.54s/it]"
     ]
    },
    {
     "name": "stdout",
     "output_type": "stream",
     "text": [
      "Image successfully downloaded for Michael Bisping: C:\\Users\\palet\\OneDrive\\Desktop\\UNI_FINAL\\Git\\MMA-Predict\\Data\\Images\\Michael_Bisping.png\n"
     ]
    },
    {
     "name": "stderr",
     "output_type": "stream",
     "text": [
      "Downloading Fighter Images:   8%|▊         | 351/4248 [09:45<2:28:52,  2.29s/it]"
     ]
    },
    {
     "name": "stdout",
     "output_type": "stream",
     "text": [
      "No image found for Amaury Bitetti at https://www.ufc.com/athlete/amaury-bitetti\n"
     ]
    },
    {
     "name": "stderr",
     "output_type": "stream",
     "text": [
      "Downloading Fighter Images:   8%|▊         | 352/4248 [09:50<3:32:12,  3.27s/it]"
     ]
    },
    {
     "name": "stdout",
     "output_type": "stream",
     "text": [
      "Image successfully downloaded for Caio Bittencourt: C:\\Users\\palet\\OneDrive\\Desktop\\UNI_FINAL\\Git\\MMA-Predict\\Data\\Images\\Caio_Bittencourt.png\n"
     ]
    },
    {
     "name": "stderr",
     "output_type": "stream",
     "text": [
      "Downloading Fighter Images:   8%|▊         | 353/4248 [09:50<2:34:23,  2.38s/it]"
     ]
    },
    {
     "name": "stdout",
     "output_type": "stream",
     "text": [
      "No image found for Davi Bittencourt at https://www.ufc.com/athlete/davi-bittencourt\n"
     ]
    },
    {
     "name": "stderr",
     "output_type": "stream",
     "text": [
      "Downloading Fighter Images:   8%|▊         | 354/4248 [09:55<3:11:43,  2.95s/it]"
     ]
    },
    {
     "name": "stdout",
     "output_type": "stream",
     "text": [
      "No image found for Simon Biyong at https://www.ufc.com/athlete/simon-biyong\n"
     ]
    },
    {
     "name": "stderr",
     "output_type": "stream",
     "text": [
      "Downloading Fighter Images:   8%|▊         | 355/4248 [09:55<2:25:38,  2.24s/it]"
     ]
    },
    {
     "name": "stdout",
     "output_type": "stream",
     "text": [
      "Image successfully downloaded for Jan Blachowicz: C:\\Users\\palet\\OneDrive\\Desktop\\UNI_FINAL\\Git\\MMA-Predict\\Data\\Images\\Jan_Blachowicz.png\n"
     ]
    },
    {
     "name": "stderr",
     "output_type": "stream",
     "text": [
      "Downloading Fighter Images:   8%|▊         | 356/4248 [09:58<2:25:01,  2.24s/it]"
     ]
    },
    {
     "name": "stdout",
     "output_type": "stream",
     "text": [
      "No image found for Jason Black at https://www.ufc.com/athlete/jason-black\n"
     ]
    },
    {
     "name": "stderr",
     "output_type": "stream",
     "text": [
      "Downloading Fighter Images:   8%|▊         | 357/4248 [10:00<2:32:52,  2.36s/it]"
     ]
    },
    {
     "name": "stdout",
     "output_type": "stream",
     "text": [
      "No image found for Brad Blackburn at https://www.ufc.com/athlete/brad-blackburn\n"
     ]
    },
    {
     "name": "stderr",
     "output_type": "stream",
     "text": [
      "Downloading Fighter Images:   8%|▊         | 358/4248 [10:05<3:11:17,  2.95s/it]"
     ]
    },
    {
     "name": "stdout",
     "output_type": "stream",
     "text": [
      "No image found for Jason Blackford at https://www.ufc.com/athlete/jason-blackford\n"
     ]
    },
    {
     "name": "stderr",
     "output_type": "stream",
     "text": [
      "Downloading Fighter Images:   8%|▊         | 359/4248 [10:07<3:01:41,  2.80s/it]"
     ]
    },
    {
     "name": "stdout",
     "output_type": "stream",
     "text": [
      "No image found for Tom Blackledge at https://www.ufc.com/athlete/tom-blackledge\n"
     ]
    },
    {
     "name": "stderr",
     "output_type": "stream",
     "text": [
      "Downloading Fighter Images:   8%|▊         | 360/4248 [10:12<3:47:15,  3.51s/it]"
     ]
    },
    {
     "name": "stdout",
     "output_type": "stream",
     "text": [
      "Image successfully downloaded for Sherrard Blackledge: C:\\Users\\palet\\OneDrive\\Desktop\\UNI_FINAL\\Git\\MMA-Predict\\Data\\Images\\Sherrard_Blackledge.png\n"
     ]
    },
    {
     "name": "stderr",
     "output_type": "stream",
     "text": [
      "Downloading Fighter Images:   8%|▊         | 361/4248 [10:13<2:45:44,  2.56s/it]"
     ]
    },
    {
     "name": "stdout",
     "output_type": "stream",
     "text": [
      "No image found for Da'Mon Blackshear at https://www.ufc.com/athlete/da'mon-blackshear\n"
     ]
    },
    {
     "name": "stderr",
     "output_type": "stream",
     "text": [
      "Downloading Fighter Images:   9%|▊         | 362/4248 [10:13<2:02:36,  1.89s/it]"
     ]
    },
    {
     "name": "stdout",
     "output_type": "stream",
     "text": [
      "No image found for Chasen Blair at https://www.ufc.com/athlete/chasen-blair\n"
     ]
    },
    {
     "name": "stderr",
     "output_type": "stream",
     "text": [
      "Downloading Fighter Images:   9%|▊         | 363/4248 [10:16<2:18:18,  2.14s/it]"
     ]
    },
    {
     "name": "stdout",
     "output_type": "stream",
     "text": [
      "Image successfully downloaded for Erin Blanchfield: C:\\Users\\palet\\OneDrive\\Desktop\\UNI_FINAL\\Git\\MMA-Predict\\Data\\Images\\Erin_Blanchfield.png\n"
     ]
    },
    {
     "name": "stderr",
     "output_type": "stream",
     "text": [
      "Downloading Fighter Images:   9%|▊         | 364/4248 [10:18<2:29:48,  2.31s/it]"
     ]
    },
    {
     "name": "stdout",
     "output_type": "stream",
     "text": [
      "Image successfully downloaded for Maximo Blanco: C:\\Users\\palet\\OneDrive\\Desktop\\UNI_FINAL\\Git\\MMA-Predict\\Data\\Images\\Maximo_Blanco.png\n"
     ]
    },
    {
     "name": "stderr",
     "output_type": "stream",
     "text": [
      "Downloading Fighter Images:   9%|▊         | 365/4248 [10:19<1:53:55,  1.76s/it]"
     ]
    },
    {
     "name": "stdout",
     "output_type": "stream",
     "text": [
      "Error fetching data for David Blanco: 403 Client Error: Forbidden for url: https://www.ufc.com/athlete/david-blanco\n"
     ]
    },
    {
     "name": "stderr",
     "output_type": "stream",
     "text": [
      "Downloading Fighter Images:   9%|▊         | 366/4248 [10:22<2:22:13,  2.20s/it]"
     ]
    },
    {
     "name": "stdout",
     "output_type": "stream",
     "text": [
      "Image successfully downloaded for Curtis Blaydes: C:\\Users\\palet\\OneDrive\\Desktop\\UNI_FINAL\\Git\\MMA-Predict\\Data\\Images\\Curtis_Blaydes.png\n"
     ]
    },
    {
     "name": "stderr",
     "output_type": "stream",
     "text": [
      "Downloading Fighter Images:   9%|▊         | 367/4248 [10:24<2:24:50,  2.24s/it]"
     ]
    },
    {
     "name": "stdout",
     "output_type": "stream",
     "text": [
      "Image successfully downloaded for Tereza Bleda: C:\\Users\\palet\\OneDrive\\Desktop\\UNI_FINAL\\Git\\MMA-Predict\\Data\\Images\\Tereza_Bleda.png\n"
     ]
    },
    {
     "name": "stderr",
     "output_type": "stream",
     "text": [
      "Downloading Fighter Images:   9%|▊         | 368/4248 [10:25<1:47:26,  1.66s/it]"
     ]
    },
    {
     "name": "stdout",
     "output_type": "stream",
     "text": [
      "No image found for Arlene Blencowe at https://www.ufc.com/athlete/arlene-blencowe\n"
     ]
    },
    {
     "name": "stderr",
     "output_type": "stream",
     "text": [
      "Downloading Fighter Images:   9%|▊         | 369/4248 [10:27<1:53:04,  1.75s/it]"
     ]
    },
    {
     "name": "stdout",
     "output_type": "stream",
     "text": [
      "No image found for Byron Bloodworth at https://www.ufc.com/athlete/byron-bloodworth\n"
     ]
    },
    {
     "name": "stderr",
     "output_type": "stream",
     "text": [
      "Downloading Fighter Images:   9%|▊         | 370/4248 [10:32<2:58:18,  2.76s/it]"
     ]
    },
    {
     "name": "stdout",
     "output_type": "stream",
     "text": [
      "Image successfully downloaded for Dashawn Boatwright: C:\\Users\\palet\\OneDrive\\Desktop\\UNI_FINAL\\Git\\MMA-Predict\\Data\\Images\\Dashawn_Boatwright.png\n"
     ]
    },
    {
     "name": "stderr",
     "output_type": "stream",
     "text": [
      "Downloading Fighter Images:   9%|▊         | 371/4248 [10:32<2:11:46,  2.04s/it]"
     ]
    },
    {
     "name": "stdout",
     "output_type": "stream",
     "text": [
      "No image found for Dan Bobish at https://www.ufc.com/athlete/dan-bobish\n"
     ]
    },
    {
     "name": "stderr",
     "output_type": "stream",
     "text": [
      "Downloading Fighter Images:   9%|▉         | 372/4248 [10:35<2:34:41,  2.39s/it]"
     ]
    },
    {
     "name": "stdout",
     "output_type": "stream",
     "text": [
      "Image successfully downloaded for Mark Bocek: C:\\Users\\palet\\OneDrive\\Desktop\\UNI_FINAL\\Git\\MMA-Predict\\Data\\Images\\Mark_Bocek.png\n"
     ]
    },
    {
     "name": "stderr",
     "output_type": "stream",
     "text": [
      "Downloading Fighter Images:   9%|▉         | 373/4248 [10:38<2:33:54,  2.38s/it]"
     ]
    },
    {
     "name": "stdout",
     "output_type": "stream",
     "text": [
      "Image successfully downloaded for Kyle Bochniak: C:\\Users\\palet\\OneDrive\\Desktop\\UNI_FINAL\\Git\\MMA-Predict\\Data\\Images\\Kyle_Bochniak.png\n"
     ]
    },
    {
     "name": "stderr",
     "output_type": "stream",
     "text": [
      "Downloading Fighter Images:   9%|▉         | 374/4248 [10:40<2:43:06,  2.53s/it]"
     ]
    },
    {
     "name": "stdout",
     "output_type": "stream",
     "text": [
      "Image successfully downloaded for James Bochnovic: C:\\Users\\palet\\OneDrive\\Desktop\\UNI_FINAL\\Git\\MMA-Predict\\Data\\Images\\James_Bochnovic.png\n"
     ]
    },
    {
     "name": "stderr",
     "output_type": "stream",
     "text": [
      "Downloading Fighter Images:   9%|▉         | 375/4248 [10:45<3:19:08,  3.09s/it]"
     ]
    },
    {
     "name": "stdout",
     "output_type": "stream",
     "text": [
      "No image found for Jeremy Boczulak at https://www.ufc.com/athlete/jeremy-boczulak\n"
     ]
    },
    {
     "name": "stderr",
     "output_type": "stream",
     "text": [
      "Downloading Fighter Images:   9%|▉         | 376/4248 [10:48<3:13:10,  2.99s/it]"
     ]
    },
    {
     "name": "stdout",
     "output_type": "stream",
     "text": [
      "Image successfully downloaded for Tim Boetsch: C:\\Users\\palet\\OneDrive\\Desktop\\UNI_FINAL\\Git\\MMA-Predict\\Data\\Images\\Tim_Boetsch.png\n"
     ]
    },
    {
     "name": "stderr",
     "output_type": "stream",
     "text": [
      "Downloading Fighter Images:   9%|▉         | 377/4248 [10:50<3:07:27,  2.91s/it]"
     ]
    },
    {
     "name": "stdout",
     "output_type": "stream",
     "text": [
      "Image successfully downloaded for Galore Bofando: C:\\Users\\palet\\OneDrive\\Desktop\\UNI_FINAL\\Git\\MMA-Predict\\Data\\Images\\Galore_Bofando.png\n"
     ]
    },
    {
     "name": "stderr",
     "output_type": "stream",
     "text": [
      "Downloading Fighter Images:   9%|▉         | 378/4248 [10:51<2:21:45,  2.20s/it]"
     ]
    },
    {
     "name": "stdout",
     "output_type": "stream",
     "text": [
      "Error fetching data for Jay Bogan: 403 Client Error: Forbidden for url: https://www.ufc.com/athlete/jay-bogan\n"
     ]
    },
    {
     "name": "stderr",
     "output_type": "stream",
     "text": [
      "Downloading Fighter Images:   9%|▉         | 379/4248 [10:53<2:24:12,  2.24s/it]"
     ]
    },
    {
     "name": "stdout",
     "output_type": "stream",
     "text": [
      "Image successfully downloaded for Roman Bogatov: C:\\Users\\palet\\OneDrive\\Desktop\\UNI_FINAL\\Git\\MMA-Predict\\Data\\Images\\Roman_Bogatov.png\n"
     ]
    },
    {
     "name": "stderr",
     "output_type": "stream",
     "text": [
      "Downloading Fighter Images:   9%|▉         | 380/4248 [10:54<1:53:36,  1.76s/it]"
     ]
    },
    {
     "name": "stdout",
     "output_type": "stream",
     "text": [
      "Error fetching data for Derek Bohi: 403 Client Error: Forbidden for url: https://www.ufc.com/athlete/derek-bohi\n"
     ]
    },
    {
     "name": "stderr",
     "output_type": "stream",
     "text": [
      "Downloading Fighter Images:   9%|▉         | 381/4248 [10:56<2:05:40,  1.95s/it]"
     ]
    },
    {
     "name": "stdout",
     "output_type": "stream",
     "text": [
      "No image found for Jerry Bohlander at https://www.ufc.com/athlete/jerry-bohlander\n"
     ]
    },
    {
     "name": "stderr",
     "output_type": "stream",
     "text": [
      "Downloading Fighter Images:   9%|▉         | 382/4248 [10:59<2:17:52,  2.14s/it]"
     ]
    },
    {
     "name": "stdout",
     "output_type": "stream",
     "text": [
      "Image successfully downloaded for Mandy Bohm: C:\\Users\\palet\\OneDrive\\Desktop\\UNI_FINAL\\Git\\MMA-Predict\\Data\\Images\\Mandy_Bohm.png\n"
     ]
    },
    {
     "name": "stderr",
     "output_type": "stream",
     "text": [
      "Downloading Fighter Images:   9%|▉         | 383/4248 [10:59<1:45:44,  1.64s/it]"
     ]
    },
    {
     "name": "stdout",
     "output_type": "stream",
     "text": [
      "Error fetching data for Kotetsu Boku: 403 Client Error: Forbidden for url: https://www.ufc.com/athlete/kotetsu-boku\n"
     ]
    },
    {
     "name": "stderr",
     "output_type": "stream",
     "text": [
      "Downloading Fighter Images:   9%|▉         | 384/4248 [11:02<1:57:41,  1.83s/it]"
     ]
    },
    {
     "name": "stdout",
     "output_type": "stream",
     "text": [
      "Image successfully downloaded for Gaston Bolanos: C:\\Users\\palet\\OneDrive\\Desktop\\UNI_FINAL\\Git\\MMA-Predict\\Data\\Images\\Gaston_Bolanos.png\n"
     ]
    },
    {
     "name": "stderr",
     "output_type": "stream",
     "text": [
      "Downloading Fighter Images:   9%|▉         | 385/4248 [11:02<1:30:23,  1.40s/it]"
     ]
    },
    {
     "name": "stdout",
     "output_type": "stream",
     "text": [
      "Error fetching data for Kyle Bolt: 403 Client Error: Forbidden for url: https://www.ufc.com/athlete/kyle-bolt\n"
     ]
    },
    {
     "name": "stderr",
     "output_type": "stream",
     "text": [
      "Downloading Fighter Images:   9%|▉         | 386/4248 [11:04<1:41:00,  1.57s/it]"
     ]
    },
    {
     "name": "stdout",
     "output_type": "stream",
     "text": [
      "Image successfully downloaded for Denys Bondar: C:\\Users\\palet\\OneDrive\\Desktop\\UNI_FINAL\\Git\\MMA-Predict\\Data\\Images\\Denys_Bondar.png\n"
     ]
    },
    {
     "name": "stderr",
     "output_type": "stream",
     "text": [
      "Downloading Fighter Images:   9%|▉         | 387/4248 [11:04<1:20:08,  1.25s/it]"
     ]
    },
    {
     "name": "stdout",
     "output_type": "stream",
     "text": [
      "Error fetching data for Luc Bondole: 403 Client Error: Forbidden for url: https://www.ufc.com/athlete/luc-bondole\n"
     ]
    },
    {
     "name": "stderr",
     "output_type": "stream",
     "text": [
      "Downloading Fighter Images:   9%|▉         | 388/4248 [11:05<1:05:20,  1.02s/it]"
     ]
    },
    {
     "name": "stdout",
     "output_type": "stream",
     "text": [
      "Error fetching data for Tony Bonello: 403 Client Error: Forbidden for url: https://www.ufc.com/athlete/tony-bonello\n"
     ]
    },
    {
     "name": "stderr",
     "output_type": "stream",
     "text": [
      "Downloading Fighter Images:   9%|▉         | 389/4248 [11:08<1:40:19,  1.56s/it]"
     ]
    },
    {
     "name": "stdout",
     "output_type": "stream",
     "text": [
      "Image successfully downloaded for Gabriel Bonfim: C:\\Users\\palet\\OneDrive\\Desktop\\UNI_FINAL\\Git\\MMA-Predict\\Data\\Images\\Gabriel_Bonfim.png\n"
     ]
    },
    {
     "name": "stderr",
     "output_type": "stream",
     "text": [
      "Downloading Fighter Images:   9%|▉         | 390/4248 [11:11<2:04:54,  1.94s/it]"
     ]
    },
    {
     "name": "stdout",
     "output_type": "stream",
     "text": [
      "Image successfully downloaded for Ismael Bonfim: C:\\Users\\palet\\OneDrive\\Desktop\\UNI_FINAL\\Git\\MMA-Predict\\Data\\Images\\Ismael_Bonfim.png\n"
     ]
    },
    {
     "name": "stderr",
     "output_type": "stream",
     "text": [
      "Downloading Fighter Images:   9%|▉         | 391/4248 [11:13<2:10:44,  2.03s/it]"
     ]
    },
    {
     "name": "stdout",
     "output_type": "stream",
     "text": [
      "No image found for Jesse Bongfeldt at https://www.ufc.com/athlete/jesse-bongfeldt\n"
     ]
    },
    {
     "name": "stderr",
     "output_type": "stream",
     "text": [
      "Downloading Fighter Images:   9%|▉         | 392/4248 [11:13<1:39:47,  1.55s/it]"
     ]
    },
    {
     "name": "stdout",
     "output_type": "stream",
     "text": [
      "Error fetching data for Marcos Bonilla: 403 Client Error: Forbidden for url: https://www.ufc.com/athlete/marcos-bonilla\n"
     ]
    },
    {
     "name": "stderr",
     "output_type": "stream",
     "text": [
      "Downloading Fighter Images:   9%|▉         | 393/4248 [11:16<1:58:56,  1.85s/it]"
     ]
    },
    {
     "name": "stdout",
     "output_type": "stream",
     "text": [
      "No image found for Stephan Bonnar at https://www.ufc.com/athlete/stephan-bonnar\n"
     ]
    },
    {
     "name": "stderr",
     "output_type": "stream",
     "text": [
      "Downloading Fighter Images:   9%|▉         | 394/4248 [11:19<2:21:43,  2.21s/it]"
     ]
    },
    {
     "name": "stdout",
     "output_type": "stream",
     "text": [
      "Image successfully downloaded for Rogerio Bontorin: C:\\Users\\palet\\OneDrive\\Desktop\\UNI_FINAL\\Git\\MMA-Predict\\Data\\Images\\Rogerio_Bontorin.png\n"
     ]
    },
    {
     "name": "stderr",
     "output_type": "stream",
     "text": [
      "Downloading Fighter Images:   9%|▉         | 395/4248 [11:22<2:40:12,  2.49s/it]"
     ]
    },
    {
     "name": "stdout",
     "output_type": "stream",
     "text": [
      "Image successfully downloaded for Ray Borg: C:\\Users\\palet\\OneDrive\\Desktop\\UNI_FINAL\\Git\\MMA-Predict\\Data\\Images\\Ray_Borg.png\n"
     ]
    },
    {
     "name": "stderr",
     "output_type": "stream",
     "text": [
      "Downloading Fighter Images:   9%|▉         | 396/4248 [11:27<3:19:16,  3.10s/it]"
     ]
    },
    {
     "name": "stdout",
     "output_type": "stream",
     "text": [
      "No image found for Igor Borisov at https://www.ufc.com/athlete/igor-borisov\n"
     ]
    },
    {
     "name": "stderr",
     "output_type": "stream",
     "text": [
      "Downloading Fighter Images:   9%|▉         | 397/4248 [11:29<3:02:15,  2.84s/it]"
     ]
    },
    {
     "name": "stdout",
     "output_type": "stream",
     "text": [
      "Image successfully downloaded for Kevin Borjas: C:\\Users\\palet\\OneDrive\\Desktop\\UNI_FINAL\\Git\\MMA-Predict\\Data\\Images\\Kevin_Borjas.png\n"
     ]
    },
    {
     "name": "stderr",
     "output_type": "stream",
     "text": [
      "Downloading Fighter Images:   9%|▉         | 398/4248 [11:34<3:48:11,  3.56s/it]"
     ]
    },
    {
     "name": "stdout",
     "output_type": "stream",
     "text": [
      "Image successfully downloaded for Calen Born: C:\\Users\\palet\\OneDrive\\Desktop\\UNI_FINAL\\Git\\MMA-Predict\\Data\\Images\\Calen_Born.png\n"
     ]
    },
    {
     "name": "stderr",
     "output_type": "stream",
     "text": [
      "Downloading Fighter Images:   9%|▉         | 399/4248 [11:34<2:45:22,  2.58s/it]"
     ]
    },
    {
     "name": "stdout",
     "output_type": "stream",
     "text": [
      "Image successfully downloaded for Caio Borralho: C:\\Users\\palet\\OneDrive\\Desktop\\UNI_FINAL\\Git\\MMA-Predict\\Data\\Images\\Caio_Borralho.png\n"
     ]
    },
    {
     "name": "stderr",
     "output_type": "stream",
     "text": [
      "Downloading Fighter Images:   9%|▉         | 400/4248 [11:40<3:47:22,  3.55s/it]"
     ]
    },
    {
     "name": "stdout",
     "output_type": "stream",
     "text": [
      "Image successfully downloaded for Zachary Borrego: C:\\Users\\palet\\OneDrive\\Desktop\\UNI_FINAL\\Git\\MMA-Predict\\Data\\Images\\Zachary_Borrego.png\n"
     ]
    },
    {
     "name": "stderr",
     "output_type": "stream",
     "text": [
      "Downloading Fighter Images:   9%|▉         | 401/4248 [11:42<3:21:01,  3.14s/it]"
     ]
    },
    {
     "name": "stdout",
     "output_type": "stream",
     "text": [
      "Image successfully downloaded for Viacheslav Borshchev: C:\\Users\\palet\\OneDrive\\Desktop\\UNI_FINAL\\Git\\MMA-Predict\\Data\\Images\\Viacheslav_Borshchev.png\n"
     ]
    },
    {
     "name": "stderr",
     "output_type": "stream",
     "text": [
      "Downloading Fighter Images:   9%|▉         | 402/4248 [11:46<3:22:28,  3.16s/it]"
     ]
    },
    {
     "name": "stdout",
     "output_type": "stream",
     "text": [
      "Image successfully downloaded for Tanner Boser: C:\\Users\\palet\\OneDrive\\Desktop\\UNI_FINAL\\Git\\MMA-Predict\\Data\\Images\\Tanner_Boser.png\n"
     ]
    },
    {
     "name": "stderr",
     "output_type": "stream",
     "text": [
      "Downloading Fighter Images:   9%|▉         | 403/4248 [11:48<3:02:52,  2.85s/it]"
     ]
    },
    {
     "name": "stdout",
     "output_type": "stream",
     "text": [
      "Image successfully downloaded for Steve Bosse: C:\\Users\\palet\\OneDrive\\Desktop\\UNI_FINAL\\Git\\MMA-Predict\\Data\\Images\\Steve_Bosse.png\n"
     ]
    },
    {
     "name": "stderr",
     "output_type": "stream",
     "text": [
      "Downloading Fighter Images:  10%|▉         | 404/4248 [11:50<3:00:19,  2.81s/it]"
     ]
    },
    {
     "name": "stdout",
     "output_type": "stream",
     "text": [
      "No image found for Marcus Bossett at https://www.ufc.com/athlete/marcus-bossett\n"
     ]
    },
    {
     "name": "stderr",
     "output_type": "stream",
     "text": [
      "Downloading Fighter Images:  10%|▉         | 405/4248 [11:55<3:27:41,  3.24s/it]"
     ]
    },
    {
     "name": "stdout",
     "output_type": "stream",
     "text": [
      "No image found for Chris Bostick at https://www.ufc.com/athlete/chris-bostick\n"
     ]
    },
    {
     "name": "stderr",
     "output_type": "stream",
     "text": [
      "Downloading Fighter Images:  10%|▉         | 406/4248 [11:57<3:12:02,  3.00s/it]"
     ]
    },
    {
     "name": "stdout",
     "output_type": "stream",
     "text": [
      "Image successfully downloaded for Poliana Botelho: C:\\Users\\palet\\OneDrive\\Desktop\\UNI_FINAL\\Git\\MMA-Predict\\Data\\Images\\Poliana_Botelho.png\n"
     ]
    },
    {
     "name": "stderr",
     "output_type": "stream",
     "text": [
      "Downloading Fighter Images:  10%|▉         | 407/4248 [11:58<2:23:18,  2.24s/it]"
     ]
    },
    {
     "name": "stdout",
     "output_type": "stream",
     "text": [
      "Error fetching data for Francois Botha: 403 Client Error: Forbidden for url: https://www.ufc.com/athlete/francois-botha\n"
     ]
    },
    {
     "name": "stderr",
     "output_type": "stream",
     "text": [
      "Downloading Fighter Images:  10%|▉         | 408/4248 [12:02<3:00:41,  2.82s/it]"
     ]
    },
    {
     "name": "stdout",
     "output_type": "stream",
     "text": [
      "No image found for Gregory Bouchelaghem at https://www.ufc.com/athlete/gregory-bouchelaghem\n"
     ]
    },
    {
     "name": "stderr",
     "output_type": "stream",
     "text": [
      "Downloading Fighter Images:  10%|▉         | 409/4248 [12:02<2:17:05,  2.14s/it]"
     ]
    },
    {
     "name": "stdout",
     "output_type": "stream",
     "text": [
      "Error fetching data for Roy Boughton: 403 Client Error: Forbidden for url: https://www.ufc.com/athlete/roy-boughton\n"
     ]
    },
    {
     "name": "stderr",
     "output_type": "stream",
     "text": [
      "Downloading Fighter Images:  10%|▉         | 410/4248 [12:06<2:56:49,  2.76s/it]"
     ]
    },
    {
     "name": "stdout",
     "output_type": "stream",
     "text": [
      "No image found for Rich Bouphanouvong at https://www.ufc.com/athlete/rich-bouphanouvong\n"
     ]
    },
    {
     "name": "stderr",
     "output_type": "stream",
     "text": [
      "Downloading Fighter Images:  10%|▉         | 411/4248 [12:11<3:29:42,  3.28s/it]"
     ]
    },
    {
     "name": "stdout",
     "output_type": "stream",
     "text": [
      "No image found for Mike Bourke at https://www.ufc.com/athlete/mike-bourke\n"
     ]
    },
    {
     "name": "stderr",
     "output_type": "stream",
     "text": [
      "Downloading Fighter Images:  10%|▉         | 412/4248 [12:16<3:57:09,  3.71s/it]"
     ]
    },
    {
     "name": "stdout",
     "output_type": "stream",
     "text": [
      "No image found for Jess Bouscal at https://www.ufc.com/athlete/jess-bouscal\n"
     ]
    },
    {
     "name": "stderr",
     "output_type": "stream",
     "text": [
      "Downloading Fighter Images:  10%|▉         | 413/4248 [12:18<3:25:03,  3.21s/it]"
     ]
    },
    {
     "name": "stdout",
     "output_type": "stream",
     "text": [
      "No image found for Tai Bowden at https://www.ufc.com/athlete/tai-bowden\n"
     ]
    },
    {
     "name": "stderr",
     "output_type": "stream",
     "text": [
      "Downloading Fighter Images:  10%|▉         | 414/4248 [12:20<3:00:42,  2.83s/it]"
     ]
    },
    {
     "name": "stdout",
     "output_type": "stream",
     "text": [
      "No image found for Melton Bowen at https://www.ufc.com/athlete/melton-bowen\n"
     ]
    },
    {
     "name": "stderr",
     "output_type": "stream",
     "text": [
      "Downloading Fighter Images:  10%|▉         | 415/4248 [12:25<3:48:03,  3.57s/it]"
     ]
    },
    {
     "name": "stdout",
     "output_type": "stream",
     "text": [
      "Image successfully downloaded for Kyron Bowen: C:\\Users\\palet\\OneDrive\\Desktop\\UNI_FINAL\\Git\\MMA-Predict\\Data\\Images\\Kyron_Bowen.png\n"
     ]
    },
    {
     "name": "stderr",
     "output_type": "stream",
     "text": [
      "Downloading Fighter Images:  10%|▉         | 416/4248 [12:27<3:23:21,  3.18s/it]"
     ]
    },
    {
     "name": "stdout",
     "output_type": "stream",
     "text": [
      "No image found for Brian Bowles at https://www.ufc.com/athlete/brian-bowles\n"
     ]
    },
    {
     "name": "stderr",
     "output_type": "stream",
     "text": [
      "Downloading Fighter Images:  10%|▉         | 417/4248 [12:29<3:03:37,  2.88s/it]"
     ]
    },
    {
     "name": "stdout",
     "output_type": "stream",
     "text": [
      "Image successfully downloaded for Roger Bowling: C:\\Users\\palet\\OneDrive\\Desktop\\UNI_FINAL\\Git\\MMA-Predict\\Data\\Images\\Roger_Bowling.png\n"
     ]
    },
    {
     "name": "stderr",
     "output_type": "stream",
     "text": [
      "Downloading Fighter Images:  10%|▉         | 418/4248 [12:34<3:33:07,  3.34s/it]"
     ]
    },
    {
     "name": "stdout",
     "output_type": "stream",
     "text": [
      "No image found for Blake Bowman at https://www.ufc.com/athlete/blake-bowman\n"
     ]
    },
    {
     "name": "stderr",
     "output_type": "stream",
     "text": [
      "Downloading Fighter Images:  10%|▉         | 419/4248 [12:38<3:55:13,  3.69s/it]"
     ]
    },
    {
     "name": "stdout",
     "output_type": "stream",
     "text": [
      "No image found for Ashe Bowman at https://www.ufc.com/athlete/ashe-bowman\n"
     ]
    },
    {
     "name": "stderr",
     "output_type": "stream",
     "text": [
      "Downloading Fighter Images:  10%|▉         | 420/4248 [12:43<4:15:35,  4.01s/it]"
     ]
    },
    {
     "name": "stdout",
     "output_type": "stream",
     "text": [
      "Image successfully downloaded for Anvar Boynazarov: C:\\Users\\palet\\OneDrive\\Desktop\\UNI_FINAL\\Git\\MMA-Predict\\Data\\Images\\Anvar_Boynazarov.png\n"
     ]
    },
    {
     "name": "stderr",
     "output_type": "stream",
     "text": [
      "Downloading Fighter Images:  10%|▉         | 421/4248 [12:44<3:08:33,  2.96s/it]"
     ]
    },
    {
     "name": "stdout",
     "output_type": "stream",
     "text": [
      "No image found for Colley  Bradford at https://www.ufc.com/athlete/colley -bradford\n"
     ]
    },
    {
     "name": "stderr",
     "output_type": "stream",
     "text": [
      "Downloading Fighter Images:  10%|▉         | 422/4248 [12:46<2:50:07,  2.67s/it]"
     ]
    },
    {
     "name": "stdout",
     "output_type": "stream",
     "text": [
      "No image found for Kyle Bradley at https://www.ufc.com/athlete/kyle-bradley\n"
     ]
    },
    {
     "name": "stderr",
     "output_type": "stream",
     "text": [
      "Downloading Fighter Images:  10%|▉         | 423/4248 [12:50<3:21:53,  3.17s/it]"
     ]
    },
    {
     "name": "stdout",
     "output_type": "stream",
     "text": [
      "No image found for Paul Bradley at https://www.ufc.com/athlete/paul-bradley\n"
     ]
    },
    {
     "name": "stderr",
     "output_type": "stream",
     "text": [
      "Downloading Fighter Images:  10%|▉         | 424/4248 [12:53<3:19:42,  3.13s/it]"
     ]
    },
    {
     "name": "stdout",
     "output_type": "stream",
     "text": [
      "Image successfully downloaded for Sean Brady: C:\\Users\\palet\\OneDrive\\Desktop\\UNI_FINAL\\Git\\MMA-Predict\\Data\\Images\\Sean_Brady.png\n"
     ]
    },
    {
     "name": "stderr",
     "output_type": "stream",
     "text": [
      "Downloading Fighter Images:  10%|█         | 425/4248 [12:53<2:26:25,  2.30s/it]"
     ]
    },
    {
     "name": "stdout",
     "output_type": "stream",
     "text": [
      "No image found for Ebenezer Fontes Braga at https://www.ufc.com/athlete/ebenezer fontes-braga\n"
     ]
    },
    {
     "name": "stderr",
     "output_type": "stream",
     "text": [
      "Downloading Fighter Images:  10%|█         | 426/4248 [12:56<2:33:40,  2.41s/it]"
     ]
    },
    {
     "name": "stdout",
     "output_type": "stream",
     "text": [
      "Image successfully downloaded for Ramiz Brahimaj: C:\\Users\\palet\\OneDrive\\Desktop\\UNI_FINAL\\Git\\MMA-Predict\\Data\\Images\\Ramiz_Brahimaj.png\n"
     ]
    },
    {
     "name": "stderr",
     "output_type": "stream",
     "text": [
      "Downloading Fighter Images:  10%|█         | 427/4248 [12:56<1:54:11,  1.79s/it]"
     ]
    },
    {
     "name": "stdout",
     "output_type": "stream",
     "text": [
      "No image found for Adam Bramhald at https://www.ufc.com/athlete/adam-bramhald\n"
     ]
    },
    {
     "name": "stderr",
     "output_type": "stream",
     "text": [
      "Downloading Fighter Images:  10%|█         | 428/4248 [12:59<2:07:29,  2.00s/it]"
     ]
    },
    {
     "name": "stdout",
     "output_type": "stream",
     "text": [
      "No image found for Joe Brammer at https://www.ufc.com/athlete/joe-brammer\n"
     ]
    },
    {
     "name": "stderr",
     "output_type": "stream",
     "text": [
      "Downloading Fighter Images:  10%|█         | 429/4248 [13:01<2:15:46,  2.13s/it]"
     ]
    },
    {
     "name": "stdout",
     "output_type": "stream",
     "text": [
      "Image successfully downloaded for David Branch: C:\\Users\\palet\\OneDrive\\Desktop\\UNI_FINAL\\Git\\MMA-Predict\\Data\\Images\\David_Branch.png\n"
     ]
    },
    {
     "name": "stderr",
     "output_type": "stream",
     "text": [
      "Downloading Fighter Images:  10%|█         | 430/4248 [13:02<1:41:00,  1.59s/it]"
     ]
    },
    {
     "name": "stdout",
     "output_type": "stream",
     "text": [
      "No image found for Billy Brand at https://www.ufc.com/athlete/billy-brand\n"
     ]
    },
    {
     "name": "stderr",
     "output_type": "stream",
     "text": [
      "Downloading Fighter Images:  10%|█         | 431/4248 [13:04<1:55:06,  1.81s/it]"
     ]
    },
    {
     "name": "stdout",
     "output_type": "stream",
     "text": [
      "Image successfully downloaded for Diego Brandao: C:\\Users\\palet\\OneDrive\\Desktop\\UNI_FINAL\\Git\\MMA-Predict\\Data\\Images\\Diego_Brandao.png\n"
     ]
    },
    {
     "name": "stderr",
     "output_type": "stream",
     "text": [
      "Downloading Fighter Images:  10%|█         | 432/4248 [13:06<2:08:48,  2.03s/it]"
     ]
    },
    {
     "name": "stdout",
     "output_type": "stream",
     "text": [
      "Image successfully downloaded for Bruna Brasil: C:\\Users\\palet\\OneDrive\\Desktop\\UNI_FINAL\\Git\\MMA-Predict\\Data\\Images\\Bruna_Brasil.png\n"
     ]
    },
    {
     "name": "stderr",
     "output_type": "stream",
     "text": [
      "Downloading Fighter Images:  10%|█         | 433/4248 [13:11<2:53:06,  2.72s/it]"
     ]
    },
    {
     "name": "stdout",
     "output_type": "stream",
     "text": [
      "No image found for Michael Bravo at https://www.ufc.com/athlete/michael-bravo\n"
     ]
    },
    {
     "name": "stderr",
     "output_type": "stream",
     "text": [
      "Downloading Fighter Images:  10%|█         | 434/4248 [13:13<2:40:25,  2.52s/it]"
     ]
    },
    {
     "name": "stdout",
     "output_type": "stream",
     "text": [
      "Image successfully downloaded for Martin Bravo: C:\\Users\\palet\\OneDrive\\Desktop\\UNI_FINAL\\Git\\MMA-Predict\\Data\\Images\\Martin_Bravo.png\n"
     ]
    },
    {
     "name": "stderr",
     "output_type": "stream",
     "text": [
      "Downloading Fighter Images:  10%|█         | 435/4248 [13:17<3:15:31,  3.08s/it]"
     ]
    },
    {
     "name": "stdout",
     "output_type": "stream",
     "text": [
      "No image found for Roman Bravo-Young at https://www.ufc.com/athlete/roman-bravo-young\n"
     ]
    },
    {
     "name": "stderr",
     "output_type": "stream",
     "text": [
      "Downloading Fighter Images:  10%|█         | 436/4248 [13:20<3:02:08,  2.87s/it]"
     ]
    },
    {
     "name": "stdout",
     "output_type": "stream",
     "text": [
      "Image successfully downloaded for Mike Breeden: C:\\Users\\palet\\OneDrive\\Desktop\\UNI_FINAL\\Git\\MMA-Predict\\Data\\Images\\Mike_Breeden.png\n"
     ]
    },
    {
     "name": "stderr",
     "output_type": "stream",
     "text": [
      "Downloading Fighter Images:  10%|█         | 437/4248 [13:22<2:49:01,  2.66s/it]"
     ]
    },
    {
     "name": "stdout",
     "output_type": "stream",
     "text": [
      "Image successfully downloaded for Tom Breese: C:\\Users\\palet\\OneDrive\\Desktop\\UNI_FINAL\\Git\\MMA-Predict\\Data\\Images\\Tom_Breese.png\n"
     ]
    },
    {
     "name": "stderr",
     "output_type": "stream",
     "text": [
      "Downloading Fighter Images:  10%|█         | 438/4248 [13:24<2:41:15,  2.54s/it]"
     ]
    },
    {
     "name": "stdout",
     "output_type": "stream",
     "text": [
      "Image successfully downloaded for Elves Brener: C:\\Users\\palet\\OneDrive\\Desktop\\UNI_FINAL\\Git\\MMA-Predict\\Data\\Images\\Elves_Brener.png\n"
     ]
    },
    {
     "name": "stderr",
     "output_type": "stream",
     "text": [
      "Downloading Fighter Images:  10%|█         | 439/4248 [13:26<2:32:19,  2.40s/it]"
     ]
    },
    {
     "name": "stdout",
     "output_type": "stream",
     "text": [
      "No image found for Chris Brennan at https://www.ufc.com/athlete/chris-brennan\n"
     ]
    },
    {
     "name": "stderr",
     "output_type": "stream",
     "text": [
      "Downloading Fighter Images:  10%|█         | 440/4248 [13:29<2:50:20,  2.68s/it]"
     ]
    },
    {
     "name": "stdout",
     "output_type": "stream",
     "text": [
      "Image successfully downloaded for Charlie Brenneman: C:\\Users\\palet\\OneDrive\\Desktop\\UNI_FINAL\\Git\\MMA-Predict\\Data\\Images\\Charlie_Brenneman.png\n"
     ]
    },
    {
     "name": "stderr",
     "output_type": "stream",
     "text": [
      "Downloading Fighter Images:  10%|█         | 441/4248 [13:34<3:25:59,  3.25s/it]"
     ]
    },
    {
     "name": "stdout",
     "output_type": "stream",
     "text": [
      "No image found for Robert Breslin at https://www.ufc.com/athlete/robert-breslin\n"
     ]
    },
    {
     "name": "stderr",
     "output_type": "stream",
     "text": [
      "Downloading Fighter Images:  10%|█         | 442/4248 [13:38<3:47:17,  3.58s/it]"
     ]
    },
    {
     "name": "stdout",
     "output_type": "stream",
     "text": [
      "No image found for Mack Brewer at https://www.ufc.com/athlete/mack-brewer\n"
     ]
    },
    {
     "name": "stderr",
     "output_type": "stream",
     "text": [
      "Downloading Fighter Images:  10%|█         | 443/4248 [13:44<4:17:43,  4.06s/it]"
     ]
    },
    {
     "name": "stdout",
     "output_type": "stream",
     "text": [
      "Image successfully downloaded for Marcos Brigagao: C:\\Users\\palet\\OneDrive\\Desktop\\UNI_FINAL\\Git\\MMA-Predict\\Data\\Images\\Marcos_Brigagao.png\n"
     ]
    },
    {
     "name": "stderr",
     "output_type": "stream",
     "text": [
      "Downloading Fighter Images:  10%|█         | 444/4248 [13:46<3:42:52,  3.52s/it]"
     ]
    },
    {
     "name": "stdout",
     "output_type": "stream",
     "text": [
      "No image found for Jason Brilz at https://www.ufc.com/athlete/jason-brilz\n"
     ]
    },
    {
     "name": "stderr",
     "output_type": "stream",
     "text": [
      "Downloading Fighter Images:  10%|█         | 445/4248 [13:49<3:30:56,  3.33s/it]"
     ]
    },
    {
     "name": "stdout",
     "output_type": "stream",
     "text": [
      "Image successfully downloaded for Marcus Brimage: C:\\Users\\palet\\OneDrive\\Desktop\\UNI_FINAL\\Git\\MMA-Predict\\Data\\Images\\Marcus_Brimage.png\n"
     ]
    },
    {
     "name": "stderr",
     "output_type": "stream",
     "text": [
      "Downloading Fighter Images:  10%|█         | 446/4248 [13:51<3:04:28,  2.91s/it]"
     ]
    },
    {
     "name": "stdout",
     "output_type": "stream",
     "text": [
      "No image found for Aaron Brink at https://www.ufc.com/athlete/aaron-brink\n"
     ]
    },
    {
     "name": "stderr",
     "output_type": "stream",
     "text": [
      "Downloading Fighter Images:  11%|█         | 447/4248 [13:53<2:49:04,  2.67s/it]"
     ]
    },
    {
     "name": "stdout",
     "output_type": "stream",
     "text": [
      "Image successfully downloaded for Henry Briones: C:\\Users\\palet\\OneDrive\\Desktop\\UNI_FINAL\\Git\\MMA-Predict\\Data\\Images\\Henry_Briones.png\n"
     ]
    },
    {
     "name": "stderr",
     "output_type": "stream",
     "text": [
      "Downloading Fighter Images:  11%|█         | 448/4248 [13:58<3:33:47,  3.38s/it]"
     ]
    },
    {
     "name": "stdout",
     "output_type": "stream",
     "text": [
      "No image found for Marcelo Brito at https://www.ufc.com/athlete/marcelo-brito\n"
     ]
    },
    {
     "name": "stderr",
     "output_type": "stream",
     "text": [
      "Downloading Fighter Images:  11%|█         | 449/4248 [14:00<3:18:51,  3.14s/it]"
     ]
    },
    {
     "name": "stdout",
     "output_type": "stream",
     "text": [
      "Image successfully downloaded for Joanderson Brito: C:\\Users\\palet\\OneDrive\\Desktop\\UNI_FINAL\\Git\\MMA-Predict\\Data\\Images\\Joanderson_Brito.png\n"
     ]
    },
    {
     "name": "stderr",
     "output_type": "stream",
     "text": [
      "Downloading Fighter Images:  11%|█         | 450/4248 [14:05<3:44:08,  3.54s/it]"
     ]
    },
    {
     "name": "stdout",
     "output_type": "stream",
     "text": [
      "Image successfully downloaded for Kaik Brito: C:\\Users\\palet\\OneDrive\\Desktop\\UNI_FINAL\\Git\\MMA-Predict\\Data\\Images\\Kaik_Brito.png\n"
     ]
    },
    {
     "name": "stderr",
     "output_type": "stream",
     "text": [
      "Downloading Fighter Images:  11%|█         | 451/4248 [14:05<2:42:30,  2.57s/it]"
     ]
    },
    {
     "name": "stdout",
     "output_type": "stream",
     "text": [
      "No image found for Icaro Brito at https://www.ufc.com/athlete/icaro-brito\n"
     ]
    },
    {
     "name": "stderr",
     "output_type": "stream",
     "text": [
      "Downloading Fighter Images:  11%|█         | 452/4248 [14:09<3:16:36,  3.11s/it]"
     ]
    },
    {
     "name": "stdout",
     "output_type": "stream",
     "text": [
      "No image found for Antwain Britt at https://www.ufc.com/athlete/antwain-britt\n"
     ]
    },
    {
     "name": "stderr",
     "output_type": "stream",
     "text": [
      "Downloading Fighter Images:  11%|█         | 453/4248 [14:10<2:25:48,  2.31s/it]"
     ]
    },
    {
     "name": "stdout",
     "output_type": "stream",
     "text": [
      "Error fetching data for Drew Brokenshire: 403 Client Error: Forbidden for url: https://www.ufc.com/athlete/drew-brokenshire\n"
     ]
    },
    {
     "name": "stderr",
     "output_type": "stream",
     "text": [
      "Downloading Fighter Images:  11%|█         | 454/4248 [14:14<3:05:13,  2.93s/it]"
     ]
    },
    {
     "name": "stdout",
     "output_type": "stream",
     "text": [
      "No image found for Mike Bronzoulis at https://www.ufc.com/athlete/mike-bronzoulis\n"
     ]
    },
    {
     "name": "stderr",
     "output_type": "stream",
     "text": [
      "Downloading Fighter Images:  11%|█         | 455/4248 [14:19<3:37:21,  3.44s/it]"
     ]
    },
    {
     "name": "stdout",
     "output_type": "stream",
     "text": [
      "No image found for Jonathan Brookins at https://www.ufc.com/athlete/jonathan-brookins\n"
     ]
    },
    {
     "name": "stderr",
     "output_type": "stream",
     "text": [
      "Downloading Fighter Images:  11%|█         | 456/4248 [14:22<3:31:49,  3.35s/it]"
     ]
    },
    {
     "name": "stdout",
     "output_type": "stream",
     "text": [
      "Image successfully downloaded for Will Brooks: C:\\Users\\palet\\OneDrive\\Desktop\\UNI_FINAL\\Git\\MMA-Predict\\Data\\Images\\Will_Brooks.png\n"
     ]
    },
    {
     "name": "stderr",
     "output_type": "stream",
     "text": [
      "Downloading Fighter Images:  11%|█         | 457/4248 [14:24<3:04:48,  2.93s/it]"
     ]
    },
    {
     "name": "stdout",
     "output_type": "stream",
     "text": [
      "Image successfully downloaded for Jarred Brooks: C:\\Users\\palet\\OneDrive\\Desktop\\UNI_FINAL\\Git\\MMA-Predict\\Data\\Images\\Jarred_Brooks.png\n"
     ]
    },
    {
     "name": "stderr",
     "output_type": "stream",
     "text": [
      "Downloading Fighter Images:  11%|█         | 458/4248 [14:26<2:52:30,  2.73s/it]"
     ]
    },
    {
     "name": "stdout",
     "output_type": "stream",
     "text": [
      "No image found for Rob Broughton at https://www.ufc.com/athlete/rob-broughton\n"
     ]
    },
    {
     "name": "stderr",
     "output_type": "stream",
     "text": [
      "Downloading Fighter Images:  11%|█         | 459/4248 [14:30<3:17:51,  3.13s/it]"
     ]
    },
    {
     "name": "stdout",
     "output_type": "stream",
     "text": [
      "No image found for Lee Brousseau at https://www.ufc.com/athlete/lee-brousseau\n"
     ]
    },
    {
     "name": "stderr",
     "output_type": "stream",
     "text": [
      "Downloading Fighter Images:  11%|█         | 460/4248 [14:33<3:07:12,  2.97s/it]"
     ]
    },
    {
     "name": "stdout",
     "output_type": "stream",
     "text": [
      "Image successfully downloaded for Matt Brown: C:\\Users\\palet\\OneDrive\\Desktop\\UNI_FINAL\\Git\\MMA-Predict\\Data\\Images\\Matt_Brown.png\n"
     ]
    },
    {
     "name": "stderr",
     "output_type": "stream",
     "text": [
      "Downloading Fighter Images:  11%|█         | 461/4248 [14:36<3:08:18,  2.98s/it]"
     ]
    },
    {
     "name": "stdout",
     "output_type": "stream",
     "text": [
      "Image successfully downloaded for Mike Brown: C:\\Users\\palet\\OneDrive\\Desktop\\UNI_FINAL\\Git\\MMA-Predict\\Data\\Images\\Mike_Brown.png\n"
     ]
    },
    {
     "name": "stderr",
     "output_type": "stream",
     "text": [
      "Downloading Fighter Images:  11%|█         | 462/4248 [14:40<3:32:20,  3.37s/it]"
     ]
    },
    {
     "name": "stdout",
     "output_type": "stream",
     "text": [
      "No image found for Dominic Brown at https://www.ufc.com/athlete/dominic-brown\n"
     ]
    },
    {
     "name": "stderr",
     "output_type": "stream",
     "text": [
      "Downloading Fighter Images:  11%|█         | 463/4248 [14:42<3:10:30,  3.02s/it]"
     ]
    },
    {
     "name": "stdout",
     "output_type": "stream",
     "text": [
      "No image found for Todd Brown at https://www.ufc.com/athlete/todd-brown\n"
     ]
    },
    {
     "name": "stderr",
     "output_type": "stream",
     "text": [
      "Downloading Fighter Images:  11%|█         | 464/4248 [14:47<3:40:50,  3.50s/it]"
     ]
    },
    {
     "name": "stdout",
     "output_type": "stream",
     "text": [
      "No image found for Terrell Brown at https://www.ufc.com/athlete/terrell-brown\n"
     ]
    },
    {
     "name": "stderr",
     "output_type": "stream",
     "text": [
      "Downloading Fighter Images:  11%|█         | 465/4248 [14:47<2:42:33,  2.58s/it]"
     ]
    },
    {
     "name": "stdout",
     "output_type": "stream",
     "text": [
      "Error fetching data for Chris Brown: 403 Client Error: Forbidden for url: https://www.ufc.com/athlete/chris-brown\n"
     ]
    },
    {
     "name": "stderr",
     "output_type": "stream",
     "text": [
      "Downloading Fighter Images:  11%|█         | 466/4248 [14:48<2:05:12,  1.99s/it]"
     ]
    },
    {
     "name": "stdout",
     "output_type": "stream",
     "text": [
      "Error fetching data for Frederick Brown: 403 Client Error: Forbidden for url: https://www.ufc.com/athlete/frederick-brown\n"
     ]
    },
    {
     "name": "stderr",
     "output_type": "stream",
     "text": [
      "Downloading Fighter Images:  11%|█         | 467/4248 [14:50<2:13:41,  2.12s/it]"
     ]
    },
    {
     "name": "stdout",
     "output_type": "stream",
     "text": [
      "Image successfully downloaded for Randy Brown: C:\\Users\\palet\\OneDrive\\Desktop\\UNI_FINAL\\Git\\MMA-Predict\\Data\\Images\\Randy_Brown.png\n"
     ]
    },
    {
     "name": "stderr",
     "output_type": "stream",
     "text": [
      "Downloading Fighter Images:  11%|█         | 468/4248 [14:53<2:18:38,  2.20s/it]"
     ]
    },
    {
     "name": "stdout",
     "output_type": "stream",
     "text": [
      "Image successfully downloaded for Damien Brown: C:\\Users\\palet\\OneDrive\\Desktop\\UNI_FINAL\\Git\\MMA-Predict\\Data\\Images\\Damien_Brown.png\n"
     ]
    },
    {
     "name": "stderr",
     "output_type": "stream",
     "text": [
      "Downloading Fighter Images:  11%|█         | 469/4248 [14:56<2:29:27,  2.37s/it]"
     ]
    },
    {
     "name": "stdout",
     "output_type": "stream",
     "text": [
      "Image successfully downloaded for TJ Brown: C:\\Users\\palet\\OneDrive\\Desktop\\UNI_FINAL\\Git\\MMA-Predict\\Data\\Images\\TJ_Brown.png\n"
     ]
    },
    {
     "name": "stderr",
     "output_type": "stream",
     "text": [
      "Downloading Fighter Images:  11%|█         | 470/4248 [14:56<1:50:19,  1.75s/it]"
     ]
    },
    {
     "name": "stdout",
     "output_type": "stream",
     "text": [
      "No image found for Humberto Brown Morrison at https://www.ufc.com/athlete/humberto-brown morrison\n"
     ]
    },
    {
     "name": "stderr",
     "output_type": "stream",
     "text": [
      "Downloading Fighter Images:  11%|█         | 471/4248 [14:59<2:10:56,  2.08s/it]"
     ]
    },
    {
     "name": "stdout",
     "output_type": "stream",
     "text": [
      "Image successfully downloaded for Travis Browne: C:\\Users\\palet\\OneDrive\\Desktop\\UNI_FINAL\\Git\\MMA-Predict\\Data\\Images\\Travis_Browne.png\n"
     ]
    },
    {
     "name": "stderr",
     "output_type": "stream",
     "text": [
      "Downloading Fighter Images:  11%|█         | 472/4248 [15:01<2:11:10,  2.08s/it]"
     ]
    },
    {
     "name": "stdout",
     "output_type": "stream",
     "text": [
      "No image found for Junie Browning at https://www.ufc.com/athlete/junie-browning\n"
     ]
    },
    {
     "name": "stderr",
     "output_type": "stream",
     "text": [
      "Downloading Fighter Images:  11%|█         | 473/4248 [15:03<2:08:34,  2.04s/it]"
     ]
    },
    {
     "name": "stdout",
     "output_type": "stream",
     "text": [
      "No image found for Jules Bruchez at https://www.ufc.com/athlete/jules-bruchez\n"
     ]
    },
    {
     "name": "stderr",
     "output_type": "stream",
     "text": [
      "Downloading Fighter Images:  11%|█         | 474/4248 [15:03<1:39:39,  1.58s/it]"
     ]
    },
    {
     "name": "stdout",
     "output_type": "stream",
     "text": [
      "Error fetching data for Justin Bruckmann: 403 Client Error: Forbidden for url: https://www.ufc.com/athlete/justin-bruckmann\n"
     ]
    },
    {
     "name": "stderr",
     "output_type": "stream",
     "text": [
      "Downloading Fighter Images:  11%|█         | 475/4248 [15:06<2:04:47,  1.98s/it]"
     ]
    },
    {
     "name": "stdout",
     "output_type": "stream",
     "text": [
      "Image successfully downloaded for Cody Brundage: C:\\Users\\palet\\OneDrive\\Desktop\\UNI_FINAL\\Git\\MMA-Predict\\Data\\Images\\Cody_Brundage.png\n"
     ]
    },
    {
     "name": "stderr",
     "output_type": "stream",
     "text": [
      "Downloading Fighter Images:  11%|█         | 476/4248 [15:08<2:08:27,  2.04s/it]"
     ]
    },
    {
     "name": "stdout",
     "output_type": "stream",
     "text": [
      "No image found for Steve Bruno at https://www.ufc.com/athlete/steve-bruno\n"
     ]
    },
    {
     "name": "stderr",
     "output_type": "stream",
     "text": [
      "Downloading Fighter Images:  11%|█         | 477/4248 [15:09<1:36:27,  1.53s/it]"
     ]
    },
    {
     "name": "stdout",
     "output_type": "stream",
     "text": [
      "No image found for Fernando Bruno at https://www.ufc.com/athlete/fernando-bruno\n"
     ]
    },
    {
     "name": "stderr",
     "output_type": "stream",
     "text": [
      "Downloading Fighter Images:  11%|█▏        | 478/4248 [15:12<2:07:02,  2.02s/it]"
     ]
    },
    {
     "name": "stdout",
     "output_type": "stream",
     "text": [
      "Image successfully downloaded for Derek Brunson: C:\\Users\\palet\\OneDrive\\Desktop\\UNI_FINAL\\Git\\MMA-Predict\\Data\\Images\\Derek_Brunson.png\n"
     ]
    },
    {
     "name": "stderr",
     "output_type": "stream",
     "text": [
      "Downloading Fighter Images:  11%|█▏        | 479/4248 [15:14<2:11:54,  2.10s/it]"
     ]
    },
    {
     "name": "stdout",
     "output_type": "stream",
     "text": [
      "No image found for Josh Bryant at https://www.ufc.com/athlete/josh-bryant\n",
      "No image found for Dennis Bryant at https://www.ufc.com/athlete/dennis-bryant\n"
     ]
    },
    {
     "name": "stderr",
     "output_type": "stream",
     "text": [
      "Downloading Fighter Images:  11%|█▏        | 481/4248 [15:17<1:57:45,  1.88s/it]"
     ]
    },
    {
     "name": "stdout",
     "output_type": "stream",
     "text": [
      "Image successfully downloaded for Robert Bryczek: C:\\Users\\palet\\OneDrive\\Desktop\\UNI_FINAL\\Git\\MMA-Predict\\Data\\Images\\Robert_Bryczek.png\n"
     ]
    },
    {
     "name": "stderr",
     "output_type": "stream",
     "text": [
      "Downloading Fighter Images:  11%|█▏        | 482/4248 [15:18<1:31:38,  1.46s/it]"
     ]
    },
    {
     "name": "stdout",
     "output_type": "stream",
     "text": [
      "Image successfully downloaded for Lukasz Brzeski: C:\\Users\\palet\\OneDrive\\Desktop\\UNI_FINAL\\Git\\MMA-Predict\\Data\\Images\\Lukasz_Brzeski.png\n"
     ]
    },
    {
     "name": "stderr",
     "output_type": "stream",
     "text": [
      "Downloading Fighter Images:  11%|█▏        | 483/4248 [15:20<1:43:42,  1.65s/it]"
     ]
    },
    {
     "name": "stdout",
     "output_type": "stream",
     "text": [
      "No image found for Justin Buchholz at https://www.ufc.com/athlete/justin-buchholz\n"
     ]
    },
    {
     "name": "stderr",
     "output_type": "stream",
     "text": [
      "Downloading Fighter Images:  11%|█▏        | 484/4248 [15:24<2:38:44,  2.53s/it]"
     ]
    },
    {
     "name": "stdout",
     "output_type": "stream",
     "text": [
      "No image found for Zak Bucia at https://www.ufc.com/athlete/zak-bucia\n"
     ]
    },
    {
     "name": "stderr",
     "output_type": "stream",
     "text": [
      "Downloading Fighter Images:  11%|█▏        | 485/4248 [15:29<3:14:04,  3.09s/it]"
     ]
    },
    {
     "name": "stdout",
     "output_type": "stream",
     "text": [
      "No image found for Courtney Buck at https://www.ufc.com/athlete/courtney-buck\n"
     ]
    },
    {
     "name": "stderr",
     "output_type": "stream",
     "text": [
      "Downloading Fighter Images:  11%|█▏        | 486/4248 [15:31<3:01:57,  2.90s/it]"
     ]
    },
    {
     "name": "stdout",
     "output_type": "stream",
     "text": [
      "Image successfully downloaded for Joaquin Buckley: C:\\Users\\palet\\OneDrive\\Desktop\\UNI_FINAL\\Git\\MMA-Predict\\Data\\Images\\Joaquin_Buckley.png\n"
     ]
    },
    {
     "name": "stderr",
     "output_type": "stream",
     "text": [
      "Downloading Fighter Images:  11%|█▏        | 487/4248 [15:34<2:57:12,  2.83s/it]"
     ]
    },
    {
     "name": "stdout",
     "output_type": "stream",
     "text": [
      "Image successfully downloaded for Martin Buday: C:\\Users\\palet\\OneDrive\\Desktop\\UNI_FINAL\\Git\\MMA-Predict\\Data\\Images\\Martin_Buday.png\n"
     ]
    },
    {
     "name": "stderr",
     "output_type": "stream",
     "text": [
      "Downloading Fighter Images:  11%|█▏        | 488/4248 [15:38<3:26:33,  3.30s/it]"
     ]
    },
    {
     "name": "stdout",
     "output_type": "stream",
     "text": [
      "No image found for Julia Budd at https://www.ufc.com/athlete/julia-budd\n"
     ]
    },
    {
     "name": "stderr",
     "output_type": "stream",
     "text": [
      "Downloading Fighter Images:  12%|█▏        | 489/4248 [15:41<3:08:48,  3.01s/it]"
     ]
    },
    {
     "name": "stdout",
     "output_type": "stream",
     "text": [
      "Image successfully downloaded for Dylan Budka: C:\\Users\\palet\\OneDrive\\Desktop\\UNI_FINAL\\Git\\MMA-Predict\\Data\\Images\\Dylan_Budka.png\n"
     ]
    },
    {
     "name": "stderr",
     "output_type": "stream",
     "text": [
      "Downloading Fighter Images:  12%|█▏        | 490/4248 [15:45<3:31:46,  3.38s/it]"
     ]
    },
    {
     "name": "stdout",
     "output_type": "stream",
     "text": [
      "No image found for Mike Budnik at https://www.ufc.com/athlete/mike-budnik\n"
     ]
    },
    {
     "name": "stderr",
     "output_type": "stream",
     "text": [
      "Downloading Fighter Images:  12%|█▏        | 491/4248 [15:50<3:57:27,  3.79s/it]"
     ]
    },
    {
     "name": "stdout",
     "output_type": "stream",
     "text": [
      "No image found for Francisco Bueno at https://www.ufc.com/athlete/francisco-bueno\n"
     ]
    },
    {
     "name": "stderr",
     "output_type": "stream",
     "text": [
      "Downloading Fighter Images:  12%|█▏        | 492/4248 [15:50<2:52:24,  2.75s/it]"
     ]
    },
    {
     "name": "stdout",
     "output_type": "stream",
     "text": [
      "No image found for Mayra Bueno Silva at https://www.ufc.com/athlete/mayra-bueno silva\n"
     ]
    },
    {
     "name": "stderr",
     "output_type": "stream",
     "text": [
      "Downloading Fighter Images:  12%|█▏        | 493/4248 [15:52<2:41:54,  2.59s/it]"
     ]
    },
    {
     "name": "stdout",
     "output_type": "stream",
     "text": [
      "Error fetching data for Paul Buentello: 500 Server Error: Internal Server Error for url: https://www.ufc.com/athlete/paul-buentello\n"
     ]
    },
    {
     "name": "stderr",
     "output_type": "stream",
     "text": [
      "Downloading Fighter Images:  12%|█▏        | 494/4248 [15:55<2:53:46,  2.78s/it]"
     ]
    },
    {
     "name": "stdout",
     "output_type": "stream",
     "text": [
      "Image successfully downloaded for Modestas Bukauskas: C:\\Users\\palet\\OneDrive\\Desktop\\UNI_FINAL\\Git\\MMA-Predict\\Data\\Images\\Modestas_Bukauskas.png\n"
     ]
    },
    {
     "name": "stderr",
     "output_type": "stream",
     "text": [
      "Downloading Fighter Images:  12%|█▏        | 495/4248 [15:56<2:08:32,  2.05s/it]"
     ]
    },
    {
     "name": "stdout",
     "output_type": "stream",
     "text": [
      "No image found for Lee Kwan Bum at https://www.ufc.com/athlete/lee kwan-bum\n"
     ]
    },
    {
     "name": "stderr",
     "output_type": "stream",
     "text": [
      "Downloading Fighter Images:  12%|█▏        | 496/4248 [16:00<2:52:18,  2.76s/it]"
     ]
    },
    {
     "name": "stdout",
     "output_type": "stream",
     "text": [
      "No image found for Josh Bumgarner at https://www.ufc.com/athlete/josh-bumgarner\n"
     ]
    },
    {
     "name": "stderr",
     "output_type": "stream",
     "text": [
      "Downloading Fighter Images:  12%|█▏        | 497/4248 [16:01<2:09:24,  2.07s/it]"
     ]
    },
    {
     "name": "stdout",
     "output_type": "stream",
     "text": [
      "Error fetching data for Shawn Bunch: 403 Client Error: Forbidden for url: https://www.ufc.com/athlete/shawn-bunch\n"
     ]
    },
    {
     "name": "stderr",
     "output_type": "stream",
     "text": [
      "Downloading Fighter Images:  12%|█▏        | 498/4248 [16:03<2:13:48,  2.14s/it]"
     ]
    },
    {
     "name": "stdout",
     "output_type": "stream",
     "text": [
      "Image successfully downloaded for Felipe Bunes: C:\\Users\\palet\\OneDrive\\Desktop\\UNI_FINAL\\Git\\MMA-Predict\\Data\\Images\\Felipe_Bunes.png\n"
     ]
    },
    {
     "name": "stderr",
     "output_type": "stream",
     "text": [
      "Downloading Fighter Images:  12%|█▏        | 499/4248 [16:06<2:34:54,  2.48s/it]"
     ]
    },
    {
     "name": "stdout",
     "output_type": "stream",
     "text": [
      "Image successfully downloaded for Shane Burgos: C:\\Users\\palet\\OneDrive\\Desktop\\UNI_FINAL\\Git\\MMA-Predict\\Data\\Images\\Shane_Burgos.png\n"
     ]
    },
    {
     "name": "stderr",
     "output_type": "stream",
     "text": [
      "Downloading Fighter Images:  12%|█▏        | 500/4248 [16:09<2:37:57,  2.53s/it]"
     ]
    },
    {
     "name": "stdout",
     "output_type": "stream",
     "text": [
      "Image successfully downloaded for Joshua Burkman: C:\\Users\\palet\\OneDrive\\Desktop\\UNI_FINAL\\Git\\MMA-Predict\\Data\\Images\\Joshua_Burkman.png\n"
     ]
    },
    {
     "name": "stderr",
     "output_type": "stream",
     "text": [
      "Downloading Fighter Images:  12%|█▏        | 501/4248 [16:14<3:36:57,  3.47s/it]"
     ]
    },
    {
     "name": "stdout",
     "output_type": "stream",
     "text": [
      "Image successfully downloaded for Justin Burlinson: C:\\Users\\palet\\OneDrive\\Desktop\\UNI_FINAL\\Git\\MMA-Predict\\Data\\Images\\Justin_Burlinson.png\n"
     ]
    },
    {
     "name": "stderr",
     "output_type": "stream",
     "text": [
      "Downloading Fighter Images:  12%|█▏        | 502/4248 [16:17<3:26:16,  3.30s/it]"
     ]
    },
    {
     "name": "stdout",
     "output_type": "stream",
     "text": [
      "Image successfully downloaded for Mads Burnell: C:\\Users\\palet\\OneDrive\\Desktop\\UNI_FINAL\\Git\\MMA-Predict\\Data\\Images\\Mads_Burnell.png\n"
     ]
    },
    {
     "name": "stderr",
     "output_type": "stream",
     "text": [
      "Downloading Fighter Images:  12%|█▏        | 503/4248 [16:19<3:01:54,  2.91s/it]"
     ]
    },
    {
     "name": "stdout",
     "output_type": "stream",
     "text": [
      "No image found for Mikey Burnett at https://www.ufc.com/athlete/mikey-burnett\n"
     ]
    },
    {
     "name": "stderr",
     "output_type": "stream",
     "text": [
      "Downloading Fighter Images:  12%|█▏        | 504/4248 [16:22<2:50:11,  2.73s/it]"
     ]
    },
    {
     "name": "stdout",
     "output_type": "stream",
     "text": [
      "No image found for Kevin Burns at https://www.ufc.com/athlete/kevin-burns\n"
     ]
    },
    {
     "name": "stderr",
     "output_type": "stream",
     "text": [
      "Downloading Fighter Images:  12%|█▏        | 505/4248 [16:22<2:12:13,  2.12s/it]"
     ]
    },
    {
     "name": "stdout",
     "output_type": "stream",
     "text": [
      "Image successfully downloaded for Gilbert Burns: C:\\Users\\palet\\OneDrive\\Desktop\\UNI_FINAL\\Git\\MMA-Predict\\Data\\Images\\Gilbert_Burns.png\n"
     ]
    },
    {
     "name": "stderr",
     "output_type": "stream",
     "text": [
      "Downloading Fighter Images:  12%|█▏        | 506/4248 [16:23<1:42:53,  1.65s/it]"
     ]
    },
    {
     "name": "stdout",
     "output_type": "stream",
     "text": [
      "Error fetching data for Josh Burns: 403 Client Error: Forbidden for url: https://www.ufc.com/athlete/josh-burns\n"
     ]
    },
    {
     "name": "stderr",
     "output_type": "stream",
     "text": [
      "Downloading Fighter Images:  12%|█▏        | 507/4248 [16:25<1:55:07,  1.85s/it]"
     ]
    },
    {
     "name": "stdout",
     "output_type": "stream",
     "text": [
      "Image successfully downloaded for Herbert Burns: C:\\Users\\palet\\OneDrive\\Desktop\\UNI_FINAL\\Git\\MMA-Predict\\Data\\Images\\Herbert_Burns.png\n"
     ]
    },
    {
     "name": "stderr",
     "output_type": "stream",
     "text": [
      "Downloading Fighter Images:  12%|█▏        | 508/4248 [16:26<1:29:13,  1.43s/it]"
     ]
    },
    {
     "name": "stdout",
     "output_type": "stream",
     "text": [
      "Error fetching data for Derrick Burnsed: 403 Client Error: Forbidden for url: https://www.ufc.com/athlete/derrick-burnsed\n"
     ]
    },
    {
     "name": "stderr",
     "output_type": "stream",
     "text": [
      "Downloading Fighter Images:  12%|█▏        | 509/4248 [16:28<1:39:56,  1.60s/it]"
     ]
    },
    {
     "name": "stdout",
     "output_type": "stream",
     "text": [
      "No image found for Nah-Shon Burrell at https://www.ufc.com/athlete/nah-shon-burrell\n"
     ]
    },
    {
     "name": "stderr",
     "output_type": "stream",
     "text": [
      "Downloading Fighter Images:  12%|█▏        | 510/4248 [16:32<2:29:19,  2.40s/it]"
     ]
    },
    {
     "name": "stdout",
     "output_type": "stream",
     "text": [
      "No image found for Martin Buschkamp at https://www.ufc.com/athlete/martin-buschkamp\n"
     ]
    },
    {
     "name": "stderr",
     "output_type": "stream",
     "text": [
      "Downloading Fighter Images:  12%|█▏        | 511/4248 [16:37<3:10:41,  3.06s/it]"
     ]
    },
    {
     "name": "stdout",
     "output_type": "stream",
     "text": [
      "No image found for George Bush at https://www.ufc.com/athlete/george-bush\n"
     ]
    },
    {
     "name": "stderr",
     "output_type": "stream",
     "text": [
      "Downloading Fighter Images:  12%|█▏        | 512/4248 [16:39<2:54:38,  2.80s/it]"
     ]
    },
    {
     "name": "stdout",
     "output_type": "stream",
     "text": [
      "Image successfully downloaded for Bubba Bush: C:\\Users\\palet\\OneDrive\\Desktop\\UNI_FINAL\\Git\\MMA-Predict\\Data\\Images\\Bubba_Bush.png\n"
     ]
    },
    {
     "name": "stderr",
     "output_type": "stream",
     "text": [
      "Downloading Fighter Images:  12%|█▏        | 513/4248 [16:42<3:04:59,  2.97s/it]"
     ]
    },
    {
     "name": "stdout",
     "output_type": "stream",
     "text": [
      "Image successfully downloaded for Dakota Bush: C:\\Users\\palet\\OneDrive\\Desktop\\UNI_FINAL\\Git\\MMA-Predict\\Data\\Images\\Dakota_Bush.png\n"
     ]
    },
    {
     "name": "stderr",
     "output_type": "stream",
     "text": [
      "Downloading Fighter Images:  12%|█▏        | 514/4248 [16:45<2:54:33,  2.81s/it]"
     ]
    },
    {
     "name": "stdout",
     "output_type": "stream",
     "text": [
      "No image found for Murilo Bustamante at https://www.ufc.com/athlete/murilo-bustamante\n"
     ]
    },
    {
     "name": "stderr",
     "output_type": "stream",
     "text": [
      "Downloading Fighter Images:  12%|█▏        | 515/4248 [16:45<2:14:04,  2.15s/it]"
     ]
    },
    {
     "name": "stdout",
     "output_type": "stream",
     "text": [
      "Error fetching data for Nick Bustamante: 403 Client Error: Forbidden for url: https://www.ufc.com/athlete/nick-bustamante\n"
     ]
    },
    {
     "name": "stderr",
     "output_type": "stream",
     "text": [
      "Downloading Fighter Images:  12%|█▏        | 516/4248 [16:46<1:44:10,  1.67s/it]"
     ]
    },
    {
     "name": "stdout",
     "output_type": "stream",
     "text": [
      "Error fetching data for Eduardo Bustillos: 403 Client Error: Forbidden for url: https://www.ufc.com/athlete/eduardo-bustillos\n"
     ]
    },
    {
     "name": "stderr",
     "output_type": "stream",
     "text": [
      "Downloading Fighter Images:  12%|█▏        | 517/4248 [16:46<1:20:50,  1.30s/it]"
     ]
    },
    {
     "name": "stdout",
     "output_type": "stream",
     "text": [
      "Error fetching data for Jason Butcher: 403 Client Error: Forbidden for url: https://www.ufc.com/athlete/jason-butcher\n"
     ]
    },
    {
     "name": "stderr",
     "output_type": "stream",
     "text": [
      "Downloading Fighter Images:  12%|█▏        | 518/4248 [16:48<1:35:04,  1.53s/it]"
     ]
    },
    {
     "name": "stdout",
     "output_type": "stream",
     "text": [
      "No image found for Todd Butler at https://www.ufc.com/athlete/todd-butler\n"
     ]
    },
    {
     "name": "stderr",
     "output_type": "stream",
     "text": [
      "Downloading Fighter Images:  12%|█▏        | 519/4248 [16:52<2:25:07,  2.34s/it]"
     ]
    },
    {
     "name": "stdout",
     "output_type": "stream",
     "text": [
      "No image found for Goldman Butler at https://www.ufc.com/athlete/goldman-butler\n"
     ]
    },
    {
     "name": "stderr",
     "output_type": "stream",
     "text": [
      "Downloading Fighter Images:  12%|█▏        | 520/4248 [16:53<1:50:58,  1.79s/it]"
     ]
    },
    {
     "name": "stdout",
     "output_type": "stream",
     "text": [
      "Error fetching data for Ian Butler: 403 Client Error: Forbidden for url: https://www.ufc.com/athlete/ian-butler\n"
     ]
    },
    {
     "name": "stderr",
     "output_type": "stream",
     "text": [
      "Downloading Fighter Images:  12%|█▏        | 521/4248 [16:53<1:27:34,  1.41s/it]"
     ]
    },
    {
     "name": "stdout",
     "output_type": "stream",
     "text": [
      "Error fetching data for Raphael Butler: 403 Client Error: Forbidden for url: https://www.ufc.com/athlete/raphael-butler\n"
     ]
    },
    {
     "name": "stderr",
     "output_type": "stream",
     "text": [
      "Downloading Fighter Images:  12%|█▏        | 522/4248 [16:56<1:50:49,  1.78s/it]"
     ]
    },
    {
     "name": "stdout",
     "output_type": "stream",
     "text": [
      "Image successfully downloaded for Jesse Butler: C:\\Users\\palet\\OneDrive\\Desktop\\UNI_FINAL\\Git\\MMA-Predict\\Data\\Images\\Jesse_Butler.png\n"
     ]
    },
    {
     "name": "stderr",
     "output_type": "stream",
     "text": [
      "Downloading Fighter Images:  12%|█▏        | 523/4248 [16:59<2:03:17,  1.99s/it]"
     ]
    },
    {
     "name": "stdout",
     "output_type": "stream",
     "text": [
      "Image successfully downloaded for JP Buys: C:\\Users\\palet\\OneDrive\\Desktop\\UNI_FINAL\\Git\\MMA-Predict\\Data\\Images\\JP_Buys.png\n"
     ]
    },
    {
     "name": "stderr",
     "output_type": "stream",
     "text": [
      "Downloading Fighter Images:  12%|█▏        | 524/4248 [17:02<2:21:21,  2.28s/it]"
     ]
    },
    {
     "name": "stdout",
     "output_type": "stream",
     "text": [
      "Image successfully downloaded for Dennis Buzukja: C:\\Users\\palet\\OneDrive\\Desktop\\UNI_FINAL\\Git\\MMA-Predict\\Data\\Images\\Dennis_Buzukja.png\n"
     ]
    },
    {
     "name": "stderr",
     "output_type": "stream",
     "text": [
      "Downloading Fighter Images:  12%|█▏        | 525/4248 [17:04<2:31:51,  2.45s/it]"
     ]
    },
    {
     "name": "stdout",
     "output_type": "stream",
     "text": [
      "Image successfully downloaded for Charles Byrd: C:\\Users\\palet\\OneDrive\\Desktop\\UNI_FINAL\\Git\\MMA-Predict\\Data\\Images\\Charles_Byrd.png\n"
     ]
    },
    {
     "name": "stderr",
     "output_type": "stream",
     "text": [
      "Downloading Fighter Images:  12%|█▏        | 526/4248 [17:07<2:31:32,  2.44s/it]"
     ]
    },
    {
     "name": "stdout",
     "output_type": "stream",
     "text": [
      "No image found for Steve Byrnes at https://www.ufc.com/athlete/steve-byrnes\n"
     ]
    },
    {
     "name": "stderr",
     "output_type": "stream",
     "text": [
      "Downloading Fighter Images:  12%|█▏        | 527/4248 [17:11<3:12:02,  3.10s/it]"
     ]
    },
    {
     "name": "stdout",
     "output_type": "stream",
     "text": [
      "No image found for Michael Byrnes at https://www.ufc.com/athlete/michael-byrnes\n"
     ]
    },
    {
     "name": "stderr",
     "output_type": "stream",
     "text": [
      "Downloading Fighter Images:  12%|█▏        | 528/4248 [17:15<3:18:51,  3.21s/it]"
     ]
    },
    {
     "name": "stdout",
     "output_type": "stream",
     "text": [
      "Image successfully downloaded for Yan Cabral: C:\\Users\\palet\\OneDrive\\Desktop\\UNI_FINAL\\Git\\MMA-Predict\\Data\\Images\\Yan_Cabral.png\n"
     ]
    },
    {
     "name": "stderr",
     "output_type": "stream",
     "text": [
      "Downloading Fighter Images:  12%|█▏        | 529/4248 [17:19<3:42:26,  3.59s/it]"
     ]
    },
    {
     "name": "stdout",
     "output_type": "stream",
     "text": [
      "No image found for Alvin Cacdac at https://www.ufc.com/athlete/alvin-cacdac\n"
     ]
    },
    {
     "name": "stderr",
     "output_type": "stream",
     "text": [
      "Downloading Fighter Images:  12%|█▏        | 530/4248 [17:20<2:40:57,  2.60s/it]"
     ]
    },
    {
     "name": "stdout",
     "output_type": "stream",
     "text": [
      "Image successfully downloaded for Alex Caceres: C:\\Users\\palet\\OneDrive\\Desktop\\UNI_FINAL\\Git\\MMA-Predict\\Data\\Images\\Alex_Caceres.png\n"
     ]
    },
    {
     "name": "stderr",
     "output_type": "stream",
     "text": [
      "Downloading Fighter Images:  12%|█▎        | 531/4248 [17:23<2:47:57,  2.71s/it]"
     ]
    },
    {
     "name": "stdout",
     "output_type": "stream",
     "text": [
      "Image successfully downloaded for Vince Cachero: C:\\Users\\palet\\OneDrive\\Desktop\\UNI_FINAL\\Git\\MMA-Predict\\Data\\Images\\Vince_Cachero.png\n"
     ]
    },
    {
     "name": "stderr",
     "output_type": "stream",
     "text": [
      "Downloading Fighter Images:  13%|█▎        | 532/4248 [17:25<2:39:04,  2.57s/it]"
     ]
    },
    {
     "name": "stdout",
     "output_type": "stream",
     "text": [
      "Image successfully downloaded for Priscila Cachoeira: C:\\Users\\palet\\OneDrive\\Desktop\\UNI_FINAL\\Git\\MMA-Predict\\Data\\Images\\Priscila_Cachoeira.png\n"
     ]
    },
    {
     "name": "stderr",
     "output_type": "stream",
     "text": [
      "Downloading Fighter Images:  13%|█▎        | 533/4248 [17:29<3:13:48,  3.13s/it]"
     ]
    },
    {
     "name": "stdout",
     "output_type": "stream",
     "text": [
      "No image found for Travis Calanoc at https://www.ufc.com/athlete/travis-calanoc\n"
     ]
    },
    {
     "name": "stderr",
     "output_type": "stream",
     "text": [
      "Downloading Fighter Images:  13%|█▎        | 534/4248 [17:33<3:33:28,  3.45s/it]"
     ]
    },
    {
     "name": "stdout",
     "output_type": "stream",
     "text": [
      "No image found for Ricky Calatayud at https://www.ufc.com/athlete/ricky-calatayud\n"
     ]
    },
    {
     "name": "stderr",
     "output_type": "stream",
     "text": [
      "Downloading Fighter Images:  13%|█▎        | 535/4248 [17:34<2:36:29,  2.53s/it]"
     ]
    },
    {
     "name": "stdout",
     "output_type": "stream",
     "text": [
      "No image found for Carlos Calderon at https://www.ufc.com/athlete/carlos-calderon\n"
     ]
    },
    {
     "name": "stderr",
     "output_type": "stream",
     "text": [
      "Downloading Fighter Images:  13%|█▎        | 536/4248 [17:34<1:55:14,  1.86s/it]"
     ]
    },
    {
     "name": "stdout",
     "output_type": "stream",
     "text": [
      "No image found for Darrion Caldwell at https://www.ufc.com/athlete/darrion-caldwell\n"
     ]
    },
    {
     "name": "stderr",
     "output_type": "stream",
     "text": [
      "Downloading Fighter Images:  13%|█▎        | 537/4248 [17:39<2:52:57,  2.80s/it]"
     ]
    },
    {
     "name": "stdout",
     "output_type": "stream",
     "text": [
      "Image successfully downloaded for Nicolle Caliari: C:\\Users\\palet\\OneDrive\\Desktop\\UNI_FINAL\\Git\\MMA-Predict\\Data\\Images\\Nicolle_Caliari.png\n"
     ]
    },
    {
     "name": "stderr",
     "output_type": "stream",
     "text": [
      "Downloading Fighter Images:  13%|█▎        | 538/4248 [17:44<3:23:28,  3.29s/it]"
     ]
    },
    {
     "name": "stdout",
     "output_type": "stream",
     "text": [
      "No image found for Taylor Callens at https://www.ufc.com/athlete/taylor-callens\n"
     ]
    },
    {
     "name": "stderr",
     "output_type": "stream",
     "text": [
      "Downloading Fighter Images:  13%|█▎        | 539/4248 [17:46<3:08:00,  3.04s/it]"
     ]
    },
    {
     "name": "stdout",
     "output_type": "stream",
     "text": [
      "Image successfully downloaded for Cynthia Calvillo: C:\\Users\\palet\\OneDrive\\Desktop\\UNI_FINAL\\Git\\MMA-Predict\\Data\\Images\\Cynthia_Calvillo.png\n"
     ]
    },
    {
     "name": "stderr",
     "output_type": "stream",
     "text": [
      "Downloading Fighter Images:  13%|█▎        | 540/4248 [17:47<2:21:20,  2.29s/it]"
     ]
    },
    {
     "name": "stdout",
     "output_type": "stream",
     "text": [
      "Error fetching data for Joe Camacho: 403 Client Error: Forbidden for url: https://www.ufc.com/athlete/joe-camacho\n"
     ]
    },
    {
     "name": "stderr",
     "output_type": "stream",
     "text": [
      "Downloading Fighter Images:  13%|█▎        | 541/4248 [17:49<2:32:19,  2.47s/it]"
     ]
    },
    {
     "name": "stdout",
     "output_type": "stream",
     "text": [
      "Image successfully downloaded for Frank Camacho: C:\\Users\\palet\\OneDrive\\Desktop\\UNI_FINAL\\Git\\MMA-Predict\\Data\\Images\\Frank_Camacho.png\n"
     ]
    },
    {
     "name": "stderr",
     "output_type": "stream",
     "text": [
      "Downloading Fighter Images:  13%|█▎        | 542/4248 [17:50<1:53:10,  1.83s/it]"
     ]
    },
    {
     "name": "stdout",
     "output_type": "stream",
     "text": [
      "No image found for Lucas Camacho at https://www.ufc.com/athlete/lucas-camacho\n"
     ]
    },
    {
     "name": "stderr",
     "output_type": "stream",
     "text": [
      "Downloading Fighter Images:  13%|█▎        | 543/4248 [17:52<1:57:40,  1.91s/it]"
     ]
    },
    {
     "name": "stdout",
     "output_type": "stream",
     "text": [
      "Image successfully downloaded for Fabricio Camoes: C:\\Users\\palet\\OneDrive\\Desktop\\UNI_FINAL\\Git\\MMA-Predict\\Data\\Images\\Fabricio_Camoes.png\n"
     ]
    },
    {
     "name": "stderr",
     "output_type": "stream",
     "text": [
      "Downloading Fighter Images:  13%|█▎        | 544/4248 [17:55<2:17:38,  2.23s/it]"
     ]
    },
    {
     "name": "stdout",
     "output_type": "stream",
     "text": [
      "Image successfully downloaded for Chris Camozzi: C:\\Users\\palet\\OneDrive\\Desktop\\UNI_FINAL\\Git\\MMA-Predict\\Data\\Images\\Chris_Camozzi.png\n"
     ]
    },
    {
     "name": "stderr",
     "output_type": "stream",
     "text": [
      "Downloading Fighter Images:  13%|█▎        | 545/4248 [17:58<2:25:45,  2.36s/it]"
     ]
    },
    {
     "name": "stdout",
     "output_type": "stream",
     "text": [
      "Image successfully downloaded for Brian Camozzi: C:\\Users\\palet\\OneDrive\\Desktop\\UNI_FINAL\\Git\\MMA-Predict\\Data\\Images\\Brian_Camozzi.png\n"
     ]
    },
    {
     "name": "stderr",
     "output_type": "stream",
     "text": [
      "Downloading Fighter Images:  13%|█▎        | 546/4248 [18:02<3:11:48,  3.11s/it]"
     ]
    },
    {
     "name": "stdout",
     "output_type": "stream",
     "text": [
      "No image found for Ricky Camp at https://www.ufc.com/athlete/ricky-camp\n"
     ]
    },
    {
     "name": "stderr",
     "output_type": "stream",
     "text": [
      "Downloading Fighter Images:  13%|█▎        | 547/4248 [18:07<3:38:24,  3.54s/it]"
     ]
    },
    {
     "name": "stdout",
     "output_type": "stream",
     "text": [
      "No image found for Mike Campbell at https://www.ufc.com/athlete/mike-campbell\n"
     ]
    },
    {
     "name": "stderr",
     "output_type": "stream",
     "text": [
      "Downloading Fighter Images:  13%|█▎        | 548/4248 [18:11<3:52:52,  3.78s/it]"
     ]
    },
    {
     "name": "stdout",
     "output_type": "stream",
     "text": [
      "No image found for Thomas Campbell at https://www.ufc.com/athlete/thomas-campbell\n"
     ]
    },
    {
     "name": "stderr",
     "output_type": "stream",
     "text": [
      "Downloading Fighter Images:  13%|█▎        | 549/4248 [18:14<3:27:49,  3.37s/it]"
     ]
    },
    {
     "name": "stdout",
     "output_type": "stream",
     "text": [
      "Image successfully downloaded for Shane Campbell: C:\\Users\\palet\\OneDrive\\Desktop\\UNI_FINAL\\Git\\MMA-Predict\\Data\\Images\\Shane_Campbell.png\n"
     ]
    },
    {
     "name": "stderr",
     "output_type": "stream",
     "text": [
      "Downloading Fighter Images:  13%|█▎        | 550/4248 [18:17<3:25:51,  3.34s/it]"
     ]
    },
    {
     "name": "stdout",
     "output_type": "stream",
     "text": [
      "Image successfully downloaded for Charlie Campbell: C:\\Users\\palet\\OneDrive\\Desktop\\UNI_FINAL\\Git\\MMA-Predict\\Data\\Images\\Charlie_Campbell.png\n"
     ]
    },
    {
     "name": "stderr",
     "output_type": "stream",
     "text": [
      "Downloading Fighter Images:  13%|█▎        | 551/4248 [18:19<3:00:20,  2.93s/it]"
     ]
    },
    {
     "name": "stdout",
     "output_type": "stream",
     "text": [
      "No image found for John Campetella at https://www.ufc.com/athlete/john-campetella\n"
     ]
    },
    {
     "name": "stderr",
     "output_type": "stream",
     "text": [
      "Downloading Fighter Images:  13%|█▎        | 552/4248 [18:21<2:50:59,  2.78s/it]"
     ]
    },
    {
     "name": "stdout",
     "output_type": "stream",
     "text": [
      "No image found for Wagner Campos at https://www.ufc.com/athlete/wagner-campos\n"
     ]
    },
    {
     "name": "stderr",
     "output_type": "stream",
     "text": [
      "Downloading Fighter Images:  13%|█▎        | 553/4248 [18:22<2:11:24,  2.13s/it]"
     ]
    },
    {
     "name": "stdout",
     "output_type": "stream",
     "text": [
      "Error fetching data for Derek Campos: 403 Client Error: Forbidden for url: https://www.ufc.com/athlete/derek-campos\n"
     ]
    },
    {
     "name": "stderr",
     "output_type": "stream",
     "text": [
      "Downloading Fighter Images:  13%|█▎        | 554/4248 [18:24<2:12:58,  2.16s/it]"
     ]
    },
    {
     "name": "stdout",
     "output_type": "stream",
     "text": [
      "Image successfully downloaded for Will Campuzano: C:\\Users\\palet\\OneDrive\\Desktop\\UNI_FINAL\\Git\\MMA-Predict\\Data\\Images\\Will_Campuzano.png\n"
     ]
    },
    {
     "name": "stderr",
     "output_type": "stream",
     "text": [
      "Downloading Fighter Images:  13%|█▎        | 555/4248 [18:27<2:29:37,  2.43s/it]"
     ]
    },
    {
     "name": "stdout",
     "output_type": "stream",
     "text": [
      "Image successfully downloaded for Aleksa Camur: C:\\Users\\palet\\OneDrive\\Desktop\\UNI_FINAL\\Git\\MMA-Predict\\Data\\Images\\Aleksa_Camur.png\n"
     ]
    },
    {
     "name": "stderr",
     "output_type": "stream",
     "text": [
      "Downloading Fighter Images:  13%|█▎        | 556/4248 [18:30<2:39:16,  2.59s/it]"
     ]
    },
    {
     "name": "stdout",
     "output_type": "stream",
     "text": [
      "Image successfully downloaded for Chico Camus: C:\\Users\\palet\\OneDrive\\Desktop\\UNI_FINAL\\Git\\MMA-Predict\\Data\\Images\\Chico_Camus.png\n"
     ]
    },
    {
     "name": "stderr",
     "output_type": "stream",
     "text": [
      "Downloading Fighter Images:  13%|█▎        | 557/4248 [18:32<2:27:59,  2.41s/it]"
     ]
    },
    {
     "name": "stdout",
     "output_type": "stream",
     "text": [
      "No image found for Asbel Cancio at https://www.ufc.com/athlete/asbel-cancio\n"
     ]
    },
    {
     "name": "stderr",
     "output_type": "stream",
     "text": [
      "Downloading Fighter Images:  13%|█▎        | 558/4248 [18:35<2:39:39,  2.60s/it]"
     ]
    },
    {
     "name": "stdout",
     "output_type": "stream",
     "text": [
      "Image successfully downloaded for Carlos Candelario: C:\\Users\\palet\\OneDrive\\Desktop\\UNI_FINAL\\Git\\MMA-Predict\\Data\\Images\\Carlos_Candelario.png\n"
     ]
    },
    {
     "name": "stderr",
     "output_type": "stream",
     "text": [
      "Downloading Fighter Images:  13%|█▎        | 559/4248 [18:40<3:14:03,  3.16s/it]"
     ]
    },
    {
     "name": "stdout",
     "output_type": "stream",
     "text": [
      "Image successfully downloaded for Ronaldo Candido: C:\\Users\\palet\\OneDrive\\Desktop\\UNI_FINAL\\Git\\MMA-Predict\\Data\\Images\\Ronaldo_Candido.png\n"
     ]
    },
    {
     "name": "stderr",
     "output_type": "stream",
     "text": [
      "Downloading Fighter Images:  13%|█▎        | 560/4248 [18:42<2:52:30,  2.81s/it]"
     ]
    },
    {
     "name": "stdout",
     "output_type": "stream",
     "text": [
      "No image found for Luiz Cane at https://www.ufc.com/athlete/luiz-cane\n"
     ]
    },
    {
     "name": "stderr",
     "output_type": "stream",
     "text": [
      "Downloading Fighter Images:  13%|█▎        | 561/4248 [18:45<2:56:47,  2.88s/it]"
     ]
    },
    {
     "name": "stdout",
     "output_type": "stream",
     "text": [
      "Image successfully downloaded for Guido Cannetti: C:\\Users\\palet\\OneDrive\\Desktop\\UNI_FINAL\\Git\\MMA-Predict\\Data\\Images\\Guido_Cannetti.png\n"
     ]
    },
    {
     "name": "stderr",
     "output_type": "stream",
     "text": [
      "Downloading Fighter Images:  13%|█▎        | 562/4248 [18:45<2:13:14,  2.17s/it]"
     ]
    },
    {
     "name": "stdout",
     "output_type": "stream",
     "text": [
      "Image successfully downloaded for Jared Cannonier: C:\\Users\\palet\\OneDrive\\Desktop\\UNI_FINAL\\Git\\MMA-Predict\\Data\\Images\\Jared_Cannonier.png\n"
     ]
    },
    {
     "name": "stderr",
     "output_type": "stream",
     "text": [
      "Downloading Fighter Images:  13%|█▎        | 563/4248 [18:46<1:40:54,  1.64s/it]"
     ]
    },
    {
     "name": "stdout",
     "output_type": "stream",
     "text": [
      "Error fetching data for Jose Canseco: 403 Client Error: Forbidden for url: https://www.ufc.com/athlete/jose-canseco\n"
     ]
    },
    {
     "name": "stderr",
     "output_type": "stream",
     "text": [
      "Downloading Fighter Images:  13%|█▎        | 564/4248 [18:50<2:30:41,  2.45s/it]"
     ]
    },
    {
     "name": "stdout",
     "output_type": "stream",
     "text": [
      "No image found for Cody Canterbury at https://www.ufc.com/athlete/cody-canterbury\n"
     ]
    },
    {
     "name": "stderr",
     "output_type": "stream",
     "text": [
      "Downloading Fighter Images:  13%|█▎        | 565/4248 [18:51<1:55:23,  1.88s/it]"
     ]
    },
    {
     "name": "stdout",
     "output_type": "stream",
     "text": [
      "Error fetching data for Bo Cantrell: 403 Client Error: Forbidden for url: https://www.ufc.com/athlete/bo-cantrell\n"
     ]
    },
    {
     "name": "stderr",
     "output_type": "stream",
     "text": [
      "Downloading Fighter Images:  13%|█▎        | 566/4248 [18:53<2:08:19,  2.09s/it]"
     ]
    },
    {
     "name": "stdout",
     "output_type": "stream",
     "text": [
      "No image found for Steve Cantwell at https://www.ufc.com/athlete/steve-cantwell\n"
     ]
    },
    {
     "name": "stderr",
     "output_type": "stream",
     "text": [
      "Downloading Fighter Images:  13%|█▎        | 567/4248 [18:58<2:53:18,  2.82s/it]"
     ]
    },
    {
     "name": "stdout",
     "output_type": "stream",
     "text": [
      "No image found for Paul Capaldo at https://www.ufc.com/athlete/paul-capaldo\n"
     ]
    },
    {
     "name": "stderr",
     "output_type": "stream",
     "text": [
      "Downloading Fighter Images:  13%|█▎        | 568/4248 [19:03<3:41:33,  3.61s/it]"
     ]
    },
    {
     "name": "stdout",
     "output_type": "stream",
     "text": [
      "Image successfully downloaded for Phil Caracappa: C:\\Users\\palet\\OneDrive\\Desktop\\UNI_FINAL\\Git\\MMA-Predict\\Data\\Images\\Phil_Caracappa.png\n"
     ]
    },
    {
     "name": "stderr",
     "output_type": "stream",
     "text": [
      "Downloading Fighter Images:  13%|█▎        | 569/4248 [19:05<3:14:40,  3.17s/it]"
     ]
    },
    {
     "name": "stdout",
     "output_type": "stream",
     "text": [
      "No image found for Frank Caracci at https://www.ufc.com/athlete/frank-caracci\n"
     ]
    },
    {
     "name": "stderr",
     "output_type": "stream",
     "text": [
      "Downloading Fighter Images:  13%|█▎        | 570/4248 [19:10<3:36:59,  3.54s/it]"
     ]
    },
    {
     "name": "stdout",
     "output_type": "stream",
     "text": [
      "No image found for Gina Carano at https://www.ufc.com/athlete/gina-carano\n"
     ]
    },
    {
     "name": "stderr",
     "output_type": "stream",
     "text": [
      "Downloading Fighter Images:  13%|█▎        | 571/4248 [19:10<2:39:40,  2.61s/it]"
     ]
    },
    {
     "name": "stdout",
     "output_type": "stream",
     "text": [
      "No image found for Dos Caras Jr. at https://www.ufc.com/athlete/dos-caras jr.\n"
     ]
    },
    {
     "name": "stderr",
     "output_type": "stream",
     "text": [
      "Downloading Fighter Images:  13%|█▎        | 572/4248 [19:12<2:33:48,  2.51s/it]"
     ]
    },
    {
     "name": "stdout",
     "output_type": "stream",
     "text": [
      "Image successfully downloaded for Bryan Caraway: C:\\Users\\palet\\OneDrive\\Desktop\\UNI_FINAL\\Git\\MMA-Predict\\Data\\Images\\Bryan_Caraway.png\n"
     ]
    },
    {
     "name": "stderr",
     "output_type": "stream",
     "text": [
      "Downloading Fighter Images:  13%|█▎        | 573/4248 [19:13<1:59:04,  1.94s/it]"
     ]
    },
    {
     "name": "stdout",
     "output_type": "stream",
     "text": [
      "Error fetching data for Remo Cardarelli: 403 Client Error: Forbidden for url: https://www.ufc.com/athlete/remo-cardarelli\n"
     ]
    },
    {
     "name": "stderr",
     "output_type": "stream",
     "text": [
      "Downloading Fighter Images:  14%|█▎        | 574/4248 [19:18<2:46:57,  2.73s/it]"
     ]
    },
    {
     "name": "stdout",
     "output_type": "stream",
     "text": [
      "No image found for Phil Cardella at https://www.ufc.com/athlete/phil-cardella\n"
     ]
    },
    {
     "name": "stderr",
     "output_type": "stream",
     "text": [
      "Downloading Fighter Images:  14%|█▎        | 575/4248 [19:22<3:19:16,  3.26s/it]"
     ]
    },
    {
     "name": "stdout",
     "output_type": "stream",
     "text": [
      "No image found for Edgar Cardenas at https://www.ufc.com/athlete/edgar-cardenas\n"
     ]
    },
    {
     "name": "stderr",
     "output_type": "stream",
     "text": [
      "Downloading Fighter Images:  14%|█▎        | 576/4248 [19:25<3:12:19,  3.14s/it]"
     ]
    },
    {
     "name": "stdout",
     "output_type": "stream",
     "text": [
      "Image successfully downloaded for Chris Cariaso: C:\\Users\\palet\\OneDrive\\Desktop\\UNI_FINAL\\Git\\MMA-Predict\\Data\\Images\\Chris_Cariaso.png\n"
     ]
    },
    {
     "name": "stderr",
     "output_type": "stream",
     "text": [
      "Downloading Fighter Images:  14%|█▎        | 577/4248 [19:29<3:34:40,  3.51s/it]"
     ]
    },
    {
     "name": "stdout",
     "output_type": "stream",
     "text": [
      "No image found for Ronald Carillo at https://www.ufc.com/athlete/ronald-carillo\n"
     ]
    },
    {
     "name": "stderr",
     "output_type": "stream",
     "text": [
      "Downloading Fighter Images:  14%|█▎        | 578/4248 [19:31<3:04:16,  3.01s/it]"
     ]
    },
    {
     "name": "stdout",
     "output_type": "stream",
     "text": [
      "No image found for Rafael Carino at https://www.ufc.com/athlete/rafael-carino\n"
     ]
    },
    {
     "name": "stderr",
     "output_type": "stream",
     "text": [
      "Downloading Fighter Images:  14%|█▎        | 579/4248 [19:36<3:29:31,  3.43s/it]"
     ]
    },
    {
     "name": "stdout",
     "output_type": "stream",
     "text": [
      "No image found for Don Carlo-Clauss at https://www.ufc.com/athlete/don-carlo-clauss\n"
     ]
    },
    {
     "name": "stderr",
     "output_type": "stream",
     "text": [
      "Downloading Fighter Images:  14%|█▎        | 580/4248 [19:36<2:33:00,  2.50s/it]"
     ]
    },
    {
     "name": "stdout",
     "output_type": "stream",
     "text": [
      "No image found for Antonio Carlos Junior at https://www.ufc.com/athlete/antonio-carlos junior\n"
     ]
    },
    {
     "name": "stderr",
     "output_type": "stream",
     "text": [
      "Downloading Fighter Images:  14%|█▎        | 581/4248 [19:38<2:24:20,  2.36s/it]"
     ]
    },
    {
     "name": "stdout",
     "output_type": "stream",
     "text": [
      "Image successfully downloaded for Spike Carlyle: C:\\Users\\palet\\OneDrive\\Desktop\\UNI_FINAL\\Git\\MMA-Predict\\Data\\Images\\Spike_Carlyle.png\n"
     ]
    },
    {
     "name": "stderr",
     "output_type": "stream",
     "text": [
      "Downloading Fighter Images:  14%|█▎        | 582/4248 [19:41<2:36:10,  2.56s/it]"
     ]
    },
    {
     "name": "stdout",
     "output_type": "stream",
     "text": [
      "Image successfully downloaded for Francis Carmont: C:\\Users\\palet\\OneDrive\\Desktop\\UNI_FINAL\\Git\\MMA-Predict\\Data\\Images\\Francis_Carmont.png\n"
     ]
    },
    {
     "name": "stderr",
     "output_type": "stream",
     "text": [
      "Downloading Fighter Images:  14%|█▎        | 583/4248 [19:44<2:37:39,  2.58s/it]"
     ]
    },
    {
     "name": "stdout",
     "output_type": "stream",
     "text": [
      "Image successfully downloaded for Liz Carmouche: C:\\Users\\palet\\OneDrive\\Desktop\\UNI_FINAL\\Git\\MMA-Predict\\Data\\Images\\Liz_Carmouche.png\n"
     ]
    },
    {
     "name": "stderr",
     "output_type": "stream",
     "text": [
      "Downloading Fighter Images:  14%|█▎        | 584/4248 [19:46<2:41:28,  2.64s/it]"
     ]
    },
    {
     "name": "stdout",
     "output_type": "stream",
     "text": [
      "Image successfully downloaded for Roan Carneiro: C:\\Users\\palet\\OneDrive\\Desktop\\UNI_FINAL\\Git\\MMA-Predict\\Data\\Images\\Roan_Carneiro.png\n"
     ]
    },
    {
     "name": "stderr",
     "output_type": "stream",
     "text": [
      "Downloading Fighter Images:  14%|█▍        | 585/4248 [19:49<2:44:08,  2.69s/it]"
     ]
    },
    {
     "name": "stdout",
     "output_type": "stream",
     "text": [
      "Image successfully downloaded for Ariane Carnelossi: C:\\Users\\palet\\OneDrive\\Desktop\\UNI_FINAL\\Git\\MMA-Predict\\Data\\Images\\Ariane_Carnelossi.png\n"
     ]
    },
    {
     "name": "stderr",
     "output_type": "stream",
     "text": [
      "Downloading Fighter Images:  14%|█▍        | 586/4248 [19:53<3:02:34,  2.99s/it]"
     ]
    },
    {
     "name": "stdout",
     "output_type": "stream",
     "text": [
      "Image successfully downloaded for Luana Carolina: C:\\Users\\palet\\OneDrive\\Desktop\\UNI_FINAL\\Git\\MMA-Predict\\Data\\Images\\Luana_Carolina.png\n"
     ]
    },
    {
     "name": "stderr",
     "output_type": "stream",
     "text": [
      "Downloading Fighter Images:  14%|█▍        | 587/4248 [19:58<3:46:45,  3.72s/it]"
     ]
    },
    {
     "name": "stdout",
     "output_type": "stream",
     "text": [
      "Image successfully downloaded for Tim Caron: C:\\Users\\palet\\OneDrive\\Desktop\\UNI_FINAL\\Git\\MMA-Predict\\Data\\Images\\Tim_Caron.png\n"
     ]
    },
    {
     "name": "stderr",
     "output_type": "stream",
     "text": [
      "Downloading Fighter Images:  14%|█▍        | 588/4248 [20:01<3:34:22,  3.51s/it]"
     ]
    },
    {
     "name": "stdout",
     "output_type": "stream",
     "text": [
      "Image successfully downloaded for Clayton Carpenter: C:\\Users\\palet\\OneDrive\\Desktop\\UNI_FINAL\\Git\\MMA-Predict\\Data\\Images\\Clayton_Carpenter.png\n"
     ]
    },
    {
     "name": "stderr",
     "output_type": "stream",
     "text": [
      "Downloading Fighter Images:  14%|█▍        | 589/4248 [20:02<2:37:47,  2.59s/it]"
     ]
    },
    {
     "name": "stdout",
     "output_type": "stream",
     "text": [
      "Error fetching data for Gabriel Carrasco: 403 Client Error: Forbidden for url: https://www.ufc.com/athlete/gabriel-carrasco\n"
     ]
    },
    {
     "name": "stderr",
     "output_type": "stream",
     "text": [
      "Downloading Fighter Images:  14%|█▍        | 590/4248 [20:02<1:58:47,  1.95s/it]"
     ]
    },
    {
     "name": "stdout",
     "output_type": "stream",
     "text": [
      "Error fetching data for Cody Carrillo: 403 Client Error: Forbidden for url: https://www.ufc.com/athlete/cody-carrillo\n"
     ]
    },
    {
     "name": "stderr",
     "output_type": "stream",
     "text": [
      "Downloading Fighter Images:  14%|█▍        | 591/4248 [20:05<2:19:25,  2.29s/it]"
     ]
    },
    {
     "name": "stdout",
     "output_type": "stream",
     "text": [
      "Image successfully downloaded for Cain Carrizosa: C:\\Users\\palet\\OneDrive\\Desktop\\UNI_FINAL\\Git\\MMA-Predict\\Data\\Images\\Cain_Carrizosa.png\n"
     ]
    },
    {
     "name": "stderr",
     "output_type": "stream",
     "text": [
      "Downloading Fighter Images:  14%|█▍        | 592/4248 [20:06<1:45:27,  1.73s/it]"
     ]
    },
    {
     "name": "stdout",
     "output_type": "stream",
     "text": [
      "Error fetching data for Roger Carroll: 403 Client Error: Forbidden for url: https://www.ufc.com/athlete/roger-carroll\n"
     ]
    },
    {
     "name": "stderr",
     "output_type": "stream",
     "text": [
      "Downloading Fighter Images:  14%|█▍        | 593/4248 [20:10<2:38:30,  2.60s/it]"
     ]
    },
    {
     "name": "stdout",
     "output_type": "stream",
     "text": [
      "No image found for Jonny Carson at https://www.ufc.com/athlete/jonny-carson\n"
     ]
    },
    {
     "name": "stderr",
     "output_type": "stream",
     "text": [
      "Downloading Fighter Images:  14%|█▍        | 594/4248 [20:15<3:12:30,  3.16s/it]"
     ]
    },
    {
     "name": "stdout",
     "output_type": "stream",
     "text": [
      "No image found for Scott Carson at https://www.ufc.com/athlete/scott-carson\n"
     ]
    },
    {
     "name": "stderr",
     "output_type": "stream",
     "text": [
      "Downloading Fighter Images:  14%|█▍        | 595/4248 [20:17<2:49:52,  2.79s/it]"
     ]
    },
    {
     "name": "stdout",
     "output_type": "stream",
     "text": [
      "No image found for Shonie Carter at https://www.ufc.com/athlete/shonie-carter\n"
     ]
    },
    {
     "name": "stderr",
     "output_type": "stream",
     "text": [
      "Downloading Fighter Images:  14%|█▍        | 596/4248 [20:22<3:42:42,  3.66s/it]"
     ]
    },
    {
     "name": "stdout",
     "output_type": "stream",
     "text": [
      "Image successfully downloaded for Jack Cartwright: C:\\Users\\palet\\OneDrive\\Desktop\\UNI_FINAL\\Git\\MMA-Predict\\Data\\Images\\Jack_Cartwright.png\n"
     ]
    },
    {
     "name": "stderr",
     "output_type": "stream",
     "text": [
      "Downloading Fighter Images:  14%|█▍        | 597/4248 [20:23<2:43:17,  2.68s/it]"
     ]
    },
    {
     "name": "stdout",
     "output_type": "stream",
     "text": [
      "Error fetching data for Bruno Carvalho: 403 Client Error: Forbidden for url: https://www.ufc.com/athlete/bruno-carvalho\n"
     ]
    },
    {
     "name": "stderr",
     "output_type": "stream",
     "text": [
      "Downloading Fighter Images:  14%|█▍        | 598/4248 [20:25<2:29:27,  2.46s/it]"
     ]
    },
    {
     "name": "stdout",
     "output_type": "stream",
     "text": [
      "No image found for Antonio Carvalho at https://www.ufc.com/athlete/antonio-carvalho\n"
     ]
    },
    {
     "name": "stderr",
     "output_type": "stream",
     "text": [
      "Downloading Fighter Images:  14%|█▍        | 599/4248 [20:25<1:57:21,  1.93s/it]"
     ]
    },
    {
     "name": "stdout",
     "output_type": "stream",
     "text": [
      "Error fetching data for Rafael Carvalho: 403 Client Error: Forbidden for url: https://www.ufc.com/athlete/rafael-carvalho\n"
     ]
    },
    {
     "name": "stderr",
     "output_type": "stream",
     "text": [
      "Downloading Fighter Images:  14%|█▍        | 600/4248 [20:28<2:10:04,  2.14s/it]"
     ]
    },
    {
     "name": "stdout",
     "output_type": "stream",
     "text": [
      "No image found for Shane Carwin at https://www.ufc.com/athlete/shane-carwin\n"
     ]
    },
    {
     "name": "stderr",
     "output_type": "stream",
     "text": [
      "Downloading Fighter Images:  14%|█▍        | 601/4248 [20:31<2:26:32,  2.41s/it]"
     ]
    },
    {
     "name": "stdout",
     "output_type": "stream",
     "text": [
      "Image successfully downloaded for Johnny Case: C:\\Users\\palet\\OneDrive\\Desktop\\UNI_FINAL\\Git\\MMA-Predict\\Data\\Images\\Johnny_Case.png\n"
     ]
    },
    {
     "name": "stderr",
     "output_type": "stream",
     "text": [
      "Downloading Fighter Images:  14%|█▍        | 602/4248 [20:33<2:21:53,  2.34s/it]"
     ]
    },
    {
     "name": "stdout",
     "output_type": "stream",
     "text": [
      "Image successfully downloaded for Kevin Casey: C:\\Users\\palet\\OneDrive\\Desktop\\UNI_FINAL\\Git\\MMA-Predict\\Data\\Images\\Kevin_Casey.png\n"
     ]
    },
    {
     "name": "stderr",
     "output_type": "stream",
     "text": [
      "Downloading Fighter Images:  14%|█▍        | 603/4248 [20:36<2:21:52,  2.34s/it]"
     ]
    },
    {
     "name": "stdout",
     "output_type": "stream",
     "text": [
      "Image successfully downloaded for Cortney Casey: C:\\Users\\palet\\OneDrive\\Desktop\\UNI_FINAL\\Git\\MMA-Predict\\Data\\Images\\Cortney_Casey.png\n"
     ]
    },
    {
     "name": "stderr",
     "output_type": "stream",
     "text": [
      "Downloading Fighter Images:  14%|█▍        | 604/4248 [20:40<3:04:57,  3.05s/it]"
     ]
    },
    {
     "name": "stdout",
     "output_type": "stream",
     "text": [
      "No image found for Brandon Cash at https://www.ufc.com/athlete/brandon-cash\n"
     ]
    },
    {
     "name": "stderr",
     "output_type": "stream",
     "text": [
      "Downloading Fighter Images:  14%|█▍        | 605/4248 [20:45<3:28:19,  3.43s/it]"
     ]
    },
    {
     "name": "stdout",
     "output_type": "stream",
     "text": [
      "No image found for Bendy Casimir at https://www.ufc.com/athlete/bendy-casimir\n"
     ]
    },
    {
     "name": "stderr",
     "output_type": "stream",
     "text": [
      "Downloading Fighter Images:  14%|█▍        | 606/4248 [20:45<2:32:23,  2.51s/it]"
     ]
    },
    {
     "name": "stdout",
     "output_type": "stream",
     "text": [
      "No image found for Dwayne Cason at https://www.ufc.com/athlete/dwayne-cason\n"
     ]
    },
    {
     "name": "stderr",
     "output_type": "stream",
     "text": [
      "Downloading Fighter Images:  14%|█▍        | 607/4248 [20:50<3:16:25,  3.24s/it]"
     ]
    },
    {
     "name": "stdout",
     "output_type": "stream",
     "text": [
      "No image found for Joe Cason at https://www.ufc.com/athlete/joe-cason\n"
     ]
    },
    {
     "name": "stderr",
     "output_type": "stream",
     "text": [
      "Downloading Fighter Images:  14%|█▍        | 608/4248 [20:53<3:16:31,  3.24s/it]"
     ]
    },
    {
     "name": "stdout",
     "output_type": "stream",
     "text": [
      "Image successfully downloaded for John Castaneda: C:\\Users\\palet\\OneDrive\\Desktop\\UNI_FINAL\\Git\\MMA-Predict\\Data\\Images\\John_Castaneda.png\n"
     ]
    },
    {
     "name": "stderr",
     "output_type": "stream",
     "text": [
      "Downloading Fighter Images:  14%|█▍        | 609/4248 [20:58<3:44:20,  3.70s/it]"
     ]
    },
    {
     "name": "stdout",
     "output_type": "stream",
     "text": [
      "No image found for Eric Castile at https://www.ufc.com/athlete/eric-castile\n"
     ]
    },
    {
     "name": "stderr",
     "output_type": "stream",
     "text": [
      "Downloading Fighter Images:  14%|█▍        | 610/4248 [21:00<3:17:23,  3.26s/it]"
     ]
    },
    {
     "name": "stdout",
     "output_type": "stream",
     "text": [
      "No image found for Gil Castillo at https://www.ufc.com/athlete/gil-castillo\n"
     ]
    },
    {
     "name": "stderr",
     "output_type": "stream",
     "text": [
      "Downloading Fighter Images:  14%|█▍        | 611/4248 [21:04<3:18:49,  3.28s/it]"
     ]
    },
    {
     "name": "stdout",
     "output_type": "stream",
     "text": [
      "Image successfully downloaded for Danny Castillo: C:\\Users\\palet\\OneDrive\\Desktop\\UNI_FINAL\\Git\\MMA-Predict\\Data\\Images\\Danny_Castillo.png\n"
     ]
    },
    {
     "name": "stderr",
     "output_type": "stream",
     "text": [
      "Downloading Fighter Images:  14%|█▍        | 612/4248 [21:04<2:28:56,  2.46s/it]"
     ]
    },
    {
     "name": "stdout",
     "output_type": "stream",
     "text": [
      "Error fetching data for Raul Castillo: 403 Client Error: Forbidden for url: https://www.ufc.com/athlete/raul-castillo\n"
     ]
    },
    {
     "name": "stderr",
     "output_type": "stream",
     "text": [
      "Downloading Fighter Images:  14%|█▍        | 613/4248 [21:09<3:05:29,  3.06s/it]"
     ]
    },
    {
     "name": "stdout",
     "output_type": "stream",
     "text": [
      "No image found for Jenna Castillo at https://www.ufc.com/athlete/jenna-castillo\n"
     ]
    },
    {
     "name": "stderr",
     "output_type": "stream",
     "text": [
      "Downloading Fighter Images:  14%|█▍        | 614/4248 [21:13<3:27:34,  3.43s/it]"
     ]
    },
    {
     "name": "stdout",
     "output_type": "stream",
     "text": [
      "No image found for Tim Catalfo at https://www.ufc.com/athlete/tim-catalfo\n"
     ]
    },
    {
     "name": "stderr",
     "output_type": "stream",
     "text": [
      "Downloading Fighter Images:  14%|█▍        | 615/4248 [21:16<3:17:01,  3.25s/it]"
     ]
    },
    {
     "name": "stdout",
     "output_type": "stream",
     "text": [
      "Image successfully downloaded for Nick Catone: C:\\Users\\palet\\OneDrive\\Desktop\\UNI_FINAL\\Git\\MMA-Predict\\Data\\Images\\Nick_Catone.png\n"
     ]
    },
    {
     "name": "stderr",
     "output_type": "stream",
     "text": [
      "Downloading Fighter Images:  15%|█▍        | 616/4248 [21:18<2:51:59,  2.84s/it]"
     ]
    },
    {
     "name": "stdout",
     "output_type": "stream",
     "text": [
      "No image found for Luke Caudillo at https://www.ufc.com/athlete/luke-caudillo\n"
     ]
    },
    {
     "name": "stderr",
     "output_type": "stream",
     "text": [
      "Downloading Fighter Images:  15%|█▍        | 617/4248 [21:20<2:37:34,  2.60s/it]"
     ]
    },
    {
     "name": "stdout",
     "output_type": "stream",
     "text": [
      "No image found for Gesias Cavalcante at https://www.ufc.com/athlete/gesias-cavalcante\n"
     ]
    },
    {
     "name": "stderr",
     "output_type": "stream",
     "text": [
      "Downloading Fighter Images:  15%|█▍        | 618/4248 [21:23<2:47:47,  2.77s/it]"
     ]
    },
    {
     "name": "stdout",
     "output_type": "stream",
     "text": [
      "Image successfully downloaded for Rafael Cavalcante: C:\\Users\\palet\\OneDrive\\Desktop\\UNI_FINAL\\Git\\MMA-Predict\\Data\\Images\\Rafael_Cavalcante.png\n"
     ]
    },
    {
     "name": "stderr",
     "output_type": "stream",
     "text": [
      "Downloading Fighter Images:  15%|█▍        | 619/4248 [21:25<2:38:25,  2.62s/it]"
     ]
    },
    {
     "name": "stdout",
     "output_type": "stream",
     "text": [
      "Image successfully downloaded for Jacqueline Cavalcanti: C:\\Users\\palet\\OneDrive\\Desktop\\UNI_FINAL\\Git\\MMA-Predict\\Data\\Images\\Jacqueline_Cavalcanti.png\n"
     ]
    },
    {
     "name": "stderr",
     "output_type": "stream",
     "text": [
      "Downloading Fighter Images:  15%|█▍        | 620/4248 [21:25<1:56:52,  1.93s/it]"
     ]
    },
    {
     "name": "stdout",
     "output_type": "stream",
     "text": [
      "No image found for Igor Cavalcanti at https://www.ufc.com/athlete/igor-cavalcanti\n"
     ]
    },
    {
     "name": "stderr",
     "output_type": "stream",
     "text": [
      "Downloading Fighter Images:  15%|█▍        | 621/4248 [21:28<2:06:04,  2.09s/it]"
     ]
    },
    {
     "name": "stdout",
     "output_type": "stream",
     "text": [
      "Image successfully downloaded for Magnus Cedenblad: C:\\Users\\palet\\OneDrive\\Desktop\\UNI_FINAL\\Git\\MMA-Predict\\Data\\Images\\Magnus_Cedenblad.png\n"
     ]
    },
    {
     "name": "stderr",
     "output_type": "stream",
     "text": [
      "Downloading Fighter Images:  15%|█▍        | 622/4248 [21:33<3:05:43,  3.07s/it]"
     ]
    },
    {
     "name": "stdout",
     "output_type": "stream",
     "text": [
      "Image successfully downloaded for Yosdenis Cedeno: C:\\Users\\palet\\OneDrive\\Desktop\\UNI_FINAL\\Git\\MMA-Predict\\Data\\Images\\Yosdenis_Cedeno.png\n"
     ]
    },
    {
     "name": "stderr",
     "output_type": "stream",
     "text": [
      "Downloading Fighter Images:  15%|█▍        | 623/4248 [21:36<2:59:03,  2.96s/it]"
     ]
    },
    {
     "name": "stdout",
     "output_type": "stream",
     "text": [
      "Image successfully downloaded for Henry Cejudo: C:\\Users\\palet\\OneDrive\\Desktop\\UNI_FINAL\\Git\\MMA-Predict\\Data\\Images\\Henry_Cejudo.png\n"
     ]
    },
    {
     "name": "stderr",
     "output_type": "stream",
     "text": [
      "Downloading Fighter Images:  15%|█▍        | 624/4248 [21:38<2:47:57,  2.78s/it]"
     ]
    },
    {
     "name": "stdout",
     "output_type": "stream",
     "text": [
      "No image found for Adam Cella at https://www.ufc.com/athlete/adam-cella\n"
     ]
    },
    {
     "name": "stderr",
     "output_type": "stream",
     "text": [
      "Downloading Fighter Images:  15%|█▍        | 625/4248 [21:44<3:34:47,  3.56s/it]"
     ]
    },
    {
     "name": "stdout",
     "output_type": "stream",
     "text": [
      "Image successfully downloaded for Vinicius Cenci: C:\\Users\\palet\\OneDrive\\Desktop\\UNI_FINAL\\Git\\MMA-Predict\\Data\\Images\\Vinicius_Cenci.png\n"
     ]
    },
    {
     "name": "stderr",
     "output_type": "stream",
     "text": [
      "Downloading Fighter Images:  15%|█▍        | 626/4248 [21:46<3:20:46,  3.33s/it]"
     ]
    },
    {
     "name": "stdout",
     "output_type": "stream",
     "text": [
      "Image successfully downloaded for Katlyn Cerminara: C:\\Users\\palet\\OneDrive\\Desktop\\UNI_FINAL\\Git\\MMA-Predict\\Data\\Images\\Katlyn_Cerminara.png\n"
     ]
    },
    {
     "name": "stderr",
     "output_type": "stream",
     "text": [
      "Downloading Fighter Images:  15%|█▍        | 627/4248 [21:48<2:57:25,  2.94s/it]"
     ]
    },
    {
     "name": "stdout",
     "output_type": "stream",
     "text": [
      "Image successfully downloaded for Rafael Cerqueira: C:\\Users\\palet\\OneDrive\\Desktop\\UNI_FINAL\\Git\\MMA-Predict\\Data\\Images\\Rafael_Cerqueira.png\n"
     ]
    },
    {
     "name": "stderr",
     "output_type": "stream",
     "text": [
      "Downloading Fighter Images:  15%|█▍        | 628/4248 [21:51<2:51:25,  2.84s/it]"
     ]
    },
    {
     "name": "stdout",
     "output_type": "stream",
     "text": [
      "Image successfully downloaded for Donald Cerrone: C:\\Users\\palet\\OneDrive\\Desktop\\UNI_FINAL\\Git\\MMA-Predict\\Data\\Images\\Donald_Cerrone.png\n"
     ]
    },
    {
     "name": "stderr",
     "output_type": "stream",
     "text": [
      "Downloading Fighter Images:  15%|█▍        | 629/4248 [21:52<2:12:55,  2.20s/it]"
     ]
    },
    {
     "name": "stdout",
     "output_type": "stream",
     "text": [
      "Error fetching data for Jared Chaffee: 403 Client Error: Forbidden for url: https://www.ufc.com/athlete/jared-chaffee\n"
     ]
    },
    {
     "name": "stderr",
     "output_type": "stream",
     "text": [
      "Downloading Fighter Images:  15%|█▍        | 630/4248 [21:54<2:22:32,  2.36s/it]"
     ]
    },
    {
     "name": "stdout",
     "output_type": "stream",
     "text": [
      "Image successfully downloaded for Luan Chagas: C:\\Users\\palet\\OneDrive\\Desktop\\UNI_FINAL\\Git\\MMA-Predict\\Data\\Images\\Luan_Chagas.png\n"
     ]
    },
    {
     "name": "stderr",
     "output_type": "stream",
     "text": [
      "Downloading Fighter Images:  15%|█▍        | 631/4248 [21:57<2:29:56,  2.49s/it]"
     ]
    },
    {
     "name": "stdout",
     "output_type": "stream",
     "text": [
      "Image successfully downloaded for Edgar Chairez: C:\\Users\\palet\\OneDrive\\Desktop\\UNI_FINAL\\Git\\MMA-Predict\\Data\\Images\\Edgar_Chairez.png\n"
     ]
    },
    {
     "name": "stderr",
     "output_type": "stream",
     "text": [
      "Downloading Fighter Images:  15%|█▍        | 632/4248 [22:00<2:31:21,  2.51s/it]"
     ]
    },
    {
     "name": "stdout",
     "output_type": "stream",
     "text": [
      "No image found for Ansar Chalangov at https://www.ufc.com/athlete/ansar-chalangov\n"
     ]
    },
    {
     "name": "stderr",
     "output_type": "stream",
     "text": [
      "Downloading Fighter Images:  15%|█▍        | 633/4248 [22:02<2:30:10,  2.49s/it]"
     ]
    },
    {
     "name": "stdout",
     "output_type": "stream",
     "text": [
      "Image successfully downloaded for Alex Chambers: C:\\Users\\palet\\OneDrive\\Desktop\\UNI_FINAL\\Git\\MMA-Predict\\Data\\Images\\Alex_Chambers.png\n"
     ]
    },
    {
     "name": "stderr",
     "output_type": "stream",
     "text": [
      "Downloading Fighter Images:  15%|█▍        | 634/4248 [22:05<2:34:39,  2.57s/it]"
     ]
    },
    {
     "name": "stdout",
     "output_type": "stream",
     "text": [
      "Image successfully downloaded for Michael Chandler: C:\\Users\\palet\\OneDrive\\Desktop\\UNI_FINAL\\Git\\MMA-Predict\\Data\\Images\\Michael_Chandler.png\n"
     ]
    },
    {
     "name": "stderr",
     "output_type": "stream",
     "text": [
      "Downloading Fighter Images:  15%|█▍        | 635/4248 [22:07<2:27:56,  2.46s/it]"
     ]
    },
    {
     "name": "stdout",
     "output_type": "stream",
     "text": [
      "Image successfully downloaded for Chelsea Chandler: C:\\Users\\palet\\OneDrive\\Desktop\\UNI_FINAL\\Git\\MMA-Predict\\Data\\Images\\Chelsea_Chandler.png\n"
     ]
    },
    {
     "name": "stderr",
     "output_type": "stream",
     "text": [
      "Downloading Fighter Images:  15%|█▍        | 636/4248 [22:09<2:21:31,  2.35s/it]"
     ]
    },
    {
     "name": "stdout",
     "output_type": "stream",
     "text": [
      "No image found for Donnie Chappell at https://www.ufc.com/athlete/donnie-chappell\n"
     ]
    },
    {
     "name": "stderr",
     "output_type": "stream",
     "text": [
      "Downloading Fighter Images:  15%|█▍        | 637/4248 [22:12<2:19:17,  2.31s/it]"
     ]
    },
    {
     "name": "stdout",
     "output_type": "stream",
     "text": [
      "No image found for Joe Charles at https://www.ufc.com/athlete/joe-charles\n"
     ]
    },
    {
     "name": "stderr",
     "output_type": "stream",
     "text": [
      "Downloading Fighter Images:  15%|█▌        | 638/4248 [22:12<1:43:03,  1.71s/it]"
     ]
    },
    {
     "name": "stdout",
     "output_type": "stream",
     "text": [
      "No image found for Dan Charles at https://www.ufc.com/athlete/dan-charles\n"
     ]
    },
    {
     "name": "stderr",
     "output_type": "stream",
     "text": [
      "Downloading Fighter Images:  15%|█▌        | 639/4248 [22:14<1:55:07,  1.91s/it]"
     ]
    },
    {
     "name": "stdout",
     "output_type": "stream",
     "text": [
      "Image successfully downloaded for Morgan Charriere: C:\\Users\\palet\\OneDrive\\Desktop\\UNI_FINAL\\Git\\MMA-Predict\\Data\\Images\\Morgan_Charriere.png\n"
     ]
    },
    {
     "name": "stderr",
     "output_type": "stream",
     "text": [
      "Downloading Fighter Images:  15%|█▌        | 640/4248 [22:17<2:16:12,  2.27s/it]"
     ]
    },
    {
     "name": "stdout",
     "output_type": "stream",
     "text": [
      "Image successfully downloaded for Ernest Chavez: C:\\Users\\palet\\OneDrive\\Desktop\\UNI_FINAL\\Git\\MMA-Predict\\Data\\Images\\Ernest_Chavez.png\n"
     ]
    },
    {
     "name": "stderr",
     "output_type": "stream",
     "text": [
      "Downloading Fighter Images:  15%|█▌        | 641/4248 [22:18<1:44:40,  1.74s/it]"
     ]
    },
    {
     "name": "stdout",
     "output_type": "stream",
     "text": [
      "Error fetching data for Emilio Chavez: 403 Client Error: Forbidden for url: https://www.ufc.com/athlete/emilio-chavez\n"
     ]
    },
    {
     "name": "stderr",
     "output_type": "stream",
     "text": [
      "Downloading Fighter Images:  15%|█▌        | 642/4248 [22:20<1:53:10,  1.88s/it]"
     ]
    },
    {
     "name": "stdout",
     "output_type": "stream",
     "text": [
      "Image successfully downloaded for Danny Chavez: C:\\Users\\palet\\OneDrive\\Desktop\\UNI_FINAL\\Git\\MMA-Predict\\Data\\Images\\Danny_Chavez.png\n"
     ]
    },
    {
     "name": "stderr",
     "output_type": "stream",
     "text": [
      "Downloading Fighter Images:  15%|█▌        | 643/4248 [22:25<2:53:41,  2.89s/it]"
     ]
    },
    {
     "name": "stdout",
     "output_type": "stream",
     "text": [
      "Image successfully downloaded for Gabriel Checco: C:\\Users\\palet\\OneDrive\\Desktop\\UNI_FINAL\\Git\\MMA-Predict\\Data\\Images\\Gabriel_Checco.png\n"
     ]
    },
    {
     "name": "stderr",
     "output_type": "stream",
     "text": [
      "Downloading Fighter Images:  15%|█▌        | 644/4248 [22:28<2:49:45,  2.83s/it]"
     ]
    },
    {
     "name": "stdout",
     "output_type": "stream",
     "text": [
      "Image successfully downloaded for Albert Cheng: C:\\Users\\palet\\OneDrive\\Desktop\\UNI_FINAL\\Git\\MMA-Predict\\Data\\Images\\Albert_Cheng.png\n"
     ]
    },
    {
     "name": "stderr",
     "output_type": "stream",
     "text": [
      "Downloading Fighter Images:  15%|█▌        | 645/4248 [22:30<2:42:41,  2.71s/it]"
     ]
    },
    {
     "name": "stdout",
     "output_type": "stream",
     "text": [
      "Image successfully downloaded for Fabio Cherant: C:\\Users\\palet\\OneDrive\\Desktop\\UNI_FINAL\\Git\\MMA-Predict\\Data\\Images\\Fabio_Cherant.png\n"
     ]
    },
    {
     "name": "stderr",
     "output_type": "stream",
     "text": [
      "Downloading Fighter Images:  15%|█▌        | 646/4248 [22:31<2:03:42,  2.06s/it]"
     ]
    },
    {
     "name": "stdout",
     "output_type": "stream",
     "text": [
      "Error fetching data for Ion Cherdivara: 403 Client Error: Forbidden for url: https://www.ufc.com/athlete/ion-cherdivara\n"
     ]
    },
    {
     "name": "stderr",
     "output_type": "stream",
     "text": [
      "Downloading Fighter Images:  15%|█▌        | 647/4248 [22:37<3:10:54,  3.18s/it]"
     ]
    },
    {
     "name": "stdout",
     "output_type": "stream",
     "text": [
      "Image successfully downloaded for Mark Cherico: C:\\Users\\palet\\OneDrive\\Desktop\\UNI_FINAL\\Git\\MMA-Predict\\Data\\Images\\Mark_Cherico.png\n"
     ]
    },
    {
     "name": "stderr",
     "output_type": "stream",
     "text": [
      "Downloading Fighter Images:  15%|█▌        | 648/4248 [22:39<2:59:15,  2.99s/it]"
     ]
    },
    {
     "name": "stdout",
     "output_type": "stream",
     "text": [
      "Image successfully downloaded for Macy Chiasson: C:\\Users\\palet\\OneDrive\\Desktop\\UNI_FINAL\\Git\\MMA-Predict\\Data\\Images\\Macy_Chiasson.png\n"
     ]
    },
    {
     "name": "stderr",
     "output_type": "stream",
     "text": [
      "Downloading Fighter Images:  15%|█▌        | 649/4248 [22:40<2:16:47,  2.28s/it]"
     ]
    },
    {
     "name": "stdout",
     "output_type": "stream",
     "text": [
      "Image successfully downloaded for Michael Chiesa: C:\\Users\\palet\\OneDrive\\Desktop\\UNI_FINAL\\Git\\MMA-Predict\\Data\\Images\\Michael_Chiesa.png\n"
     ]
    },
    {
     "name": "stderr",
     "output_type": "stream",
     "text": [
      "Downloading Fighter Images:  15%|█▌        | 650/4248 [22:43<2:24:51,  2.42s/it]"
     ]
    },
    {
     "name": "stdout",
     "output_type": "stream",
     "text": [
      "Image successfully downloaded for Giga Chikadze: C:\\Users\\palet\\OneDrive\\Desktop\\UNI_FINAL\\Git\\MMA-Predict\\Data\\Images\\Giga_Chikadze.png\n"
     ]
    },
    {
     "name": "stderr",
     "output_type": "stream",
     "text": [
      "Downloading Fighter Images:  15%|█▌        | 651/4248 [22:43<1:47:37,  1.80s/it]"
     ]
    },
    {
     "name": "stdout",
     "output_type": "stream",
     "text": [
      "Image successfully downloaded for Khamzat Chimaev: C:\\Users\\palet\\OneDrive\\Desktop\\UNI_FINAL\\Git\\MMA-Predict\\Data\\Images\\Khamzat_Chimaev.png\n"
     ]
    },
    {
     "name": "stderr",
     "output_type": "stream",
     "text": [
      "Downloading Fighter Images:  15%|█▌        | 652/4248 [22:45<1:48:32,  1.81s/it]"
     ]
    },
    {
     "name": "stdout",
     "output_type": "stream",
     "text": [
      "No image found for Sako Chivitchian at https://www.ufc.com/athlete/sako-chivitchian\n"
     ]
    },
    {
     "name": "stderr",
     "output_type": "stream",
     "text": [
      "Downloading Fighter Images:  15%|█▌        | 653/4248 [22:45<1:24:00,  1.40s/it]"
     ]
    },
    {
     "name": "stdout",
     "output_type": "stream",
     "text": [
      "No image found for Mu Bae Choi at https://www.ufc.com/athlete/mu bae-choi\n"
     ]
    },
    {
     "name": "stderr",
     "output_type": "stream",
     "text": [
      "Downloading Fighter Images:  15%|█▌        | 654/4248 [22:46<1:05:25,  1.09s/it]"
     ]
    },
    {
     "name": "stdout",
     "output_type": "stream",
     "text": [
      "No image found for Hong Man Choi at https://www.ufc.com/athlete/hong man-choi\n"
     ]
    },
    {
     "name": "stderr",
     "output_type": "stream",
     "text": [
      "Downloading Fighter Images:  15%|█▌        | 655/4248 [22:46<52:58,  1.13it/s]  "
     ]
    },
    {
     "name": "stdout",
     "output_type": "stream",
     "text": [
      "Image successfully downloaded for Dooho Choi: C:\\Users\\palet\\OneDrive\\Desktop\\UNI_FINAL\\Git\\MMA-Predict\\Data\\Images\\Dooho_Choi.png\n"
     ]
    },
    {
     "name": "stderr",
     "output_type": "stream",
     "text": [
      "Downloading Fighter Images:  15%|█▌        | 656/4248 [22:49<1:23:35,  1.40s/it]"
     ]
    },
    {
     "name": "stdout",
     "output_type": "stream",
     "text": [
      "Image successfully downloaded for SeungWoo Choi: C:\\Users\\palet\\OneDrive\\Desktop\\UNI_FINAL\\Git\\MMA-Predict\\Data\\Images\\SeungWoo_Choi.png\n"
     ]
    },
    {
     "name": "stderr",
     "output_type": "stream",
     "text": [
      "Downloading Fighter Images:  15%|█▌        | 657/4248 [22:52<1:52:40,  1.88s/it]"
     ]
    },
    {
     "name": "stdout",
     "output_type": "stream",
     "text": [
      "Image successfully downloaded for SeungGuk Choi: C:\\Users\\palet\\OneDrive\\Desktop\\UNI_FINAL\\Git\\MMA-Predict\\Data\\Images\\SeungGuk_Choi.png\n"
     ]
    },
    {
     "name": "stderr",
     "output_type": "stream",
     "text": [
      "Downloading Fighter Images:  15%|█▌        | 658/4248 [22:54<1:57:40,  1.97s/it]"
     ]
    },
    {
     "name": "stdout",
     "output_type": "stream",
     "text": [
      "Image successfully downloaded for DongHun Choi: C:\\Users\\palet\\OneDrive\\Desktop\\UNI_FINAL\\Git\\MMA-Predict\\Data\\Images\\DongHun_Choi.png\n"
     ]
    },
    {
     "name": "stderr",
     "output_type": "stream",
     "text": [
      "Downloading Fighter Images:  16%|█▌        | 659/4248 [22:56<2:02:03,  2.04s/it]"
     ]
    },
    {
     "name": "stdout",
     "output_type": "stream",
     "text": [
      "No image found for John Cholish at https://www.ufc.com/athlete/john-cholish\n"
     ]
    },
    {
     "name": "stderr",
     "output_type": "stream",
     "text": [
      "Downloading Fighter Images:  16%|█▌        | 660/4248 [22:58<2:02:37,  2.05s/it]"
     ]
    },
    {
     "name": "stdout",
     "output_type": "stream",
     "text": [
      "No image found for Ryo Chonan at https://www.ufc.com/athlete/ryo-chonan\n"
     ]
    },
    {
     "name": "stderr",
     "output_type": "stream",
     "text": [
      "Downloading Fighter Images:  16%|█▌        | 661/4248 [23:00<2:01:39,  2.03s/it]"
     ]
    },
    {
     "name": "stdout",
     "output_type": "stream",
     "text": [
      "Image successfully downloaded for Will Chope: C:\\Users\\palet\\OneDrive\\Desktop\\UNI_FINAL\\Git\\MMA-Predict\\Data\\Images\\Will_Chope.png\n"
     ]
    },
    {
     "name": "stderr",
     "output_type": "stream",
     "text": [
      "Downloading Fighter Images:  16%|█▌        | 662/4248 [23:02<2:07:09,  2.13s/it]"
     ]
    },
    {
     "name": "stdout",
     "output_type": "stream",
     "text": [
      "Image successfully downloaded for Joachim Christensen: C:\\Users\\palet\\OneDrive\\Desktop\\UNI_FINAL\\Git\\MMA-Predict\\Data\\Images\\Joachim_Christensen.png\n"
     ]
    },
    {
     "name": "stderr",
     "output_type": "stream",
     "text": [
      "Downloading Fighter Images:  16%|█▌        | 663/4248 [23:08<3:04:11,  3.08s/it]"
     ]
    },
    {
     "name": "stdout",
     "output_type": "stream",
     "text": [
      "Image successfully downloaded for Kevin Christian: C:\\Users\\palet\\OneDrive\\Desktop\\UNI_FINAL\\Git\\MMA-Predict\\Data\\Images\\Kevin_Christian.png\n"
     ]
    },
    {
     "name": "stderr",
     "output_type": "stream",
     "text": [
      "Downloading Fighter Images:  16%|█▌        | 664/4248 [23:10<2:43:08,  2.73s/it]"
     ]
    },
    {
     "name": "stdout",
     "output_type": "stream",
     "text": [
      "No image found for Dan Christison at https://www.ufc.com/athlete/dan-christison\n"
     ]
    },
    {
     "name": "stderr",
     "output_type": "stream",
     "text": [
      "Downloading Fighter Images:  16%|█▌        | 665/4248 [23:12<2:32:33,  2.55s/it]"
     ]
    },
    {
     "name": "stdout",
     "output_type": "stream",
     "text": [
      "Image successfully downloaded for Anthony Christodoulou: C:\\Users\\palet\\OneDrive\\Desktop\\UNI_FINAL\\Git\\MMA-Predict\\Data\\Images\\Anthony_Christodoulou.png\n"
     ]
    },
    {
     "name": "stderr",
     "output_type": "stream",
     "text": [
      "Downloading Fighter Images:  16%|█▌        | 666/4248 [23:16<3:04:08,  3.08s/it]"
     ]
    },
    {
     "name": "stdout",
     "output_type": "stream",
     "text": [
      "No image found for Murad Chunkaiev at https://www.ufc.com/athlete/murad-chunkaiev\n"
     ]
    },
    {
     "name": "stderr",
     "output_type": "stream",
     "text": [
      "Downloading Fighter Images:  16%|█▌        | 667/4248 [23:22<3:45:15,  3.77s/it]"
     ]
    },
    {
     "name": "stdout",
     "output_type": "stream",
     "text": [
      "Image successfully downloaded for Cameron Church: C:\\Users\\palet\\OneDrive\\Desktop\\UNI_FINAL\\Git\\MMA-Predict\\Data\\Images\\Cameron_Church.png\n"
     ]
    },
    {
     "name": "stderr",
     "output_type": "stream",
     "text": [
      "Downloading Fighter Images:  16%|█▌        | 668/4248 [23:22<2:47:43,  2.81s/it]"
     ]
    },
    {
     "name": "stdout",
     "output_type": "stream",
     "text": [
      "Error fetching data for Steven Ciaccio: 403 Client Error: Forbidden for url: https://www.ufc.com/athlete/steven-ciaccio\n"
     ]
    },
    {
     "name": "stderr",
     "output_type": "stream",
     "text": [
      "Downloading Fighter Images:  16%|█▌        | 669/4248 [23:24<2:36:09,  2.62s/it]"
     ]
    },
    {
     "name": "stdout",
     "output_type": "stream",
     "text": [
      "No image found for Mike Ciesnolevicz at https://www.ufc.com/athlete/mike-ciesnolevicz\n"
     ]
    },
    {
     "name": "stderr",
     "output_type": "stream",
     "text": [
      "Downloading Fighter Images:  16%|█▌        | 670/4248 [23:27<2:43:36,  2.74s/it]"
     ]
    },
    {
     "name": "stdout",
     "output_type": "stream",
     "text": [
      "Image successfully downloaded for Hannah Cifers: C:\\Users\\palet\\OneDrive\\Desktop\\UNI_FINAL\\Git\\MMA-Predict\\Data\\Images\\Hannah_Cifers.png\n"
     ]
    },
    {
     "name": "stderr",
     "output_type": "stream",
     "text": [
      "Downloading Fighter Images:  16%|█▌        | 671/4248 [23:32<3:11:50,  3.22s/it]"
     ]
    },
    {
     "name": "stdout",
     "output_type": "stream",
     "text": [
      "No image found for Branko Cikatic at https://www.ufc.com/athlete/branko-cikatic\n"
     ]
    },
    {
     "name": "stderr",
     "output_type": "stream",
     "text": [
      "Downloading Fighter Images:  16%|█▌        | 672/4248 [23:32<2:24:36,  2.43s/it]"
     ]
    },
    {
     "name": "stdout",
     "output_type": "stream",
     "text": [
      "Error fetching data for Nikolajus Cilkinas: 403 Client Error: Forbidden for url: https://www.ufc.com/athlete/nikolajus-cilkinas\n"
     ]
    },
    {
     "name": "stderr",
     "output_type": "stream",
     "text": [
      "Downloading Fighter Images:  16%|█▌        | 673/4248 [23:34<2:20:36,  2.36s/it]"
     ]
    },
    {
     "name": "stdout",
     "output_type": "stream",
     "text": [
      "Image successfully downloaded for Misha Cirkunov: C:\\Users\\palet\\OneDrive\\Desktop\\UNI_FINAL\\Git\\MMA-Predict\\Data\\Images\\Misha_Cirkunov.png\n"
     ]
    },
    {
     "name": "stderr",
     "output_type": "stream",
     "text": [
      "Downloading Fighter Images:  16%|█▌        | 674/4248 [23:35<1:46:21,  1.79s/it]"
     ]
    },
    {
     "name": "stdout",
     "output_type": "stream",
     "text": [
      "Error fetching data for Johnny Cisneros: 403 Client Error: Forbidden for url: https://www.ufc.com/athlete/johnny-cisneros\n"
     ]
    },
    {
     "name": "stderr",
     "output_type": "stream",
     "text": [
      "Downloading Fighter Images:  16%|█▌        | 675/4248 [23:37<1:51:50,  1.88s/it]"
     ]
    },
    {
     "name": "stdout",
     "output_type": "stream",
     "text": [
      "No image found for Laverne Clark at https://www.ufc.com/athlete/laverne-clark\n"
     ]
    },
    {
     "name": "stderr",
     "output_type": "stream",
     "text": [
      "Downloading Fighter Images:  16%|█▌        | 676/4248 [23:39<1:54:05,  1.92s/it]"
     ]
    },
    {
     "name": "stdout",
     "output_type": "stream",
     "text": [
      "No image found for Logan Clark at https://www.ufc.com/athlete/logan-clark\n"
     ]
    },
    {
     "name": "stderr",
     "output_type": "stream",
     "text": [
      "Downloading Fighter Images:  16%|█▌        | 677/4248 [23:44<2:44:49,  2.77s/it]"
     ]
    },
    {
     "name": "stdout",
     "output_type": "stream",
     "text": [
      "No image found for Mychal Clark at https://www.ufc.com/athlete/mychal-clark\n"
     ]
    },
    {
     "name": "stderr",
     "output_type": "stream",
     "text": [
      "Downloading Fighter Images:  16%|█▌        | 678/4248 [23:48<3:17:34,  3.32s/it]"
     ]
    },
    {
     "name": "stdout",
     "output_type": "stream",
     "text": [
      "No image found for Dominic Clark at https://www.ufc.com/athlete/dominic-clark\n"
     ]
    },
    {
     "name": "stderr",
     "output_type": "stream",
     "text": [
      "Downloading Fighter Images:  16%|█▌        | 679/4248 [23:49<2:25:08,  2.44s/it]"
     ]
    },
    {
     "name": "stdout",
     "output_type": "stream",
     "text": [
      "No image found for Heather Clark at https://www.ufc.com/athlete/heather-clark\n"
     ]
    },
    {
     "name": "stderr",
     "output_type": "stream",
     "text": [
      "Downloading Fighter Images:  16%|█▌        | 680/4248 [23:52<2:38:17,  2.66s/it]"
     ]
    },
    {
     "name": "stdout",
     "output_type": "stream",
     "text": [
      "Image successfully downloaded for Devin Clark: C:\\Users\\palet\\OneDrive\\Desktop\\UNI_FINAL\\Git\\MMA-Predict\\Data\\Images\\Devin_Clark.png\n"
     ]
    },
    {
     "name": "stderr",
     "output_type": "stream",
     "text": [
      "Downloading Fighter Images:  16%|█▌        | 681/4248 [23:54<2:36:35,  2.63s/it]"
     ]
    },
    {
     "name": "stdout",
     "output_type": "stream",
     "text": [
      "Image successfully downloaded for Jessica-Rose Clark: C:\\Users\\palet\\OneDrive\\Desktop\\UNI_FINAL\\Git\\MMA-Predict\\Data\\Images\\Jessica-Rose_Clark.png\n"
     ]
    },
    {
     "name": "stderr",
     "output_type": "stream",
     "text": [
      "Downloading Fighter Images:  16%|█▌        | 682/4248 [23:55<1:54:32,  1.93s/it]"
     ]
    },
    {
     "name": "stdout",
     "output_type": "stream",
     "text": [
      "No image found for Shannon Clark at https://www.ufc.com/athlete/shannon-clark\n"
     ]
    },
    {
     "name": "stderr",
     "output_type": "stream",
     "text": [
      "Downloading Fighter Images:  16%|█▌        | 683/4248 [23:55<1:31:56,  1.55s/it]"
     ]
    },
    {
     "name": "stdout",
     "output_type": "stream",
     "text": [
      "Error fetching data for John Clarke: 403 Client Error: Forbidden for url: https://www.ufc.com/athlete/john-clarke\n"
     ]
    },
    {
     "name": "stderr",
     "output_type": "stream",
     "text": [
      "Downloading Fighter Images:  16%|█▌        | 684/4248 [23:58<1:48:05,  1.82s/it]"
     ]
    },
    {
     "name": "stdout",
     "output_type": "stream",
     "text": [
      "Image successfully downloaded for Mitch Clarke: C:\\Users\\palet\\OneDrive\\Desktop\\UNI_FINAL\\Git\\MMA-Predict\\Data\\Images\\Mitch_Clarke.png\n"
     ]
    },
    {
     "name": "stderr",
     "output_type": "stream",
     "text": [
      "Downloading Fighter Images:  16%|█▌        | 685/4248 [24:01<2:06:24,  2.13s/it]"
     ]
    },
    {
     "name": "stdout",
     "output_type": "stream",
     "text": [
      "No image found for Rich Clementi at https://www.ufc.com/athlete/rich-clementi\n"
     ]
    },
    {
     "name": "stderr",
     "output_type": "stream",
     "text": [
      "Downloading Fighter Images:  16%|█▌        | 686/4248 [24:03<2:17:49,  2.32s/it]"
     ]
    },
    {
     "name": "stdout",
     "output_type": "stream",
     "text": [
      "Image successfully downloaded for Chris Clements: C:\\Users\\palet\\OneDrive\\Desktop\\UNI_FINAL\\Git\\MMA-Predict\\Data\\Images\\Chris_Clements.png\n"
     ]
    },
    {
     "name": "stderr",
     "output_type": "stream",
     "text": [
      "Downloading Fighter Images:  16%|█▌        | 687/4248 [24:08<2:57:02,  2.98s/it]"
     ]
    },
    {
     "name": "stdout",
     "output_type": "stream",
     "text": [
      "No image found for RJ Clifford at https://www.ufc.com/athlete/rj-clifford\n"
     ]
    },
    {
     "name": "stderr",
     "output_type": "stream",
     "text": [
      "Downloading Fighter Images:  16%|█▌        | 688/4248 [24:13<3:38:33,  3.68s/it]"
     ]
    },
    {
     "name": "stdout",
     "output_type": "stream",
     "text": [
      "Image successfully downloaded for Mark Climaco: C:\\Users\\palet\\OneDrive\\Desktop\\UNI_FINAL\\Git\\MMA-Predict\\Data\\Images\\Mark_Climaco.png\n"
     ]
    },
    {
     "name": "stderr",
     "output_type": "stream",
     "text": [
      "Downloading Fighter Images:  16%|█▌        | 689/4248 [24:16<3:12:19,  3.24s/it]"
     ]
    },
    {
     "name": "stdout",
     "output_type": "stream",
     "text": [
      "No image found for Josh Clopton at https://www.ufc.com/athlete/josh-clopton\n"
     ]
    },
    {
     "name": "stderr",
     "output_type": "stream",
     "text": [
      "Downloading Fighter Images:  16%|█▌        | 690/4248 [24:18<2:49:59,  2.87s/it]"
     ]
    },
    {
     "name": "stdout",
     "output_type": "stream",
     "text": [
      "No image found for Brian Cobb at https://www.ufc.com/athlete/brian-cobb\n"
     ]
    },
    {
     "name": "stderr",
     "output_type": "stream",
     "text": [
      "Downloading Fighter Images:  16%|█▋        | 691/4248 [24:22<3:21:24,  3.40s/it]"
     ]
    },
    {
     "name": "stdout",
     "output_type": "stream",
     "text": [
      "No image found for Darryl Cobb at https://www.ufc.com/athlete/darryl-cobb\n"
     ]
    },
    {
     "name": "stderr",
     "output_type": "stream",
     "text": [
      "Downloading Fighter Images:  16%|█▋        | 692/4248 [24:27<3:39:46,  3.71s/it]"
     ]
    },
    {
     "name": "stdout",
     "output_type": "stream",
     "text": [
      "No image found for Dave Cochran at https://www.ufc.com/athlete/dave-cochran\n"
     ]
    },
    {
     "name": "stderr",
     "output_type": "stream",
     "text": [
      "Downloading Fighter Images:  16%|█▋        | 693/4248 [24:27<2:39:08,  2.69s/it]"
     ]
    },
    {
     "name": "stdout",
     "output_type": "stream",
     "text": [
      "No image found for Dakota Cochrane at https://www.ufc.com/athlete/dakota-cochrane\n"
     ]
    },
    {
     "name": "stderr",
     "output_type": "stream",
     "text": [
      "Downloading Fighter Images:  16%|█▋        | 694/4248 [24:31<3:05:21,  3.13s/it]"
     ]
    },
    {
     "name": "stdout",
     "output_type": "stream",
     "text": [
      "No image found for Marloes Coenen at https://www.ufc.com/athlete/marloes-coenen\n"
     ]
    },
    {
     "name": "stderr",
     "output_type": "stream",
     "text": [
      "Downloading Fighter Images:  16%|█▋        | 695/4248 [24:35<3:26:37,  3.49s/it]"
     ]
    },
    {
     "name": "stdout",
     "output_type": "stream",
     "text": [
      "No image found for Marc Cofer at https://www.ufc.com/athlete/marc-cofer\n"
     ]
    },
    {
     "name": "stderr",
     "output_type": "stream",
     "text": [
      "Downloading Fighter Images:  16%|█▋        | 696/4248 [24:37<2:59:41,  3.04s/it]"
     ]
    },
    {
     "name": "stdout",
     "output_type": "stream",
     "text": [
      "No image found for John Cofer at https://www.ufc.com/athlete/john-cofer\n"
     ]
    },
    {
     "name": "stderr",
     "output_type": "stream",
     "text": [
      "Downloading Fighter Images:  16%|█▋        | 697/4248 [24:38<2:16:01,  2.30s/it]"
     ]
    },
    {
     "name": "stdout",
     "output_type": "stream",
     "text": [
      "Error fetching data for Chris Coggins: 403 Client Error: Forbidden for url: https://www.ufc.com/athlete/chris-coggins\n"
     ]
    },
    {
     "name": "stderr",
     "output_type": "stream",
     "text": [
      "Downloading Fighter Images:  16%|█▋        | 698/4248 [24:41<2:25:39,  2.46s/it]"
     ]
    },
    {
     "name": "stdout",
     "output_type": "stream",
     "text": [
      "Image successfully downloaded for Felipe Colares: C:\\Users\\palet\\OneDrive\\Desktop\\UNI_FINAL\\Git\\MMA-Predict\\Data\\Images\\Felipe_Colares.png\n"
     ]
    },
    {
     "name": "stderr",
     "output_type": "stream",
     "text": [
      "Downloading Fighter Images:  16%|█▋        | 699/4248 [24:45<2:59:20,  3.03s/it]"
     ]
    },
    {
     "name": "stdout",
     "output_type": "stream",
     "text": [
      "No image found for Wayne Cole at https://www.ufc.com/athlete/wayne-cole\n"
     ]
    },
    {
     "name": "stderr",
     "output_type": "stream",
     "text": [
      "Downloading Fighter Images:  16%|█▋        | 700/4248 [24:50<3:24:01,  3.45s/it]"
     ]
    },
    {
     "name": "stdout",
     "output_type": "stream",
     "text": [
      "No image found for Devin Cole at https://www.ufc.com/athlete/devin-cole\n"
     ]
    },
    {
     "name": "stderr",
     "output_type": "stream",
     "text": [
      "Downloading Fighter Images:  17%|█▋        | 701/4248 [24:54<3:40:31,  3.73s/it]"
     ]
    },
    {
     "name": "stdout",
     "output_type": "stream",
     "text": [
      "No image found for Coltin Cole at https://www.ufc.com/athlete/coltin-cole\n"
     ]
    },
    {
     "name": "stderr",
     "output_type": "stream",
     "text": [
      "Downloading Fighter Images:  17%|█▋        | 702/4248 [24:54<2:41:50,  2.74s/it]"
     ]
    },
    {
     "name": "stdout",
     "output_type": "stream",
     "text": [
      "Error fetching data for Ivan Cole: 403 Client Error: Forbidden for url: https://www.ufc.com/athlete/ivan-cole\n"
     ]
    },
    {
     "name": "stderr",
     "output_type": "stream",
     "text": [
      "Downloading Fighter Images:  17%|█▋        | 703/4248 [24:59<3:19:00,  3.37s/it]"
     ]
    },
    {
     "name": "stdout",
     "output_type": "stream",
     "text": [
      "No image found for Chandler Cole at https://www.ufc.com/athlete/chandler-cole\n"
     ]
    },
    {
     "name": "stderr",
     "output_type": "stream",
     "text": [
      "Downloading Fighter Images:  17%|█▋        | 704/4248 [25:02<3:02:45,  3.09s/it]"
     ]
    },
    {
     "name": "stdout",
     "output_type": "stream",
     "text": [
      "No image found for Mark Coleman at https://www.ufc.com/athlete/mark-coleman\n"
     ]
    },
    {
     "name": "stderr",
     "output_type": "stream",
     "text": [
      "Downloading Fighter Images:  17%|█▋        | 705/4248 [25:06<3:23:19,  3.44s/it]"
     ]
    },
    {
     "name": "stdout",
     "output_type": "stream",
     "text": [
      "No image found for Cortez Coleman at https://www.ufc.com/athlete/cortez-coleman\n"
     ]
    },
    {
     "name": "stderr",
     "output_type": "stream",
     "text": [
      "Downloading Fighter Images:  17%|█▋        | 706/4248 [25:09<3:10:05,  3.22s/it]"
     ]
    },
    {
     "name": "stdout",
     "output_type": "stream",
     "text": [
      "Image successfully downloaded for Clay Collard: C:\\Users\\palet\\OneDrive\\Desktop\\UNI_FINAL\\Git\\MMA-Predict\\Data\\Images\\Clay_Collard.png\n"
     ]
    },
    {
     "name": "stderr",
     "output_type": "stream",
     "text": [
      "Downloading Fighter Images:  17%|█▋        | 707/4248 [25:14<3:47:25,  3.85s/it]"
     ]
    },
    {
     "name": "stdout",
     "output_type": "stream",
     "text": [
      "Image successfully downloaded for Jamie Colleen: C:\\Users\\palet\\OneDrive\\Desktop\\UNI_FINAL\\Git\\MMA-Predict\\Data\\Images\\Jamie_Colleen.png\n"
     ]
    },
    {
     "name": "stderr",
     "output_type": "stream",
     "text": [
      "Downloading Fighter Images:  17%|█▋        | 708/4248 [25:17<3:28:47,  3.54s/it]"
     ]
    },
    {
     "name": "stdout",
     "output_type": "stream",
     "text": [
      "Image successfully downloaded for Jake Collier: C:\\Users\\palet\\OneDrive\\Desktop\\UNI_FINAL\\Git\\MMA-Predict\\Data\\Images\\Jake_Collier.png\n"
     ]
    },
    {
     "name": "stderr",
     "output_type": "stream",
     "text": [
      "Downloading Fighter Images:  17%|█▋        | 709/4248 [25:19<3:05:59,  3.15s/it]"
     ]
    },
    {
     "name": "stdout",
     "output_type": "stream",
     "text": [
      "Image successfully downloaded for Christian Colombo: C:\\Users\\palet\\OneDrive\\Desktop\\UNI_FINAL\\Git\\MMA-Predict\\Data\\Images\\Christian_Colombo.png\n"
     ]
    },
    {
     "name": "stderr",
     "output_type": "stream",
     "text": [
      "Downloading Fighter Images:  17%|█▋        | 710/4248 [25:19<2:15:40,  2.30s/it]"
     ]
    },
    {
     "name": "stdout",
     "output_type": "stream",
     "text": [
      "No image found for Willian Colorado at https://www.ufc.com/athlete/willian-colorado\n",
      "No image found for Wes Combs at https://www.ufc.com/athlete/wes-combs\n"
     ]
    },
    {
     "name": "stderr",
     "output_type": "stream",
     "text": [
      "Downloading Fighter Images:  17%|█▋        | 712/4248 [25:20<1:14:10,  1.26s/it]"
     ]
    },
    {
     "name": "stdout",
     "output_type": "stream",
     "text": [
      "No image found for Rose Conceicao at https://www.ufc.com/athlete/rose-conceicao\n"
     ]
    },
    {
     "name": "stderr",
     "output_type": "stream",
     "text": [
      "Downloading Fighter Images:  17%|█▋        | 713/4248 [25:23<1:41:03,  1.72s/it]"
     ]
    },
    {
     "name": "stdout",
     "output_type": "stream",
     "text": [
      "Image successfully downloaded for Carlos Condit: C:\\Users\\palet\\OneDrive\\Desktop\\UNI_FINAL\\Git\\MMA-Predict\\Data\\Images\\Carlos_Condit.png\n"
     ]
    },
    {
     "name": "stderr",
     "output_type": "stream",
     "text": [
      "Downloading Fighter Images:  17%|█▋        | 714/4248 [25:24<1:42:02,  1.73s/it]"
     ]
    },
    {
     "name": "stdout",
     "output_type": "stream",
     "text": [
      "No image found for Chris Condo at https://www.ufc.com/athlete/chris-condo\n"
     ]
    },
    {
     "name": "stderr",
     "output_type": "stream",
     "text": [
      "Downloading Fighter Images:  17%|█▋        | 715/4248 [25:27<1:55:11,  1.96s/it]"
     ]
    },
    {
     "name": "stdout",
     "output_type": "stream",
     "text": [
      "Image successfully downloaded for Tristan Connelly: C:\\Users\\palet\\OneDrive\\Desktop\\UNI_FINAL\\Git\\MMA-Predict\\Data\\Images\\Tristan_Connelly.png\n"
     ]
    },
    {
     "name": "stderr",
     "output_type": "stream",
     "text": [
      "Downloading Fighter Images:  17%|█▋        | 716/4248 [25:27<1:27:01,  1.48s/it]"
     ]
    },
    {
     "name": "stdout",
     "output_type": "stream",
     "text": [
      "No image found for Marcos Conrado Jr. at https://www.ufc.com/athlete/marcos-conrado jr.\n"
     ]
    },
    {
     "name": "stderr",
     "output_type": "stream",
     "text": [
      "Downloading Fighter Images:  17%|█▋        | 717/4248 [25:28<1:10:09,  1.19s/it]"
     ]
    },
    {
     "name": "stdout",
     "output_type": "stream",
     "text": [
      "Error fetching data for Jeremiah Constant: 403 Client Error: Forbidden for url: https://www.ufc.com/athlete/jeremiah-constant\n"
     ]
    },
    {
     "name": "stderr",
     "output_type": "stream",
     "text": [
      "Downloading Fighter Images:  17%|█▋        | 718/4248 [25:28<58:30,  1.01it/s]  "
     ]
    },
    {
     "name": "stdout",
     "output_type": "stream",
     "text": [
      "Error fetching data for Jonathan Contrestano: 403 Client Error: Forbidden for url: https://www.ufc.com/athlete/jonathan-contrestano\n"
     ]
    },
    {
     "name": "stderr",
     "output_type": "stream",
     "text": [
      "Downloading Fighter Images:  17%|█▋        | 719/4248 [25:30<1:17:12,  1.31s/it]"
     ]
    },
    {
     "name": "stdout",
     "output_type": "stream",
     "text": [
      "No image found for Bob Cook at https://www.ufc.com/athlete/bob-cook\n"
     ]
    },
    {
     "name": "stderr",
     "output_type": "stream",
     "text": [
      "Downloading Fighter Images:  17%|█▋        | 720/4248 [25:35<2:11:59,  2.24s/it]"
     ]
    },
    {
     "name": "stdout",
     "output_type": "stream",
     "text": [
      "No image found for Mike Cook at https://www.ufc.com/athlete/mike-cook\n"
     ]
    },
    {
     "name": "stderr",
     "output_type": "stream",
     "text": [
      "Downloading Fighter Images:  17%|█▋        | 721/4248 [25:39<2:47:39,  2.85s/it]"
     ]
    },
    {
     "name": "stdout",
     "output_type": "stream",
     "text": [
      "No image found for Chad Cook at https://www.ufc.com/athlete/chad-cook\n"
     ]
    },
    {
     "name": "stderr",
     "output_type": "stream",
     "text": [
      "Downloading Fighter Images:  17%|█▋        | 722/4248 [25:43<3:13:44,  3.30s/it]"
     ]
    },
    {
     "name": "stdout",
     "output_type": "stream",
     "text": [
      "No image found for TJ Cook at https://www.ufc.com/athlete/tj-cook\n"
     ]
    },
    {
     "name": "stderr",
     "output_type": "stream",
     "text": [
      "Downloading Fighter Images:  17%|█▋        | 723/4248 [25:48<3:29:51,  3.57s/it]"
     ]
    },
    {
     "name": "stdout",
     "output_type": "stream",
     "text": [
      "No image found for Dewey Cooper at https://www.ufc.com/athlete/dewey-cooper\n"
     ]
    },
    {
     "name": "stderr",
     "output_type": "stream",
     "text": [
      "Downloading Fighter Images:  17%|█▋        | 724/4248 [25:48<2:37:04,  2.67s/it]"
     ]
    },
    {
     "name": "stdout",
     "output_type": "stream",
     "text": [
      "Error fetching data for Brett Cooper: 403 Client Error: Forbidden for url: https://www.ufc.com/athlete/brett-cooper\n"
     ]
    },
    {
     "name": "stderr",
     "output_type": "stream",
     "text": [
      "Downloading Fighter Images:  17%|█▋        | 725/4248 [25:53<3:18:05,  3.37s/it]"
     ]
    },
    {
     "name": "stdout",
     "output_type": "stream",
     "text": [
      "No image found for Bill Cooper at https://www.ufc.com/athlete/bill-cooper\n"
     ]
    },
    {
     "name": "stderr",
     "output_type": "stream",
     "text": [
      "Downloading Fighter Images:  17%|█▋        | 726/4248 [25:54<2:29:27,  2.55s/it]"
     ]
    },
    {
     "name": "stdout",
     "output_type": "stream",
     "text": [
      "Error fetching data for Bobby Cooper: 403 Client Error: Forbidden for url: https://www.ufc.com/athlete/bobby-cooper\n"
     ]
    },
    {
     "name": "stderr",
     "output_type": "stream",
     "text": [
      "Downloading Fighter Images:  17%|█▋        | 727/4248 [25:56<2:24:55,  2.47s/it]"
     ]
    },
    {
     "name": "stdout",
     "output_type": "stream",
     "text": [
      "Image successfully downloaded for Amanda Cooper: C:\\Users\\palet\\OneDrive\\Desktop\\UNI_FINAL\\Git\\MMA-Predict\\Data\\Images\\Amanda_Cooper.png\n"
     ]
    },
    {
     "name": "stderr",
     "output_type": "stream",
     "text": [
      "Downloading Fighter Images:  17%|█▋        | 728/4248 [25:58<2:18:22,  2.36s/it]"
     ]
    },
    {
     "name": "stdout",
     "output_type": "stream",
     "text": [
      "No image found for Kit Cope at https://www.ufc.com/athlete/kit-cope\n"
     ]
    },
    {
     "name": "stderr",
     "output_type": "stream",
     "text": [
      "Downloading Fighter Images:  17%|█▋        | 729/4248 [26:00<2:14:08,  2.29s/it]"
     ]
    },
    {
     "name": "stdout",
     "output_type": "stream",
     "text": [
      "No image found for Chris Cope at https://www.ufc.com/athlete/chris-cope\n"
     ]
    },
    {
     "name": "stderr",
     "output_type": "stream",
     "text": [
      "Downloading Fighter Images:  17%|█▋        | 730/4248 [26:03<2:12:51,  2.27s/it]"
     ]
    },
    {
     "name": "stdout",
     "output_type": "stream",
     "text": [
      "Image successfully downloaded for Josh Copeland: C:\\Users\\palet\\OneDrive\\Desktop\\UNI_FINAL\\Git\\MMA-Predict\\Data\\Images\\Josh_Copeland.png\n"
     ]
    },
    {
     "name": "stderr",
     "output_type": "stream",
     "text": [
      "Downloading Fighter Images:  17%|█▋        | 731/4248 [26:08<3:14:22,  3.32s/it]"
     ]
    },
    {
     "name": "stdout",
     "output_type": "stream",
     "text": [
      "Image successfully downloaded for Michael Cora: C:\\Users\\palet\\OneDrive\\Desktop\\UNI_FINAL\\Git\\MMA-Predict\\Data\\Images\\Michael_Cora.png\n"
     ]
    },
    {
     "name": "stderr",
     "output_type": "stream",
     "text": [
      "Downloading Fighter Images:  17%|█▋        | 732/4248 [26:11<2:58:13,  3.04s/it]"
     ]
    },
    {
     "name": "stdout",
     "output_type": "stream",
     "text": [
      "Image successfully downloaded for Akira Corassani: C:\\Users\\palet\\OneDrive\\Desktop\\UNI_FINAL\\Git\\MMA-Predict\\Data\\Images\\Akira_Corassani.png\n"
     ]
    },
    {
     "name": "stderr",
     "output_type": "stream",
     "text": [
      "Downloading Fighter Images:  17%|█▋        | 733/4248 [26:15<3:25:18,  3.50s/it]"
     ]
    },
    {
     "name": "stdout",
     "output_type": "stream",
     "text": [
      "No image found for Muhsin Corbbrey at https://www.ufc.com/athlete/muhsin-corbbrey\n"
     ]
    },
    {
     "name": "stderr",
     "output_type": "stream",
     "text": [
      "Downloading Fighter Images:  17%|█▋        | 734/4248 [26:18<3:17:21,  3.37s/it]"
     ]
    },
    {
     "name": "stdout",
     "output_type": "stream",
     "text": [
      "Image successfully downloaded for Daniel Cormier: C:\\Users\\palet\\OneDrive\\Desktop\\UNI_FINAL\\Git\\MMA-Predict\\Data\\Images\\Daniel_Cormier.png\n"
     ]
    },
    {
     "name": "stderr",
     "output_type": "stream",
     "text": [
      "Downloading Fighter Images:  17%|█▋        | 735/4248 [26:21<3:05:04,  3.16s/it]"
     ]
    },
    {
     "name": "stdout",
     "output_type": "stream",
     "text": [
      "Image successfully downloaded for Nora Cornolle: C:\\Users\\palet\\OneDrive\\Desktop\\UNI_FINAL\\Git\\MMA-Predict\\Data\\Images\\Nora_Cornolle.png\n"
     ]
    },
    {
     "name": "stderr",
     "output_type": "stream",
     "text": [
      "Downloading Fighter Images:  17%|█▋        | 736/4248 [26:26<3:30:39,  3.60s/it]"
     ]
    },
    {
     "name": "stdout",
     "output_type": "stream",
     "text": [
      "No image found for Clint Coronel at https://www.ufc.com/athlete/clint-coronel\n"
     ]
    },
    {
     "name": "stderr",
     "output_type": "stream",
     "text": [
      "Downloading Fighter Images:  17%|█▋        | 737/4248 [26:26<2:35:45,  2.66s/it]"
     ]
    },
    {
     "name": "stdout",
     "output_type": "stream",
     "text": [
      "Error fetching data for Henry Corrales: 403 Client Error: Forbidden for url: https://www.ufc.com/athlete/henry-corrales\n"
     ]
    },
    {
     "name": "stderr",
     "output_type": "stream",
     "text": [
      "Downloading Fighter Images:  17%|█▋        | 738/4248 [26:30<2:50:47,  2.92s/it]"
     ]
    },
    {
     "name": "stdout",
     "output_type": "stream",
     "text": [
      "Image successfully downloaded for Bethe Correia: C:\\Users\\palet\\OneDrive\\Desktop\\UNI_FINAL\\Git\\MMA-Predict\\Data\\Images\\Bethe_Correia.png\n"
     ]
    },
    {
     "name": "stderr",
     "output_type": "stream",
     "text": [
      "Downloading Fighter Images:  17%|█▋        | 739/4248 [26:32<2:32:57,  2.62s/it]"
     ]
    },
    {
     "name": "stdout",
     "output_type": "stream",
     "text": [
      "No image found for Wesley Correira at https://www.ufc.com/athlete/wesley-correira\n"
     ]
    },
    {
     "name": "stderr",
     "output_type": "stream",
     "text": [
      "Downloading Fighter Images:  17%|█▋        | 740/4248 [26:34<2:25:30,  2.49s/it]"
     ]
    },
    {
     "name": "stdout",
     "output_type": "stream",
     "text": [
      "Image successfully downloaded for Waldo Cortes-Acosta: C:\\Users\\palet\\OneDrive\\Desktop\\UNI_FINAL\\Git\\MMA-Predict\\Data\\Images\\Waldo_Cortes-Acosta.png\n"
     ]
    },
    {
     "name": "stderr",
     "output_type": "stream",
     "text": [
      "Downloading Fighter Images:  17%|█▋        | 741/4248 [26:36<2:26:28,  2.51s/it]"
     ]
    },
    {
     "name": "stdout",
     "output_type": "stream",
     "text": [
      "Image successfully downloaded for Tracy Cortez: C:\\Users\\palet\\OneDrive\\Desktop\\UNI_FINAL\\Git\\MMA-Predict\\Data\\Images\\Tracy_Cortez.png\n"
     ]
    },
    {
     "name": "stderr",
     "output_type": "stream",
     "text": [
      "Downloading Fighter Images:  17%|█▋        | 742/4248 [26:37<1:51:33,  1.91s/it]"
     ]
    },
    {
     "name": "stdout",
     "output_type": "stream",
     "text": [
      "No image found for Reyes Cortez Jr. at https://www.ufc.com/athlete/reyes-cortez jr.\n"
     ]
    },
    {
     "name": "stderr",
     "output_type": "stream",
     "text": [
      "Downloading Fighter Images:  17%|█▋        | 743/4248 [26:37<1:26:51,  1.49s/it]"
     ]
    },
    {
     "name": "stdout",
     "output_type": "stream",
     "text": [
      "Error fetching data for Chad Corvin: 403 Client Error: Forbidden for url: https://www.ufc.com/athlete/chad-corvin\n"
     ]
    },
    {
     "name": "stderr",
     "output_type": "stream",
     "text": [
      "Downloading Fighter Images:  18%|█▊        | 744/4248 [26:40<1:56:37,  2.00s/it]"
     ]
    },
    {
     "name": "stdout",
     "output_type": "stream",
     "text": [
      "Image successfully downloaded for Louis Cosce: C:\\Users\\palet\\OneDrive\\Desktop\\UNI_FINAL\\Git\\MMA-Predict\\Data\\Images\\Louis_Cosce.png\n"
     ]
    },
    {
     "name": "stderr",
     "output_type": "stream",
     "text": [
      "Downloading Fighter Images:  18%|█▊        | 745/4248 [26:43<2:04:23,  2.13s/it]"
     ]
    },
    {
     "name": "stdout",
     "output_type": "stream",
     "text": [
      "Image successfully downloaded for Orion Cosce: C:\\Users\\palet\\OneDrive\\Desktop\\UNI_FINAL\\Git\\MMA-Predict\\Data\\Images\\Orion_Cosce.png\n"
     ]
    },
    {
     "name": "stderr",
     "output_type": "stream",
     "text": [
      "Downloading Fighter Images:  18%|█▊        | 746/4248 [26:48<2:50:02,  2.91s/it]"
     ]
    },
    {
     "name": "stdout",
     "output_type": "stream",
     "text": [
      "No image found for Miguel Cosio at https://www.ufc.com/athlete/miguel-cosio\n"
     ]
    },
    {
     "name": "stderr",
     "output_type": "stream",
     "text": [
      "Downloading Fighter Images:  18%|█▊        | 747/4248 [26:52<3:21:04,  3.45s/it]"
     ]
    },
    {
     "name": "stdout",
     "output_type": "stream",
     "text": [
      "No image found for Jadson Costa at https://www.ufc.com/athlete/jadson-costa\n"
     ]
    },
    {
     "name": "stderr",
     "output_type": "stream",
     "text": [
      "Downloading Fighter Images:  18%|█▊        | 748/4248 [26:53<2:28:04,  2.54s/it]"
     ]
    },
    {
     "name": "stdout",
     "output_type": "stream",
     "text": [
      "No image found for Guilherme Costa at https://www.ufc.com/athlete/guilherme-costa\n"
     ]
    },
    {
     "name": "stderr",
     "output_type": "stream",
     "text": [
      "Downloading Fighter Images:  18%|█▊        | 749/4248 [26:55<2:29:25,  2.56s/it]"
     ]
    },
    {
     "name": "stdout",
     "output_type": "stream",
     "text": [
      "Image successfully downloaded for Paulo Costa: C:\\Users\\palet\\OneDrive\\Desktop\\UNI_FINAL\\Git\\MMA-Predict\\Data\\Images\\Paulo_Costa.png\n"
     ]
    },
    {
     "name": "stderr",
     "output_type": "stream",
     "text": [
      "Downloading Fighter Images:  18%|█▊        | 750/4248 [26:58<2:33:26,  2.63s/it]"
     ]
    },
    {
     "name": "stdout",
     "output_type": "stream",
     "text": [
      "Image successfully downloaded for Randy Costa: C:\\Users\\palet\\OneDrive\\Desktop\\UNI_FINAL\\Git\\MMA-Predict\\Data\\Images\\Randy_Costa.png\n"
     ]
    },
    {
     "name": "stderr",
     "output_type": "stream",
     "text": [
      "Downloading Fighter Images:  18%|█▊        | 751/4248 [27:01<2:41:19,  2.77s/it]"
     ]
    },
    {
     "name": "stdout",
     "output_type": "stream",
     "text": [
      "Image successfully downloaded for Alessandro Costa: C:\\Users\\palet\\OneDrive\\Desktop\\UNI_FINAL\\Git\\MMA-Predict\\Data\\Images\\Alessandro_Costa.png\n"
     ]
    },
    {
     "name": "stderr",
     "output_type": "stream",
     "text": [
      "Downloading Fighter Images:  18%|█▊        | 752/4248 [27:04<2:33:23,  2.63s/it]"
     ]
    },
    {
     "name": "stdout",
     "output_type": "stream",
     "text": [
      "Image successfully downloaded for Melquizael Costa: C:\\Users\\palet\\OneDrive\\Desktop\\UNI_FINAL\\Git\\MMA-Predict\\Data\\Images\\Melquizael_Costa.png\n"
     ]
    },
    {
     "name": "stderr",
     "output_type": "stream",
     "text": [
      "Downloading Fighter Images:  18%|█▊        | 753/4248 [27:11<3:52:54,  4.00s/it]"
     ]
    },
    {
     "name": "stdout",
     "output_type": "stream",
     "text": [
      "Image successfully downloaded for Oscar Cota: C:\\Users\\palet\\OneDrive\\Desktop\\UNI_FINAL\\Git\\MMA-Predict\\Data\\Images\\Oscar_Cota.png\n"
     ]
    },
    {
     "name": "stderr",
     "output_type": "stream",
     "text": [
      "Downloading Fighter Images:  18%|█▊        | 754/4248 [27:14<3:45:30,  3.87s/it]"
     ]
    },
    {
     "name": "stdout",
     "output_type": "stream",
     "text": [
      "Image successfully downloaded for Patrick Cote: C:\\Users\\palet\\OneDrive\\Desktop\\UNI_FINAL\\Git\\MMA-Predict\\Data\\Images\\Patrick_Cote.png\n"
     ]
    },
    {
     "name": "stderr",
     "output_type": "stream",
     "text": [
      "Downloading Fighter Images:  18%|█▊        | 755/4248 [27:17<3:25:07,  3.52s/it]"
     ]
    },
    {
     "name": "stdout",
     "output_type": "stream",
     "text": [
      "Image successfully downloaded for JC Cottrell: C:\\Users\\palet\\OneDrive\\Desktop\\UNI_FINAL\\Git\\MMA-Predict\\Data\\Images\\JC_Cottrell.png\n"
     ]
    },
    {
     "name": "stderr",
     "output_type": "stream",
     "text": [
      "Downloading Fighter Images:  18%|█▊        | 756/4248 [27:22<3:41:59,  3.81s/it]"
     ]
    },
    {
     "name": "stdout",
     "output_type": "stream",
     "text": [
      "No image found for JR Coughran at https://www.ufc.com/athlete/jr-coughran\n"
     ]
    },
    {
     "name": "stderr",
     "output_type": "stream",
     "text": [
      "Downloading Fighter Images:  18%|█▊        | 757/4248 [27:24<3:23:34,  3.50s/it]"
     ]
    },
    {
     "name": "stdout",
     "output_type": "stream",
     "text": [
      "Image successfully downloaded for Rashad Coulter: C:\\Users\\palet\\OneDrive\\Desktop\\UNI_FINAL\\Git\\MMA-Predict\\Data\\Images\\Rashad_Coulter.png\n"
     ]
    },
    {
     "name": "stderr",
     "output_type": "stream",
     "text": [
      "Downloading Fighter Images:  18%|█▊        | 758/4248 [27:25<2:29:43,  2.57s/it]"
     ]
    },
    {
     "name": "stdout",
     "output_type": "stream",
     "text": [
      "No image found for Dave Courchaine at https://www.ufc.com/athlete/dave-courchaine\n"
     ]
    },
    {
     "name": "stderr",
     "output_type": "stream",
     "text": [
      "Downloading Fighter Images:  18%|█▊        | 759/4248 [27:27<2:26:30,  2.52s/it]"
     ]
    },
    {
     "name": "stdout",
     "output_type": "stream",
     "text": [
      "No image found for Randy Couture at https://www.ufc.com/athlete/randy-couture\n"
     ]
    },
    {
     "name": "stderr",
     "output_type": "stream",
     "text": [
      "Downloading Fighter Images:  18%|█▊        | 760/4248 [27:31<2:59:08,  3.08s/it]"
     ]
    },
    {
     "name": "stdout",
     "output_type": "stream",
     "text": [
      "No image found for Kim Couture at https://www.ufc.com/athlete/kim-couture\n"
     ]
    },
    {
     "name": "stderr",
     "output_type": "stream",
     "text": [
      "Downloading Fighter Images:  18%|█▊        | 761/4248 [27:34<2:42:20,  2.79s/it]"
     ]
    },
    {
     "name": "stdout",
     "output_type": "stream",
     "text": [
      "Image successfully downloaded for Ryan Couture: C:\\Users\\palet\\OneDrive\\Desktop\\UNI_FINAL\\Git\\MMA-Predict\\Data\\Images\\Ryan_Couture.png\n"
     ]
    },
    {
     "name": "stderr",
     "output_type": "stream",
     "text": [
      "Downloading Fighter Images:  18%|█▊        | 762/4248 [27:38<3:09:40,  3.26s/it]"
     ]
    },
    {
     "name": "stdout",
     "output_type": "stream",
     "text": [
      "No image found for Nikk Covert at https://www.ufc.com/athlete/nikk-covert\n"
     ]
    },
    {
     "name": "stderr",
     "output_type": "stream",
     "text": [
      "Downloading Fighter Images:  18%|█▊        | 763/4248 [27:38<2:21:44,  2.44s/it]"
     ]
    },
    {
     "name": "stdout",
     "output_type": "stream",
     "text": [
      "Image successfully downloaded for Colby Covington: C:\\Users\\palet\\OneDrive\\Desktop\\UNI_FINAL\\Git\\MMA-Predict\\Data\\Images\\Colby_Covington.png\n"
     ]
    },
    {
     "name": "stderr",
     "output_type": "stream",
     "text": [
      "Downloading Fighter Images:  18%|█▊        | 764/4248 [27:41<2:25:05,  2.50s/it]"
     ]
    },
    {
     "name": "stdout",
     "output_type": "stream",
     "text": [
      "Image successfully downloaded for Hailey Cowan: C:\\Users\\palet\\OneDrive\\Desktop\\UNI_FINAL\\Git\\MMA-Predict\\Data\\Images\\Hailey_Cowan.png\n"
     ]
    },
    {
     "name": "stderr",
     "output_type": "stream",
     "text": [
      "Downloading Fighter Images:  18%|█▊        | 765/4248 [27:43<2:18:23,  2.38s/it]"
     ]
    },
    {
     "name": "stdout",
     "output_type": "stream",
     "text": [
      "No image found for Jeff Cox at https://www.ufc.com/athlete/jeff-cox\n"
     ]
    },
    {
     "name": "stderr",
     "output_type": "stream",
     "text": [
      "Downloading Fighter Images:  18%|█▊        | 766/4248 [27:46<2:32:11,  2.62s/it]"
     ]
    },
    {
     "name": "stdout",
     "output_type": "stream",
     "text": [
      "Image successfully downloaded for Nathan Coy: C:\\Users\\palet\\OneDrive\\Desktop\\UNI_FINAL\\Git\\MMA-Predict\\Data\\Images\\Nathan_Coy.png\n"
     ]
    },
    {
     "name": "stderr",
     "output_type": "stream",
     "text": [
      "Downloading Fighter Images:  18%|█▊        | 767/4248 [27:49<2:31:18,  2.61s/it]"
     ]
    },
    {
     "name": "stdout",
     "output_type": "stream",
     "text": [
      "Image successfully downloaded for Andrew Craig: C:\\Users\\palet\\OneDrive\\Desktop\\UNI_FINAL\\Git\\MMA-Predict\\Data\\Images\\Andrew_Craig.png\n"
     ]
    },
    {
     "name": "stderr",
     "output_type": "stream",
     "text": [
      "Downloading Fighter Images:  18%|█▊        | 768/4248 [27:52<2:36:07,  2.69s/it]"
     ]
    },
    {
     "name": "stdout",
     "output_type": "stream",
     "text": [
      "Image successfully downloaded for Paul Craig: C:\\Users\\palet\\OneDrive\\Desktop\\UNI_FINAL\\Git\\MMA-Predict\\Data\\Images\\Paul_Craig.png\n"
     ]
    },
    {
     "name": "stderr",
     "output_type": "stream",
     "text": [
      "Downloading Fighter Images:  18%|█▊        | 769/4248 [27:54<2:23:41,  2.48s/it]"
     ]
    },
    {
     "name": "stdout",
     "output_type": "stream",
     "text": [
      "No image found for Dan Cramer at https://www.ufc.com/athlete/dan-cramer\n"
     ]
    },
    {
     "name": "stderr",
     "output_type": "stream",
     "text": [
      "Downloading Fighter Images:  18%|█▊        | 770/4248 [27:56<2:16:06,  2.35s/it]"
     ]
    },
    {
     "name": "stdout",
     "output_type": "stream",
     "text": [
      "No image found for Alberto Crane at https://www.ufc.com/athlete/alberto-crane\n"
     ]
    },
    {
     "name": "stderr",
     "output_type": "stream",
     "text": [
      "Downloading Fighter Images:  18%|█▊        | 771/4248 [27:58<2:13:26,  2.30s/it]"
     ]
    },
    {
     "name": "stdout",
     "output_type": "stream",
     "text": [
      "No image found for Tim Credeur at https://www.ufc.com/athlete/tim-credeur\n"
     ]
    },
    {
     "name": "stderr",
     "output_type": "stream",
     "text": [
      "Downloading Fighter Images:  18%|█▊        | 772/4248 [28:00<2:06:07,  2.18s/it]"
     ]
    },
    {
     "name": "stdout",
     "output_type": "stream",
     "text": [
      "No image found for Paul Creighton at https://www.ufc.com/athlete/paul-creighton\n"
     ]
    },
    {
     "name": "stderr",
     "output_type": "stream",
     "text": [
      "Downloading Fighter Images:  18%|█▊        | 773/4248 [28:05<2:50:38,  2.95s/it]"
     ]
    },
    {
     "name": "stdout",
     "output_type": "stream",
     "text": [
      "No image found for Helena Crevar at https://www.ufc.com/athlete/helena-crevar\n"
     ]
    },
    {
     "name": "stderr",
     "output_type": "stream",
     "text": [
      "Downloading Fighter Images:  18%|█▊        | 774/4248 [28:09<3:12:58,  3.33s/it]"
     ]
    },
    {
     "name": "stdout",
     "output_type": "stream",
     "text": [
      "No image found for Alexander Crispim at https://www.ufc.com/athlete/alexander-crispim\n"
     ]
    },
    {
     "name": "stderr",
     "output_type": "stream",
     "text": [
      "Downloading Fighter Images:  18%|█▊        | 775/4248 [28:09<2:22:53,  2.47s/it]"
     ]
    },
    {
     "name": "stdout",
     "output_type": "stream",
     "text": [
      "Error fetching data for Alex Crispin: 403 Client Error: Forbidden for url: https://www.ufc.com/athlete/alex-crispin\n"
     ]
    },
    {
     "name": "stderr",
     "output_type": "stream",
     "text": [
      "Downloading Fighter Images:  18%|█▊        | 776/4248 [28:12<2:32:18,  2.63s/it]"
     ]
    },
    {
     "name": "stdout",
     "output_type": "stream",
     "text": [
      "Image successfully downloaded for Kevin Croom: C:\\Users\\palet\\OneDrive\\Desktop\\UNI_FINAL\\Git\\MMA-Predict\\Data\\Images\\Kevin_Croom.png\n"
     ]
    },
    {
     "name": "stderr",
     "output_type": "stream",
     "text": [
      "Downloading Fighter Images:  18%|█▊        | 777/4248 [28:16<2:44:22,  2.84s/it]"
     ]
    },
    {
     "name": "stdout",
     "output_type": "stream",
     "text": [
      "Image successfully downloaded for Kiefer Crosbie: C:\\Users\\palet\\OneDrive\\Desktop\\UNI_FINAL\\Git\\MMA-Predict\\Data\\Images\\Kiefer_Crosbie.png\n"
     ]
    },
    {
     "name": "stderr",
     "output_type": "stream",
     "text": [
      "Downloading Fighter Images:  18%|█▊        | 778/4248 [28:16<2:00:22,  2.08s/it]"
     ]
    },
    {
     "name": "stdout",
     "output_type": "stream",
     "text": [
      "No image found for Ken Cross at https://www.ufc.com/athlete/ken-cross\n"
     ]
    },
    {
     "name": "stderr",
     "output_type": "stream",
     "text": [
      "Downloading Fighter Images:  18%|█▊        | 779/4248 [28:17<1:33:34,  1.62s/it]"
     ]
    },
    {
     "name": "stdout",
     "output_type": "stream",
     "text": [
      "Error fetching data for Jeff Crotty: 403 Client Error: Forbidden for url: https://www.ufc.com/athlete/jeff-crotty\n"
     ]
    },
    {
     "name": "stderr",
     "output_type": "stream",
     "text": [
      "Downloading Fighter Images:  18%|█▊        | 780/4248 [28:19<1:52:45,  1.95s/it]"
     ]
    },
    {
     "name": "stdout",
     "output_type": "stream",
     "text": [
      "Image successfully downloaded for Allen Crowder: C:\\Users\\palet\\OneDrive\\Desktop\\UNI_FINAL\\Git\\MMA-Predict\\Data\\Images\\Allen_Crowder.png\n"
     ]
    },
    {
     "name": "stderr",
     "output_type": "stream",
     "text": [
      "Downloading Fighter Images:  18%|█▊        | 781/4248 [28:22<2:01:38,  2.11s/it]"
     ]
    },
    {
     "name": "stdout",
     "output_type": "stream",
     "text": [
      "Image successfully downloaded for Daron Cruickshank: C:\\Users\\palet\\OneDrive\\Desktop\\UNI_FINAL\\Git\\MMA-Predict\\Data\\Images\\Daron_Cruickshank.png\n"
     ]
    },
    {
     "name": "stderr",
     "output_type": "stream",
     "text": [
      "Downloading Fighter Images:  18%|█▊        | 782/4248 [28:22<1:31:48,  1.59s/it]"
     ]
    },
    {
     "name": "stdout",
     "output_type": "stream",
     "text": [
      "No image found for Richard Crunkilton at https://www.ufc.com/athlete/richard-crunkilton\n"
     ]
    },
    {
     "name": "stderr",
     "output_type": "stream",
     "text": [
      "Downloading Fighter Images:  18%|█▊        | 783/4248 [28:25<1:53:02,  1.96s/it]"
     ]
    },
    {
     "name": "stdout",
     "output_type": "stream",
     "text": [
      "Image successfully downloaded for Jimmy Crute: C:\\Users\\palet\\OneDrive\\Desktop\\UNI_FINAL\\Git\\MMA-Predict\\Data\\Images\\Jimmy_Crute.png\n"
     ]
    },
    {
     "name": "stderr",
     "output_type": "stream",
     "text": [
      "Downloading Fighter Images:  18%|█▊        | 784/4248 [28:27<1:53:03,  1.96s/it]"
     ]
    },
    {
     "name": "stdout",
     "output_type": "stream",
     "text": [
      "No image found for Marcio Cruz at https://www.ufc.com/athlete/marcio-cruz\n"
     ]
    },
    {
     "name": "stderr",
     "output_type": "stream",
     "text": [
      "Downloading Fighter Images:  18%|█▊        | 785/4248 [28:30<2:03:00,  2.13s/it]"
     ]
    },
    {
     "name": "stdout",
     "output_type": "stream",
     "text": [
      "Image successfully downloaded for Dominick Cruz: C:\\Users\\palet\\OneDrive\\Desktop\\UNI_FINAL\\Git\\MMA-Predict\\Data\\Images\\Dominick_Cruz.png\n"
     ]
    },
    {
     "name": "stderr",
     "output_type": "stream",
     "text": [
      "Downloading Fighter Images:  19%|█▊        | 786/4248 [28:33<2:20:42,  2.44s/it]"
     ]
    },
    {
     "name": "stdout",
     "output_type": "stream",
     "text": [
      "Image successfully downloaded for Aalon Cruz: C:\\Users\\palet\\OneDrive\\Desktop\\UNI_FINAL\\Git\\MMA-Predict\\Data\\Images\\Aalon_Cruz.png\n"
     ]
    },
    {
     "name": "stderr",
     "output_type": "stream",
     "text": [
      "Downloading Fighter Images:  19%|█▊        | 787/4248 [28:33<1:44:35,  1.81s/it]"
     ]
    },
    {
     "name": "stdout",
     "output_type": "stream",
     "text": [
      "No image found for Timmy Cuamba at https://www.ufc.com/athlete/timmy-cuamba\n"
     ]
    },
    {
     "name": "stderr",
     "output_type": "stream",
     "text": [
      "Downloading Fighter Images:  19%|█▊        | 788/4248 [28:36<2:12:28,  2.30s/it]"
     ]
    },
    {
     "name": "stdout",
     "output_type": "stream",
     "text": [
      "Image successfully downloaded for Jay Cucciniello: C:\\Users\\palet\\OneDrive\\Desktop\\UNI_FINAL\\Git\\MMA-Predict\\Data\\Images\\Jay_Cucciniello.png\n"
     ]
    },
    {
     "name": "stderr",
     "output_type": "stream",
     "text": [
      "Downloading Fighter Images:  19%|█▊        | 789/4248 [28:41<2:56:16,  3.06s/it]"
     ]
    },
    {
     "name": "stdout",
     "output_type": "stream",
     "text": [
      "No image found for Emilio Cuellar at https://www.ufc.com/athlete/emilio-cuellar\n"
     ]
    },
    {
     "name": "stderr",
     "output_type": "stream",
     "text": [
      "Downloading Fighter Images:  19%|█▊        | 790/4248 [28:44<2:47:01,  2.90s/it]"
     ]
    },
    {
     "name": "stdout",
     "output_type": "stream",
     "text": [
      "Image successfully downloaded for Josh Culibao: C:\\Users\\palet\\OneDrive\\Desktop\\UNI_FINAL\\Git\\MMA-Predict\\Data\\Images\\Josh_Culibao.png\n"
     ]
    },
    {
     "name": "stderr",
     "output_type": "stream",
     "text": [
      "Downloading Fighter Images:  19%|█▊        | 791/4248 [28:48<3:10:41,  3.31s/it]"
     ]
    },
    {
     "name": "stdout",
     "output_type": "stream",
     "text": [
      "No image found for Chris Culley at https://www.ufc.com/athlete/chris-culley\n"
     ]
    },
    {
     "name": "stderr",
     "output_type": "stream",
     "text": [
      "Downloading Fighter Images:  19%|█▊        | 792/4248 [28:49<2:22:39,  2.48s/it]"
     ]
    },
    {
     "name": "stdout",
     "output_type": "stream",
     "text": [
      "Error fetching data for Abel Cullum: 403 Client Error: Forbidden for url: https://www.ufc.com/athlete/abel-cullum\n"
     ]
    },
    {
     "name": "stderr",
     "output_type": "stream",
     "text": [
      "Downloading Fighter Images:  19%|█▊        | 793/4248 [28:51<2:29:20,  2.59s/it]"
     ]
    },
    {
     "name": "stdout",
     "output_type": "stream",
     "text": [
      "Image successfully downloaded for Zak Cummings: C:\\Users\\palet\\OneDrive\\Desktop\\UNI_FINAL\\Git\\MMA-Predict\\Data\\Images\\Zak_Cummings.png\n"
     ]
    },
    {
     "name": "stderr",
     "output_type": "stream",
     "text": [
      "Downloading Fighter Images:  19%|█▊        | 794/4248 [28:52<1:52:53,  1.96s/it]"
     ]
    },
    {
     "name": "stdout",
     "output_type": "stream",
     "text": [
      "Error fetching data for Everett Cummings: 403 Client Error: Forbidden for url: https://www.ufc.com/athlete/everett-cummings\n"
     ]
    },
    {
     "name": "stderr",
     "output_type": "stream",
     "text": [
      "Downloading Fighter Images:  19%|█▊        | 795/4248 [28:56<2:20:35,  2.44s/it]"
     ]
    },
    {
     "name": "stdout",
     "output_type": "stream",
     "text": [
      "Image successfully downloaded for Patrick Cummins: C:\\Users\\palet\\OneDrive\\Desktop\\UNI_FINAL\\Git\\MMA-Predict\\Data\\Images\\Patrick_Cummins.png\n"
     ]
    },
    {
     "name": "stderr",
     "output_type": "stream",
     "text": [
      "Downloading Fighter Images:  19%|█▊        | 796/4248 [28:58<2:14:30,  2.34s/it]"
     ]
    },
    {
     "name": "stdout",
     "output_type": "stream",
     "text": [
      "No image found for Luke Cummo at https://www.ufc.com/athlete/luke-cummo\n"
     ]
    },
    {
     "name": "stderr",
     "output_type": "stream",
     "text": [
      "Downloading Fighter Images:  19%|█▉        | 797/4248 [29:08<4:24:54,  4.61s/it]"
     ]
    },
    {
     "name": "stdout",
     "output_type": "stream",
     "text": [
      "No image found for Hugo Cunha at https://www.ufc.com/athlete/hugo-cunha\n"
     ]
    },
    {
     "name": "stderr",
     "output_type": "stream",
     "text": [
      "Downloading Fighter Images:  19%|█▉        | 798/4248 [29:13<4:44:57,  4.96s/it]"
     ]
    },
    {
     "name": "stdout",
     "output_type": "stream",
     "text": [
      "Image successfully downloaded for Alton Cunningham: C:\\Users\\palet\\OneDrive\\Desktop\\UNI_FINAL\\Git\\MMA-Predict\\Data\\Images\\Alton_Cunningham.png\n"
     ]
    },
    {
     "name": "stderr",
     "output_type": "stream",
     "text": [
      "Downloading Fighter Images:  19%|█▉        | 799/4248 [29:16<4:07:46,  4.31s/it]"
     ]
    },
    {
     "name": "stdout",
     "output_type": "stream",
     "text": [
      "Image successfully downloaded for AJ Cunningham: C:\\Users\\palet\\OneDrive\\Desktop\\UNI_FINAL\\Git\\MMA-Predict\\Data\\Images\\AJ_Cunningham.png\n"
     ]
    },
    {
     "name": "stderr",
     "output_type": "stream",
     "text": [
      "Downloading Fighter Images:  19%|█▉        | 800/4248 [29:22<4:28:43,  4.68s/it]"
     ]
    },
    {
     "name": "stdout",
     "output_type": "stream",
     "text": [
      "Image successfully downloaded for Santo Curatolo: C:\\Users\\palet\\OneDrive\\Desktop\\UNI_FINAL\\Git\\MMA-Predict\\Data\\Images\\Santo_Curatolo.png\n"
     ]
    },
    {
     "name": "stderr",
     "output_type": "stream",
     "text": [
      "Downloading Fighter Images:  19%|█▉        | 801/4248 [29:24<3:46:57,  3.95s/it]"
     ]
    },
    {
     "name": "stdout",
     "output_type": "stream",
     "text": [
      "No image found for Larry Cureton at https://www.ufc.com/athlete/larry-cureton\n"
     ]
    },
    {
     "name": "stderr",
     "output_type": "stream",
     "text": [
      "Downloading Fighter Images:  19%|█▉        | 802/4248 [29:26<3:15:11,  3.40s/it]"
     ]
    },
    {
     "name": "stdout",
     "output_type": "stream",
     "text": [
      "No image found for Jeff Curran at https://www.ufc.com/athlete/jeff-curran\n"
     ]
    },
    {
     "name": "stderr",
     "output_type": "stream",
     "text": [
      "Downloading Fighter Images:  19%|█▉        | 803/4248 [29:29<3:02:54,  3.19s/it]"
     ]
    },
    {
     "name": "stdout",
     "output_type": "stream",
     "text": [
      "Image successfully downloaded for Kailin Curran: C:\\Users\\palet\\OneDrive\\Desktop\\UNI_FINAL\\Git\\MMA-Predict\\Data\\Images\\Kailin_Curran.png\n"
     ]
    },
    {
     "name": "stderr",
     "output_type": "stream",
     "text": [
      "Downloading Fighter Images:  19%|█▉        | 804/4248 [29:29<2:14:19,  2.34s/it]"
     ]
    },
    {
     "name": "stdout",
     "output_type": "stream",
     "text": [
      "Error fetching data for Pat Curran: 403 Client Error: Forbidden for url: https://www.ufc.com/athlete/pat-curran\n"
     ]
    },
    {
     "name": "stderr",
     "output_type": "stream",
     "text": [
      "Downloading Fighter Images:  19%|█▉        | 805/4248 [29:29<1:39:02,  1.73s/it]"
     ]
    },
    {
     "name": "stdout",
     "output_type": "stream",
     "text": [
      "No image found for Will Currie at https://www.ufc.com/athlete/will-currie\n"
     ]
    },
    {
     "name": "stderr",
     "output_type": "stream",
     "text": [
      "Downloading Fighter Images:  19%|█▉        | 806/4248 [29:32<1:46:55,  1.86s/it]"
     ]
    },
    {
     "name": "stdout",
     "output_type": "stream",
     "text": [
      "Image successfully downloaded for Chris Curtis: C:\\Users\\palet\\OneDrive\\Desktop\\UNI_FINAL\\Git\\MMA-Predict\\Data\\Images\\Chris_Curtis.png\n"
     ]
    },
    {
     "name": "stderr",
     "output_type": "stream",
     "text": [
      "Downloading Fighter Images:  19%|█▉        | 807/4248 [29:34<2:04:35,  2.17s/it]"
     ]
    },
    {
     "name": "stdout",
     "output_type": "stream",
     "text": [
      "Image successfully downloaded for Ion Cutelaba: C:\\Users\\palet\\OneDrive\\Desktop\\UNI_FINAL\\Git\\MMA-Predict\\Data\\Images\\Ion_Cutelaba.png\n"
     ]
    },
    {
     "name": "stderr",
     "output_type": "stream",
     "text": [
      "Downloading Fighter Images:  19%|█▉        | 808/4248 [29:39<2:50:26,  2.97s/it]"
     ]
    },
    {
     "name": "stdout",
     "output_type": "stream",
     "text": [
      "No image found for Gleidson Cutis at https://www.ufc.com/athlete/gleidson-cutis\n"
     ]
    },
    {
     "name": "stderr",
     "output_type": "stream",
     "text": [
      "Downloading Fighter Images:  19%|█▉        | 809/4248 [29:40<2:05:00,  2.18s/it]"
     ]
    },
    {
     "name": "stdout",
     "output_type": "stream",
     "text": [
      "No image found for Sarah D'alelio at https://www.ufc.com/athlete/sarah-d'alelio\n"
     ]
    },
    {
     "name": "stderr",
     "output_type": "stream",
     "text": [
      "Downloading Fighter Images:  19%|█▉        | 810/4248 [29:40<1:32:39,  1.62s/it]"
     ]
    },
    {
     "name": "stdout",
     "output_type": "stream",
     "text": [
      "No image found for Marcos da Matta at https://www.ufc.com/athlete/marcos-da matta\n"
     ]
    },
    {
     "name": "stderr",
     "output_type": "stream",
     "text": [
      "Downloading Fighter Images:  19%|█▉        | 811/4248 [29:40<1:10:51,  1.24s/it]"
     ]
    },
    {
     "name": "stdout",
     "output_type": "stream",
     "text": [
      "No image found for Henrique da Silva at https://www.ufc.com/athlete/henrique-da silva\n"
     ]
    },
    {
     "name": "stderr",
     "output_type": "stream",
     "text": [
      "Downloading Fighter Images:  19%|█▉        | 812/4248 [29:41<54:53,  1.04it/s]  "
     ]
    },
    {
     "name": "stdout",
     "output_type": "stream",
     "text": [
      "No image found for Ariane da Silva at https://www.ufc.com/athlete/ariane-da silva\n"
     ]
    },
    {
     "name": "stderr",
     "output_type": "stream",
     "text": [
      "Downloading Fighter Images:  19%|█▉        | 813/4248 [29:41<44:01,  1.30it/s]"
     ]
    },
    {
     "name": "stdout",
     "output_type": "stream",
     "text": [
      "No image found for Alex Da Silva at https://www.ufc.com/athlete/alex-da silva\n"
     ]
    },
    {
     "name": "stderr",
     "output_type": "stream",
     "text": [
      "Downloading Fighter Images:  19%|█▉        | 814/4248 [29:41<36:45,  1.56it/s]"
     ]
    },
    {
     "name": "stdout",
     "output_type": "stream",
     "text": [
      "No image found for Henrique Da Silva Lopes at https://www.ufc.com/athlete/henrique-da silva lopes\n"
     ]
    },
    {
     "name": "stderr",
     "output_type": "stream",
     "text": [
      "Downloading Fighter Images:  19%|█▉        | 815/4248 [29:44<1:10:14,  1.23s/it]"
     ]
    },
    {
     "name": "stdout",
     "output_type": "stream",
     "text": [
      "Image successfully downloaded for Nicolas Dalby: C:\\Users\\palet\\OneDrive\\Desktop\\UNI_FINAL\\Git\\MMA-Predict\\Data\\Images\\Nicolas_Dalby.png\n"
     ]
    },
    {
     "name": "stderr",
     "output_type": "stream",
     "text": [
      "Downloading Fighter Images:  19%|█▉        | 816/4248 [29:46<1:22:35,  1.44s/it]"
     ]
    },
    {
     "name": "stdout",
     "output_type": "stream",
     "text": [
      "No image found for Paul Daley at https://www.ufc.com/athlete/paul-daley\n"
     ]
    },
    {
     "name": "stderr",
     "output_type": "stream",
     "text": [
      "Downloading Fighter Images:  19%|█▉        | 817/4248 [29:46<1:07:19,  1.18s/it]"
     ]
    },
    {
     "name": "stdout",
     "output_type": "stream",
     "text": [
      "Error fetching data for Dave Dalgliesh: 403 Client Error: Forbidden for url: https://www.ufc.com/athlete/dave-dalgliesh\n"
     ]
    },
    {
     "name": "stderr",
     "output_type": "stream",
     "text": [
      "Downloading Fighter Images:  19%|█▉        | 818/4248 [29:51<2:07:35,  2.23s/it]"
     ]
    },
    {
     "name": "stdout",
     "output_type": "stream",
     "text": [
      "No image found for Richard Dalton at https://www.ufc.com/athlete/richard-dalton\n"
     ]
    },
    {
     "name": "stderr",
     "output_type": "stream",
     "text": [
      "Downloading Fighter Images:  19%|█▉        | 819/4248 [29:53<2:08:34,  2.25s/it]"
     ]
    },
    {
     "name": "stdout",
     "output_type": "stream",
     "text": [
      "Image successfully downloaded for Aisling Daly: C:\\Users\\palet\\OneDrive\\Desktop\\UNI_FINAL\\Git\\MMA-Predict\\Data\\Images\\Aisling_Daly.png\n"
     ]
    },
    {
     "name": "stderr",
     "output_type": "stream",
     "text": [
      "Downloading Fighter Images:  19%|█▉        | 820/4248 [29:54<1:38:44,  1.73s/it]"
     ]
    },
    {
     "name": "stdout",
     "output_type": "stream",
     "text": [
      "Error fetching data for Marko Damiani: 403 Client Error: Forbidden for url: https://www.ufc.com/athlete/marko-damiani\n"
     ]
    },
    {
     "name": "stderr",
     "output_type": "stream",
     "text": [
      "Downloading Fighter Images:  19%|█▉        | 821/4248 [29:59<2:45:14,  2.89s/it]"
     ]
    },
    {
     "name": "stdout",
     "output_type": "stream",
     "text": [
      "Image successfully downloaded for Leonardo Damiani: C:\\Users\\palet\\OneDrive\\Desktop\\UNI_FINAL\\Git\\MMA-Predict\\Data\\Images\\Leonardo_Damiani.png\n"
     ]
    },
    {
     "name": "stderr",
     "output_type": "stream",
     "text": [
      "Downloading Fighter Images:  19%|█▉        | 822/4248 [30:01<2:31:09,  2.65s/it]"
     ]
    },
    {
     "name": "stdout",
     "output_type": "stream",
     "text": [
      "No image found for Rodrigo Damm at https://www.ufc.com/athlete/rodrigo-damm\n"
     ]
    },
    {
     "name": "stderr",
     "output_type": "stream",
     "text": [
      "Downloading Fighter Images:  19%|█▉        | 823/4248 [30:06<3:05:14,  3.25s/it]"
     ]
    },
    {
     "name": "stdout",
     "output_type": "stream",
     "text": [
      "No image found for Carina Damm at https://www.ufc.com/athlete/carina-damm\n"
     ]
    },
    {
     "name": "stderr",
     "output_type": "stream",
     "text": [
      "Downloading Fighter Images:  19%|█▉        | 824/4248 [30:09<2:55:26,  3.07s/it]"
     ]
    },
    {
     "name": "stdout",
     "output_type": "stream",
     "text": [
      "Image successfully downloaded for Batgerel Danaa: C:\\Users\\palet\\OneDrive\\Desktop\\UNI_FINAL\\Git\\MMA-Predict\\Data\\Images\\Batgerel_Danaa.png\n"
     ]
    },
    {
     "name": "stderr",
     "output_type": "stream",
     "text": [
      "Downloading Fighter Images:  19%|█▉        | 825/4248 [30:11<2:48:38,  2.96s/it]"
     ]
    },
    {
     "name": "stdout",
     "output_type": "stream",
     "text": [
      "Image successfully downloaded for Cindy Dandois: C:\\Users\\palet\\OneDrive\\Desktop\\UNI_FINAL\\Git\\MMA-Predict\\Data\\Images\\Cindy_Dandois.png\n"
     ]
    },
    {
     "name": "stderr",
     "output_type": "stream",
     "text": [
      "Downloading Fighter Images:  19%|█▉        | 826/4248 [30:17<3:32:56,  3.73s/it]"
     ]
    },
    {
     "name": "stdout",
     "output_type": "stream",
     "text": [
      "Image successfully downloaded for Peter Danesoe: C:\\Users\\palet\\OneDrive\\Desktop\\UNI_FINAL\\Git\\MMA-Predict\\Data\\Images\\Peter_Danesoe.png\n"
     ]
    },
    {
     "name": "stderr",
     "output_type": "stream",
     "text": [
      "Downloading Fighter Images:  19%|█▉        | 827/4248 [30:20<3:22:33,  3.55s/it]"
     ]
    },
    {
     "name": "stdout",
     "output_type": "stream",
     "text": [
      "Image successfully downloaded for Jarjis Danho: C:\\Users\\palet\\OneDrive\\Desktop\\UNI_FINAL\\Git\\MMA-Predict\\Data\\Images\\Jarjis_Danho.png\n"
     ]
    },
    {
     "name": "stderr",
     "output_type": "stream",
     "text": [
      "Downloading Fighter Images:  19%|█▉        | 828/4248 [30:25<3:43:01,  3.91s/it]"
     ]
    },
    {
     "name": "stdout",
     "output_type": "stream",
     "text": [
      "No image found for Raymond Daniels at https://www.ufc.com/athlete/raymond-daniels\n"
     ]
    },
    {
     "name": "stderr",
     "output_type": "stream",
     "text": [
      "Downloading Fighter Images:  20%|█▉        | 829/4248 [30:30<4:00:19,  4.22s/it]"
     ]
    },
    {
     "name": "stdout",
     "output_type": "stream",
     "text": [
      "No image found for Marques Daniels at https://www.ufc.com/athlete/marques-daniels\n"
     ]
    },
    {
     "name": "stderr",
     "output_type": "stream",
     "text": [
      "Downloading Fighter Images:  20%|█▉        | 830/4248 [30:30<2:54:29,  3.06s/it]"
     ]
    },
    {
     "name": "stdout",
     "output_type": "stream",
     "text": [
      "No image found for Anvarbek Daniyalbekov at https://www.ufc.com/athlete/anvarbek-daniyalbekov\n"
     ]
    },
    {
     "name": "stderr",
     "output_type": "stream",
     "text": [
      "Downloading Fighter Images:  20%|█▉        | 831/4248 [30:32<2:34:25,  2.71s/it]"
     ]
    },
    {
     "name": "stdout",
     "output_type": "stream",
     "text": [
      "No image found for Alexandre Dantas at https://www.ufc.com/athlete/alexandre-dantas\n"
     ]
    },
    {
     "name": "stderr",
     "output_type": "stream",
     "text": [
      "Downloading Fighter Images:  20%|█▉        | 832/4248 [30:33<1:58:35,  2.08s/it]"
     ]
    },
    {
     "name": "stdout",
     "output_type": "stream",
     "text": [
      "Error fetching data for Eduardo Dantas: 403 Client Error: Forbidden for url: https://www.ufc.com/athlete/eduardo-dantas\n"
     ]
    },
    {
     "name": "stderr",
     "output_type": "stream",
     "text": [
      "Downloading Fighter Images:  20%|█▉        | 833/4248 [30:36<2:19:19,  2.45s/it]"
     ]
    },
    {
     "name": "stdout",
     "output_type": "stream",
     "text": [
      "Image successfully downloaded for Mac Danzig: C:\\Users\\palet\\OneDrive\\Desktop\\UNI_FINAL\\Git\\MMA-Predict\\Data\\Images\\Mac_Danzig.png\n"
     ]
    },
    {
     "name": "stderr",
     "output_type": "stream",
     "text": [
      "Downloading Fighter Images:  20%|█▉        | 834/4248 [30:41<2:58:37,  3.14s/it]"
     ]
    },
    {
     "name": "stdout",
     "output_type": "stream",
     "text": [
      "No image found for Karen Darabedyan at https://www.ufc.com/athlete/karen-darabedyan\n"
     ]
    },
    {
     "name": "stderr",
     "output_type": "stream",
     "text": [
      "Downloading Fighter Images:  20%|█▉        | 835/4248 [30:43<2:41:40,  2.84s/it]"
     ]
    },
    {
     "name": "stdout",
     "output_type": "stream",
     "text": [
      "Image successfully downloaded for Beneil Dariush: C:\\Users\\palet\\OneDrive\\Desktop\\UNI_FINAL\\Git\\MMA-Predict\\Data\\Images\\Beneil_Dariush.png\n"
     ]
    },
    {
     "name": "stderr",
     "output_type": "stream",
     "text": [
      "Downloading Fighter Images:  20%|█▉        | 836/4248 [30:43<1:58:00,  2.08s/it]"
     ]
    },
    {
     "name": "stdout",
     "output_type": "stream",
     "text": [
      "No image found for Sean Daugherty at https://www.ufc.com/athlete/sean-daugherty\n"
     ]
    },
    {
     "name": "stderr",
     "output_type": "stream",
     "text": [
      "Downloading Fighter Images:  20%|█▉        | 837/4248 [30:47<2:19:14,  2.45s/it]"
     ]
    },
    {
     "name": "stdout",
     "output_type": "stream",
     "text": [
      "Image successfully downloaded for Kyle Daukaus: C:\\Users\\palet\\OneDrive\\Desktop\\UNI_FINAL\\Git\\MMA-Predict\\Data\\Images\\Kyle_Daukaus.png\n"
     ]
    },
    {
     "name": "stderr",
     "output_type": "stream",
     "text": [
      "Downloading Fighter Images:  20%|█▉        | 838/4248 [30:50<2:36:32,  2.75s/it]"
     ]
    },
    {
     "name": "stdout",
     "output_type": "stream",
     "text": [
      "Image successfully downloaded for Chris Daukaus: C:\\Users\\palet\\OneDrive\\Desktop\\UNI_FINAL\\Git\\MMA-Predict\\Data\\Images\\Chris_Daukaus.png\n"
     ]
    },
    {
     "name": "stderr",
     "output_type": "stream",
     "text": [
      "Downloading Fighter Images:  20%|█▉        | 839/4248 [30:54<3:03:32,  3.23s/it]"
     ]
    },
    {
     "name": "stdout",
     "output_type": "stream",
     "text": [
      "No image found for Brian Davidson at https://www.ufc.com/athlete/brian-davidson\n"
     ]
    },
    {
     "name": "stderr",
     "output_type": "stream",
     "text": [
      "Downloading Fighter Images:  20%|█▉        | 840/4248 [30:56<2:44:44,  2.90s/it]"
     ]
    },
    {
     "name": "stdout",
     "output_type": "stream",
     "text": [
      "No image found for Rick Davis at https://www.ufc.com/athlete/rick-davis\n"
     ]
    },
    {
     "name": "stderr",
     "output_type": "stream",
     "text": [
      "Downloading Fighter Images:  20%|█▉        | 841/4248 [30:59<2:37:02,  2.77s/it]"
     ]
    },
    {
     "name": "stdout",
     "output_type": "stream",
     "text": [
      "No image found for Marcus Davis at https://www.ufc.com/athlete/marcus-davis\n"
     ]
    },
    {
     "name": "stderr",
     "output_type": "stream",
     "text": [
      "Downloading Fighter Images:  20%|█▉        | 842/4248 [31:04<3:14:49,  3.43s/it]"
     ]
    },
    {
     "name": "stdout",
     "output_type": "stream",
     "text": [
      "No image found for LC Davis at https://www.ufc.com/athlete/lc-davis\n"
     ]
    },
    {
     "name": "stderr",
     "output_type": "stream",
     "text": [
      "Downloading Fighter Images:  20%|█▉        | 843/4248 [31:08<3:18:42,  3.50s/it]"
     ]
    },
    {
     "name": "stdout",
     "output_type": "stream",
     "text": [
      "Image successfully downloaded for Phil Davis: C:\\Users\\palet\\OneDrive\\Desktop\\UNI_FINAL\\Git\\MMA-Predict\\Data\\Images\\Phil_Davis.png\n"
     ]
    },
    {
     "name": "stderr",
     "output_type": "stream",
     "text": [
      "Downloading Fighter Images:  20%|█▉        | 844/4248 [31:12<3:37:37,  3.84s/it]"
     ]
    },
    {
     "name": "stdout",
     "output_type": "stream",
     "text": [
      "No image found for Lemont Davis at https://www.ufc.com/athlete/lemont-davis\n"
     ]
    },
    {
     "name": "stderr",
     "output_type": "stream",
     "text": [
      "Downloading Fighter Images:  20%|█▉        | 845/4248 [31:16<3:32:16,  3.74s/it]"
     ]
    },
    {
     "name": "stdout",
     "output_type": "stream",
     "text": [
      "Image successfully downloaded for Mike Davis: C:\\Users\\palet\\OneDrive\\Desktop\\UNI_FINAL\\Git\\MMA-Predict\\Data\\Images\\Mike_Davis.png\n"
     ]
    },
    {
     "name": "stderr",
     "output_type": "stream",
     "text": [
      "Downloading Fighter Images:  20%|█▉        | 846/4248 [31:20<3:49:47,  4.05s/it]"
     ]
    },
    {
     "name": "stdout",
     "output_type": "stream",
     "text": [
      "No image found for Justin Davis at https://www.ufc.com/athlete/justin-davis\n"
     ]
    },
    {
     "name": "stderr",
     "output_type": "stream",
     "text": [
      "Downloading Fighter Images:  20%|█▉        | 847/4248 [31:24<3:34:21,  3.78s/it]"
     ]
    },
    {
     "name": "stdout",
     "output_type": "stream",
     "text": [
      "Image successfully downloaded for Alexis Davis: C:\\Users\\palet\\OneDrive\\Desktop\\UNI_FINAL\\Git\\MMA-Predict\\Data\\Images\\Alexis_Davis.png\n"
     ]
    },
    {
     "name": "stderr",
     "output_type": "stream",
     "text": [
      "Downloading Fighter Images:  20%|█▉        | 848/4248 [31:28<3:49:43,  4.05s/it]"
     ]
    },
    {
     "name": "stdout",
     "output_type": "stream",
     "text": [
      "No image found for Danny Davis at https://www.ufc.com/athlete/danny-davis\n"
     ]
    },
    {
     "name": "stderr",
     "output_type": "stream",
     "text": [
      "Downloading Fighter Images:  20%|█▉        | 849/4248 [31:31<3:18:50,  3.51s/it]"
     ]
    },
    {
     "name": "stdout",
     "output_type": "stream",
     "text": [
      "Image successfully downloaded for Brandon Davis: C:\\Users\\palet\\OneDrive\\Desktop\\UNI_FINAL\\Git\\MMA-Predict\\Data\\Images\\Brandon_Davis.png\n",
      "Image already exists for Mike Davis: C:\\Users\\palet\\OneDrive\\Desktop\\UNI_FINAL\\Git\\MMA-Predict\\Data\\Images\\Mike_Davis.png\n"
     ]
    },
    {
     "name": "stderr",
     "output_type": "stream",
     "text": [
      "Downloading Fighter Images:  20%|██        | 851/4248 [31:33<2:22:34,  2.52s/it]"
     ]
    },
    {
     "name": "stdout",
     "output_type": "stream",
     "text": [
      "Image successfully downloaded for Hakeem Dawodu: C:\\Users\\palet\\OneDrive\\Desktop\\UNI_FINAL\\Git\\MMA-Predict\\Data\\Images\\Hakeem_Dawodu.png\n"
     ]
    },
    {
     "name": "stderr",
     "output_type": "stream",
     "text": [
      "Downloading Fighter Images:  20%|██        | 852/4248 [31:36<2:22:22,  2.52s/it]"
     ]
    },
    {
     "name": "stdout",
     "output_type": "stream",
     "text": [
      "Image successfully downloaded for Grant Dawson: C:\\Users\\palet\\OneDrive\\Desktop\\UNI_FINAL\\Git\\MMA-Predict\\Data\\Images\\Grant_Dawson.png\n"
     ]
    },
    {
     "name": "stderr",
     "output_type": "stream",
     "text": [
      "Downloading Fighter Images:  20%|██        | 853/4248 [31:38<2:22:51,  2.52s/it]"
     ]
    },
    {
     "name": "stdout",
     "output_type": "stream",
     "text": [
      "No image found for Jason Day at https://www.ufc.com/athlete/jason-day\n"
     ]
    },
    {
     "name": "stderr",
     "output_type": "stream",
     "text": [
      "Downloading Fighter Images:  20%|██        | 854/4248 [31:41<2:21:51,  2.51s/it]"
     ]
    },
    {
     "name": "stdout",
     "output_type": "stream",
     "text": [
      "Image successfully downloaded for Martin Day: C:\\Users\\palet\\OneDrive\\Desktop\\UNI_FINAL\\Git\\MMA-Predict\\Data\\Images\\Martin_Day.png\n"
     ]
    },
    {
     "name": "stderr",
     "output_type": "stream",
     "text": [
      "Downloading Fighter Images:  20%|██        | 855/4248 [31:41<1:47:37,  1.90s/it]"
     ]
    },
    {
     "name": "stdout",
     "output_type": "stream",
     "text": [
      "No image found for Angel De Anda at https://www.ufc.com/athlete/angel-de anda\n"
     ]
    },
    {
     "name": "stderr",
     "output_type": "stream",
     "text": [
      "Downloading Fighter Images:  20%|██        | 856/4248 [31:42<1:22:34,  1.46s/it]"
     ]
    },
    {
     "name": "stdout",
     "output_type": "stream",
     "text": [
      "No image found for Yorgan De Castro at https://www.ufc.com/athlete/yorgan-de castro\n"
     ]
    },
    {
     "name": "stderr",
     "output_type": "stream",
     "text": [
      "Downloading Fighter Images:  20%|██        | 857/4248 [31:42<1:03:13,  1.12s/it]"
     ]
    },
    {
     "name": "stdout",
     "output_type": "stream",
     "text": [
      "No image found for Geraldo de Freitas at https://www.ufc.com/athlete/geraldo-de freitas\n"
     ]
    },
    {
     "name": "stderr",
     "output_type": "stream",
     "text": [
      "Downloading Fighter Images:  20%|██        | 858/4248 [31:42<50:30,  1.12it/s]  "
     ]
    },
    {
     "name": "stdout",
     "output_type": "stream",
     "text": [
      "No image found for Philip De Fries at https://www.ufc.com/athlete/philip-de fries\n"
     ]
    },
    {
     "name": "stderr",
     "output_type": "stream",
     "text": [
      "Downloading Fighter Images:  20%|██        | 859/4248 [31:42<41:22,  1.36it/s]"
     ]
    },
    {
     "name": "stdout",
     "output_type": "stream",
     "text": [
      "No image found for Chris de la Rocha at https://www.ufc.com/athlete/chris-de la rocha\n"
     ]
    },
    {
     "name": "stderr",
     "output_type": "stream",
     "text": [
      "Downloading Fighter Images:  20%|██        | 860/4248 [31:43<35:16,  1.60it/s]"
     ]
    },
    {
     "name": "stdout",
     "output_type": "stream",
     "text": [
      "No image found for Montana De La Rosa at https://www.ufc.com/athlete/montana-de la rosa\n"
     ]
    },
    {
     "name": "stderr",
     "output_type": "stream",
     "text": [
      "Downloading Fighter Images:  20%|██        | 861/4248 [31:43<30:20,  1.86it/s]"
     ]
    },
    {
     "name": "stdout",
     "output_type": "stream",
     "text": [
      "No image found for Mark De La Rosa at https://www.ufc.com/athlete/mark-de la rosa\n"
     ]
    },
    {
     "name": "stderr",
     "output_type": "stream",
     "text": [
      "Downloading Fighter Images:  20%|██        | 862/4248 [31:44<27:14,  2.07it/s]"
     ]
    },
    {
     "name": "stdout",
     "output_type": "stream",
     "text": [
      "No image found for Mike de la Torre at https://www.ufc.com/athlete/mike-de la torre\n"
     ]
    },
    {
     "name": "stderr",
     "output_type": "stream",
     "text": [
      "Downloading Fighter Images:  20%|██        | 863/4248 [31:44<25:12,  2.24it/s]"
     ]
    },
    {
     "name": "stdout",
     "output_type": "stream",
     "text": [
      "No image found for Rodrigo de Lima at https://www.ufc.com/athlete/rodrigo-de lima\n"
     ]
    },
    {
     "name": "stderr",
     "output_type": "stream",
     "text": [
      "Downloading Fighter Images:  20%|██        | 864/4248 [31:44<22:40,  2.49it/s]"
     ]
    },
    {
     "name": "stdout",
     "output_type": "stream",
     "text": [
      "No image found for Edilberto de Oliveira at https://www.ufc.com/athlete/edilberto-de oliveira\n"
     ]
    },
    {
     "name": "stderr",
     "output_type": "stream",
     "text": [
      "Downloading Fighter Images:  20%|██        | 865/4248 [31:44<20:46,  2.71it/s]"
     ]
    },
    {
     "name": "stdout",
     "output_type": "stream",
     "text": [
      "No image found for Johil de Oliveira at https://www.ufc.com/athlete/johil-de oliveira\n"
     ]
    },
    {
     "name": "stderr",
     "output_type": "stream",
     "text": [
      "Downloading Fighter Images:  20%|██        | 866/4248 [31:45<19:53,  2.83it/s]"
     ]
    },
    {
     "name": "stdout",
     "output_type": "stream",
     "text": [
      "No image found for Jorge de Oliveira at https://www.ufc.com/athlete/jorge-de oliveira\n"
     ]
    },
    {
     "name": "stderr",
     "output_type": "stream",
     "text": [
      "Downloading Fighter Images:  20%|██        | 867/4248 [31:45<19:32,  2.88it/s]"
     ]
    },
    {
     "name": "stdout",
     "output_type": "stream",
     "text": [
      "No image found for Isabela de Padua at https://www.ufc.com/athlete/isabela-de padua\n"
     ]
    },
    {
     "name": "stderr",
     "output_type": "stream",
     "text": [
      "Downloading Fighter Images:  20%|██        | 868/4248 [31:45<18:45,  3.00it/s]"
     ]
    },
    {
     "name": "stdout",
     "output_type": "stream",
     "text": [
      "No image found for Gloria de Paula at https://www.ufc.com/athlete/gloria-de paula\n"
     ]
    },
    {
     "name": "stderr",
     "output_type": "stream",
     "text": [
      "Downloading Fighter Images:  20%|██        | 869/4248 [31:46<17:19,  3.25it/s]"
     ]
    },
    {
     "name": "stdout",
     "output_type": "stream",
     "text": [
      "No image found for Germaine de Randamie at https://www.ufc.com/athlete/germaine-de randamie\n"
     ]
    },
    {
     "name": "stderr",
     "output_type": "stream",
     "text": [
      "Downloading Fighter Images:  20%|██        | 870/4248 [31:46<17:48,  3.16it/s]"
     ]
    },
    {
     "name": "stdout",
     "output_type": "stream",
     "text": [
      "No image found for Reinier de Ridder at https://www.ufc.com/athlete/reinier-de ridder\n"
     ]
    },
    {
     "name": "stderr",
     "output_type": "stream",
     "text": [
      "Downloading Fighter Images:  21%|██        | 871/4248 [31:46<17:47,  3.16it/s]"
     ]
    },
    {
     "name": "stdout",
     "output_type": "stream",
     "text": [
      "No image found for Crezio de Souza at https://www.ufc.com/athlete/crezio-de souza\n"
     ]
    },
    {
     "name": "stderr",
     "output_type": "stream",
     "text": [
      "Downloading Fighter Images:  21%|██        | 872/4248 [31:49<52:06,  1.08it/s]"
     ]
    },
    {
     "name": "stdout",
     "output_type": "stream",
     "text": [
      "Image successfully downloaded for Carl Deaton: C:\\Users\\palet\\OneDrive\\Desktop\\UNI_FINAL\\Git\\MMA-Predict\\Data\\Images\\Carl_Deaton.png\n"
     ]
    },
    {
     "name": "stderr",
     "output_type": "stream",
     "text": [
      "Downloading Fighter Images:  21%|██        | 873/4248 [31:52<1:24:28,  1.50s/it]"
     ]
    },
    {
     "name": "stdout",
     "output_type": "stream",
     "text": [
      "No image found for Tom DeBlass at https://www.ufc.com/athlete/tom-deblass\n"
     ]
    },
    {
     "name": "stderr",
     "output_type": "stream",
     "text": [
      "Downloading Fighter Images:  21%|██        | 874/4248 [31:56<2:21:50,  2.52s/it]"
     ]
    },
    {
     "name": "stdout",
     "output_type": "stream",
     "text": [
      "No image found for Issac DeJesus at https://www.ufc.com/athlete/issac-dejesus\n"
     ]
    },
    {
     "name": "stderr",
     "output_type": "stream",
     "text": [
      "Downloading Fighter Images:  21%|██        | 875/4248 [31:57<1:43:58,  1.85s/it]"
     ]
    },
    {
     "name": "stdout",
     "output_type": "stream",
     "text": [
      "No image found for Rafael  Del Real at https://www.ufc.com/athlete/rafael -del real\n"
     ]
    },
    {
     "name": "stderr",
     "output_type": "stream",
     "text": [
      "Downloading Fighter Images:  21%|██        | 876/4248 [31:57<1:18:31,  1.40s/it]"
     ]
    },
    {
     "name": "stdout",
     "output_type": "stream",
     "text": [
      "No image found for Shane del Rosario at https://www.ufc.com/athlete/shane-del rosario\n"
     ]
    },
    {
     "name": "stderr",
     "output_type": "stream",
     "text": [
      "Downloading Fighter Images:  21%|██        | 877/4248 [31:57<59:57,  1.07s/it]  "
     ]
    },
    {
     "name": "stdout",
     "output_type": "stream",
     "text": [
      "No image found for Wallen Del Rosario at https://www.ufc.com/athlete/wallen-del rosario\n"
     ]
    },
    {
     "name": "stderr",
     "output_type": "stream",
     "text": [
      "Downloading Fighter Images:  21%|██        | 878/4248 [32:02<2:06:57,  2.26s/it]"
     ]
    },
    {
     "name": "stdout",
     "output_type": "stream",
     "text": [
      "No image found for Humberto DeLeon at https://www.ufc.com/athlete/humberto-deleon\n"
     ]
    },
    {
     "name": "stderr",
     "output_type": "stream",
     "text": [
      "Downloading Fighter Images:  21%|██        | 879/4248 [32:05<2:04:47,  2.22s/it]"
     ]
    },
    {
     "name": "stdout",
     "output_type": "stream",
     "text": [
      "No image found for Rolando Delgado at https://www.ufc.com/athlete/rolando-delgado\n"
     ]
    },
    {
     "name": "stderr",
     "output_type": "stream",
     "text": [
      "Downloading Fighter Images:  21%|██        | 880/4248 [32:05<1:41:31,  1.81s/it]"
     ]
    },
    {
     "name": "stdout",
     "output_type": "stream",
     "text": [
      "Error fetching data for Israel Delgado: 403 Client Error: Forbidden for url: https://www.ufc.com/athlete/israel-delgado\n"
     ]
    },
    {
     "name": "stderr",
     "output_type": "stream",
     "text": [
      "Downloading Fighter Images:  21%|██        | 881/4248 [32:11<2:45:10,  2.94s/it]"
     ]
    },
    {
     "name": "stdout",
     "output_type": "stream",
     "text": [
      "Image successfully downloaded for Jose Delgado: C:\\Users\\palet\\OneDrive\\Desktop\\UNI_FINAL\\Git\\MMA-Predict\\Data\\Images\\Jose_Delgado.png\n"
     ]
    },
    {
     "name": "stderr",
     "output_type": "stream",
     "text": [
      "Downloading Fighter Images:  21%|██        | 882/4248 [32:16<3:18:30,  3.54s/it]"
     ]
    },
    {
     "name": "stdout",
     "output_type": "stream",
     "text": [
      "No image found for Ante Delija at https://www.ufc.com/athlete/ante-delija\n"
     ]
    },
    {
     "name": "stderr",
     "output_type": "stream",
     "text": [
      "Downloading Fighter Images:  21%|██        | 883/4248 [32:16<2:25:01,  2.59s/it]"
     ]
    },
    {
     "name": "stdout",
     "output_type": "stream",
     "text": [
      "No image found for Jack Della Maddalena at https://www.ufc.com/athlete/jack-della maddalena\n"
     ]
    },
    {
     "name": "stderr",
     "output_type": "stream",
     "text": [
      "Downloading Fighter Images:  21%|██        | 884/4248 [32:19<2:33:23,  2.74s/it]"
     ]
    },
    {
     "name": "stdout",
     "output_type": "stream",
     "text": [
      "Image successfully downloaded for Roland Delorme: C:\\Users\\palet\\OneDrive\\Desktop\\UNI_FINAL\\Git\\MMA-Predict\\Data\\Images\\Roland_Delorme.png\n"
     ]
    },
    {
     "name": "stderr",
     "output_type": "stream",
     "text": [
      "Downloading Fighter Images:  21%|██        | 885/4248 [32:20<1:53:00,  2.02s/it]"
     ]
    },
    {
     "name": "stdout",
     "output_type": "stream",
     "text": [
      "No image found for Jon Delos Reyes at https://www.ufc.com/athlete/jon-delos reyes\n"
     ]
    },
    {
     "name": "stderr",
     "output_type": "stream",
     "text": [
      "Downloading Fighter Images:  21%|██        | 886/4248 [32:22<1:55:16,  2.06s/it]"
     ]
    },
    {
     "name": "stdout",
     "output_type": "stream",
     "text": [
      "No image found for Jason DeLucia at https://www.ufc.com/athlete/jason-delucia\n"
     ]
    },
    {
     "name": "stderr",
     "output_type": "stream",
     "text": [
      "Downloading Fighter Images:  21%|██        | 887/4248 [32:22<1:25:58,  1.53s/it]"
     ]
    },
    {
     "name": "stdout",
     "output_type": "stream",
     "text": [
      "No image found for Yadier DelValle at https://www.ufc.com/athlete/yadier-delvalle\n"
     ]
    },
    {
     "name": "stderr",
     "output_type": "stream",
     "text": [
      "Downloading Fighter Images:  21%|██        | 888/4248 [32:27<2:17:15,  2.45s/it]"
     ]
    },
    {
     "name": "stdout",
     "output_type": "stream",
     "text": [
      "No image found for Justin DeMoney at https://www.ufc.com/athlete/justin-demoney\n"
     ]
    },
    {
     "name": "stderr",
     "output_type": "stream",
     "text": [
      "Downloading Fighter Images:  21%|██        | 889/4248 [32:31<2:42:58,  2.91s/it]"
     ]
    },
    {
     "name": "stdout",
     "output_type": "stream",
     "text": [
      "Image successfully downloaded for Vanessa Demopoulos: C:\\Users\\palet\\OneDrive\\Desktop\\UNI_FINAL\\Git\\MMA-Predict\\Data\\Images\\Vanessa_Demopoulos.png\n"
     ]
    },
    {
     "name": "stderr",
     "output_type": "stream",
     "text": [
      "Downloading Fighter Images:  21%|██        | 890/4248 [32:33<2:27:53,  2.64s/it]"
     ]
    },
    {
     "name": "stdout",
     "output_type": "stream",
     "text": [
      "Image successfully downloaded for Chris Dempsey: C:\\Users\\palet\\OneDrive\\Desktop\\UNI_FINAL\\Git\\MMA-Predict\\Data\\Images\\Chris_Dempsey.png\n"
     ]
    },
    {
     "name": "stderr",
     "output_type": "stream",
     "text": [
      "Downloading Fighter Images:  21%|██        | 891/4248 [32:35<2:19:48,  2.50s/it]"
     ]
    },
    {
     "name": "stdout",
     "output_type": "stream",
     "text": [
      "No image found for Nick Denis at https://www.ufc.com/athlete/nick-denis\n"
     ]
    },
    {
     "name": "stderr",
     "output_type": "stream",
     "text": [
      "Downloading Fighter Images:  21%|██        | 892/4248 [32:39<2:53:11,  3.10s/it]"
     ]
    },
    {
     "name": "stdout",
     "output_type": "stream",
     "text": [
      "No image found for Thomas Denny at https://www.ufc.com/athlete/thomas-denny\n"
     ]
    },
    {
     "name": "stderr",
     "output_type": "stream",
     "text": [
      "Downloading Fighter Images:  21%|██        | 893/4248 [32:44<3:19:16,  3.56s/it]"
     ]
    },
    {
     "name": "stdout",
     "output_type": "stream",
     "text": [
      "No image found for Robert Densley at https://www.ufc.com/athlete/robert-densley\n"
     ]
    },
    {
     "name": "stderr",
     "output_type": "stream",
     "text": [
      "Downloading Fighter Images:  21%|██        | 894/4248 [32:46<2:57:51,  3.18s/it]"
     ]
    },
    {
     "name": "stdout",
     "output_type": "stream",
     "text": [
      "No image found for Jason Dent at https://www.ufc.com/athlete/jason-dent\n"
     ]
    },
    {
     "name": "stderr",
     "output_type": "stream",
     "text": [
      "Downloading Fighter Images:  21%|██        | 895/4248 [32:49<2:45:31,  2.96s/it]"
     ]
    },
    {
     "name": "stdout",
     "output_type": "stream",
     "text": [
      "Image successfully downloaded for Mackenzie Dern: C:\\Users\\palet\\OneDrive\\Desktop\\UNI_FINAL\\Git\\MMA-Predict\\Data\\Images\\Mackenzie_Dern.png\n"
     ]
    },
    {
     "name": "stderr",
     "output_type": "stream",
     "text": [
      "Downloading Fighter Images:  21%|██        | 896/4248 [32:53<3:13:39,  3.47s/it]"
     ]
    },
    {
     "name": "stdout",
     "output_type": "stream",
     "text": [
      "No image found for Booker DeRousse at https://www.ufc.com/athlete/booker-derousse\n"
     ]
    },
    {
     "name": "stderr",
     "output_type": "stream",
     "text": [
      "Downloading Fighter Images:  21%|██        | 897/4248 [32:56<2:53:55,  3.11s/it]"
     ]
    },
    {
     "name": "stdout",
     "output_type": "stream",
     "text": [
      "No image found for Tony DeSouza at https://www.ufc.com/athlete/tony-desouza\n"
     ]
    },
    {
     "name": "stderr",
     "output_type": "stream",
     "text": [
      "Downloading Fighter Images:  21%|██        | 898/4248 [32:58<2:42:52,  2.92s/it]"
     ]
    },
    {
     "name": "stdout",
     "output_type": "stream",
     "text": [
      "Image successfully downloaded for Robelis Despaigne: C:\\Users\\palet\\OneDrive\\Desktop\\UNI_FINAL\\Git\\MMA-Predict\\Data\\Images\\Robelis_Despaigne.png\n"
     ]
    },
    {
     "name": "stderr",
     "output_type": "stream",
     "text": [
      "Downloading Fighter Images:  21%|██        | 899/4248 [33:03<3:07:41,  3.36s/it]"
     ]
    },
    {
     "name": "stdout",
     "output_type": "stream",
     "text": [
      "No image found for Cory Devela at https://www.ufc.com/athlete/cory-devela\n"
     ]
    },
    {
     "name": "stderr",
     "output_type": "stream",
     "text": [
      "Downloading Fighter Images:  21%|██        | 900/4248 [33:07<3:28:08,  3.73s/it]"
     ]
    },
    {
     "name": "stdout",
     "output_type": "stream",
     "text": [
      "No image found for John Devine at https://www.ufc.com/athlete/john-devine\n"
     ]
    },
    {
     "name": "stderr",
     "output_type": "stream",
     "text": [
      "Downloading Fighter Images:  21%|██        | 901/4248 [33:09<2:59:04,  3.21s/it]"
     ]
    },
    {
     "name": "stdout",
     "output_type": "stream",
     "text": [
      "No image found for Edwin DeWees at https://www.ufc.com/athlete/edwin-dewees\n"
     ]
    },
    {
     "name": "stderr",
     "output_type": "stream",
     "text": [
      "Downloading Fighter Images:  21%|██        | 902/4248 [33:09<2:10:38,  2.34s/it]"
     ]
    },
    {
     "name": "stdout",
     "output_type": "stream",
     "text": [
      "No image found for Alessio Di Chirico at https://www.ufc.com/athlete/alessio-di chirico\n"
     ]
    },
    {
     "name": "stderr",
     "output_type": "stream",
     "text": [
      "Downloading Fighter Images:  21%|██▏       | 903/4248 [33:10<1:36:41,  1.73s/it]"
     ]
    },
    {
     "name": "stdout",
     "output_type": "stream",
     "text": [
      "No image found for Micol Di Segni at https://www.ufc.com/athlete/micol-di segni\n"
     ]
    },
    {
     "name": "stderr",
     "output_type": "stream",
     "text": [
      "Downloading Fighter Images:  21%|██▏       | 904/4248 [33:12<1:43:58,  1.87s/it]"
     ]
    },
    {
     "name": "stdout",
     "output_type": "stream",
     "text": [
      "Image successfully downloaded for Cyrille Diabate: C:\\Users\\palet\\OneDrive\\Desktop\\UNI_FINAL\\Git\\MMA-Predict\\Data\\Images\\Cyrille_Diabate.png\n"
     ]
    },
    {
     "name": "stderr",
     "output_type": "stream",
     "text": [
      "Downloading Fighter Images:  21%|██▏       | 905/4248 [33:17<2:31:00,  2.71s/it]"
     ]
    },
    {
     "name": "stdout",
     "output_type": "stream",
     "text": [
      "No image found for Thomas Diagne at https://www.ufc.com/athlete/thomas-diagne\n"
     ]
    },
    {
     "name": "stderr",
     "output_type": "stream",
     "text": [
      "Downloading Fighter Images:  21%|██▏       | 906/4248 [33:20<2:34:58,  2.78s/it]"
     ]
    },
    {
     "name": "stdout",
     "output_type": "stream",
     "text": [
      "Image successfully downloaded for Marc Diakiese: C:\\Users\\palet\\OneDrive\\Desktop\\UNI_FINAL\\Git\\MMA-Predict\\Data\\Images\\Marc_Diakiese.png\n"
     ]
    },
    {
     "name": "stderr",
     "output_type": "stream",
     "text": [
      "Downloading Fighter Images:  21%|██▏       | 907/4248 [33:22<2:24:47,  2.60s/it]"
     ]
    },
    {
     "name": "stdout",
     "output_type": "stream",
     "text": [
      "Image successfully downloaded for Tyler Diamond: C:\\Users\\palet\\OneDrive\\Desktop\\UNI_FINAL\\Git\\MMA-Predict\\Data\\Images\\Tyler_Diamond.png\n"
     ]
    },
    {
     "name": "stderr",
     "output_type": "stream",
     "text": [
      "Downloading Fighter Images:  21%|██▏       | 908/4248 [33:24<2:25:25,  2.61s/it]"
     ]
    },
    {
     "name": "stdout",
     "output_type": "stream",
     "text": [
      "Image successfully downloaded for Blood Diamond: C:\\Users\\palet\\OneDrive\\Desktop\\UNI_FINAL\\Git\\MMA-Predict\\Data\\Images\\Blood_Diamond.png\n"
     ]
    },
    {
     "name": "stderr",
     "output_type": "stream",
     "text": [
      "Downloading Fighter Images:  21%|██▏       | 909/4248 [33:25<1:47:40,  1.93s/it]"
     ]
    },
    {
     "name": "stdout",
     "output_type": "stream",
     "text": [
      "No image found for Eldo Xavier Dias at https://www.ufc.com/athlete/eldo xavier-dias\n"
     ]
    },
    {
     "name": "stderr",
     "output_type": "stream",
     "text": [
      "Downloading Fighter Images:  21%|██▏       | 910/4248 [33:25<1:23:06,  1.49s/it]"
     ]
    },
    {
     "name": "stdout",
     "output_type": "stream",
     "text": [
      "Error fetching data for Rafael Dias: 403 Client Error: Forbidden for url: https://www.ufc.com/athlete/rafael-dias\n"
     ]
    },
    {
     "name": "stderr",
     "output_type": "stream",
     "text": [
      "Downloading Fighter Images:  21%|██▏       | 911/4248 [33:27<1:34:55,  1.71s/it]"
     ]
    },
    {
     "name": "stdout",
     "output_type": "stream",
     "text": [
      "Image successfully downloaded for Hacran Dias: C:\\Users\\palet\\OneDrive\\Desktop\\UNI_FINAL\\Git\\MMA-Predict\\Data\\Images\\Hacran_Dias.png\n"
     ]
    },
    {
     "name": "stderr",
     "output_type": "stream",
     "text": [
      "Downloading Fighter Images:  21%|██▏       | 912/4248 [33:33<2:31:24,  2.72s/it]"
     ]
    },
    {
     "name": "stdout",
     "output_type": "stream",
     "text": [
      "Image successfully downloaded for Victor Dias: C:\\Users\\palet\\OneDrive\\Desktop\\UNI_FINAL\\Git\\MMA-Predict\\Data\\Images\\Victor_Dias.png\n"
     ]
    },
    {
     "name": "stderr",
     "output_type": "stream",
     "text": [
      "Downloading Fighter Images:  21%|██▏       | 913/4248 [33:35<2:27:55,  2.66s/it]"
     ]
    },
    {
     "name": "stdout",
     "output_type": "stream",
     "text": [
      "Image successfully downloaded for Nick Diaz: C:\\Users\\palet\\OneDrive\\Desktop\\UNI_FINAL\\Git\\MMA-Predict\\Data\\Images\\Nick_Diaz.png\n"
     ]
    },
    {
     "name": "stderr",
     "output_type": "stream",
     "text": [
      "Downloading Fighter Images:  22%|██▏       | 914/4248 [33:38<2:26:27,  2.64s/it]"
     ]
    },
    {
     "name": "stdout",
     "output_type": "stream",
     "text": [
      "Image successfully downloaded for Nate Diaz: C:\\Users\\palet\\OneDrive\\Desktop\\UNI_FINAL\\Git\\MMA-Predict\\Data\\Images\\Nate_Diaz.png\n"
     ]
    },
    {
     "name": "stderr",
     "output_type": "stream",
     "text": [
      "Downloading Fighter Images:  22%|██▏       | 915/4248 [33:42<2:59:56,  3.24s/it]"
     ]
    },
    {
     "name": "stdout",
     "output_type": "stream",
     "text": [
      "No image found for Michael Diaz at https://www.ufc.com/athlete/michael-diaz\n"
     ]
    },
    {
     "name": "stderr",
     "output_type": "stream",
     "text": [
      "Downloading Fighter Images:  22%|██▏       | 916/4248 [33:47<3:26:34,  3.72s/it]"
     ]
    },
    {
     "name": "stdout",
     "output_type": "stream",
     "text": [
      "No image found for Ryan Diaz at https://www.ufc.com/athlete/ryan-diaz\n"
     ]
    },
    {
     "name": "stderr",
     "output_type": "stream",
     "text": [
      "Downloading Fighter Images:  22%|██▏       | 917/4248 [33:53<4:08:34,  4.48s/it]"
     ]
    },
    {
     "name": "stdout",
     "output_type": "stream",
     "text": [
      "Image successfully downloaded for Adrian Diaz: C:\\Users\\palet\\OneDrive\\Desktop\\UNI_FINAL\\Git\\MMA-Predict\\Data\\Images\\Adrian_Diaz.png\n"
     ]
    },
    {
     "name": "stderr",
     "output_type": "stream",
     "text": [
      "Downloading Fighter Images:  22%|██▏       | 918/4248 [33:56<3:35:22,  3.88s/it]"
     ]
    },
    {
     "name": "stdout",
     "output_type": "stream",
     "text": [
      "Image successfully downloaded for Ozzy Diaz: C:\\Users\\palet\\OneDrive\\Desktop\\UNI_FINAL\\Git\\MMA-Predict\\Data\\Images\\Ozzy_Diaz.png\n"
     ]
    },
    {
     "name": "stderr",
     "output_type": "stream",
     "text": [
      "Downloading Fighter Images:  22%|██▏       | 919/4248 [33:56<2:39:34,  2.88s/it]"
     ]
    },
    {
     "name": "stdout",
     "output_type": "stream",
     "text": [
      "Error fetching data for Mark Dickman: 403 Client Error: Forbidden for url: https://www.ufc.com/athlete/mark-dickman\n"
     ]
    },
    {
     "name": "stderr",
     "output_type": "stream",
     "text": [
      "Downloading Fighter Images:  22%|██▏       | 920/4248 [33:57<2:02:34,  2.21s/it]"
     ]
    },
    {
     "name": "stdout",
     "output_type": "stream",
     "text": [
      "Error fetching data for Josh Diekmann: 403 Client Error: Forbidden for url: https://www.ufc.com/athlete/josh-diekmann\n"
     ]
    },
    {
     "name": "stderr",
     "output_type": "stream",
     "text": [
      "Downloading Fighter Images:  22%|██▏       | 921/4248 [34:02<2:41:21,  2.91s/it]"
     ]
    },
    {
     "name": "stdout",
     "output_type": "stream",
     "text": [
      "No image found for Kyle Dietz at https://www.ufc.com/athlete/kyle-dietz\n"
     ]
    },
    {
     "name": "stderr",
     "output_type": "stream",
     "text": [
      "Downloading Fighter Images:  22%|██▏       | 922/4248 [34:06<3:10:58,  3.45s/it]"
     ]
    },
    {
     "name": "stdout",
     "output_type": "stream",
     "text": [
      "No image found for Seth Dikun at https://www.ufc.com/athlete/seth-dikun\n"
     ]
    },
    {
     "name": "stderr",
     "output_type": "stream",
     "text": [
      "Downloading Fighter Images:  22%|██▏       | 923/4248 [34:09<3:00:42,  3.26s/it]"
     ]
    },
    {
     "name": "stdout",
     "output_type": "stream",
     "text": [
      "Image successfully downloaded for TJ Dillashaw: C:\\Users\\palet\\OneDrive\\Desktop\\UNI_FINAL\\Git\\MMA-Predict\\Data\\Images\\TJ_Dillashaw.png\n"
     ]
    },
    {
     "name": "stderr",
     "output_type": "stream",
     "text": [
      "Downloading Fighter Images:  22%|██▏       | 924/4248 [34:10<2:18:18,  2.50s/it]"
     ]
    },
    {
     "name": "stdout",
     "output_type": "stream",
     "text": [
      "Error fetching data for Ralph Dillon: 403 Client Error: Forbidden for url: https://www.ufc.com/athlete/ralph-dillon\n"
     ]
    },
    {
     "name": "stderr",
     "output_type": "stream",
     "text": [
      "Downloading Fighter Images:  22%|██▏       | 925/4248 [34:15<2:58:29,  3.22s/it]"
     ]
    },
    {
     "name": "stdout",
     "output_type": "stream",
     "text": [
      "No image found for Drew Dimanlig at https://www.ufc.com/athlete/drew-dimanlig\n"
     ]
    },
    {
     "name": "stderr",
     "output_type": "stream",
     "text": [
      "Downloading Fighter Images:  22%|██▏       | 926/4248 [34:15<2:09:53,  2.35s/it]"
     ]
    },
    {
     "name": "stdout",
     "output_type": "stream",
     "text": [
      "No image found for Ding Meng at https://www.ufc.com/athlete/ding-meng\n"
     ]
    },
    {
     "name": "stderr",
     "output_type": "stream",
     "text": [
      "Downloading Fighter Images:  22%|██▏       | 927/4248 [34:15<1:36:55,  1.75s/it]"
     ]
    },
    {
     "name": "stdout",
     "output_type": "stream",
     "text": [
      "No image found for Rodolfo Marques Diniz at https://www.ufc.com/athlete/rodolfo marques-diniz\n"
     ]
    },
    {
     "name": "stderr",
     "output_type": "stream",
     "text": [
      "Downloading Fighter Images:  22%|██▏       | 928/4248 [34:18<1:53:14,  2.05s/it]"
     ]
    },
    {
     "name": "stdout",
     "output_type": "stream",
     "text": [
      "Image successfully downloaded for Jhonata Diniz: C:\\Users\\palet\\OneDrive\\Desktop\\UNI_FINAL\\Git\\MMA-Predict\\Data\\Images\\Jhonata_Diniz.png\n"
     ]
    },
    {
     "name": "stderr",
     "output_type": "stream",
     "text": [
      "Downloading Fighter Images:  22%|██▏       | 929/4248 [34:19<1:26:23,  1.56s/it]"
     ]
    },
    {
     "name": "stdout",
     "output_type": "stream",
     "text": [
      "Error fetching data for Helio Dipp: 403 Client Error: Forbidden for url: https://www.ufc.com/athlete/helio-dipp\n"
     ]
    },
    {
     "name": "stderr",
     "output_type": "stream",
     "text": [
      "Downloading Fighter Images:  22%|██▏       | 930/4248 [34:24<2:34:20,  2.79s/it]"
     ]
    },
    {
     "name": "stdout",
     "output_type": "stream",
     "text": [
      "Image successfully downloaded for Rico DiSciullo: C:\\Users\\palet\\OneDrive\\Desktop\\UNI_FINAL\\Git\\MMA-Predict\\Data\\Images\\Rico_DiSciullo.png\n"
     ]
    },
    {
     "name": "stderr",
     "output_type": "stream",
     "text": [
      "Downloading Fighter Images:  22%|██▏       | 931/4248 [34:30<3:16:55,  3.56s/it]"
     ]
    },
    {
     "name": "stdout",
     "output_type": "stream",
     "text": [
      "Image successfully downloaded for Matt Dixon: C:\\Users\\palet\\OneDrive\\Desktop\\UNI_FINAL\\Git\\MMA-Predict\\Data\\Images\\Matt_Dixon.png\n"
     ]
    },
    {
     "name": "stderr",
     "output_type": "stream",
     "text": [
      "Downloading Fighter Images:  22%|██▏       | 932/4248 [34:34<3:32:08,  3.84s/it]"
     ]
    },
    {
     "name": "stdout",
     "output_type": "stream",
     "text": [
      "No image found for John Dixson at https://www.ufc.com/athlete/john-dixson\n"
     ]
    },
    {
     "name": "stderr",
     "output_type": "stream",
     "text": [
      "Downloading Fighter Images:  22%|██▏       | 933/4248 [34:35<2:38:32,  2.87s/it]"
     ]
    },
    {
     "name": "stdout",
     "output_type": "stream",
     "text": [
      "Error fetching data for Anthony Do: 403 Client Error: Forbidden for url: https://www.ufc.com/athlete/anthony-do\n"
     ]
    },
    {
     "name": "stderr",
     "output_type": "stream",
     "text": [
      "Downloading Fighter Images:  22%|██▏       | 934/4248 [34:38<2:44:14,  2.97s/it]"
     ]
    },
    {
     "name": "stdout",
     "output_type": "stream",
     "text": [
      "Image successfully downloaded for Russell Doane: C:\\Users\\palet\\OneDrive\\Desktop\\UNI_FINAL\\Git\\MMA-Predict\\Data\\Images\\Russell_Doane.png\n"
     ]
    },
    {
     "name": "stderr",
     "output_type": "stream",
     "text": [
      "Downloading Fighter Images:  22%|██▏       | 935/4248 [34:41<2:39:16,  2.88s/it]"
     ]
    },
    {
     "name": "stdout",
     "output_type": "stream",
     "text": [
      "Image successfully downloaded for Drew Dober: C:\\Users\\palet\\OneDrive\\Desktop\\UNI_FINAL\\Git\\MMA-Predict\\Data\\Images\\Drew_Dober.png\n"
     ]
    },
    {
     "name": "stderr",
     "output_type": "stream",
     "text": [
      "Downloading Fighter Images:  22%|██▏       | 936/4248 [34:43<2:38:54,  2.88s/it]"
     ]
    },
    {
     "name": "stdout",
     "output_type": "stream",
     "text": [
      "Image successfully downloaded for Shana Dobson: C:\\Users\\palet\\OneDrive\\Desktop\\UNI_FINAL\\Git\\MMA-Predict\\Data\\Images\\Shana_Dobson.png\n"
     ]
    },
    {
     "name": "stderr",
     "output_type": "stream",
     "text": [
      "Downloading Fighter Images:  22%|██▏       | 937/4248 [34:46<2:35:47,  2.82s/it]"
     ]
    },
    {
     "name": "stdout",
     "output_type": "stream",
     "text": [
      "Image successfully downloaded for AJ Dobson: C:\\Users\\palet\\OneDrive\\Desktop\\UNI_FINAL\\Git\\MMA-Predict\\Data\\Images\\AJ_Dobson.png\n"
     ]
    },
    {
     "name": "stderr",
     "output_type": "stream",
     "text": [
      "Downloading Fighter Images:  22%|██▏       | 938/4248 [34:48<2:22:29,  2.58s/it]"
     ]
    },
    {
     "name": "stdout",
     "output_type": "stream",
     "text": [
      "No image found for David Dodd at https://www.ufc.com/athlete/david-dodd\n"
     ]
    },
    {
     "name": "stderr",
     "output_type": "stream",
     "text": [
      "Downloading Fighter Images:  22%|██▏       | 939/4248 [34:51<2:24:37,  2.62s/it]"
     ]
    },
    {
     "name": "stdout",
     "output_type": "stream",
     "text": [
      "Image successfully downloaded for John Dodson: C:\\Users\\palet\\OneDrive\\Desktop\\UNI_FINAL\\Git\\MMA-Predict\\Data\\Images\\John_Dodson.png\n"
     ]
    },
    {
     "name": "stderr",
     "output_type": "stream",
     "text": [
      "Downloading Fighter Images:  22%|██▏       | 940/4248 [34:53<2:21:12,  2.56s/it]"
     ]
    },
    {
     "name": "stdout",
     "output_type": "stream",
     "text": [
      "No image found for Joe Doerksen at https://www.ufc.com/athlete/joe-doerksen\n"
     ]
    },
    {
     "name": "stderr",
     "output_type": "stream",
     "text": [
      "Downloading Fighter Images:  22%|██▏       | 941/4248 [34:58<2:56:08,  3.20s/it]"
     ]
    },
    {
     "name": "stdout",
     "output_type": "stream",
     "text": [
      "No image found for Mike Dolce at https://www.ufc.com/athlete/mike-dolce\n"
     ]
    },
    {
     "name": "stderr",
     "output_type": "stream",
     "text": [
      "Downloading Fighter Images:  22%|██▏       | 942/4248 [35:00<2:41:27,  2.93s/it]"
     ]
    },
    {
     "name": "stdout",
     "output_type": "stream",
     "text": [
      "Image successfully downloaded for Roman Dolidze: C:\\Users\\palet\\OneDrive\\Desktop\\UNI_FINAL\\Git\\MMA-Predict\\Data\\Images\\Roman_Dolidze.png\n"
     ]
    },
    {
     "name": "stderr",
     "output_type": "stream",
     "text": [
      "Downloading Fighter Images:  22%|██▏       | 943/4248 [35:03<2:31:25,  2.75s/it]"
     ]
    },
    {
     "name": "stdout",
     "output_type": "stream",
     "text": [
      "No image found for Cameron Dollar at https://www.ufc.com/athlete/cameron-dollar\n"
     ]
    },
    {
     "name": "stderr",
     "output_type": "stream",
     "text": [
      "Downloading Fighter Images:  22%|██▏       | 944/4248 [35:07<2:50:34,  3.10s/it]"
     ]
    },
    {
     "name": "stdout",
     "output_type": "stream",
     "text": [
      "Image successfully downloaded for CB Dollaway: C:\\Users\\palet\\OneDrive\\Desktop\\UNI_FINAL\\Git\\MMA-Predict\\Data\\Images\\CB_Dollaway.png\n"
     ]
    },
    {
     "name": "stderr",
     "output_type": "stream",
     "text": [
      "Downloading Fighter Images:  22%|██▏       | 945/4248 [35:11<3:20:56,  3.65s/it]"
     ]
    },
    {
     "name": "stdout",
     "output_type": "stream",
     "text": [
      "No image found for Dennis Dombrow at https://www.ufc.com/athlete/dennis-dombrow\n"
     ]
    },
    {
     "name": "stderr",
     "output_type": "stream",
     "text": [
      "Downloading Fighter Images:  22%|██▏       | 946/4248 [35:17<3:44:18,  4.08s/it]"
     ]
    },
    {
     "name": "stdout",
     "output_type": "stream",
     "text": [
      "No image found for OJ Dominguez at https://www.ufc.com/athlete/oj-dominguez\n"
     ]
    },
    {
     "name": "stderr",
     "output_type": "stream",
     "text": [
      "Downloading Fighter Images:  22%|██▏       | 947/4248 [35:17<2:45:29,  3.01s/it]"
     ]
    },
    {
     "name": "stdout",
     "output_type": "stream",
     "text": [
      "Error fetching data for John Donaldson: 403 Client Error: Forbidden for url: https://www.ufc.com/athlete/john-donaldson\n"
     ]
    },
    {
     "name": "stderr",
     "output_type": "stream",
     "text": [
      "Downloading Fighter Images:  22%|██▏       | 948/4248 [35:17<2:01:53,  2.22s/it]"
     ]
    },
    {
     "name": "stdout",
     "output_type": "stream",
     "text": [
      "No image found for Dong Huaxiang at https://www.ufc.com/athlete/dong-huaxiang\n"
     ]
    },
    {
     "name": "stderr",
     "output_type": "stream",
     "text": [
      "Downloading Fighter Images:  22%|██▏       | 949/4248 [35:20<2:10:04,  2.37s/it]"
     ]
    },
    {
     "name": "stdout",
     "output_type": "stream",
     "text": [
      "Image successfully downloaded for Cody Donovan: C:\\Users\\palet\\OneDrive\\Desktop\\UNI_FINAL\\Git\\MMA-Predict\\Data\\Images\\Cody_Donovan.png\n"
     ]
    },
    {
     "name": "stderr",
     "output_type": "stream",
     "text": [
      "Downloading Fighter Images:  22%|██▏       | 950/4248 [35:22<2:07:06,  2.31s/it]"
     ]
    },
    {
     "name": "stdout",
     "output_type": "stream",
     "text": [
      "No image found for Houston Dorr at https://www.ufc.com/athlete/houston-dorr\n"
     ]
    },
    {
     "name": "stderr",
     "output_type": "stream",
     "text": [
      "Downloading Fighter Images:  22%|██▏       | 951/4248 [35:23<1:34:26,  1.72s/it]"
     ]
    },
    {
     "name": "stdout",
     "output_type": "stream",
     "text": [
      "No image found for Rafael Dos Anjos at https://www.ufc.com/athlete/rafael-dos anjos\n"
     ]
    },
    {
     "name": "stderr",
     "output_type": "stream",
     "text": [
      "Downloading Fighter Images:  22%|██▏       | 952/4248 [35:23<1:12:04,  1.31s/it]"
     ]
    },
    {
     "name": "stdout",
     "output_type": "stream",
     "text": [
      "No image found for Junior Dos Santos at https://www.ufc.com/athlete/junior-dos santos\n"
     ]
    },
    {
     "name": "stderr",
     "output_type": "stream",
     "text": [
      "Downloading Fighter Images:  22%|██▏       | 953/4248 [35:23<54:58,  1.00s/it]  "
     ]
    },
    {
     "name": "stdout",
     "output_type": "stream",
     "text": [
      "No image found for Geronimo dos Santos at https://www.ufc.com/athlete/geronimo-dos santos\n"
     ]
    },
    {
     "name": "stderr",
     "output_type": "stream",
     "text": [
      "Downloading Fighter Images:  22%|██▏       | 954/4248 [35:24<43:06,  1.27it/s]"
     ]
    },
    {
     "name": "stdout",
     "output_type": "stream",
     "text": [
      "No image found for Antonio Dos Santos at https://www.ufc.com/athlete/antonio-dos santos\n"
     ]
    },
    {
     "name": "stderr",
     "output_type": "stream",
     "text": [
      "Downloading Fighter Images:  22%|██▏       | 955/4248 [35:24<36:11,  1.52it/s]"
     ]
    },
    {
     "name": "stdout",
     "output_type": "stream",
     "text": [
      "No image found for Anderson Dos Santos at https://www.ufc.com/athlete/anderson-dos santos\n"
     ]
    },
    {
     "name": "stderr",
     "output_type": "stream",
     "text": [
      "Downloading Fighter Images:  23%|██▎       | 956/4248 [35:24<30:47,  1.78it/s]"
     ]
    },
    {
     "name": "stdout",
     "output_type": "stream",
     "text": [
      "No image found for Acacio Dos Santos at https://www.ufc.com/athlete/acacio-dos santos\n"
     ]
    },
    {
     "name": "stderr",
     "output_type": "stream",
     "text": [
      "Downloading Fighter Images:  23%|██▎       | 957/4248 [35:25<26:29,  2.07it/s]"
     ]
    },
    {
     "name": "stdout",
     "output_type": "stream",
     "text": [
      "No image found for Rayanne dos Santos at https://www.ufc.com/athlete/rayanne-dos santos\n"
     ]
    },
    {
     "name": "stderr",
     "output_type": "stream",
     "text": [
      "Downloading Fighter Images:  23%|██▎       | 958/4248 [35:25<23:12,  2.36it/s]"
     ]
    },
    {
     "name": "stdout",
     "output_type": "stream",
     "text": [
      "No image found for Felipe dos Santos at https://www.ufc.com/athlete/felipe-dos santos\n"
     ]
    },
    {
     "name": "stderr",
     "output_type": "stream",
     "text": [
      "Downloading Fighter Images:  23%|██▎       | 959/4248 [35:25<22:12,  2.47it/s]"
     ]
    },
    {
     "name": "stdout",
     "output_type": "stream",
     "text": [
      "No image found for Tiago dos Santos e Silva at https://www.ufc.com/athlete/tiago-dos santos e silva\n"
     ]
    },
    {
     "name": "stderr",
     "output_type": "stream",
     "text": [
      "Downloading Fighter Images:  23%|██▎       | 960/4248 [35:30<1:31:09,  1.66s/it]"
     ]
    },
    {
     "name": "stdout",
     "output_type": "stream",
     "text": [
      "No image found for Oleksandr Doskalchuk at https://www.ufc.com/athlete/oleksandr-doskalchuk\n"
     ]
    },
    {
     "name": "stderr",
     "output_type": "stream",
     "text": [
      "Downloading Fighter Images:  23%|██▎       | 961/4248 [35:30<1:08:48,  1.26s/it]"
     ]
    },
    {
     "name": "stdout",
     "output_type": "stream",
     "text": [
      "No image found for David Douglas at https://www.ufc.com/athlete/david-douglas\n"
     ]
    },
    {
     "name": "stderr",
     "output_type": "stream",
     "text": [
      "Downloading Fighter Images:  23%|██▎       | 962/4248 [35:35<2:04:58,  2.28s/it]"
     ]
    },
    {
     "name": "stdout",
     "output_type": "stream",
     "text": [
      "No image found for Damion Douglas at https://www.ufc.com/athlete/damion-douglas\n"
     ]
    },
    {
     "name": "stderr",
     "output_type": "stream",
     "text": [
      "Downloading Fighter Images:  23%|██▎       | 963/4248 [35:40<2:49:24,  3.09s/it]"
     ]
    },
    {
     "name": "stdout",
     "output_type": "stream",
     "text": [
      "No image found for Cedric Doumbe at https://www.ufc.com/athlete/cedric-doumbe\n"
     ]
    },
    {
     "name": "stderr",
     "output_type": "stream",
     "text": [
      "Downloading Fighter Images:  23%|██▎       | 964/4248 [35:42<2:37:39,  2.88s/it]"
     ]
    },
    {
     "name": "stdout",
     "output_type": "stream",
     "text": [
      "No image found for John Dowdy at https://www.ufc.com/athlete/john-dowdy\n"
     ]
    },
    {
     "name": "stderr",
     "output_type": "stream",
     "text": [
      "Downloading Fighter Images:  23%|██▎       | 965/4248 [35:43<1:57:24,  2.15s/it]"
     ]
    },
    {
     "name": "stdout",
     "output_type": "stream",
     "text": [
      "Error fetching data for Jordan Dowdy: 403 Client Error: Forbidden for url: https://www.ufc.com/athlete/jordan-dowdy\n"
     ]
    },
    {
     "name": "stderr",
     "output_type": "stream",
     "text": [
      "Downloading Fighter Images:  23%|██▎       | 966/4248 [35:43<1:27:42,  1.60s/it]"
     ]
    },
    {
     "name": "stdout",
     "output_type": "stream",
     "text": [
      "No image found for Danny Downes at https://www.ufc.com/athlete/danny-downes\n"
     ]
    },
    {
     "name": "stderr",
     "output_type": "stream",
     "text": [
      "Downloading Fighter Images:  23%|██▎       | 967/4248 [35:45<1:41:31,  1.86s/it]"
     ]
    },
    {
     "name": "stdout",
     "output_type": "stream",
     "text": [
      "No image found for Derek Downey at https://www.ufc.com/athlete/derek-downey\n"
     ]
    },
    {
     "name": "stderr",
     "output_type": "stream",
     "text": [
      "Downloading Fighter Images:  23%|██▎       | 968/4248 [35:46<1:19:35,  1.46s/it]"
     ]
    },
    {
     "name": "stdout",
     "output_type": "stream",
     "text": [
      "Error fetching data for John Doyle: 403 Client Error: Forbidden for url: https://www.ufc.com/athlete/john-doyle\n"
     ]
    },
    {
     "name": "stderr",
     "output_type": "stream",
     "text": [
      "Downloading Fighter Images:  23%|██▎       | 969/4248 [35:51<2:13:50,  2.45s/it]"
     ]
    },
    {
     "name": "stdout",
     "output_type": "stream",
     "text": [
      "No image found for Edson Drago at https://www.ufc.com/athlete/edson-drago\n"
     ]
    },
    {
     "name": "stderr",
     "output_type": "stream",
     "text": [
      "Downloading Fighter Images:  23%|██▎       | 970/4248 [35:51<1:39:36,  1.82s/it]"
     ]
    },
    {
     "name": "stdout",
     "output_type": "stream",
     "text": [
      "No image found for Anthony Drilich at https://www.ufc.com/athlete/anthony-drilich\n"
     ]
    },
    {
     "name": "stderr",
     "output_type": "stream",
     "text": [
      "Downloading Fighter Images:  23%|██▎       | 971/4248 [35:57<2:44:08,  3.01s/it]"
     ]
    },
    {
     "name": "stdout",
     "output_type": "stream",
     "text": [
      "Image successfully downloaded for Kyle Driscoll: C:\\Users\\palet\\OneDrive\\Desktop\\UNI_FINAL\\Git\\MMA-Predict\\Data\\Images\\Kyle_Driscoll.png\n"
     ]
    },
    {
     "name": "stderr",
     "output_type": "stream",
     "text": [
      "Downloading Fighter Images:  23%|██▎       | 972/4248 [36:02<3:12:44,  3.53s/it]"
     ]
    },
    {
     "name": "stdout",
     "output_type": "stream",
     "text": [
      "No image found for Chris Drumm at https://www.ufc.com/athlete/chris-drumm\n"
     ]
    },
    {
     "name": "stderr",
     "output_type": "stream",
     "text": [
      "Downloading Fighter Images:  23%|██▎       | 973/4248 [36:05<3:07:03,  3.43s/it]"
     ]
    },
    {
     "name": "stdout",
     "output_type": "stream",
     "text": [
      "No image found for Tomasz Drwal at https://www.ufc.com/athlete/tomasz-drwal\n"
     ]
    },
    {
     "name": "stderr",
     "output_type": "stream",
     "text": [
      "Downloading Fighter Images:  23%|██▎       | 974/4248 [36:07<2:44:07,  3.01s/it]"
     ]
    },
    {
     "name": "stdout",
     "output_type": "stream",
     "text": [
      "Image successfully downloaded for Robert Drysdale: C:\\Users\\palet\\OneDrive\\Desktop\\UNI_FINAL\\Git\\MMA-Predict\\Data\\Images\\Robert_Drysdale.png\n"
     ]
    },
    {
     "name": "stderr",
     "output_type": "stream",
     "text": [
      "Downloading Fighter Images:  23%|██▎       | 975/4248 [36:07<2:00:17,  2.21s/it]"
     ]
    },
    {
     "name": "stdout",
     "output_type": "stream",
     "text": [
      "No image found for Dricus Du Plessis at https://www.ufc.com/athlete/dricus-du plessis\n"
     ]
    },
    {
     "name": "stderr",
     "output_type": "stream",
     "text": [
      "Downloading Fighter Images:  23%|██▎       | 976/4248 [36:09<2:02:19,  2.24s/it]"
     ]
    },
    {
     "name": "stdout",
     "output_type": "stream",
     "text": [
      "No image found for Hugo Duarte at https://www.ufc.com/athlete/hugo-duarte\n"
     ]
    },
    {
     "name": "stderr",
     "output_type": "stream",
     "text": [
      "Downloading Fighter Images:  23%|██▎       | 977/4248 [36:10<1:36:12,  1.76s/it]"
     ]
    },
    {
     "name": "stdout",
     "output_type": "stream",
     "text": [
      "Error fetching data for Antonio Duarte: 403 Client Error: Forbidden for url: https://www.ufc.com/athlete/antonio-duarte\n"
     ]
    },
    {
     "name": "stderr",
     "output_type": "stream",
     "text": [
      "Downloading Fighter Images:  23%|██▎       | 978/4248 [36:15<2:22:31,  2.62s/it]"
     ]
    },
    {
     "name": "stdout",
     "output_type": "stream",
     "text": [
      "No image found for Joe Duarte at https://www.ufc.com/athlete/joe-duarte\n"
     ]
    },
    {
     "name": "stderr",
     "output_type": "stream",
     "text": [
      "Downloading Fighter Images:  23%|██▎       | 979/4248 [36:20<3:11:43,  3.52s/it]"
     ]
    },
    {
     "name": "stdout",
     "output_type": "stream",
     "text": [
      "Image successfully downloaded for Yuneisy Duben: C:\\Users\\palet\\OneDrive\\Desktop\\UNI_FINAL\\Git\\MMA-Predict\\Data\\Images\\Yuneisy_Duben.png\n"
     ]
    },
    {
     "name": "stderr",
     "output_type": "stream",
     "text": [
      "Downloading Fighter Images:  23%|██▎       | 980/4248 [36:21<2:19:04,  2.55s/it]"
     ]
    },
    {
     "name": "stdout",
     "output_type": "stream",
     "text": [
      "No image found for Matthieu Duclos at https://www.ufc.com/athlete/matthieu-duclos\n"
     ]
    },
    {
     "name": "stderr",
     "output_type": "stream",
     "text": [
      "Downloading Fighter Images:  23%|██▎       | 981/4248 [36:23<2:22:08,  2.61s/it]"
     ]
    },
    {
     "name": "stdout",
     "output_type": "stream",
     "text": [
      "Image successfully downloaded for Emily Ducote: C:\\Users\\palet\\OneDrive\\Desktop\\UNI_FINAL\\Git\\MMA-Predict\\Data\\Images\\Emily_Ducote.png\n"
     ]
    },
    {
     "name": "stderr",
     "output_type": "stream",
     "text": [
      "Downloading Fighter Images:  23%|██▎       | 982/4248 [36:26<2:17:54,  2.53s/it]"
     ]
    },
    {
     "name": "stdout",
     "output_type": "stream",
     "text": [
      "Image successfully downloaded for Viktoriia Dudakova: C:\\Users\\palet\\OneDrive\\Desktop\\UNI_FINAL\\Git\\MMA-Predict\\Data\\Images\\Viktoriia_Dudakova.png\n"
     ]
    },
    {
     "name": "stderr",
     "output_type": "stream",
     "text": [
      "Downloading Fighter Images:  23%|██▎       | 983/4248 [36:28<2:14:28,  2.47s/it]"
     ]
    },
    {
     "name": "stdout",
     "output_type": "stream",
     "text": [
      "Image successfully downloaded for Milana Dudieva: C:\\Users\\palet\\OneDrive\\Desktop\\UNI_FINAL\\Git\\MMA-Predict\\Data\\Images\\Milana_Dudieva.png\n"
     ]
    },
    {
     "name": "stderr",
     "output_type": "stream",
     "text": [
      "Downloading Fighter Images:  23%|██▎       | 984/4248 [36:28<1:41:05,  1.86s/it]"
     ]
    },
    {
     "name": "stdout",
     "output_type": "stream",
     "text": [
      "Error fetching data for Adin Duenas: 403 Client Error: Forbidden for url: https://www.ufc.com/athlete/adin-duenas\n"
     ]
    },
    {
     "name": "stderr",
     "output_type": "stream",
     "text": [
      "Downloading Fighter Images:  23%|██▎       | 985/4248 [36:31<1:50:19,  2.03s/it]"
     ]
    },
    {
     "name": "stdout",
     "output_type": "stream",
     "text": [
      "Image successfully downloaded for Todd Duffee: C:\\Users\\palet\\OneDrive\\Desktop\\UNI_FINAL\\Git\\MMA-Predict\\Data\\Images\\Todd_Duffee.png\n"
     ]
    },
    {
     "name": "stderr",
     "output_type": "stream",
     "text": [
      "Downloading Fighter Images:  23%|██▎       | 986/4248 [36:34<2:07:45,  2.35s/it]"
     ]
    },
    {
     "name": "stdout",
     "output_type": "stream",
     "text": [
      "Image successfully downloaded for Joe Duffy: C:\\Users\\palet\\OneDrive\\Desktop\\UNI_FINAL\\Git\\MMA-Predict\\Data\\Images\\Joe_Duffy.png\n"
     ]
    },
    {
     "name": "stderr",
     "output_type": "stream",
     "text": [
      "Downloading Fighter Images:  23%|██▎       | 987/4248 [36:34<1:35:03,  1.75s/it]"
     ]
    },
    {
     "name": "stdout",
     "output_type": "stream",
     "text": [
      "No image found for Jack Duffy at https://www.ufc.com/athlete/jack-duffy\n"
     ]
    },
    {
     "name": "stderr",
     "output_type": "stream",
     "text": [
      "Downloading Fighter Images:  23%|██▎       | 988/4248 [36:37<1:42:45,  1.89s/it]"
     ]
    },
    {
     "name": "stdout",
     "output_type": "stream",
     "text": [
      "Image successfully downloaded for Alexis Dufresne: C:\\Users\\palet\\OneDrive\\Desktop\\UNI_FINAL\\Git\\MMA-Predict\\Data\\Images\\Alexis_Dufresne.png\n"
     ]
    },
    {
     "name": "stderr",
     "output_type": "stream",
     "text": [
      "Downloading Fighter Images:  23%|██▎       | 989/4248 [36:39<1:57:11,  2.16s/it]"
     ]
    },
    {
     "name": "stdout",
     "output_type": "stream",
     "text": [
      "Image successfully downloaded for Jessamyn Duke: C:\\Users\\palet\\OneDrive\\Desktop\\UNI_FINAL\\Git\\MMA-Predict\\Data\\Images\\Jessamyn_Duke.png\n"
     ]
    },
    {
     "name": "stderr",
     "output_type": "stream",
     "text": [
      "Downloading Fighter Images:  23%|██▎       | 990/4248 [36:40<1:25:44,  1.58s/it]"
     ]
    },
    {
     "name": "stdout",
     "output_type": "stream",
     "text": [
      "Image successfully downloaded for Islam Dulatov: C:\\Users\\palet\\OneDrive\\Desktop\\UNI_FINAL\\Git\\MMA-Predict\\Data\\Images\\Islam_Dulatov.png\n"
     ]
    },
    {
     "name": "stderr",
     "output_type": "stream",
     "text": [
      "Downloading Fighter Images:  23%|██▎       | 991/4248 [36:42<1:46:17,  1.96s/it]"
     ]
    },
    {
     "name": "stdout",
     "output_type": "stream",
     "text": [
      "Image successfully downloaded for Isaac Dulgarian: C:\\Users\\palet\\OneDrive\\Desktop\\UNI_FINAL\\Git\\MMA-Predict\\Data\\Images\\Isaac_Dulgarian.png\n"
     ]
    },
    {
     "name": "stderr",
     "output_type": "stream",
     "text": [
      "Downloading Fighter Images:  23%|██▎       | 992/4248 [36:44<1:48:10,  1.99s/it]"
     ]
    },
    {
     "name": "stdout",
     "output_type": "stream",
     "text": [
      "No image found for Kelly Dullanty at https://www.ufc.com/athlete/kelly-dullanty\n"
     ]
    },
    {
     "name": "stderr",
     "output_type": "stream",
     "text": [
      "Downloading Fighter Images:  23%|██▎       | 993/4248 [36:47<1:54:01,  2.10s/it]"
     ]
    },
    {
     "name": "stdout",
     "output_type": "stream",
     "text": [
      "Image successfully downloaded for Sedriques Dumas: C:\\Users\\palet\\OneDrive\\Desktop\\UNI_FINAL\\Git\\MMA-Predict\\Data\\Images\\Sedriques_Dumas.png\n"
     ]
    },
    {
     "name": "stderr",
     "output_type": "stream",
     "text": [
      "Downloading Fighter Images:  23%|██▎       | 994/4248 [36:50<2:07:10,  2.35s/it]"
     ]
    },
    {
     "name": "stdout",
     "output_type": "stream",
     "text": [
      "Image successfully downloaded for Norma Dumont: C:\\Users\\palet\\OneDrive\\Desktop\\UNI_FINAL\\Git\\MMA-Predict\\Data\\Images\\Norma_Dumont.png\n"
     ]
    },
    {
     "name": "stderr",
     "output_type": "stream",
     "text": [
      "Downloading Fighter Images:  23%|██▎       | 995/4248 [36:54<2:31:51,  2.80s/it]"
     ]
    },
    {
     "name": "stdout",
     "output_type": "stream",
     "text": [
      "Image successfully downloaded for Chris Duncan: C:\\Users\\palet\\OneDrive\\Desktop\\UNI_FINAL\\Git\\MMA-Predict\\Data\\Images\\Chris_Duncan.png\n"
     ]
    },
    {
     "name": "stderr",
     "output_type": "stream",
     "text": [
      "Downloading Fighter Images:  23%|██▎       | 996/4248 [36:54<1:51:39,  2.06s/it]"
     ]
    },
    {
     "name": "stdout",
     "output_type": "stream",
     "text": [
      "No image found for Christian Leroy Duncan at https://www.ufc.com/athlete/christian leroy-duncan\n"
     ]
    },
    {
     "name": "stderr",
     "output_type": "stream",
     "text": [
      "Downloading Fighter Images:  23%|██▎       | 997/4248 [36:58<2:17:00,  2.53s/it]"
     ]
    },
    {
     "name": "stdout",
     "output_type": "stream",
     "text": [
      "Image successfully downloaded for Evan Dunham: C:\\Users\\palet\\OneDrive\\Desktop\\UNI_FINAL\\Git\\MMA-Predict\\Data\\Images\\Evan_Dunham.png\n"
     ]
    },
    {
     "name": "stderr",
     "output_type": "stream",
     "text": [
      "Downloading Fighter Images:  23%|██▎       | 998/4248 [36:58<1:44:52,  1.94s/it]"
     ]
    },
    {
     "name": "stdout",
     "output_type": "stream",
     "text": [
      "Error fetching data for Alex Dunworth: 403 Client Error: Forbidden for url: https://www.ufc.com/athlete/alex-dunworth\n"
     ]
    },
    {
     "name": "stderr",
     "output_type": "stream",
     "text": [
      "Downloading Fighter Images:  24%|██▎       | 999/4248 [37:01<2:03:08,  2.27s/it]"
     ]
    },
    {
     "name": "stdout",
     "output_type": "stream",
     "text": [
      "Image successfully downloaded for Tom Duquesnoy: C:\\Users\\palet\\OneDrive\\Desktop\\UNI_FINAL\\Git\\MMA-Predict\\Data\\Images\\Tom_Duquesnoy.png\n"
     ]
    },
    {
     "name": "stderr",
     "output_type": "stream",
     "text": [
      "Downloading Fighter Images:  24%|██▎       | 1000/4248 [37:04<2:09:32,  2.39s/it]"
     ]
    },
    {
     "name": "stdout",
     "output_type": "stream",
     "text": [
      "Image successfully downloaded for Albert Duraev: C:\\Users\\palet\\OneDrive\\Desktop\\UNI_FINAL\\Git\\MMA-Predict\\Data\\Images\\Albert_Duraev.png\n"
     ]
    },
    {
     "name": "stderr",
     "output_type": "stream",
     "text": [
      "Downloading Fighter Images:  24%|██▎       | 1001/4248 [37:07<2:13:53,  2.47s/it]"
     ]
    },
    {
     "name": "stdout",
     "output_type": "stream",
     "text": [
      "No image found for Reuben Duran at https://www.ufc.com/athlete/reuben-duran\n"
     ]
    },
    {
     "name": "stderr",
     "output_type": "stream",
     "text": [
      "Downloading Fighter Images:  24%|██▎       | 1002/4248 [37:07<1:42:15,  1.89s/it]"
     ]
    },
    {
     "name": "stdout",
     "output_type": "stream",
     "text": [
      "Image successfully downloaded for Cody Durden: C:\\Users\\palet\\OneDrive\\Desktop\\UNI_FINAL\\Git\\MMA-Predict\\Data\\Images\\Cody_Durden.png\n"
     ]
    },
    {
     "name": "stderr",
     "output_type": "stream",
     "text": [
      "Downloading Fighter Images:  24%|██▎       | 1003/4248 [37:09<1:45:55,  1.96s/it]"
     ]
    },
    {
     "name": "stdout",
     "output_type": "stream",
     "text": [
      "Image successfully downloaded for Luiz Dutra: C:\\Users\\palet\\OneDrive\\Desktop\\UNI_FINAL\\Git\\MMA-Predict\\Data\\Images\\Luiz_Dutra.png\n"
     ]
    },
    {
     "name": "stderr",
     "output_type": "stream",
     "text": [
      "Downloading Fighter Images:  24%|██▎       | 1004/4248 [37:09<1:18:50,  1.46s/it]"
     ]
    },
    {
     "name": "stdout",
     "output_type": "stream",
     "text": [
      "No image found for Rilley Dutro at https://www.ufc.com/athlete/rilley-dutro\n"
     ]
    },
    {
     "name": "stderr",
     "output_type": "stream",
     "text": [
      "Downloading Fighter Images:  24%|██▎       | 1004/4248 [37:14<2:00:21,  2.23s/it]\n"
     ]
    },
    {
     "ename": "KeyboardInterrupt",
     "evalue": "",
     "output_type": "error",
     "traceback": [
      "\u001b[1;31m---------------------------------------------------------------------------\u001b[0m",
      "\u001b[1;31mKeyboardInterrupt\u001b[0m                         Traceback (most recent call last)",
      "Cell \u001b[1;32mIn[19], line 63\u001b[0m\n\u001b[0;32m     60\u001b[0m tqdm\u001b[38;5;241m.\u001b[39mpandas(desc\u001b[38;5;241m=\u001b[39m\u001b[38;5;124m\"\u001b[39m\u001b[38;5;124mDownloading Fighter Images\u001b[39m\u001b[38;5;124m\"\u001b[39m)\n\u001b[0;32m     62\u001b[0m \u001b[38;5;66;03m# Apply the function with progress bar\u001b[39;00m\n\u001b[1;32m---> 63\u001b[0m \u001b[43mdf\u001b[49m\u001b[38;5;241;43m.\u001b[39;49m\u001b[43mprogress_apply\u001b[49m\u001b[43m(\u001b[49m\u001b[43mdownload_image_fighter\u001b[49m\u001b[43m,\u001b[49m\u001b[43m \u001b[49m\u001b[43maxis\u001b[49m\u001b[38;5;241;43m=\u001b[39;49m\u001b[38;5;241;43m1\u001b[39;49m\u001b[43m)\u001b[49m\n",
      "File \u001b[1;32mc:\\Users\\palet\\OneDrive\\Desktop\\UNI_FINAL\\Git\\MMA-Predict\\.venv\\lib\\site-packages\\tqdm\\std.py:917\u001b[0m, in \u001b[0;36mtqdm.pandas.<locals>.inner_generator.<locals>.inner\u001b[1;34m(df, func, *args, **kwargs)\u001b[0m\n\u001b[0;32m    914\u001b[0m \u001b[38;5;66;03m# Apply the provided function (in **kwargs)\u001b[39;00m\n\u001b[0;32m    915\u001b[0m \u001b[38;5;66;03m# on the df using our wrapper (which provides bar updating)\u001b[39;00m\n\u001b[0;32m    916\u001b[0m \u001b[38;5;28;01mtry\u001b[39;00m:\n\u001b[1;32m--> 917\u001b[0m     \u001b[38;5;28;01mreturn\u001b[39;00m \u001b[38;5;28mgetattr\u001b[39m(df, df_function)(wrapper, \u001b[38;5;241m*\u001b[39m\u001b[38;5;241m*\u001b[39mkwargs)\n\u001b[0;32m    918\u001b[0m \u001b[38;5;28;01mfinally\u001b[39;00m:\n\u001b[0;32m    919\u001b[0m     t\u001b[38;5;241m.\u001b[39mclose()\n",
      "File \u001b[1;32mc:\\Users\\palet\\OneDrive\\Desktop\\UNI_FINAL\\Git\\MMA-Predict\\.venv\\lib\\site-packages\\pandas\\core\\frame.py:10374\u001b[0m, in \u001b[0;36mDataFrame.apply\u001b[1;34m(self, func, axis, raw, result_type, args, by_row, engine, engine_kwargs, **kwargs)\u001b[0m\n\u001b[0;32m  10360\u001b[0m \u001b[38;5;28;01mfrom\u001b[39;00m \u001b[38;5;21;01mpandas\u001b[39;00m\u001b[38;5;21;01m.\u001b[39;00m\u001b[38;5;21;01mcore\u001b[39;00m\u001b[38;5;21;01m.\u001b[39;00m\u001b[38;5;21;01mapply\u001b[39;00m \u001b[38;5;28;01mimport\u001b[39;00m frame_apply\n\u001b[0;32m  10362\u001b[0m op \u001b[38;5;241m=\u001b[39m frame_apply(\n\u001b[0;32m  10363\u001b[0m     \u001b[38;5;28mself\u001b[39m,\n\u001b[0;32m  10364\u001b[0m     func\u001b[38;5;241m=\u001b[39mfunc,\n\u001b[1;32m   (...)\u001b[0m\n\u001b[0;32m  10372\u001b[0m     kwargs\u001b[38;5;241m=\u001b[39mkwargs,\n\u001b[0;32m  10373\u001b[0m )\n\u001b[1;32m> 10374\u001b[0m \u001b[38;5;28;01mreturn\u001b[39;00m \u001b[43mop\u001b[49m\u001b[38;5;241;43m.\u001b[39;49m\u001b[43mapply\u001b[49m\u001b[43m(\u001b[49m\u001b[43m)\u001b[49m\u001b[38;5;241m.\u001b[39m__finalize__(\u001b[38;5;28mself\u001b[39m, method\u001b[38;5;241m=\u001b[39m\u001b[38;5;124m\"\u001b[39m\u001b[38;5;124mapply\u001b[39m\u001b[38;5;124m\"\u001b[39m)\n",
      "File \u001b[1;32mc:\\Users\\palet\\OneDrive\\Desktop\\UNI_FINAL\\Git\\MMA-Predict\\.venv\\lib\\site-packages\\pandas\\core\\apply.py:916\u001b[0m, in \u001b[0;36mFrameApply.apply\u001b[1;34m(self)\u001b[0m\n\u001b[0;32m    913\u001b[0m \u001b[38;5;28;01melif\u001b[39;00m \u001b[38;5;28mself\u001b[39m\u001b[38;5;241m.\u001b[39mraw:\n\u001b[0;32m    914\u001b[0m     \u001b[38;5;28;01mreturn\u001b[39;00m \u001b[38;5;28mself\u001b[39m\u001b[38;5;241m.\u001b[39mapply_raw(engine\u001b[38;5;241m=\u001b[39m\u001b[38;5;28mself\u001b[39m\u001b[38;5;241m.\u001b[39mengine, engine_kwargs\u001b[38;5;241m=\u001b[39m\u001b[38;5;28mself\u001b[39m\u001b[38;5;241m.\u001b[39mengine_kwargs)\n\u001b[1;32m--> 916\u001b[0m \u001b[38;5;28;01mreturn\u001b[39;00m \u001b[38;5;28;43mself\u001b[39;49m\u001b[38;5;241;43m.\u001b[39;49m\u001b[43mapply_standard\u001b[49m\u001b[43m(\u001b[49m\u001b[43m)\u001b[49m\n",
      "File \u001b[1;32mc:\\Users\\palet\\OneDrive\\Desktop\\UNI_FINAL\\Git\\MMA-Predict\\.venv\\lib\\site-packages\\pandas\\core\\apply.py:1063\u001b[0m, in \u001b[0;36mFrameApply.apply_standard\u001b[1;34m(self)\u001b[0m\n\u001b[0;32m   1061\u001b[0m \u001b[38;5;28;01mdef\u001b[39;00m \u001b[38;5;21mapply_standard\u001b[39m(\u001b[38;5;28mself\u001b[39m):\n\u001b[0;32m   1062\u001b[0m     \u001b[38;5;28;01mif\u001b[39;00m \u001b[38;5;28mself\u001b[39m\u001b[38;5;241m.\u001b[39mengine \u001b[38;5;241m==\u001b[39m \u001b[38;5;124m\"\u001b[39m\u001b[38;5;124mpython\u001b[39m\u001b[38;5;124m\"\u001b[39m:\n\u001b[1;32m-> 1063\u001b[0m         results, res_index \u001b[38;5;241m=\u001b[39m \u001b[38;5;28;43mself\u001b[39;49m\u001b[38;5;241;43m.\u001b[39;49m\u001b[43mapply_series_generator\u001b[49m\u001b[43m(\u001b[49m\u001b[43m)\u001b[49m\n\u001b[0;32m   1064\u001b[0m     \u001b[38;5;28;01melse\u001b[39;00m:\n\u001b[0;32m   1065\u001b[0m         results, res_index \u001b[38;5;241m=\u001b[39m \u001b[38;5;28mself\u001b[39m\u001b[38;5;241m.\u001b[39mapply_series_numba()\n",
      "File \u001b[1;32mc:\\Users\\palet\\OneDrive\\Desktop\\UNI_FINAL\\Git\\MMA-Predict\\.venv\\lib\\site-packages\\pandas\\core\\apply.py:1081\u001b[0m, in \u001b[0;36mFrameApply.apply_series_generator\u001b[1;34m(self)\u001b[0m\n\u001b[0;32m   1078\u001b[0m \u001b[38;5;28;01mwith\u001b[39;00m option_context(\u001b[38;5;124m\"\u001b[39m\u001b[38;5;124mmode.chained_assignment\u001b[39m\u001b[38;5;124m\"\u001b[39m, \u001b[38;5;28;01mNone\u001b[39;00m):\n\u001b[0;32m   1079\u001b[0m     \u001b[38;5;28;01mfor\u001b[39;00m i, v \u001b[38;5;129;01min\u001b[39;00m \u001b[38;5;28menumerate\u001b[39m(series_gen):\n\u001b[0;32m   1080\u001b[0m         \u001b[38;5;66;03m# ignore SettingWithCopy here in case the user mutates\u001b[39;00m\n\u001b[1;32m-> 1081\u001b[0m         results[i] \u001b[38;5;241m=\u001b[39m \u001b[38;5;28mself\u001b[39m\u001b[38;5;241m.\u001b[39mfunc(v, \u001b[38;5;241m*\u001b[39m\u001b[38;5;28mself\u001b[39m\u001b[38;5;241m.\u001b[39margs, \u001b[38;5;241m*\u001b[39m\u001b[38;5;241m*\u001b[39m\u001b[38;5;28mself\u001b[39m\u001b[38;5;241m.\u001b[39mkwargs)\n\u001b[0;32m   1082\u001b[0m         \u001b[38;5;28;01mif\u001b[39;00m \u001b[38;5;28misinstance\u001b[39m(results[i], ABCSeries):\n\u001b[0;32m   1083\u001b[0m             \u001b[38;5;66;03m# If we have a view on v, we need to make a copy because\u001b[39;00m\n\u001b[0;32m   1084\u001b[0m             \u001b[38;5;66;03m#  series_generator will swap out the underlying data\u001b[39;00m\n\u001b[0;32m   1085\u001b[0m             results[i] \u001b[38;5;241m=\u001b[39m results[i]\u001b[38;5;241m.\u001b[39mcopy(deep\u001b[38;5;241m=\u001b[39m\u001b[38;5;28;01mFalse\u001b[39;00m)\n",
      "File \u001b[1;32mc:\\Users\\palet\\OneDrive\\Desktop\\UNI_FINAL\\Git\\MMA-Predict\\.venv\\lib\\site-packages\\tqdm\\std.py:912\u001b[0m, in \u001b[0;36mtqdm.pandas.<locals>.inner_generator.<locals>.inner.<locals>.wrapper\u001b[1;34m(*args, **kwargs)\u001b[0m\n\u001b[0;32m    906\u001b[0m \u001b[38;5;28;01mdef\u001b[39;00m \u001b[38;5;21mwrapper\u001b[39m(\u001b[38;5;241m*\u001b[39margs, \u001b[38;5;241m*\u001b[39m\u001b[38;5;241m*\u001b[39mkwargs):\n\u001b[0;32m    907\u001b[0m     \u001b[38;5;66;03m# update tbar correctly\u001b[39;00m\n\u001b[0;32m    908\u001b[0m     \u001b[38;5;66;03m# it seems `pandas apply` calls `func` twice\u001b[39;00m\n\u001b[0;32m    909\u001b[0m     \u001b[38;5;66;03m# on the first column/row to decide whether it can\u001b[39;00m\n\u001b[0;32m    910\u001b[0m     \u001b[38;5;66;03m# take a fast or slow code path; so stop when t.total==t.n\u001b[39;00m\n\u001b[0;32m    911\u001b[0m     t\u001b[38;5;241m.\u001b[39mupdate(n\u001b[38;5;241m=\u001b[39m\u001b[38;5;241m1\u001b[39m \u001b[38;5;28;01mif\u001b[39;00m \u001b[38;5;129;01mnot\u001b[39;00m t\u001b[38;5;241m.\u001b[39mtotal \u001b[38;5;129;01mor\u001b[39;00m t\u001b[38;5;241m.\u001b[39mn \u001b[38;5;241m<\u001b[39m t\u001b[38;5;241m.\u001b[39mtotal \u001b[38;5;28;01melse\u001b[39;00m \u001b[38;5;241m0\u001b[39m)\n\u001b[1;32m--> 912\u001b[0m     \u001b[38;5;28;01mreturn\u001b[39;00m func(\u001b[38;5;241m*\u001b[39margs, \u001b[38;5;241m*\u001b[39m\u001b[38;5;241m*\u001b[39mkwargs)\n",
      "Cell \u001b[1;32mIn[19], line 30\u001b[0m, in \u001b[0;36mdownload_image_fighter\u001b[1;34m(row)\u001b[0m\n\u001b[0;32m     26\u001b[0m     \u001b[38;5;28;01mreturn\u001b[39;00m  \u001b[38;5;66;03m# Skip downloading if the image exists\u001b[39;00m\n\u001b[0;32m     28\u001b[0m \u001b[38;5;28;01mtry\u001b[39;00m:\n\u001b[0;32m     29\u001b[0m     \u001b[38;5;66;03m# Fetch the profile page HTML\u001b[39;00m\n\u001b[1;32m---> 30\u001b[0m     response \u001b[38;5;241m=\u001b[39m \u001b[43mrequests\u001b[49m\u001b[38;5;241;43m.\u001b[39;49m\u001b[43mget\u001b[49m\u001b[43m(\u001b[49m\u001b[43mfinal_url\u001b[49m\u001b[43m,\u001b[49m\u001b[43m \u001b[49m\u001b[43mtimeout\u001b[49m\u001b[38;5;241;43m=\u001b[39;49m\u001b[38;5;241;43m10\u001b[39;49m\u001b[43m)\u001b[49m  \u001b[38;5;66;03m# Set timeout for faster failure on unresponsive URLs\u001b[39;00m\n\u001b[0;32m     31\u001b[0m     response\u001b[38;5;241m.\u001b[39mraise_for_status()\n\u001b[0;32m     32\u001b[0m     soup \u001b[38;5;241m=\u001b[39m BeautifulSoup(response\u001b[38;5;241m.\u001b[39mtext, \u001b[38;5;124m'\u001b[39m\u001b[38;5;124mhtml.parser\u001b[39m\u001b[38;5;124m'\u001b[39m)\n",
      "File \u001b[1;32mc:\\Users\\palet\\OneDrive\\Desktop\\UNI_FINAL\\Git\\MMA-Predict\\.venv\\lib\\site-packages\\requests\\api.py:73\u001b[0m, in \u001b[0;36mget\u001b[1;34m(url, params, **kwargs)\u001b[0m\n\u001b[0;32m     62\u001b[0m \u001b[38;5;28;01mdef\u001b[39;00m \u001b[38;5;21mget\u001b[39m(url, params\u001b[38;5;241m=\u001b[39m\u001b[38;5;28;01mNone\u001b[39;00m, \u001b[38;5;241m*\u001b[39m\u001b[38;5;241m*\u001b[39mkwargs):\n\u001b[0;32m     63\u001b[0m \u001b[38;5;250m    \u001b[39m\u001b[38;5;124mr\u001b[39m\u001b[38;5;124;03m\"\"\"Sends a GET request.\u001b[39;00m\n\u001b[0;32m     64\u001b[0m \n\u001b[0;32m     65\u001b[0m \u001b[38;5;124;03m    :param url: URL for the new :class:`Request` object.\u001b[39;00m\n\u001b[1;32m   (...)\u001b[0m\n\u001b[0;32m     70\u001b[0m \u001b[38;5;124;03m    :rtype: requests.Response\u001b[39;00m\n\u001b[0;32m     71\u001b[0m \u001b[38;5;124;03m    \"\"\"\u001b[39;00m\n\u001b[1;32m---> 73\u001b[0m     \u001b[38;5;28;01mreturn\u001b[39;00m request(\u001b[38;5;124m\"\u001b[39m\u001b[38;5;124mget\u001b[39m\u001b[38;5;124m\"\u001b[39m, url, params\u001b[38;5;241m=\u001b[39mparams, \u001b[38;5;241m*\u001b[39m\u001b[38;5;241m*\u001b[39mkwargs)\n",
      "File \u001b[1;32mc:\\Users\\palet\\OneDrive\\Desktop\\UNI_FINAL\\Git\\MMA-Predict\\.venv\\lib\\site-packages\\requests\\api.py:59\u001b[0m, in \u001b[0;36mrequest\u001b[1;34m(method, url, **kwargs)\u001b[0m\n\u001b[0;32m     55\u001b[0m \u001b[38;5;66;03m# By using the 'with' statement we are sure the session is closed, thus we\u001b[39;00m\n\u001b[0;32m     56\u001b[0m \u001b[38;5;66;03m# avoid leaving sockets open which can trigger a ResourceWarning in some\u001b[39;00m\n\u001b[0;32m     57\u001b[0m \u001b[38;5;66;03m# cases, and look like a memory leak in others.\u001b[39;00m\n\u001b[0;32m     58\u001b[0m \u001b[38;5;28;01mwith\u001b[39;00m sessions\u001b[38;5;241m.\u001b[39mSession() \u001b[38;5;28;01mas\u001b[39;00m session:\n\u001b[1;32m---> 59\u001b[0m     \u001b[38;5;28;01mreturn\u001b[39;00m session\u001b[38;5;241m.\u001b[39mrequest(method\u001b[38;5;241m=\u001b[39mmethod, url\u001b[38;5;241m=\u001b[39murl, \u001b[38;5;241m*\u001b[39m\u001b[38;5;241m*\u001b[39mkwargs)\n",
      "File \u001b[1;32mc:\\Users\\palet\\OneDrive\\Desktop\\UNI_FINAL\\Git\\MMA-Predict\\.venv\\lib\\site-packages\\requests\\sessions.py:589\u001b[0m, in \u001b[0;36mSession.request\u001b[1;34m(self, method, url, params, data, headers, cookies, files, auth, timeout, allow_redirects, proxies, hooks, stream, verify, cert, json)\u001b[0m\n\u001b[0;32m    584\u001b[0m send_kwargs \u001b[38;5;241m=\u001b[39m {\n\u001b[0;32m    585\u001b[0m     \u001b[38;5;124m\"\u001b[39m\u001b[38;5;124mtimeout\u001b[39m\u001b[38;5;124m\"\u001b[39m: timeout,\n\u001b[0;32m    586\u001b[0m     \u001b[38;5;124m\"\u001b[39m\u001b[38;5;124mallow_redirects\u001b[39m\u001b[38;5;124m\"\u001b[39m: allow_redirects,\n\u001b[0;32m    587\u001b[0m }\n\u001b[0;32m    588\u001b[0m send_kwargs\u001b[38;5;241m.\u001b[39mupdate(settings)\n\u001b[1;32m--> 589\u001b[0m resp \u001b[38;5;241m=\u001b[39m \u001b[38;5;28mself\u001b[39m\u001b[38;5;241m.\u001b[39msend(prep, \u001b[38;5;241m*\u001b[39m\u001b[38;5;241m*\u001b[39msend_kwargs)\n\u001b[0;32m    591\u001b[0m \u001b[38;5;28;01mreturn\u001b[39;00m resp\n",
      "File \u001b[1;32mc:\\Users\\palet\\OneDrive\\Desktop\\UNI_FINAL\\Git\\MMA-Predict\\.venv\\lib\\site-packages\\requests\\sessions.py:703\u001b[0m, in \u001b[0;36mSession.send\u001b[1;34m(self, request, **kwargs)\u001b[0m\n\u001b[0;32m    700\u001b[0m start \u001b[38;5;241m=\u001b[39m preferred_clock()\n\u001b[0;32m    702\u001b[0m \u001b[38;5;66;03m# Send the request\u001b[39;00m\n\u001b[1;32m--> 703\u001b[0m r \u001b[38;5;241m=\u001b[39m adapter\u001b[38;5;241m.\u001b[39msend(request, \u001b[38;5;241m*\u001b[39m\u001b[38;5;241m*\u001b[39mkwargs)\n\u001b[0;32m    705\u001b[0m \u001b[38;5;66;03m# Total elapsed time of the request (approximately)\u001b[39;00m\n\u001b[0;32m    706\u001b[0m elapsed \u001b[38;5;241m=\u001b[39m preferred_clock() \u001b[38;5;241m-\u001b[39m start\n",
      "File \u001b[1;32mc:\\Users\\palet\\OneDrive\\Desktop\\UNI_FINAL\\Git\\MMA-Predict\\.venv\\lib\\site-packages\\requests\\adapters.py:667\u001b[0m, in \u001b[0;36mHTTPAdapter.send\u001b[1;34m(self, request, stream, timeout, verify, cert, proxies)\u001b[0m\n\u001b[0;32m    664\u001b[0m     timeout \u001b[38;5;241m=\u001b[39m TimeoutSauce(connect\u001b[38;5;241m=\u001b[39mtimeout, read\u001b[38;5;241m=\u001b[39mtimeout)\n\u001b[0;32m    666\u001b[0m \u001b[38;5;28;01mtry\u001b[39;00m:\n\u001b[1;32m--> 667\u001b[0m     resp \u001b[38;5;241m=\u001b[39m \u001b[43mconn\u001b[49m\u001b[38;5;241;43m.\u001b[39;49m\u001b[43murlopen\u001b[49m\u001b[43m(\u001b[49m\n\u001b[0;32m    668\u001b[0m \u001b[43m        \u001b[49m\u001b[43mmethod\u001b[49m\u001b[38;5;241;43m=\u001b[39;49m\u001b[43mrequest\u001b[49m\u001b[38;5;241;43m.\u001b[39;49m\u001b[43mmethod\u001b[49m\u001b[43m,\u001b[49m\n\u001b[0;32m    669\u001b[0m \u001b[43m        \u001b[49m\u001b[43murl\u001b[49m\u001b[38;5;241;43m=\u001b[39;49m\u001b[43murl\u001b[49m\u001b[43m,\u001b[49m\n\u001b[0;32m    670\u001b[0m \u001b[43m        \u001b[49m\u001b[43mbody\u001b[49m\u001b[38;5;241;43m=\u001b[39;49m\u001b[43mrequest\u001b[49m\u001b[38;5;241;43m.\u001b[39;49m\u001b[43mbody\u001b[49m\u001b[43m,\u001b[49m\n\u001b[0;32m    671\u001b[0m \u001b[43m        \u001b[49m\u001b[43mheaders\u001b[49m\u001b[38;5;241;43m=\u001b[39;49m\u001b[43mrequest\u001b[49m\u001b[38;5;241;43m.\u001b[39;49m\u001b[43mheaders\u001b[49m\u001b[43m,\u001b[49m\n\u001b[0;32m    672\u001b[0m \u001b[43m        \u001b[49m\u001b[43mredirect\u001b[49m\u001b[38;5;241;43m=\u001b[39;49m\u001b[38;5;28;43;01mFalse\u001b[39;49;00m\u001b[43m,\u001b[49m\n\u001b[0;32m    673\u001b[0m \u001b[43m        \u001b[49m\u001b[43massert_same_host\u001b[49m\u001b[38;5;241;43m=\u001b[39;49m\u001b[38;5;28;43;01mFalse\u001b[39;49;00m\u001b[43m,\u001b[49m\n\u001b[0;32m    674\u001b[0m \u001b[43m        \u001b[49m\u001b[43mpreload_content\u001b[49m\u001b[38;5;241;43m=\u001b[39;49m\u001b[38;5;28;43;01mFalse\u001b[39;49;00m\u001b[43m,\u001b[49m\n\u001b[0;32m    675\u001b[0m \u001b[43m        \u001b[49m\u001b[43mdecode_content\u001b[49m\u001b[38;5;241;43m=\u001b[39;49m\u001b[38;5;28;43;01mFalse\u001b[39;49;00m\u001b[43m,\u001b[49m\n\u001b[0;32m    676\u001b[0m \u001b[43m        \u001b[49m\u001b[43mretries\u001b[49m\u001b[38;5;241;43m=\u001b[39;49m\u001b[38;5;28;43mself\u001b[39;49m\u001b[38;5;241;43m.\u001b[39;49m\u001b[43mmax_retries\u001b[49m\u001b[43m,\u001b[49m\n\u001b[0;32m    677\u001b[0m \u001b[43m        \u001b[49m\u001b[43mtimeout\u001b[49m\u001b[38;5;241;43m=\u001b[39;49m\u001b[43mtimeout\u001b[49m\u001b[43m,\u001b[49m\n\u001b[0;32m    678\u001b[0m \u001b[43m        \u001b[49m\u001b[43mchunked\u001b[49m\u001b[38;5;241;43m=\u001b[39;49m\u001b[43mchunked\u001b[49m\u001b[43m,\u001b[49m\n\u001b[0;32m    679\u001b[0m \u001b[43m    \u001b[49m\u001b[43m)\u001b[49m\n\u001b[0;32m    681\u001b[0m \u001b[38;5;28;01mexcept\u001b[39;00m (ProtocolError, \u001b[38;5;167;01mOSError\u001b[39;00m) \u001b[38;5;28;01mas\u001b[39;00m err:\n\u001b[0;32m    682\u001b[0m     \u001b[38;5;28;01mraise\u001b[39;00m \u001b[38;5;167;01mConnectionError\u001b[39;00m(err, request\u001b[38;5;241m=\u001b[39mrequest)\n",
      "File \u001b[1;32mc:\\Users\\palet\\OneDrive\\Desktop\\UNI_FINAL\\Git\\MMA-Predict\\.venv\\lib\\site-packages\\urllib3\\connectionpool.py:789\u001b[0m, in \u001b[0;36mHTTPConnectionPool.urlopen\u001b[1;34m(self, method, url, body, headers, retries, redirect, assert_same_host, timeout, pool_timeout, release_conn, chunked, body_pos, preload_content, decode_content, **response_kw)\u001b[0m\n\u001b[0;32m    786\u001b[0m response_conn \u001b[38;5;241m=\u001b[39m conn \u001b[38;5;28;01mif\u001b[39;00m \u001b[38;5;129;01mnot\u001b[39;00m release_conn \u001b[38;5;28;01melse\u001b[39;00m \u001b[38;5;28;01mNone\u001b[39;00m\n\u001b[0;32m    788\u001b[0m \u001b[38;5;66;03m# Make the request on the HTTPConnection object\u001b[39;00m\n\u001b[1;32m--> 789\u001b[0m response \u001b[38;5;241m=\u001b[39m \u001b[38;5;28mself\u001b[39m\u001b[38;5;241m.\u001b[39m_make_request(\n\u001b[0;32m    790\u001b[0m     conn,\n\u001b[0;32m    791\u001b[0m     method,\n\u001b[0;32m    792\u001b[0m     url,\n\u001b[0;32m    793\u001b[0m     timeout\u001b[38;5;241m=\u001b[39mtimeout_obj,\n\u001b[0;32m    794\u001b[0m     body\u001b[38;5;241m=\u001b[39mbody,\n\u001b[0;32m    795\u001b[0m     headers\u001b[38;5;241m=\u001b[39mheaders,\n\u001b[0;32m    796\u001b[0m     chunked\u001b[38;5;241m=\u001b[39mchunked,\n\u001b[0;32m    797\u001b[0m     retries\u001b[38;5;241m=\u001b[39mretries,\n\u001b[0;32m    798\u001b[0m     response_conn\u001b[38;5;241m=\u001b[39mresponse_conn,\n\u001b[0;32m    799\u001b[0m     preload_content\u001b[38;5;241m=\u001b[39mpreload_content,\n\u001b[0;32m    800\u001b[0m     decode_content\u001b[38;5;241m=\u001b[39mdecode_content,\n\u001b[0;32m    801\u001b[0m     \u001b[38;5;241m*\u001b[39m\u001b[38;5;241m*\u001b[39mresponse_kw,\n\u001b[0;32m    802\u001b[0m )\n\u001b[0;32m    804\u001b[0m \u001b[38;5;66;03m# Everything went great!\u001b[39;00m\n\u001b[0;32m    805\u001b[0m clean_exit \u001b[38;5;241m=\u001b[39m \u001b[38;5;28;01mTrue\u001b[39;00m\n",
      "File \u001b[1;32mc:\\Users\\palet\\OneDrive\\Desktop\\UNI_FINAL\\Git\\MMA-Predict\\.venv\\lib\\site-packages\\urllib3\\connectionpool.py:536\u001b[0m, in \u001b[0;36mHTTPConnectionPool._make_request\u001b[1;34m(self, conn, method, url, body, headers, retries, timeout, chunked, response_conn, preload_content, decode_content, enforce_content_length)\u001b[0m\n\u001b[0;32m    534\u001b[0m \u001b[38;5;66;03m# Receive the response from the server\u001b[39;00m\n\u001b[0;32m    535\u001b[0m \u001b[38;5;28;01mtry\u001b[39;00m:\n\u001b[1;32m--> 536\u001b[0m     response \u001b[38;5;241m=\u001b[39m \u001b[43mconn\u001b[49m\u001b[38;5;241;43m.\u001b[39;49m\u001b[43mgetresponse\u001b[49m\u001b[43m(\u001b[49m\u001b[43m)\u001b[49m\n\u001b[0;32m    537\u001b[0m \u001b[38;5;28;01mexcept\u001b[39;00m (BaseSSLError, \u001b[38;5;167;01mOSError\u001b[39;00m) \u001b[38;5;28;01mas\u001b[39;00m e:\n\u001b[0;32m    538\u001b[0m     \u001b[38;5;28mself\u001b[39m\u001b[38;5;241m.\u001b[39m_raise_timeout(err\u001b[38;5;241m=\u001b[39me, url\u001b[38;5;241m=\u001b[39murl, timeout_value\u001b[38;5;241m=\u001b[39mread_timeout)\n",
      "File \u001b[1;32mc:\\Users\\palet\\OneDrive\\Desktop\\UNI_FINAL\\Git\\MMA-Predict\\.venv\\lib\\site-packages\\urllib3\\connection.py:507\u001b[0m, in \u001b[0;36mHTTPConnection.getresponse\u001b[1;34m(self)\u001b[0m\n\u001b[0;32m    504\u001b[0m \u001b[38;5;28;01mfrom\u001b[39;00m \u001b[38;5;21;01m.\u001b[39;00m\u001b[38;5;21;01mresponse\u001b[39;00m \u001b[38;5;28;01mimport\u001b[39;00m HTTPResponse\n\u001b[0;32m    506\u001b[0m \u001b[38;5;66;03m# Get the response from http.client.HTTPConnection\u001b[39;00m\n\u001b[1;32m--> 507\u001b[0m httplib_response \u001b[38;5;241m=\u001b[39m \u001b[38;5;28;43msuper\u001b[39;49m\u001b[43m(\u001b[49m\u001b[43m)\u001b[49m\u001b[38;5;241;43m.\u001b[39;49m\u001b[43mgetresponse\u001b[49m\u001b[43m(\u001b[49m\u001b[43m)\u001b[49m\n\u001b[0;32m    509\u001b[0m \u001b[38;5;28;01mtry\u001b[39;00m:\n\u001b[0;32m    510\u001b[0m     assert_header_parsing(httplib_response\u001b[38;5;241m.\u001b[39mmsg)\n",
      "File \u001b[1;32m~\\AppData\\Local\\Programs\\Python\\Python310\\lib\\http\\client.py:1374\u001b[0m, in \u001b[0;36mHTTPConnection.getresponse\u001b[1;34m(self)\u001b[0m\n\u001b[0;32m   1372\u001b[0m \u001b[38;5;28;01mtry\u001b[39;00m:\n\u001b[0;32m   1373\u001b[0m     \u001b[38;5;28;01mtry\u001b[39;00m:\n\u001b[1;32m-> 1374\u001b[0m         \u001b[43mresponse\u001b[49m\u001b[38;5;241;43m.\u001b[39;49m\u001b[43mbegin\u001b[49m\u001b[43m(\u001b[49m\u001b[43m)\u001b[49m\n\u001b[0;32m   1375\u001b[0m     \u001b[38;5;28;01mexcept\u001b[39;00m \u001b[38;5;167;01mConnectionError\u001b[39;00m:\n\u001b[0;32m   1376\u001b[0m         \u001b[38;5;28mself\u001b[39m\u001b[38;5;241m.\u001b[39mclose()\n",
      "File \u001b[1;32m~\\AppData\\Local\\Programs\\Python\\Python310\\lib\\http\\client.py:318\u001b[0m, in \u001b[0;36mHTTPResponse.begin\u001b[1;34m(self)\u001b[0m\n\u001b[0;32m    316\u001b[0m \u001b[38;5;66;03m# read until we get a non-100 response\u001b[39;00m\n\u001b[0;32m    317\u001b[0m \u001b[38;5;28;01mwhile\u001b[39;00m \u001b[38;5;28;01mTrue\u001b[39;00m:\n\u001b[1;32m--> 318\u001b[0m     version, status, reason \u001b[38;5;241m=\u001b[39m \u001b[38;5;28;43mself\u001b[39;49m\u001b[38;5;241;43m.\u001b[39;49m\u001b[43m_read_status\u001b[49m\u001b[43m(\u001b[49m\u001b[43m)\u001b[49m\n\u001b[0;32m    319\u001b[0m     \u001b[38;5;28;01mif\u001b[39;00m status \u001b[38;5;241m!=\u001b[39m CONTINUE:\n\u001b[0;32m    320\u001b[0m         \u001b[38;5;28;01mbreak\u001b[39;00m\n",
      "File \u001b[1;32m~\\AppData\\Local\\Programs\\Python\\Python310\\lib\\http\\client.py:279\u001b[0m, in \u001b[0;36mHTTPResponse._read_status\u001b[1;34m(self)\u001b[0m\n\u001b[0;32m    278\u001b[0m \u001b[38;5;28;01mdef\u001b[39;00m \u001b[38;5;21m_read_status\u001b[39m(\u001b[38;5;28mself\u001b[39m):\n\u001b[1;32m--> 279\u001b[0m     line \u001b[38;5;241m=\u001b[39m \u001b[38;5;28mstr\u001b[39m(\u001b[38;5;28;43mself\u001b[39;49m\u001b[38;5;241;43m.\u001b[39;49m\u001b[43mfp\u001b[49m\u001b[38;5;241;43m.\u001b[39;49m\u001b[43mreadline\u001b[49m\u001b[43m(\u001b[49m\u001b[43m_MAXLINE\u001b[49m\u001b[43m \u001b[49m\u001b[38;5;241;43m+\u001b[39;49m\u001b[43m \u001b[49m\u001b[38;5;241;43m1\u001b[39;49m\u001b[43m)\u001b[49m, \u001b[38;5;124m\"\u001b[39m\u001b[38;5;124miso-8859-1\u001b[39m\u001b[38;5;124m\"\u001b[39m)\n\u001b[0;32m    280\u001b[0m     \u001b[38;5;28;01mif\u001b[39;00m \u001b[38;5;28mlen\u001b[39m(line) \u001b[38;5;241m>\u001b[39m _MAXLINE:\n\u001b[0;32m    281\u001b[0m         \u001b[38;5;28;01mraise\u001b[39;00m LineTooLong(\u001b[38;5;124m\"\u001b[39m\u001b[38;5;124mstatus line\u001b[39m\u001b[38;5;124m\"\u001b[39m)\n",
      "File \u001b[1;32m~\\AppData\\Local\\Programs\\Python\\Python310\\lib\\socket.py:705\u001b[0m, in \u001b[0;36mSocketIO.readinto\u001b[1;34m(self, b)\u001b[0m\n\u001b[0;32m    703\u001b[0m \u001b[38;5;28;01mwhile\u001b[39;00m \u001b[38;5;28;01mTrue\u001b[39;00m:\n\u001b[0;32m    704\u001b[0m     \u001b[38;5;28;01mtry\u001b[39;00m:\n\u001b[1;32m--> 705\u001b[0m         \u001b[38;5;28;01mreturn\u001b[39;00m \u001b[38;5;28;43mself\u001b[39;49m\u001b[38;5;241;43m.\u001b[39;49m\u001b[43m_sock\u001b[49m\u001b[38;5;241;43m.\u001b[39;49m\u001b[43mrecv_into\u001b[49m\u001b[43m(\u001b[49m\u001b[43mb\u001b[49m\u001b[43m)\u001b[49m\n\u001b[0;32m    706\u001b[0m     \u001b[38;5;28;01mexcept\u001b[39;00m timeout:\n\u001b[0;32m    707\u001b[0m         \u001b[38;5;28mself\u001b[39m\u001b[38;5;241m.\u001b[39m_timeout_occurred \u001b[38;5;241m=\u001b[39m \u001b[38;5;28;01mTrue\u001b[39;00m\n",
      "File \u001b[1;32m~\\AppData\\Local\\Programs\\Python\\Python310\\lib\\ssl.py:1273\u001b[0m, in \u001b[0;36mSSLSocket.recv_into\u001b[1;34m(self, buffer, nbytes, flags)\u001b[0m\n\u001b[0;32m   1269\u001b[0m     \u001b[38;5;28;01mif\u001b[39;00m flags \u001b[38;5;241m!=\u001b[39m \u001b[38;5;241m0\u001b[39m:\n\u001b[0;32m   1270\u001b[0m         \u001b[38;5;28;01mraise\u001b[39;00m \u001b[38;5;167;01mValueError\u001b[39;00m(\n\u001b[0;32m   1271\u001b[0m           \u001b[38;5;124m\"\u001b[39m\u001b[38;5;124mnon-zero flags not allowed in calls to recv_into() on \u001b[39m\u001b[38;5;132;01m%s\u001b[39;00m\u001b[38;5;124m\"\u001b[39m \u001b[38;5;241m%\u001b[39m\n\u001b[0;32m   1272\u001b[0m           \u001b[38;5;28mself\u001b[39m\u001b[38;5;241m.\u001b[39m\u001b[38;5;18m__class__\u001b[39m)\n\u001b[1;32m-> 1273\u001b[0m     \u001b[38;5;28;01mreturn\u001b[39;00m \u001b[38;5;28;43mself\u001b[39;49m\u001b[38;5;241;43m.\u001b[39;49m\u001b[43mread\u001b[49m\u001b[43m(\u001b[49m\u001b[43mnbytes\u001b[49m\u001b[43m,\u001b[49m\u001b[43m \u001b[49m\u001b[43mbuffer\u001b[49m\u001b[43m)\u001b[49m\n\u001b[0;32m   1274\u001b[0m \u001b[38;5;28;01melse\u001b[39;00m:\n\u001b[0;32m   1275\u001b[0m     \u001b[38;5;28;01mreturn\u001b[39;00m \u001b[38;5;28msuper\u001b[39m()\u001b[38;5;241m.\u001b[39mrecv_into(buffer, nbytes, flags)\n",
      "File \u001b[1;32m~\\AppData\\Local\\Programs\\Python\\Python310\\lib\\ssl.py:1129\u001b[0m, in \u001b[0;36mSSLSocket.read\u001b[1;34m(self, len, buffer)\u001b[0m\n\u001b[0;32m   1127\u001b[0m \u001b[38;5;28;01mtry\u001b[39;00m:\n\u001b[0;32m   1128\u001b[0m     \u001b[38;5;28;01mif\u001b[39;00m buffer \u001b[38;5;129;01mis\u001b[39;00m \u001b[38;5;129;01mnot\u001b[39;00m \u001b[38;5;28;01mNone\u001b[39;00m:\n\u001b[1;32m-> 1129\u001b[0m         \u001b[38;5;28;01mreturn\u001b[39;00m \u001b[38;5;28;43mself\u001b[39;49m\u001b[38;5;241;43m.\u001b[39;49m\u001b[43m_sslobj\u001b[49m\u001b[38;5;241;43m.\u001b[39;49m\u001b[43mread\u001b[49m\u001b[43m(\u001b[49m\u001b[38;5;28;43mlen\u001b[39;49m\u001b[43m,\u001b[49m\u001b[43m \u001b[49m\u001b[43mbuffer\u001b[49m\u001b[43m)\u001b[49m\n\u001b[0;32m   1130\u001b[0m     \u001b[38;5;28;01melse\u001b[39;00m:\n\u001b[0;32m   1131\u001b[0m         \u001b[38;5;28;01mreturn\u001b[39;00m \u001b[38;5;28mself\u001b[39m\u001b[38;5;241m.\u001b[39m_sslobj\u001b[38;5;241m.\u001b[39mread(\u001b[38;5;28mlen\u001b[39m)\n",
      "\u001b[1;31mKeyboardInterrupt\u001b[0m: "
     ]
    }
   ],
   "source": [
    "import os\n",
    "import requests\n",
    "from bs4 import BeautifulSoup\n",
    "from tqdm import tqdm\n",
    "import pandas as pd\n",
    "\n",
    "def download_image_fighter(row):\n",
    "    # Base URL for UFC athlete profiles\n",
    "    base_url = 'https://www.ufc.com/athlete/'\n",
    "    \n",
    "    # Construct the profile URL\n",
    "    first_name = row['FIRST'].lower()\n",
    "    last_name = row['LAST'].lower()\n",
    "    final_url = base_url + first_name + '-' + last_name\n",
    "    \n",
    "    # Output directory\n",
    "    output_dir = r'C:\\Users\\palet\\OneDrive\\Desktop\\UNI_FINAL\\Git\\MMA-Predict\\Data\\Images'\n",
    "    os.makedirs(output_dir, exist_ok=True)\n",
    "    \n",
    "    # Construct the image filename\n",
    "    img_filename = os.path.join(output_dir, f\"{row['FIRST']}_{row['LAST']}.png\")\n",
    "    \n",
    "    # Check if the image already exists\n",
    "    if os.path.exists(img_filename):\n",
    "        print(f\"Image already exists for {row['FIRST']} {row['LAST']}: {img_filename}\")\n",
    "        return  # Skip downloading if the image exists\n",
    "    \n",
    "    try:\n",
    "        # Fetch the profile page HTML\n",
    "        response = requests.get(final_url, timeout=10)  # Set timeout for faster failure on unresponsive URLs\n",
    "        response.raise_for_status()\n",
    "        soup = BeautifulSoup(response.text, 'html.parser')\n",
    "        \n",
    "        # Find the first <img> tag with the class 'hero-profile__image'\n",
    "        img_tag = soup.find('img', class_='hero-profile__image')\n",
    "        \n",
    "        if not img_tag or not img_tag.get('src'):\n",
    "            print(f\"No image found for {row['FIRST']} {row['LAST']} at {final_url}\")\n",
    "            return\n",
    "        \n",
    "        # Extract the image URL\n",
    "        img_url = img_tag['src']\n",
    "        \n",
    "        # Fetch the image\n",
    "        img_response = requests.get(img_url, timeout=10)  # Set timeout for image download\n",
    "        img_response.raise_for_status()\n",
    "        \n",
    "        # Save the image\n",
    "        with open(img_filename, 'wb') as img_file:\n",
    "            img_file.write(img_response.content)\n",
    "        \n",
    "        print(f\"Image successfully downloaded for {row['FIRST']} {row['LAST']}: {img_filename}\")\n",
    "    \n",
    "    except requests.exceptions.RequestException as e:\n",
    "        print(f\"Error fetching data for {row['FIRST']} {row['LAST']}: {e}\")\n",
    "\n",
    "\n",
    "\n",
    "# Add progress bar using tqdm\n",
    "tqdm.pandas(desc=\"Downloading Fighter Images\")\n",
    "\n",
    "# Apply the function with progress bar\n",
    "df.progress_apply(download_image_fighter, axis=1)\n"
   ]
  }
 ],
 "metadata": {
  "kernelspec": {
   "display_name": ".venv",
   "language": "python",
   "name": "python3"
  },
  "language_info": {
   "codemirror_mode": {
    "name": "ipython",
    "version": 3
   },
   "file_extension": ".py",
   "mimetype": "text/x-python",
   "name": "python",
   "nbconvert_exporter": "python",
   "pygments_lexer": "ipython3",
   "version": "3.10.3"
  }
 },
 "nbformat": 4,
 "nbformat_minor": 2
}
